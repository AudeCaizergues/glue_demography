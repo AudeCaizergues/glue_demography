{
 "cells": [
  {
   "cell_type": "code",
   "execution_count": 1,
   "metadata": {},
   "outputs": [],
   "source": [
    "import pandas as pd\n",
    "import matplotlib.pyplot as plt\n",
    "import matplotlib.patches as patches\n",
    "from matplotlib_venn import venn2, venn2_circles, venn3, venn3_circles\n",
    "import seaborn as sns\n",
    "import numpy as np\n",
    "import re"
   ]
  },
  {
   "cell_type": "code",
   "execution_count": null,
   "metadata": {},
   "outputs": [],
   "source": [
    "def add_site_mean(df):\n",
    "    \n",
    "    GT_DP_cols = [col for col in df.columns if '.DP' in col]\n",
    "    site_means = df[GT_DP_cols].mean(axis=1)\n",
    "    df_out = df.assign(SITE_MEAN=site_means)\n",
    "    \n",
    "    return df_out\n",
    "    \n",
    "gatk_snps_df = add_site_mean(gatk_snps_df)\n",
    "free_snps_df = add_site_mean(free_snps_df)"
   ]
  },
  {
   "cell_type": "code",
   "execution_count": 7,
   "metadata": {},
   "outputs": [],
   "source": [
    "def add_gq_prop(df):\n",
    "    \n",
    "    GT_GQ_cols = [col for col in df.columns if '.GQ' in col]\n",
    "    num_genotypes = len(GT_GQ_cols)\n",
    "    gq_prop = (df[GT_GQ_cols] >= 30).sum(axis = 1) / num_genotypes\n",
    "    df_out = df.assign(GQ_PROP=gq_prop)\n",
    "    \n",
    "    return df_out\n",
    "\n",
    "gatk_snps_df = add_gq_prop(gatk_snps_df)\n",
    "free_snps_df = add_gq_prop(free_snps_df)"
   ]
  },
  {
   "cell_type": "code",
   "execution_count": 4,
   "metadata": {},
   "outputs": [],
   "source": [
    "def calc_sor(row):\n",
    "    # Get strand counts and add 1 to avoid dividing by zero\n",
    "    refFw = int(row['SRF']) + 1 \n",
    "    refRv = int(row['SRR']) + 1 \n",
    "    altFw = int(row['SAF']) + 1 \n",
    "    altRv = int(row['SAR']) + 1 \n",
    "    \n",
    "    symmetricalRatio = ((refFw*altRv)/(altFw*refRv)) + ((altFw*refFw)/(altFw*refRv))\n",
    "    refRatio = refRv/refFw\n",
    "    altRatio = altRv/altFw\n",
    "    SOR = np.log(symmetricalRatio) + np.log(refRatio) - np.log(altRatio)\n",
    "    return(SOR)\n",
    "\n",
    "\n",
    "def calc_ab(df):\n",
    "    AD_cols = [col for col in df.columns if '.AD' in col]\n",
    "    GT_cols = [col for col in df.columns if '.GT' in col]\n",
    "    AD_col = df[AD_cols].values.tolist()\n",
    "    GT_col = df[GT_cols].values.tolist()\n",
    "    REF_list = df['REF'].values.tolist()\n",
    "    ALT_list = df['ALT'].values.tolist()\n",
    "\n",
    "    AB_vals = []\n",
    "    for i in range(len(AD_col)):\n",
    "        REF_allele = REF_list[i]\n",
    "        ALT_allele = ALT_list[i]\n",
    "        AB = []\n",
    "        for j in range(len(GT_col[i])):\n",
    "            if '.' not in GT_col[i][j]:\n",
    "                first_allele = re.split('/|\\|', GT_col[i][j])[0]\n",
    "                second_allele = re.split('/|\\|', GT_col[i][j])[1]\n",
    "                if first_allele != second_allele:\n",
    "                    AD_vals = AD_col[i][j].split(',')\n",
    "                    if first_allele == REF_allele:\n",
    "                        AD_REF = int(AD_vals[0])\n",
    "                        AD_ALT = int(AD_vals[1])\n",
    "                    elif first_allele == ALT_allele:\n",
    "                        AD_REF = int(AD_vals[1])\n",
    "                        AD_ALT = int(AD_vals[0])\n",
    "                    if AD_ALT == 0 and AD_REF == 0:\n",
    "                        pass\n",
    "                    else:\n",
    "                        GT_AB = AD_ALT / (AD_ALT + AD_REF)\n",
    "                        AB.append(GT_AB)\n",
    "        if AB:\n",
    "            AB = np.mean(AB)\n",
    "        else:\n",
    "            AB = 0\n",
    "        AB_vals.append(AB)\n",
    "\n",
    "    return(AB_vals)\n",
    "    \n",
    "\n",
    "def prefilter_and_add_cols(df, program):\n",
    "    \"\"\"Filter for biallelic and calculate some additional quality metrics\n",
    "    \n",
    "    Args:\n",
    "        df (:obj: Pandas dataframe): Pandas dataframe with SNPs as rows and\n",
    "        quality metrics and genotype stats as columns.\n",
    "        program (str): Progrma used to identify variants ('gatk' or 'freebayes')\n",
    "        \n",
    "    Returns: (:obj: Pandas dataframe): \n",
    "        Pandas dataframe with with only biallelic sites and additional quality\n",
    "        metrics: site-mean depth, % missing genotypes, MAF.\n",
    "    \"\"\"\n",
    "    \n",
    "    ## OPERATIONS TO RUN ON ALL SNP TABLES\n",
    "\n",
    "    # Remove multi-allelic sites\n",
    "    num_multi_allelic = len(df[df['MULTI-ALLELIC'] == True])\n",
    "    df_mod = df[df['MULTI-ALLELIC'] == False]\n",
    "    num_biallelic = len(df_mod)\n",
    "    print(\"Removed {0} multi-allelic sites. {1} biallelic sites remaining \".format(num_multi_allelic, num_biallelic))\n",
    "    \n",
    "    # Calculate mean site depth across all genotpyes\n",
    "    GT_DP_cols = [col for col in df_mod.columns if '.DP' in col]\n",
    "    site_means = df_mod[GT_DP_cols].mean(axis=1)\n",
    "    df_mod = df_mod.assign(SITE_MEAN=site_means)\n",
    "    \n",
    "    # Minor allele frequency\n",
    "    df_mod['AF'] = pd.to_numeric(df_mod['AF'])\n",
    "    df_mod['AF-REF'] = pd.to_numeric(1 - df_mod['AF'])\n",
    "    maf = np.min(df_mod[['AF-REF', 'AF']], axis=1)\n",
    "    df_mod = df_mod.assign(MAF=maf)\n",
    "    \n",
    "    # Fraction of missing genotype calls\n",
    "    frac_miss = pd.to_numeric(df_mod['NO-CALL']) / pd.to_numeric(df_mod['NSAMPLES'])\n",
    "    df_mod = df_mod.assign(FRAC_MISS=frac_miss)\n",
    "    \n",
    "    # Fraction genotype quality \n",
    "    GT_GQ_cols = [col for col in df_mod.columns if '.GQ' in col]\n",
    "    count_HQ_GT = (df_mod[GT_GQ_cols] > 20).sum(axis=1)\n",
    "    frac_HC_GT = count_HQ_GT / pd.to_numeric(df_mod['NSAMPLES'])\n",
    "    df_mod = df_mod.assign(FRAC_HQ_GT=frac_HC_GT)\n",
    "    \n",
    "    # Quality by depth\n",
    "    QUAL_BY_DEPTH = pd.to_numeric(df_mod['QUAL']) / pd.to_numeric(df_mod['DP'])\n",
    "    df_mod = df_mod.assign(QUAL_BY_DEPTH=QUAL_BY_DEPTH)\n",
    "    \n",
    "    ## OPERATION ON FREEBAYES SNP TABLE ##\n",
    "    \n",
    "    if program == 'freebayes':\n",
    "        df_mod['SOR'] = df_mod.apply(calc_sor, axis=1)\n",
    "        df_mod['PROGRAM'] = 'freebayes'\n",
    "        df_mod['MQM'] = pd.to_numeric(df_mod['MQM'])\n",
    "        df_mod['MQMR'] = pd.to_numeric(df_mod['MQMR'])\n",
    "        MQM_BY_MQMR = df_mod['MQM'] / df_mod['MQMR']\n",
    "        df_mod = df_mod.assign(MQM_BY_MQMR=MQM_BY_MQMR)\n",
    "        df_mod['MQM_BY_MQMR'] = df_mod['MQM_BY_MQMR'].replace([np.inf, -np.inf], np.nan)\n",
    "        AB_vals = calc_ab(df_mod)\n",
    "        df_mod = df_mod.assign(AB_CALC=AB_vals)\n",
    "        cols = ['CHROM', 'POS', 'QUAL', 'REF', 'ALT', 'DP', 'AF', 'AB', 'MQM', 'MQMR', 'MQM_BY_MQMR', 'PAIRED', 'QUAL_BY_DEPTH', \n",
    "                'PAIREDR', 'NO-CALL', 'NSAMPLES', 'SOR', 'MAF', 'FRAC_MISS', 'FRAC_HQ_GT', 'SITE_MEAN', 'PROGRAM', 'AB_CALC']\n",
    "#         df_mod = df_mod[df_mod['QUAL'] >= 30]\n",
    "    \n",
    "    if program == 'gatk':\n",
    "        AB_vals = calc_ab(df_mod)\n",
    "        df_mod = df_mod.assign(AB_CALC=AB_vals)\n",
    "        df_mod['PROGRAM'] = 'gatk'\n",
    "        cols = ['CHROM', 'POS', 'QUAL', 'REF', 'ALT', 'DP', 'AF', 'AB_CALC', 'MQ', 'MQRankSum', 'NO-CALL', \n",
    "                'SITE_MEAN', 'NSAMPLES', 'SOR', 'MAF', 'FRAC_MISS', 'FRAC_HQ_GT', 'PROGRAM', 'QUAL_BY_DEPTH']\n",
    "        \n",
    "    # Subset cols\n",
    "    GT_cols = [col for col in df.columns if '.GT' in col]\n",
    "    GQ_cols = [col for col in df.columns if '.GQ' in col]\n",
    "    df_mod = df_mod[cols + GT_cols + GQ_cols]\n",
    "    \n",
    "    return(df_mod)"
   ]
  },
  {
   "cell_type": "code",
   "execution_count": 43,
   "metadata": {
    "collapsed": true,
    "jupyter": {
     "outputs_hidden": true,
     "source_hidden": true
    }
   },
   "outputs": [
    {
     "name": "stdout",
     "output_type": "stream",
     "text": [
      "Removed 168307 multi-allelic sites. 2806656 biallelic sites remaining \n",
      "Removed 52037 multi-allelic sites. 2745362 biallelic sites remaining \n"
     ]
    }
   ],
   "source": [
    "prefiltered_gatk_snps_df = prefilter_and_add_cols(gatk_snps_df, program = 'gatk')\n",
    "prefiltered_free_snps_df = prefilter_and_add_cols(free_snps_df, program = 'freebayes')"
   ]
  },
  {
   "cell_type": "code",
   "execution_count": 64,
   "metadata": {
    "collapsed": true,
    "jupyter": {
     "outputs_hidden": true,
     "source_hidden": true
    }
   },
   "outputs": [
    {
     "data": {
      "text/html": [
       "<div>\n",
       "<style scoped>\n",
       "    .dataframe tbody tr th:only-of-type {\n",
       "        vertical-align: middle;\n",
       "    }\n",
       "\n",
       "    .dataframe tbody tr th {\n",
       "        vertical-align: top;\n",
       "    }\n",
       "\n",
       "    .dataframe thead th {\n",
       "        text-align: right;\n",
       "    }\n",
       "</style>\n",
       "<table border=\"1\" class=\"dataframe\">\n",
       "  <thead>\n",
       "    <tr style=\"text-align: right;\">\n",
       "      <th></th>\n",
       "      <th>Unnamed: 0</th>\n",
       "      <th>CHROM</th>\n",
       "      <th>POS</th>\n",
       "      <th>QUAL</th>\n",
       "      <th>REF</th>\n",
       "      <th>ALT</th>\n",
       "      <th>DP</th>\n",
       "      <th>AF</th>\n",
       "      <th>AB</th>\n",
       "      <th>MQM</th>\n",
       "      <th>...</th>\n",
       "      <th>s_100_13.GQ</th>\n",
       "      <th>s_116_1.GQ</th>\n",
       "      <th>s_23_12.GQ</th>\n",
       "      <th>s_37_18.GQ</th>\n",
       "      <th>s_41_13.GQ</th>\n",
       "      <th>s_43_15.GQ</th>\n",
       "      <th>s_54_9.GQ</th>\n",
       "      <th>s_7_7.GQ</th>\n",
       "      <th>s_83_10.GQ</th>\n",
       "      <th>s_97_3.GQ</th>\n",
       "    </tr>\n",
       "  </thead>\n",
       "  <tbody>\n",
       "    <tr>\n",
       "      <th>0</th>\n",
       "      <td>0</td>\n",
       "      <td>CM019101.1</td>\n",
       "      <td>1287</td>\n",
       "      <td>15.58</td>\n",
       "      <td>T</td>\n",
       "      <td>G</td>\n",
       "      <td>6</td>\n",
       "      <td>0.333333</td>\n",
       "      <td>0.000000</td>\n",
       "      <td>40.0000</td>\n",
       "      <td>...</td>\n",
       "      <td>NaN</td>\n",
       "      <td>NaN</td>\n",
       "      <td>NaN</td>\n",
       "      <td>NaN</td>\n",
       "      <td>16.0</td>\n",
       "      <td>NaN</td>\n",
       "      <td>0.0</td>\n",
       "      <td>16.0</td>\n",
       "      <td>NaN</td>\n",
       "      <td>NaN</td>\n",
       "    </tr>\n",
       "    <tr>\n",
       "      <th>1</th>\n",
       "      <td>1</td>\n",
       "      <td>CM019101.1</td>\n",
       "      <td>1660</td>\n",
       "      <td>18.74</td>\n",
       "      <td>G</td>\n",
       "      <td>A</td>\n",
       "      <td>4</td>\n",
       "      <td>0.500000</td>\n",
       "      <td>0.000000</td>\n",
       "      <td>40.0000</td>\n",
       "      <td>...</td>\n",
       "      <td>NaN</td>\n",
       "      <td>NaN</td>\n",
       "      <td>1.0</td>\n",
       "      <td>NaN</td>\n",
       "      <td>NaN</td>\n",
       "      <td>9.0</td>\n",
       "      <td>NaN</td>\n",
       "      <td>NaN</td>\n",
       "      <td>NaN</td>\n",
       "      <td>NaN</td>\n",
       "    </tr>\n",
       "    <tr>\n",
       "      <th>2</th>\n",
       "      <td>2</td>\n",
       "      <td>CM019101.1</td>\n",
       "      <td>5343</td>\n",
       "      <td>54.91</td>\n",
       "      <td>C</td>\n",
       "      <td>G</td>\n",
       "      <td>2</td>\n",
       "      <td>1.000000</td>\n",
       "      <td>0.000000</td>\n",
       "      <td>40.0000</td>\n",
       "      <td>...</td>\n",
       "      <td>NaN</td>\n",
       "      <td>NaN</td>\n",
       "      <td>NaN</td>\n",
       "      <td>NaN</td>\n",
       "      <td>NaN</td>\n",
       "      <td>NaN</td>\n",
       "      <td>NaN</td>\n",
       "      <td>NaN</td>\n",
       "      <td>32.0</td>\n",
       "      <td>NaN</td>\n",
       "    </tr>\n",
       "    <tr>\n",
       "      <th>3</th>\n",
       "      <td>3</td>\n",
       "      <td>CM019101.1</td>\n",
       "      <td>10043</td>\n",
       "      <td>8.36</td>\n",
       "      <td>T</td>\n",
       "      <td>C</td>\n",
       "      <td>36</td>\n",
       "      <td>0.083333</td>\n",
       "      <td>0.500000</td>\n",
       "      <td>50.0000</td>\n",
       "      <td>...</td>\n",
       "      <td>56.0</td>\n",
       "      <td>32.0</td>\n",
       "      <td>NaN</td>\n",
       "      <td>41.0</td>\n",
       "      <td>53.0</td>\n",
       "      <td>29.0</td>\n",
       "      <td>NaN</td>\n",
       "      <td>NaN</td>\n",
       "      <td>8.0</td>\n",
       "      <td>NaN</td>\n",
       "    </tr>\n",
       "    <tr>\n",
       "      <th>4</th>\n",
       "      <td>4</td>\n",
       "      <td>CM019101.1</td>\n",
       "      <td>10070</td>\n",
       "      <td>348.79</td>\n",
       "      <td>G</td>\n",
       "      <td>A</td>\n",
       "      <td>43</td>\n",
       "      <td>0.500000</td>\n",
       "      <td>0.421053</td>\n",
       "      <td>54.1667</td>\n",
       "      <td>...</td>\n",
       "      <td>99.0</td>\n",
       "      <td>3.0</td>\n",
       "      <td>NaN</td>\n",
       "      <td>60.0</td>\n",
       "      <td>72.0</td>\n",
       "      <td>0.0</td>\n",
       "      <td>NaN</td>\n",
       "      <td>NaN</td>\n",
       "      <td>41.0</td>\n",
       "      <td>NaN</td>\n",
       "    </tr>\n",
       "  </tbody>\n",
       "</table>\n",
       "<p>5 rows × 44 columns</p>\n",
       "</div>"
      ],
      "text/plain": [
       "   Unnamed: 0       CHROM    POS    QUAL REF ALT  DP        AF        AB  \\\n",
       "0           0  CM019101.1   1287   15.58   T   G   6  0.333333  0.000000   \n",
       "1           1  CM019101.1   1660   18.74   G   A   4  0.500000  0.000000   \n",
       "2           2  CM019101.1   5343   54.91   C   G   2  1.000000  0.000000   \n",
       "3           3  CM019101.1  10043    8.36   T   C  36  0.083333  0.500000   \n",
       "4           4  CM019101.1  10070  348.79   G   A  43  0.500000  0.421053   \n",
       "\n",
       "       MQM  ...  s_100_13.GQ  s_116_1.GQ  s_23_12.GQ  s_37_18.GQ  s_41_13.GQ  \\\n",
       "0  40.0000  ...          NaN         NaN         NaN         NaN        16.0   \n",
       "1  40.0000  ...          NaN         NaN         1.0         NaN         NaN   \n",
       "2  40.0000  ...          NaN         NaN         NaN         NaN         NaN   \n",
       "3  50.0000  ...         56.0        32.0         NaN        41.0        53.0   \n",
       "4  54.1667  ...         99.0         3.0         NaN        60.0        72.0   \n",
       "\n",
       "   s_43_15.GQ  s_54_9.GQ  s_7_7.GQ  s_83_10.GQ  s_97_3.GQ  \n",
       "0         NaN        0.0      16.0         NaN        NaN  \n",
       "1         9.0        NaN       NaN         NaN        NaN  \n",
       "2         NaN        NaN       NaN        32.0        NaN  \n",
       "3        29.0        NaN       NaN         8.0        NaN  \n",
       "4         0.0        NaN       NaN        41.0        NaN  \n",
       "\n",
       "[5 rows x 44 columns]"
      ]
     },
     "execution_count": 64,
     "metadata": {},
     "output_type": "execute_result"
    }
   ],
   "source": [
    "prefiltered_free_snps_df.head()"
   ]
  },
  {
   "cell_type": "code",
   "execution_count": 63,
   "metadata": {
    "collapsed": true,
    "jupyter": {
     "outputs_hidden": true,
     "source_hidden": true
    }
   },
   "outputs": [
    {
     "data": {
      "text/html": [
       "<div>\n",
       "<style scoped>\n",
       "    .dataframe tbody tr th:only-of-type {\n",
       "        vertical-align: middle;\n",
       "    }\n",
       "\n",
       "    .dataframe tbody tr th {\n",
       "        vertical-align: top;\n",
       "    }\n",
       "\n",
       "    .dataframe thead th {\n",
       "        text-align: right;\n",
       "    }\n",
       "</style>\n",
       "<table border=\"1\" class=\"dataframe\">\n",
       "  <thead>\n",
       "    <tr style=\"text-align: right;\">\n",
       "      <th></th>\n",
       "      <th>Unnamed: 0</th>\n",
       "      <th>CHROM</th>\n",
       "      <th>POS</th>\n",
       "      <th>QUAL</th>\n",
       "      <th>REF</th>\n",
       "      <th>ALT</th>\n",
       "      <th>DP</th>\n",
       "      <th>AF</th>\n",
       "      <th>AB_CALC</th>\n",
       "      <th>MQ</th>\n",
       "      <th>...</th>\n",
       "      <th>s_100_13.GQ</th>\n",
       "      <th>s_116_1.GQ</th>\n",
       "      <th>s_23_12.GQ</th>\n",
       "      <th>s_37_18.GQ</th>\n",
       "      <th>s_41_13.GQ</th>\n",
       "      <th>s_43_15.GQ</th>\n",
       "      <th>s_54_9.GQ</th>\n",
       "      <th>s_7_7.GQ</th>\n",
       "      <th>s_83_10.GQ</th>\n",
       "      <th>s_97_3.GQ</th>\n",
       "    </tr>\n",
       "  </thead>\n",
       "  <tbody>\n",
       "    <tr>\n",
       "      <th>0</th>\n",
       "      <td>0</td>\n",
       "      <td>CM019101.1</td>\n",
       "      <td>3850</td>\n",
       "      <td>88.21</td>\n",
       "      <td>T</td>\n",
       "      <td>C</td>\n",
       "      <td>3</td>\n",
       "      <td>1.000</td>\n",
       "      <td>0.000000</td>\n",
       "      <td>40.00</td>\n",
       "      <td>...</td>\n",
       "      <td>NaN</td>\n",
       "      <td>NaN</td>\n",
       "      <td>NaN</td>\n",
       "      <td>6.0</td>\n",
       "      <td>NaN</td>\n",
       "      <td>NaN</td>\n",
       "      <td>NaN</td>\n",
       "      <td>NaN</td>\n",
       "      <td>NaN</td>\n",
       "      <td>NaN</td>\n",
       "    </tr>\n",
       "    <tr>\n",
       "      <th>1</th>\n",
       "      <td>1</td>\n",
       "      <td>CM019101.1</td>\n",
       "      <td>10043</td>\n",
       "      <td>32.79</td>\n",
       "      <td>T</td>\n",
       "      <td>C</td>\n",
       "      <td>24</td>\n",
       "      <td>0.083</td>\n",
       "      <td>0.666667</td>\n",
       "      <td>47.61</td>\n",
       "      <td>...</td>\n",
       "      <td>30.0</td>\n",
       "      <td>3.0</td>\n",
       "      <td>NaN</td>\n",
       "      <td>9.0</td>\n",
       "      <td>18.0</td>\n",
       "      <td>3.0</td>\n",
       "      <td>NaN</td>\n",
       "      <td>NaN</td>\n",
       "      <td>33.0</td>\n",
       "      <td>NaN</td>\n",
       "    </tr>\n",
       "    <tr>\n",
       "      <th>2</th>\n",
       "      <td>2</td>\n",
       "      <td>CM019101.1</td>\n",
       "      <td>10070</td>\n",
       "      <td>357.09</td>\n",
       "      <td>G</td>\n",
       "      <td>A</td>\n",
       "      <td>39</td>\n",
       "      <td>0.667</td>\n",
       "      <td>0.345238</td>\n",
       "      <td>54.91</td>\n",
       "      <td>...</td>\n",
       "      <td>99.0</td>\n",
       "      <td>3.0</td>\n",
       "      <td>NaN</td>\n",
       "      <td>9.0</td>\n",
       "      <td>31.0</td>\n",
       "      <td>3.0</td>\n",
       "      <td>NaN</td>\n",
       "      <td>NaN</td>\n",
       "      <td>9.0</td>\n",
       "      <td>NaN</td>\n",
       "    </tr>\n",
       "    <tr>\n",
       "      <th>3</th>\n",
       "      <td>3</td>\n",
       "      <td>CM019101.1</td>\n",
       "      <td>10084</td>\n",
       "      <td>78.02</td>\n",
       "      <td>G</td>\n",
       "      <td>T</td>\n",
       "      <td>44</td>\n",
       "      <td>0.071</td>\n",
       "      <td>0.666667</td>\n",
       "      <td>53.18</td>\n",
       "      <td>...</td>\n",
       "      <td>51.0</td>\n",
       "      <td>3.0</td>\n",
       "      <td>NaN</td>\n",
       "      <td>9.0</td>\n",
       "      <td>72.0</td>\n",
       "      <td>3.0</td>\n",
       "      <td>NaN</td>\n",
       "      <td>3.0</td>\n",
       "      <td>15.0</td>\n",
       "      <td>NaN</td>\n",
       "    </tr>\n",
       "    <tr>\n",
       "      <th>4</th>\n",
       "      <td>4</td>\n",
       "      <td>CM019101.1</td>\n",
       "      <td>10102</td>\n",
       "      <td>889.38</td>\n",
       "      <td>C</td>\n",
       "      <td>T</td>\n",
       "      <td>48</td>\n",
       "      <td>0.667</td>\n",
       "      <td>0.576471</td>\n",
       "      <td>54.23</td>\n",
       "      <td>...</td>\n",
       "      <td>99.0</td>\n",
       "      <td>3.0</td>\n",
       "      <td>NaN</td>\n",
       "      <td>30.0</td>\n",
       "      <td>18.0</td>\n",
       "      <td>3.0</td>\n",
       "      <td>NaN</td>\n",
       "      <td>NaN</td>\n",
       "      <td>15.0</td>\n",
       "      <td>NaN</td>\n",
       "    </tr>\n",
       "  </tbody>\n",
       "</table>\n",
       "<p>5 rows × 40 columns</p>\n",
       "</div>"
      ],
      "text/plain": [
       "   Unnamed: 0       CHROM    POS    QUAL REF ALT  DP     AF   AB_CALC     MQ  \\\n",
       "0           0  CM019101.1   3850   88.21   T   C   3  1.000  0.000000  40.00   \n",
       "1           1  CM019101.1  10043   32.79   T   C  24  0.083  0.666667  47.61   \n",
       "2           2  CM019101.1  10070  357.09   G   A  39  0.667  0.345238  54.91   \n",
       "3           3  CM019101.1  10084   78.02   G   T  44  0.071  0.666667  53.18   \n",
       "4           4  CM019101.1  10102  889.38   C   T  48  0.667  0.576471  54.23   \n",
       "\n",
       "   ...  s_100_13.GQ  s_116_1.GQ  s_23_12.GQ  s_37_18.GQ  s_41_13.GQ  \\\n",
       "0  ...          NaN         NaN         NaN         6.0         NaN   \n",
       "1  ...         30.0         3.0         NaN         9.0        18.0   \n",
       "2  ...         99.0         3.0         NaN         9.0        31.0   \n",
       "3  ...         51.0         3.0         NaN         9.0        72.0   \n",
       "4  ...         99.0         3.0         NaN        30.0        18.0   \n",
       "\n",
       "   s_43_15.GQ  s_54_9.GQ  s_7_7.GQ s_83_10.GQ  s_97_3.GQ  \n",
       "0         NaN        NaN       NaN        NaN        NaN  \n",
       "1         3.0        NaN       NaN       33.0        NaN  \n",
       "2         3.0        NaN       NaN        9.0        NaN  \n",
       "3         3.0        NaN       3.0       15.0        NaN  \n",
       "4         3.0        NaN       NaN       15.0        NaN  \n",
       "\n",
       "[5 rows x 40 columns]"
      ]
     },
     "execution_count": 63,
     "metadata": {},
     "output_type": "execute_result"
    }
   ],
   "source": [
    "prefiltered_gatk_snps_df.head()"
   ]
  },
  {
   "cell_type": "code",
   "execution_count": 61,
   "metadata": {
    "jupyter": {
     "source_hidden": true
    }
   },
   "outputs": [],
   "source": [
    "# Write prefiltered dataframe to disk\n",
    "outpath = \"../data/raw/snp_tables/\"\n",
    "prefiltered_free_snps_df.to_csv(outpath + \"prefiltered_snps_freebayes.table\", sep=\"\\t\")\n",
    "prefiltered_gatk_snps_df.to_csv(outpath + \"prefiltered_snps_gatk.table\", sep=\"\\t\")"
   ]
  },
  {
   "cell_type": "code",
   "execution_count": 62,
   "metadata": {
    "jupyter": {
     "source_hidden": true
    }
   },
   "outputs": [],
   "source": [
    "# Read in prefiltered SNP tables\n",
    "inpath = \"../data/raw/snp_tables/\"\n",
    "prefiltered_gatk_snps_df = pd.read_table(inpath + \"prefiltered_snps_gatk.table\", sep = \"\\t\")\n",
    "prefiltered_free_snps_df = pd.read_table(inpath + \"prefiltered_snps_freebayes.table\", sep = \"\\t\")"
   ]
  },
  {
   "cell_type": "markdown",
   "metadata": {},
   "source": [
    "## Fraction of missing sites by sample\n",
    "\n",
    "It's common to remove samples that have a high proportion of missing data (e.g., >25%) <br>\n",
    "The cutoff should be based on the distribution of missing data across all individuals <br>\n",
    "\n",
    "**Note** I didn't implement this filter here since the distribution can't be accurately <br>\n",
    "estimated from only 10 test individuals. Nonetheless, The dicutionaries below show that for both <br>\n",
    "`GATK` and `freebayes`, 2 samples (s_23_12 and s_54_9) have a high proportion of missing data <br>\n",
    "and we'll have to account for this."
   ]
  },
  {
   "cell_type": "code",
   "execution_count": 71,
   "metadata": {},
   "outputs": [],
   "source": [
    "def missing_sites_by_sample(df, program):\n",
    "    \"\"\"Calculate percent missing sites by sample\n",
    "    \n",
    "    Args:\n",
    "        df (:obj: Pandas dataframe): Pandas dataframe with SNPs as rows and\n",
    "        quality metrics and genotype stats as columns.\n",
    "        program (str): Whether SNPs originated from 'GATK' or 'freebayes'\n",
    "        \n",
    "    Returns:\n",
    "        Dictionary with sample ID as keys and the percent of sites with \n",
    "        missing genotype calls\n",
    "    \"\"\"\n",
    "    GT_GT_cols = [col for col in df.columns if '.GT' in col]\n",
    "    frac_missing = {}\n",
    "    for col in GT_GT_cols:\n",
    "        \n",
    "        if program == \"gatk\":\n",
    "            frac = len(df[[col]][(df[col] == './.') | (df[col] == '.|.')]) / len(df)\n",
    "        elif program == \"freebayes\":\n",
    "            frac = len(df[[col]][(df[col] == '.')]) / len(df)\n",
    "        \n",
    "        frac_missing[col] = round(frac, 3)\n",
    "    \n",
    "    return(frac_missing)"
   ]
  },
  {
   "cell_type": "code",
   "execution_count": 72,
   "metadata": {
    "jupyter": {
     "source_hidden": true
    }
   },
   "outputs": [],
   "source": [
    "gatk_frac_missing_by_sample = missing_sites_by_sample(prefiltered_gatk_snps_df, program = 'gatk')\n",
    "free_frac_missing_by_sample = missing_sites_by_sample(prefiltered_free_snps_df, program = 'freebayes')"
   ]
  },
  {
   "cell_type": "code",
   "execution_count": 73,
   "metadata": {
    "collapsed": true,
    "jupyter": {
     "outputs_hidden": true,
     "source_hidden": true
    }
   },
   "outputs": [
    {
     "data": {
      "text/plain": [
       "{'s_100_13.GT': 0.133,\n",
       " 's_116_1.GT': 0.09,\n",
       " 's_23_12.GT': 0.757,\n",
       " 's_37_18.GT': 0.131,\n",
       " 's_41_13.GT': 0.092,\n",
       " 's_43_15.GT': 0.131,\n",
       " 's_54_9.GT': 0.701,\n",
       " 's_7_7.GT': 0.104,\n",
       " 's_83_10.GT': 0.143,\n",
       " 's_97_3.GT': 0.137}"
      ]
     },
     "execution_count": 73,
     "metadata": {},
     "output_type": "execute_result"
    }
   ],
   "source": [
    "gatk_frac_missing_by_sample"
   ]
  },
  {
   "cell_type": "code",
   "execution_count": 74,
   "metadata": {
    "collapsed": true,
    "jupyter": {
     "outputs_hidden": true,
     "source_hidden": true
    }
   },
   "outputs": [
    {
     "data": {
      "text/plain": [
       "{'s_100_13.GT': 0.086,\n",
       " 's_116_1.GT': 0.049,\n",
       " 's_23_12.GT': 0.667,\n",
       " 's_37_18.GT': 0.079,\n",
       " 's_41_13.GT': 0.052,\n",
       " 's_43_15.GT': 0.081,\n",
       " 's_54_9.GT': 0.67,\n",
       " 's_7_7.GT': 0.06,\n",
       " 's_83_10.GT': 0.09,\n",
       " 's_97_3.GT': 0.09}"
      ]
     },
     "execution_count": 74,
     "metadata": {},
     "output_type": "execute_result"
    }
   ],
   "source": [
    "free_frac_missing_by_sample"
   ]
  },
  {
   "cell_type": "markdown",
   "metadata": {
    "jupyter": {
     "source_hidden": true
    }
   },
   "source": [
    "## Filtering \n",
    "\n",
    "Filtering here will be based on [this tutorial](http://www.ddocent.com/filtering/) by\n",
    "Jon Puritz, with some modifications, which are similiar to those used <br>\n",
    "by [Julia Kreiner](https://github.com/jkreinz/Amaranthus-population-genomics/blob/master/snp_calling_filtering/filtering_vcfs.sh) in her recent paper.\n",
    "\n",
    "Quality metrics\n",
    "\n",
    "- Missing genotypes:\n",
    "    - Keep sites with at least 80% high-quality genotype calls (Phred > 20)\n",
    "- Depth:\n",
    "    - Keep if mean depth per site is between 5X and 40X\n",
    "- Allele balance: Ratio of reads showing the ALT allele to all reads. \n",
    "    - Keep if between 0.25 and 0.75, or equal to 0 (all individuals are homozygous for one of the two variants)\n",
    "- Strand bias:\n",
    "    - Keep if SOR less than 3\n",
    "- Quality and depth\n",
    "    - Keep if:\n",
    "        - QUAL > 30\n",
    "        - QUAL / DP > 0.25\n",
    "        \n",
    "## Plot histograms of overlapping quality metrics"
   ]
  },
  {
   "cell_type": "code",
   "execution_count": 10,
   "metadata": {
    "jupyter": {
     "source_hidden": true
    }
   },
   "outputs": [],
   "source": [
    "prefiltered_gatk_snps_df_FRAC = prefiltered_gatk_snps_df[['FRAC_HQ_GT', 'PROGRAM']]\n",
    "prefiltered_free_snps_df_FRAC = prefiltered_free_snps_df[['FRAC_HQ_GT', 'PROGRAM']]\n",
    "FRAC_HQ_GT_df = pd.DataFrame.append(prefiltered_gatk_snps_df_FRAC, prefiltered_free_snps_df_FRAC)"
   ]
  },
  {
   "cell_type": "code",
   "execution_count": 11,
   "metadata": {
    "collapsed": true,
    "jupyter": {
     "outputs_hidden": true
    }
   },
   "outputs": [
    {
     "data": {
      "image/png": "[encoded data removed]",
      "text/plain": [
       "<Figure size 1440x1440 with 8 Axes>"
      ]
     },
     "metadata": {},
     "output_type": "display_data"
    }
   ],
   "source": [
    "# First set up the figure, the axis, and the plot elemto_numpy want to animate\n",
    "sns.set(style=\"ticks\")\n",
    "fig, axes = plt.subplots(ncols=2, nrows=4, figsize=(20, 20))\n",
    "sns.despine(right=True, top=True)\n",
    "\n",
    "# SITE_MEAN — Mean read depth at site across samples \n",
    "sns.distplot(prefiltered_gatk_snps_df['SITE_MEAN'][prefiltered_gatk_snps_df['SITE_MEAN'] < 40], label=\"gatk\", color=\"green\", ax=axes[0, 0])\n",
    "sns.distplot(prefiltered_free_snps_df['SITE_MEAN'][prefiltered_free_snps_df['SITE_MEAN'] < 40], label=\"freebayes\", color=\"orange\", ax=axes[0, 0])\n",
    "axes[0, 0].set_xlabel(\"Mean depth at site (>40 not shown)\")\n",
    "axes[0, 0].vlines(5, 0, 0.1, linestyle=\"solid\", color=\"red\", lw=1.5)\n",
    "axes[0, 0].vlines(40, 0, 0.1, linestyle=\"solid\", color=\"red\", lw=1.5)\n",
    "axes[0, 0].set_title(\"KEEP BETWEEN (i.e., >5 AND <40)\")\n",
    "axes[0, 0].legend(loc='upper center')\n",
    "\n",
    "# # FRAC_HQ_GT-MISS\n",
    "sns.countplot(x=\"FRAC_HQ_GT\", hue=\"PROGRAM\", data=FRAC_HQ_GT_df, palette=[\"green\", \"orange\"], ax=axes[0, 1])\n",
    "axes[0, 1].set_xlabel(\"Fraction of high-quality genotypes (Phred > 20)\")\n",
    "axes[0, 1].set_title(\"KEEP IN BOX (i.e., At least 80% of high-quality called genotypes (Phred > 20))\")\n",
    "axes[0, 1].add_patch(\n",
    "    patches.Rectangle(\n",
    "        xy=(7.6, 0),  # point of origin.\n",
    "        width=2.8,\n",
    "        height=350000,\n",
    "        linewidth=1.5,\n",
    "        color='red',\n",
    "        fill=False\n",
    "    )\n",
    ")\n",
    "axes[0, 1].legend(loc='upper center', title='')\n",
    "\n",
    "# AB\n",
    "sns.distplot(prefiltered_gatk_snps_df['AB_CALC'], label=\"gatk\", color=\"green\", ax=axes[1, 0])\n",
    "sns.distplot(prefiltered_free_snps_df['AB_CALC'], label=\"freebayes\", color=\"orange\", ax=axes[1, 0])\n",
    "axes[1, 0].set_xlabel(\"Allele balance\")\n",
    "axes[1, 0].vlines(0.25, 0, 16, linestyle=\"solid\", color=\"red\", lw=1.5)\n",
    "axes[1, 0].vlines(0.75, 0, 16, linestyle=\"solid\", color=\"red\", lw=1.5)\n",
    "axes[1, 0].add_patch(\n",
    "    patches.Rectangle(\n",
    "        xy=(-0.05, 0),  # point of origin.\n",
    "        width=0.1,\n",
    "        height=16,\n",
    "        linewidth=1.5,\n",
    "        color='red',\n",
    "        fill=False\n",
    "    )\n",
    ")\n",
    "axes[1, 0].set_title(\"KEEP BETWEEN LINES (i.e., >0.25 AND <0.75) AND IN BOX\")\n",
    "axes[1, 0].legend()\n",
    "\n",
    "# SOR\n",
    "sns.distplot(prefiltered_gatk_snps_df['SOR'][prefiltered_gatk_snps_df['SOR'] < 6], label=\"gatk\", color=\"green\", ax=axes[1, 1])\n",
    "sns.distplot(prefiltered_free_snps_df['SOR'][prefiltered_free_snps_df['SOR'] < 6], label=\"freebayes\", color=\"orange\", ax=axes[1, 1])\n",
    "axes[1, 1].set_xlabel(\"SOR (>6 not shown)\")\n",
    "axes[1, 1].vlines(3, 0, 2, linestyle=\"solid\", color=\"red\", lw=1.5)\n",
    "axes[1, 1].set_title(\"KEEP LEFT (i.e., <3)\")\n",
    "axes[1, 1].legend()\n",
    "\n",
    "# QUAL / DP\n",
    "sns.distplot(prefiltered_gatk_snps_df['QUAL_BY_DEPTH'][prefiltered_gatk_snps_df['QUAL_BY_DEPTH'] < 10], label=\"gatk\", color=\"green\", ax=axes[2, 0])\n",
    "sns.distplot(prefiltered_free_snps_df['QUAL_BY_DEPTH'][prefiltered_free_snps_df['QUAL_BY_DEPTH'] < 10], label=\"freebayes\", color=\"orange\", ax=axes[2, 0])\n",
    "axes[2, 0].set_xlabel(\"QUAL / DEPTH (> 10 not shown)\")\n",
    "axes[2, 0].vlines(0.25, 0, 0.31, linestyle=\"solid\", color=\"red\", lw=1.5)\n",
    "axes[2, 0].set_title(\"KEEP RIGHT (i.e., >0.25)\")\n",
    "axes[2, 0].legend()\n",
    "\n",
    "# MQ\n",
    "sns.distplot(prefiltered_gatk_snps_df['MQ'], label=\"gatk\", color=\"green\", ax=axes[2, 1])\n",
    "axes[2, 1].set_xlabel(\"Root mean square mapping quatlity\")\n",
    "axes[2, 1].vlines(40, 0, 0.35, linestyle=\"solid\", color=\"red\", lw=1.5)\n",
    "axes[2, 1].set_title(\"KEEP RIGHT (i.e., >40). GATK ONLY\")\n",
    "axes[2, 1].legend()\n",
    "\n",
    "# MQ\n",
    "sns.distplot(prefiltered_free_snps_df['MQM'], label=\"ALT allele\", color=\"orange\", ax=axes[3, 0])\n",
    "sns.distplot(prefiltered_free_snps_df['MQMR'], label=\"REF allele\", color=\"darkorange\", ax=axes[3, 0])\n",
    "axes[3, 0].set_xlabel(\"Mean mapping quatlity\")\n",
    "axes[3, 0].vlines(40, 0, 0.30, linestyle=\"solid\", color=\"red\", lw=1.5)\n",
    "axes[3, 0].set_title(\"KEEP RIGHT (i.e, ALT and REF > 40). FREEBAYES ONLY\")\n",
    "axes[3, 0].legend(loc='upper center')\n",
    "\n",
    "plt.tight_layout()"
   ]
  },
  {
   "cell_type": "markdown",
   "metadata": {
    "jupyter": {
     "source_hidden": true
    }
   },
   "source": [
    "## Impose filtering conditions from above on both datasets"
   ]
  },
  {
   "cell_type": "markdown",
   "metadata": {
    "jupyter": {
     "source_hidden": true
    }
   },
   "source": [
    "## Look into VCFs that were soft-filtered with `bcftools`\n",
    "\n",
    "Here I'll explore the SNPs retured by `GATK` and `freebayes` following soft-filtering with `bcftools`"
   ]
  },
  {
   "cell_type": "code",
   "execution_count": 121,
   "metadata": {},
   "outputs": [],
   "source": [
    "def filter_pass(df):\n",
    "    \n",
    "    df_out = df[df['FILTER'] == 'PASS']\n",
    "    return df_out\n",
    "    \n",
    "gatk_bcftools_filter_snps = filter_pass(gatk_snps_df)\n",
    "free_bcftools_filter_snps = filter_pass(free_snps_df)"
   ]
  },
  {
   "cell_type": "code",
   "execution_count": 17,
   "metadata": {},
   "outputs": [],
   "source": [
    "# List of positions that occur in both filtered datasets\n",
    "intersection = list(set(gatk_bcftools_filter_snps['POS'].values.tolist()) & set(free_bcftools_filter_snps['POS'].values.tolist()))\n",
    "\n",
    "# SNPs called by GATK only\n",
    "gatk_only = gatk_bcftools_filter_snps[~gatk_bcftools_filter_snps['POS'].isin(intersection)]['POS'].values.tolist()\n",
    "\n",
    "# SNPs called by freebayes only\n",
    "freebayes_only = free_bcftools_filter_snps[~free_bcftools_filter_snps['POS'].isin(intersection)]['POS'].values.tolist()\n",
    "\n",
    "# SNPs not called by either program\n",
    "neither = gatk_snps_df[~gatk_snps_df['POS'].isin(intersection + gatk_only + freebayes_only)]['POS'].values.tolist()\n",
    "\n",
    "# Randomly select 25 SNPs in each category\n",
    "np.random.seed(42)\n",
    "rand25_intersection = np.random.choice(intersection, size = 25)\n",
    "rand25_gatk = np.random.choice(gatk_only, size = 25)\n",
    "rand25_freebayes = np.random.choice(freebayes_only, size = 25)\n",
    "rand25_neither = np.random.choice(neither, size = 25)"
   ]
  },
  {
   "cell_type": "code",
   "execution_count": 12,
   "metadata": {
    "collapsed": true,
    "jupyter": {
     "outputs_hidden": true
    },
    "scrolled": true
   },
   "outputs": [
    {
     "data": {
      "text/html": [
       "<div>\n",
       "<style scoped>\n",
       "    .dataframe tbody tr th:only-of-type {\n",
       "        vertical-align: middle;\n",
       "    }\n",
       "\n",
       "    .dataframe tbody tr th {\n",
       "        vertical-align: top;\n",
       "    }\n",
       "\n",
       "    .dataframe thead th {\n",
       "        text-align: right;\n",
       "    }\n",
       "</style>\n",
       "<table border=\"1\" class=\"dataframe\">\n",
       "  <thead>\n",
       "    <tr style=\"text-align: right;\">\n",
       "      <th></th>\n",
       "      <th>CHROM</th>\n",
       "      <th>POS</th>\n",
       "      <th>QUAL</th>\n",
       "      <th>DP</th>\n",
       "      <th>FILTER</th>\n",
       "      <th>s_100_13.GT</th>\n",
       "      <th>s_116_1.GT</th>\n",
       "      <th>s_23_12.GT</th>\n",
       "      <th>s_37_18.GT</th>\n",
       "      <th>s_41_13.GT</th>\n",
       "      <th>...</th>\n",
       "      <th>s_23_12.GQ</th>\n",
       "      <th>s_37_18.GQ</th>\n",
       "      <th>s_41_13.GQ</th>\n",
       "      <th>s_43_15.GQ</th>\n",
       "      <th>s_54_9.GQ</th>\n",
       "      <th>s_7_7.GQ</th>\n",
       "      <th>s_83_10.GQ</th>\n",
       "      <th>s_97_3.GQ</th>\n",
       "      <th>PROGRAM</th>\n",
       "      <th>CATEGORY</th>\n",
       "    </tr>\n",
       "  </thead>\n",
       "  <tbody>\n",
       "    <tr>\n",
       "      <th>92429</th>\n",
       "      <td>CM019101.1</td>\n",
       "      <td>3786075</td>\n",
       "      <td>95.06</td>\n",
       "      <td>282</td>\n",
       "      <td>PASS</td>\n",
       "      <td>C/C</td>\n",
       "      <td>C/C</td>\n",
       "      <td>C/C</td>\n",
       "      <td>C/C</td>\n",
       "      <td>C/C</td>\n",
       "      <td>...</td>\n",
       "      <td>80.0</td>\n",
       "      <td>99.0</td>\n",
       "      <td>99.0</td>\n",
       "      <td>65.0</td>\n",
       "      <td>62.0</td>\n",
       "      <td>99.0</td>\n",
       "      <td>68.0</td>\n",
       "      <td>79.0</td>\n",
       "      <td>FREEBAYES</td>\n",
       "      <td>BOTH</td>\n",
       "    </tr>\n",
       "    <tr>\n",
       "      <th>98362</th>\n",
       "      <td>CM019101.1</td>\n",
       "      <td>3786075</td>\n",
       "      <td>398.48</td>\n",
       "      <td>216</td>\n",
       "      <td>PASS</td>\n",
       "      <td>C/C</td>\n",
       "      <td>C/C</td>\n",
       "      <td>C/C</td>\n",
       "      <td>C/C</td>\n",
       "      <td>C/C</td>\n",
       "      <td>...</td>\n",
       "      <td>18.0</td>\n",
       "      <td>72.0</td>\n",
       "      <td>72.0</td>\n",
       "      <td>99.0</td>\n",
       "      <td>NaN</td>\n",
       "      <td>36.0</td>\n",
       "      <td>99.0</td>\n",
       "      <td>39.0</td>\n",
       "      <td>GATK</td>\n",
       "      <td>BOTH</td>\n",
       "    </tr>\n",
       "    <tr>\n",
       "      <th>99872</th>\n",
       "      <td>CM019101.1</td>\n",
       "      <td>3829553</td>\n",
       "      <td>170.78</td>\n",
       "      <td>108</td>\n",
       "      <td>PASS</td>\n",
       "      <td>C/C</td>\n",
       "      <td>C/C</td>\n",
       "      <td>./.</td>\n",
       "      <td>C/C</td>\n",
       "      <td>C/C</td>\n",
       "      <td>...</td>\n",
       "      <td>NaN</td>\n",
       "      <td>42.0</td>\n",
       "      <td>48.0</td>\n",
       "      <td>33.0</td>\n",
       "      <td>NaN</td>\n",
       "      <td>30.0</td>\n",
       "      <td>36.0</td>\n",
       "      <td>99.0</td>\n",
       "      <td>GATK</td>\n",
       "      <td>BOTH</td>\n",
       "    </tr>\n",
       "    <tr>\n",
       "      <th>93699</th>\n",
       "      <td>CM019101.1</td>\n",
       "      <td>3829553</td>\n",
       "      <td>122.93</td>\n",
       "      <td>115</td>\n",
       "      <td>PASS</td>\n",
       "      <td>C/C</td>\n",
       "      <td>C/C</td>\n",
       "      <td>.</td>\n",
       "      <td>C/C</td>\n",
       "      <td>C/C</td>\n",
       "      <td>...</td>\n",
       "      <td>NaN</td>\n",
       "      <td>72.0</td>\n",
       "      <td>78.0</td>\n",
       "      <td>59.0</td>\n",
       "      <td>NaN</td>\n",
       "      <td>56.0</td>\n",
       "      <td>62.0</td>\n",
       "      <td>99.0</td>\n",
       "      <td>FREEBAYES</td>\n",
       "      <td>BOTH</td>\n",
       "    </tr>\n",
       "    <tr>\n",
       "      <th>99157</th>\n",
       "      <td>CM019101.1</td>\n",
       "      <td>4046451</td>\n",
       "      <td>352.06</td>\n",
       "      <td>196</td>\n",
       "      <td>PASS</td>\n",
       "      <td>G/G</td>\n",
       "      <td>G/G</td>\n",
       "      <td>G/G</td>\n",
       "      <td>G/G</td>\n",
       "      <td>G/G</td>\n",
       "      <td>...</td>\n",
       "      <td>25.0</td>\n",
       "      <td>76.0</td>\n",
       "      <td>76.0</td>\n",
       "      <td>98.0</td>\n",
       "      <td>41.0</td>\n",
       "      <td>67.0</td>\n",
       "      <td>99.0</td>\n",
       "      <td>64.0</td>\n",
       "      <td>FREEBAYES</td>\n",
       "      <td>BOTH</td>\n",
       "    </tr>\n",
       "  </tbody>\n",
       "</table>\n",
       "<p>5 rows × 27 columns</p>\n",
       "</div>"
      ],
      "text/plain": [
       "            CHROM      POS    QUAL   DP FILTER s_100_13.GT s_116_1.GT  \\\n",
       "92429  CM019101.1  3786075   95.06  282   PASS         C/C        C/C   \n",
       "98362  CM019101.1  3786075  398.48  216   PASS         C/C        C/C   \n",
       "99872  CM019101.1  3829553  170.78  108   PASS         C/C        C/C   \n",
       "93699  CM019101.1  3829553  122.93  115   PASS         C/C        C/C   \n",
       "99157  CM019101.1  4046451  352.06  196   PASS         G/G        G/G   \n",
       "\n",
       "      s_23_12.GT s_37_18.GT s_41_13.GT  ... s_23_12.GQ s_37_18.GQ s_41_13.GQ  \\\n",
       "92429        C/C        C/C        C/C  ...       80.0       99.0       99.0   \n",
       "98362        C/C        C/C        C/C  ...       18.0       72.0       72.0   \n",
       "99872        ./.        C/C        C/C  ...        NaN       42.0       48.0   \n",
       "93699          .        C/C        C/C  ...        NaN       72.0       78.0   \n",
       "99157        G/G        G/G        G/G  ...       25.0       76.0       76.0   \n",
       "\n",
       "      s_43_15.GQ s_54_9.GQ  s_7_7.GQ  s_83_10.GQ  s_97_3.GQ    PROGRAM  \\\n",
       "92429       65.0      62.0      99.0        68.0       79.0  FREEBAYES   \n",
       "98362       99.0       NaN      36.0        99.0       39.0       GATK   \n",
       "99872       33.0       NaN      30.0        36.0       99.0       GATK   \n",
       "93699       59.0       NaN      56.0        62.0       99.0  FREEBAYES   \n",
       "99157       98.0      41.0      67.0        99.0       64.0  FREEBAYES   \n",
       "\n",
       "       CATEGORY  \n",
       "92429      BOTH  \n",
       "98362      BOTH  \n",
       "99872      BOTH  \n",
       "93699      BOTH  \n",
       "99157      BOTH  \n",
       "\n",
       "[5 rows x 27 columns]"
      ]
     },
     "execution_count": 12,
     "metadata": {},
     "output_type": "execute_result"
    }
   ],
   "source": [
    "# Intersection dataframe with Sites called by both GATK and Freebayes\n",
    "cols = ['CHROM', 'POS', 'QUAL', 'DP', 'FILTER'] + [col for col in free_bcftools_filter_snps.columns if '.GT' in col] + [col for col in free_bcftools_filter_snps.columns if '.GQ' in col]\n",
    "free_intersection = free_snps_df[cols][free_snps_df['POS'].isin(rand25_intersection)]\n",
    "free_intersection['PROGRAM'] = 'FREEBAYES'\n",
    "gatk_intersection = gatk_snps_df[cols][gatk_snps_df['POS'].isin(rand25_intersection)]\n",
    "gatk_intersection['PROGRAM'] = 'GATK'\n",
    "intersection_df = pd.DataFrame.append(free_intersection, gatk_intersection).sort_values(by='POS')\n",
    "intersection_df['CATEGORY'] = 'BOTH'\n",
    "intersection_df.head()"
   ]
  },
  {
   "cell_type": "code",
   "execution_count": 13,
   "metadata": {
    "collapsed": true,
    "jupyter": {
     "outputs_hidden": true
    }
   },
   "outputs": [
    {
     "data": {
      "text/html": [
       "<div>\n",
       "<style scoped>\n",
       "    .dataframe tbody tr th:only-of-type {\n",
       "        vertical-align: middle;\n",
       "    }\n",
       "\n",
       "    .dataframe tbody tr th {\n",
       "        vertical-align: top;\n",
       "    }\n",
       "\n",
       "    .dataframe thead th {\n",
       "        text-align: right;\n",
       "    }\n",
       "</style>\n",
       "<table border=\"1\" class=\"dataframe\">\n",
       "  <thead>\n",
       "    <tr style=\"text-align: right;\">\n",
       "      <th></th>\n",
       "      <th>CHROM</th>\n",
       "      <th>POS</th>\n",
       "      <th>QUAL</th>\n",
       "      <th>DP</th>\n",
       "      <th>FILTER</th>\n",
       "      <th>s_100_13.GT</th>\n",
       "      <th>s_116_1.GT</th>\n",
       "      <th>s_23_12.GT</th>\n",
       "      <th>s_37_18.GT</th>\n",
       "      <th>s_41_13.GT</th>\n",
       "      <th>...</th>\n",
       "      <th>s_23_12.GQ</th>\n",
       "      <th>s_37_18.GQ</th>\n",
       "      <th>s_41_13.GQ</th>\n",
       "      <th>s_43_15.GQ</th>\n",
       "      <th>s_54_9.GQ</th>\n",
       "      <th>s_7_7.GQ</th>\n",
       "      <th>s_83_10.GQ</th>\n",
       "      <th>s_97_3.GQ</th>\n",
       "      <th>PROGRAM</th>\n",
       "      <th>CATEGORY</th>\n",
       "    </tr>\n",
       "  </thead>\n",
       "  <tbody>\n",
       "    <tr>\n",
       "      <th>90172</th>\n",
       "      <td>CM019101.1</td>\n",
       "      <td>3528998</td>\n",
       "      <td>160.03</td>\n",
       "      <td>193</td>\n",
       "      <td>PASS</td>\n",
       "      <td>C/T</td>\n",
       "      <td>C/T</td>\n",
       "      <td>./.</td>\n",
       "      <td>C/T</td>\n",
       "      <td>C/C</td>\n",
       "      <td>...</td>\n",
       "      <td>NaN</td>\n",
       "      <td>83.0</td>\n",
       "      <td>72.0</td>\n",
       "      <td>57.0</td>\n",
       "      <td>6.0</td>\n",
       "      <td>99.0</td>\n",
       "      <td>51.0</td>\n",
       "      <td>72.0</td>\n",
       "      <td>GATK</td>\n",
       "      <td>GATK_ONLY</td>\n",
       "    </tr>\n",
       "    <tr>\n",
       "      <th>84718</th>\n",
       "      <td>CM019101.1</td>\n",
       "      <td>3528998</td>\n",
       "      <td>0.14</td>\n",
       "      <td>198</td>\n",
       "      <td>LowQual,FRAC_HQ_GT</td>\n",
       "      <td>C/T</td>\n",
       "      <td>C/T</td>\n",
       "      <td>.</td>\n",
       "      <td>C/T</td>\n",
       "      <td>C/C</td>\n",
       "      <td>...</td>\n",
       "      <td>NaN</td>\n",
       "      <td>0.0</td>\n",
       "      <td>99.0</td>\n",
       "      <td>99.0</td>\n",
       "      <td>77.0</td>\n",
       "      <td>99.0</td>\n",
       "      <td>99.0</td>\n",
       "      <td>99.0</td>\n",
       "      <td>FREEBAYES</td>\n",
       "      <td>GATK_ONLY</td>\n",
       "    </tr>\n",
       "    <tr>\n",
       "      <th>198115</th>\n",
       "      <td>CM019101.1</td>\n",
       "      <td>7487074</td>\n",
       "      <td>202.60</td>\n",
       "      <td>445</td>\n",
       "      <td>PASS</td>\n",
       "      <td>C/C</td>\n",
       "      <td>C|T</td>\n",
       "      <td>C/C</td>\n",
       "      <td>C/C</td>\n",
       "      <td>C/C</td>\n",
       "      <td>...</td>\n",
       "      <td>15.0</td>\n",
       "      <td>99.0</td>\n",
       "      <td>99.0</td>\n",
       "      <td>93.0</td>\n",
       "      <td>6.0</td>\n",
       "      <td>99.0</td>\n",
       "      <td>99.0</td>\n",
       "      <td>99.0</td>\n",
       "      <td>GATK</td>\n",
       "      <td>GATK_ONLY</td>\n",
       "    </tr>\n",
       "    <tr>\n",
       "      <th>248095</th>\n",
       "      <td>CM019101.1</td>\n",
       "      <td>9388553</td>\n",
       "      <td>72.27</td>\n",
       "      <td>239</td>\n",
       "      <td>PASS</td>\n",
       "      <td>G/A</td>\n",
       "      <td>G/G</td>\n",
       "      <td>G/G</td>\n",
       "      <td>G/G</td>\n",
       "      <td>G/G</td>\n",
       "      <td>...</td>\n",
       "      <td>6.0</td>\n",
       "      <td>52.0</td>\n",
       "      <td>99.0</td>\n",
       "      <td>93.0</td>\n",
       "      <td>NaN</td>\n",
       "      <td>48.0</td>\n",
       "      <td>63.0</td>\n",
       "      <td>43.0</td>\n",
       "      <td>GATK</td>\n",
       "      <td>GATK_ONLY</td>\n",
       "    </tr>\n",
       "    <tr>\n",
       "      <th>235038</th>\n",
       "      <td>CM019101.1</td>\n",
       "      <td>9388553</td>\n",
       "      <td>0.00</td>\n",
       "      <td>356</td>\n",
       "      <td>LowQual</td>\n",
       "      <td>G/A</td>\n",
       "      <td>G/G</td>\n",
       "      <td>G/G</td>\n",
       "      <td>G/G</td>\n",
       "      <td>G/G</td>\n",
       "      <td>...</td>\n",
       "      <td>99.0</td>\n",
       "      <td>99.0</td>\n",
       "      <td>99.0</td>\n",
       "      <td>99.0</td>\n",
       "      <td>NaN</td>\n",
       "      <td>99.0</td>\n",
       "      <td>99.0</td>\n",
       "      <td>99.0</td>\n",
       "      <td>FREEBAYES</td>\n",
       "      <td>GATK_ONLY</td>\n",
       "    </tr>\n",
       "  </tbody>\n",
       "</table>\n",
       "<p>5 rows × 27 columns</p>\n",
       "</div>"
      ],
      "text/plain": [
       "             CHROM      POS    QUAL   DP              FILTER s_100_13.GT  \\\n",
       "90172   CM019101.1  3528998  160.03  193                PASS         C/T   \n",
       "84718   CM019101.1  3528998    0.14  198  LowQual,FRAC_HQ_GT         C/T   \n",
       "198115  CM019101.1  7487074  202.60  445                PASS         C/C   \n",
       "248095  CM019101.1  9388553   72.27  239                PASS         G/A   \n",
       "235038  CM019101.1  9388553    0.00  356             LowQual         G/A   \n",
       "\n",
       "       s_116_1.GT s_23_12.GT s_37_18.GT s_41_13.GT  ... s_23_12.GQ s_37_18.GQ  \\\n",
       "90172         C/T        ./.        C/T        C/C  ...        NaN       83.0   \n",
       "84718         C/T          .        C/T        C/C  ...        NaN        0.0   \n",
       "198115        C|T        C/C        C/C        C/C  ...       15.0       99.0   \n",
       "248095        G/G        G/G        G/G        G/G  ...        6.0       52.0   \n",
       "235038        G/G        G/G        G/G        G/G  ...       99.0       99.0   \n",
       "\n",
       "       s_41_13.GQ s_43_15.GQ s_54_9.GQ  s_7_7.GQ  s_83_10.GQ  s_97_3.GQ  \\\n",
       "90172        72.0       57.0       6.0      99.0        51.0       72.0   \n",
       "84718        99.0       99.0      77.0      99.0        99.0       99.0   \n",
       "198115       99.0       93.0       6.0      99.0        99.0       99.0   \n",
       "248095       99.0       93.0       NaN      48.0        63.0       43.0   \n",
       "235038       99.0       99.0       NaN      99.0        99.0       99.0   \n",
       "\n",
       "          PROGRAM   CATEGORY  \n",
       "90172        GATK  GATK_ONLY  \n",
       "84718   FREEBAYES  GATK_ONLY  \n",
       "198115       GATK  GATK_ONLY  \n",
       "248095       GATK  GATK_ONLY  \n",
       "235038  FREEBAYES  GATK_ONLY  \n",
       "\n",
       "[5 rows x 27 columns]"
      ]
     },
     "execution_count": 13,
     "metadata": {},
     "output_type": "execute_result"
    }
   ],
   "source": [
    "# Site called by GATK only, with corresponding site in freebayes DF\n",
    "gatk_only_gatk = gatk_snps_df[cols][gatk_snps_df['POS'].isin(rand25_gatk)]\n",
    "gatk_only_gatk['PROGRAM'] = 'GATK'\n",
    "gatk_only_free = free_snps_df[cols][free_snps_df['POS'].isin(rand25_gatk)]\n",
    "gatk_only_free['PROGRAM'] = 'FREEBAYES'\n",
    "gatk_only_df = pd.DataFrame.append(gatk_only_gatk, gatk_only_free).sort_values(by='POS')\n",
    "gatk_only_df['CATEGORY'] = 'GATK_ONLY'\n",
    "gatk_only_df.head()"
   ]
  },
  {
   "cell_type": "code",
   "execution_count": 14,
   "metadata": {
    "collapsed": true,
    "jupyter": {
     "outputs_hidden": true
    }
   },
   "outputs": [
    {
     "data": {
      "text/html": [
       "<div>\n",
       "<style scoped>\n",
       "    .dataframe tbody tr th:only-of-type {\n",
       "        vertical-align: middle;\n",
       "    }\n",
       "\n",
       "    .dataframe tbody tr th {\n",
       "        vertical-align: top;\n",
       "    }\n",
       "\n",
       "    .dataframe thead th {\n",
       "        text-align: right;\n",
       "    }\n",
       "</style>\n",
       "<table border=\"1\" class=\"dataframe\">\n",
       "  <thead>\n",
       "    <tr style=\"text-align: right;\">\n",
       "      <th></th>\n",
       "      <th>CHROM</th>\n",
       "      <th>POS</th>\n",
       "      <th>QUAL</th>\n",
       "      <th>DP</th>\n",
       "      <th>FILTER</th>\n",
       "      <th>s_100_13.GT</th>\n",
       "      <th>s_116_1.GT</th>\n",
       "      <th>s_23_12.GT</th>\n",
       "      <th>s_37_18.GT</th>\n",
       "      <th>s_41_13.GT</th>\n",
       "      <th>...</th>\n",
       "      <th>s_23_12.GQ</th>\n",
       "      <th>s_37_18.GQ</th>\n",
       "      <th>s_41_13.GQ</th>\n",
       "      <th>s_43_15.GQ</th>\n",
       "      <th>s_54_9.GQ</th>\n",
       "      <th>s_7_7.GQ</th>\n",
       "      <th>s_83_10.GQ</th>\n",
       "      <th>s_97_3.GQ</th>\n",
       "      <th>PROGRAM</th>\n",
       "      <th>CATEGORY</th>\n",
       "    </tr>\n",
       "  </thead>\n",
       "  <tbody>\n",
       "    <tr>\n",
       "      <th>100701</th>\n",
       "      <td>CM019101.1</td>\n",
       "      <td>3854392</td>\n",
       "      <td>639.71</td>\n",
       "      <td>95</td>\n",
       "      <td>FRAC_HQ_GT</td>\n",
       "      <td>G|A</td>\n",
       "      <td>G/G</td>\n",
       "      <td>./.</td>\n",
       "      <td>G/G</td>\n",
       "      <td>G|A</td>\n",
       "      <td>...</td>\n",
       "      <td>NaN</td>\n",
       "      <td>21.0</td>\n",
       "      <td>99.0</td>\n",
       "      <td>34.0</td>\n",
       "      <td>NaN</td>\n",
       "      <td>66.0</td>\n",
       "      <td>99.0</td>\n",
       "      <td>42.0</td>\n",
       "      <td>GATK</td>\n",
       "      <td>FREE_ONLY</td>\n",
       "    </tr>\n",
       "    <tr>\n",
       "      <th>94435</th>\n",
       "      <td>CM019101.1</td>\n",
       "      <td>3854392</td>\n",
       "      <td>476.23</td>\n",
       "      <td>101</td>\n",
       "      <td>PASS</td>\n",
       "      <td>G/A</td>\n",
       "      <td>G/G</td>\n",
       "      <td>.</td>\n",
       "      <td>G/G</td>\n",
       "      <td>G/A</td>\n",
       "      <td>...</td>\n",
       "      <td>NaN</td>\n",
       "      <td>55.0</td>\n",
       "      <td>49.0</td>\n",
       "      <td>70.0</td>\n",
       "      <td>NaN</td>\n",
       "      <td>65.0</td>\n",
       "      <td>99.0</td>\n",
       "      <td>71.0</td>\n",
       "      <td>FREEBAYES</td>\n",
       "      <td>FREE_ONLY</td>\n",
       "    </tr>\n",
       "    <tr>\n",
       "      <th>116807</th>\n",
       "      <td>CM019101.1</td>\n",
       "      <td>4737161</td>\n",
       "      <td>135.72</td>\n",
       "      <td>157</td>\n",
       "      <td>PASS</td>\n",
       "      <td>A/A</td>\n",
       "      <td>A/A</td>\n",
       "      <td>.</td>\n",
       "      <td>A/A</td>\n",
       "      <td>A/A</td>\n",
       "      <td>...</td>\n",
       "      <td>NaN</td>\n",
       "      <td>76.0</td>\n",
       "      <td>85.0</td>\n",
       "      <td>42.0</td>\n",
       "      <td>6.0</td>\n",
       "      <td>54.0</td>\n",
       "      <td>91.0</td>\n",
       "      <td>91.0</td>\n",
       "      <td>FREEBAYES</td>\n",
       "      <td>FREE_ONLY</td>\n",
       "    </tr>\n",
       "    <tr>\n",
       "      <th>233505</th>\n",
       "      <td>CM019101.1</td>\n",
       "      <td>9340215</td>\n",
       "      <td>40.59</td>\n",
       "      <td>103</td>\n",
       "      <td>PASS</td>\n",
       "      <td>A/A</td>\n",
       "      <td>A/A</td>\n",
       "      <td>A/A</td>\n",
       "      <td>A/A</td>\n",
       "      <td>A/A</td>\n",
       "      <td>...</td>\n",
       "      <td>34.0</td>\n",
       "      <td>49.0</td>\n",
       "      <td>58.0</td>\n",
       "      <td>28.0</td>\n",
       "      <td>64.0</td>\n",
       "      <td>41.0</td>\n",
       "      <td>40.0</td>\n",
       "      <td>2.0</td>\n",
       "      <td>FREEBAYES</td>\n",
       "      <td>FREE_ONLY</td>\n",
       "    </tr>\n",
       "    <tr>\n",
       "      <th>246301</th>\n",
       "      <td>CM019101.1</td>\n",
       "      <td>9340215</td>\n",
       "      <td>109.98</td>\n",
       "      <td>95</td>\n",
       "      <td>FRAC_HQ_GT</td>\n",
       "      <td>A/A</td>\n",
       "      <td>A/A</td>\n",
       "      <td>A/A</td>\n",
       "      <td>A/A</td>\n",
       "      <td>A/A</td>\n",
       "      <td>...</td>\n",
       "      <td>6.0</td>\n",
       "      <td>18.0</td>\n",
       "      <td>27.0</td>\n",
       "      <td>0.0</td>\n",
       "      <td>12.0</td>\n",
       "      <td>99.0</td>\n",
       "      <td>9.0</td>\n",
       "      <td>19.0</td>\n",
       "      <td>GATK</td>\n",
       "      <td>FREE_ONLY</td>\n",
       "    </tr>\n",
       "  </tbody>\n",
       "</table>\n",
       "<p>5 rows × 27 columns</p>\n",
       "</div>"
      ],
      "text/plain": [
       "             CHROM      POS    QUAL   DP      FILTER s_100_13.GT s_116_1.GT  \\\n",
       "100701  CM019101.1  3854392  639.71   95  FRAC_HQ_GT         G|A        G/G   \n",
       "94435   CM019101.1  3854392  476.23  101        PASS         G/A        G/G   \n",
       "116807  CM019101.1  4737161  135.72  157        PASS         A/A        A/A   \n",
       "233505  CM019101.1  9340215   40.59  103        PASS         A/A        A/A   \n",
       "246301  CM019101.1  9340215  109.98   95  FRAC_HQ_GT         A/A        A/A   \n",
       "\n",
       "       s_23_12.GT s_37_18.GT s_41_13.GT  ... s_23_12.GQ s_37_18.GQ s_41_13.GQ  \\\n",
       "100701        ./.        G/G        G|A  ...        NaN       21.0       99.0   \n",
       "94435           .        G/G        G/A  ...        NaN       55.0       49.0   \n",
       "116807          .        A/A        A/A  ...        NaN       76.0       85.0   \n",
       "233505        A/A        A/A        A/A  ...       34.0       49.0       58.0   \n",
       "246301        A/A        A/A        A/A  ...        6.0       18.0       27.0   \n",
       "\n",
       "       s_43_15.GQ s_54_9.GQ  s_7_7.GQ  s_83_10.GQ  s_97_3.GQ    PROGRAM  \\\n",
       "100701       34.0       NaN      66.0        99.0       42.0       GATK   \n",
       "94435        70.0       NaN      65.0        99.0       71.0  FREEBAYES   \n",
       "116807       42.0       6.0      54.0        91.0       91.0  FREEBAYES   \n",
       "233505       28.0      64.0      41.0        40.0        2.0  FREEBAYES   \n",
       "246301        0.0      12.0      99.0         9.0       19.0       GATK   \n",
       "\n",
       "         CATEGORY  \n",
       "100701  FREE_ONLY  \n",
       "94435   FREE_ONLY  \n",
       "116807  FREE_ONLY  \n",
       "233505  FREE_ONLY  \n",
       "246301  FREE_ONLY  \n",
       "\n",
       "[5 rows x 27 columns]"
      ]
     },
     "execution_count": 14,
     "metadata": {},
     "output_type": "execute_result"
    }
   ],
   "source": [
    "# Site called by freebayes only, with corresponding site in GATK DF\n",
    "free_only_gatk = gatk_snps_df[cols][gatk_snps_df['POS'].isin(rand25_freebayes)]\n",
    "free_only_gatk['PROGRAM'] = 'GATK'\n",
    "free_only_free = free_snps_df[cols][free_snps_df['POS'].isin(rand25_freebayes)]\n",
    "free_only_free['PROGRAM'] = 'FREEBAYES'\n",
    "free_only_df = pd.DataFrame.append(free_only_gatk, free_only_free).sort_values(by='POS')\n",
    "free_only_df['CATEGORY'] = 'FREE_ONLY'\n",
    "free_only_df.head()"
   ]
  },
  {
   "cell_type": "code",
   "execution_count": 15,
   "metadata": {
    "collapsed": true,
    "jupyter": {
     "outputs_hidden": true
    }
   },
   "outputs": [
    {
     "data": {
      "text/html": [
       "<div>\n",
       "<style scoped>\n",
       "    .dataframe tbody tr th:only-of-type {\n",
       "        vertical-align: middle;\n",
       "    }\n",
       "\n",
       "    .dataframe tbody tr th {\n",
       "        vertical-align: top;\n",
       "    }\n",
       "\n",
       "    .dataframe thead th {\n",
       "        text-align: right;\n",
       "    }\n",
       "</style>\n",
       "<table border=\"1\" class=\"dataframe\">\n",
       "  <thead>\n",
       "    <tr style=\"text-align: right;\">\n",
       "      <th></th>\n",
       "      <th>CHROM</th>\n",
       "      <th>POS</th>\n",
       "      <th>QUAL</th>\n",
       "      <th>DP</th>\n",
       "      <th>FILTER</th>\n",
       "      <th>s_100_13.GT</th>\n",
       "      <th>s_116_1.GT</th>\n",
       "      <th>s_23_12.GT</th>\n",
       "      <th>s_37_18.GT</th>\n",
       "      <th>s_41_13.GT</th>\n",
       "      <th>...</th>\n",
       "      <th>s_23_12.GQ</th>\n",
       "      <th>s_37_18.GQ</th>\n",
       "      <th>s_41_13.GQ</th>\n",
       "      <th>s_43_15.GQ</th>\n",
       "      <th>s_54_9.GQ</th>\n",
       "      <th>s_7_7.GQ</th>\n",
       "      <th>s_83_10.GQ</th>\n",
       "      <th>s_97_3.GQ</th>\n",
       "      <th>PROGRAM</th>\n",
       "      <th>CATEGORY</th>\n",
       "    </tr>\n",
       "  </thead>\n",
       "  <tbody>\n",
       "    <tr>\n",
       "      <th>159122</th>\n",
       "      <td>CM019101.1</td>\n",
       "      <td>6080752</td>\n",
       "      <td>75.64</td>\n",
       "      <td>40</td>\n",
       "      <td>FRAC_HQ_GT</td>\n",
       "      <td>T/T</td>\n",
       "      <td>T/T</td>\n",
       "      <td>./.</td>\n",
       "      <td>T/T</td>\n",
       "      <td>T/T</td>\n",
       "      <td>...</td>\n",
       "      <td>NaN</td>\n",
       "      <td>3.0</td>\n",
       "      <td>15.0</td>\n",
       "      <td>15.0</td>\n",
       "      <td>6.0</td>\n",
       "      <td>21.0</td>\n",
       "      <td>0.0</td>\n",
       "      <td>9.0</td>\n",
       "      <td>GATK</td>\n",
       "      <td>NEITHER</td>\n",
       "    </tr>\n",
       "    <tr>\n",
       "      <th>162520</th>\n",
       "      <td>CM019101.1</td>\n",
       "      <td>6213491</td>\n",
       "      <td>307.37</td>\n",
       "      <td>36</td>\n",
       "      <td>FRAC_HQ_GT</td>\n",
       "      <td>A|G</td>\n",
       "      <td>A/A</td>\n",
       "      <td>A/A</td>\n",
       "      <td>./.</td>\n",
       "      <td>A|G</td>\n",
       "      <td>...</td>\n",
       "      <td>9.0</td>\n",
       "      <td>NaN</td>\n",
       "      <td>99.0</td>\n",
       "      <td>12.0</td>\n",
       "      <td>12.0</td>\n",
       "      <td>9.0</td>\n",
       "      <td>9.0</td>\n",
       "      <td>3.0</td>\n",
       "      <td>GATK</td>\n",
       "      <td>NEITHER</td>\n",
       "    </tr>\n",
       "    <tr>\n",
       "      <th>152130</th>\n",
       "      <td>CM019101.1</td>\n",
       "      <td>6213491</td>\n",
       "      <td>156.98</td>\n",
       "      <td>42</td>\n",
       "      <td>FRAC_HQ_GT</td>\n",
       "      <td>A/G</td>\n",
       "      <td>A/A</td>\n",
       "      <td>A/A</td>\n",
       "      <td>G/G</td>\n",
       "      <td>A/G</td>\n",
       "      <td>...</td>\n",
       "      <td>22.0</td>\n",
       "      <td>0.0</td>\n",
       "      <td>99.0</td>\n",
       "      <td>31.0</td>\n",
       "      <td>25.0</td>\n",
       "      <td>22.0</td>\n",
       "      <td>28.0</td>\n",
       "      <td>19.0</td>\n",
       "      <td>FREEBAYES</td>\n",
       "      <td>NEITHER</td>\n",
       "    </tr>\n",
       "    <tr>\n",
       "      <th>338100</th>\n",
       "      <td>CM019101.1</td>\n",
       "      <td>12559221</td>\n",
       "      <td>85.51</td>\n",
       "      <td>4</td>\n",
       "      <td>FRAC_HQ_GT</td>\n",
       "      <td>./.</td>\n",
       "      <td>./.</td>\n",
       "      <td>./.</td>\n",
       "      <td>./.</td>\n",
       "      <td>C|C</td>\n",
       "      <td>...</td>\n",
       "      <td>NaN</td>\n",
       "      <td>NaN</td>\n",
       "      <td>6.0</td>\n",
       "      <td>NaN</td>\n",
       "      <td>NaN</td>\n",
       "      <td>NaN</td>\n",
       "      <td>3.0</td>\n",
       "      <td>NaN</td>\n",
       "      <td>GATK</td>\n",
       "      <td>NEITHER</td>\n",
       "    </tr>\n",
       "    <tr>\n",
       "      <th>323218</th>\n",
       "      <td>CM019101.1</td>\n",
       "      <td>12559221</td>\n",
       "      <td>114.65</td>\n",
       "      <td>16</td>\n",
       "      <td>FRAC_HQ_GT</td>\n",
       "      <td>G/C</td>\n",
       "      <td>.</td>\n",
       "      <td>.</td>\n",
       "      <td>G/G</td>\n",
       "      <td>C/C</td>\n",
       "      <td>...</td>\n",
       "      <td>NaN</td>\n",
       "      <td>6.0</td>\n",
       "      <td>12.0</td>\n",
       "      <td>1.0</td>\n",
       "      <td>NaN</td>\n",
       "      <td>NaN</td>\n",
       "      <td>6.0</td>\n",
       "      <td>18.0</td>\n",
       "      <td>FREEBAYES</td>\n",
       "      <td>NEITHER</td>\n",
       "    </tr>\n",
       "  </tbody>\n",
       "</table>\n",
       "<p>5 rows × 27 columns</p>\n",
       "</div>"
      ],
      "text/plain": [
       "             CHROM       POS    QUAL  DP      FILTER s_100_13.GT s_116_1.GT  \\\n",
       "159122  CM019101.1   6080752   75.64  40  FRAC_HQ_GT         T/T        T/T   \n",
       "162520  CM019101.1   6213491  307.37  36  FRAC_HQ_GT         A|G        A/A   \n",
       "152130  CM019101.1   6213491  156.98  42  FRAC_HQ_GT         A/G        A/A   \n",
       "338100  CM019101.1  12559221   85.51   4  FRAC_HQ_GT         ./.        ./.   \n",
       "323218  CM019101.1  12559221  114.65  16  FRAC_HQ_GT         G/C          .   \n",
       "\n",
       "       s_23_12.GT s_37_18.GT s_41_13.GT  ... s_23_12.GQ s_37_18.GQ s_41_13.GQ  \\\n",
       "159122        ./.        T/T        T/T  ...        NaN        3.0       15.0   \n",
       "162520        A/A        ./.        A|G  ...        9.0        NaN       99.0   \n",
       "152130        A/A        G/G        A/G  ...       22.0        0.0       99.0   \n",
       "338100        ./.        ./.        C|C  ...        NaN        NaN        6.0   \n",
       "323218          .        G/G        C/C  ...        NaN        6.0       12.0   \n",
       "\n",
       "       s_43_15.GQ s_54_9.GQ  s_7_7.GQ  s_83_10.GQ  s_97_3.GQ    PROGRAM  \\\n",
       "159122       15.0       6.0      21.0         0.0        9.0       GATK   \n",
       "162520       12.0      12.0       9.0         9.0        3.0       GATK   \n",
       "152130       31.0      25.0      22.0        28.0       19.0  FREEBAYES   \n",
       "338100        NaN       NaN       NaN         3.0        NaN       GATK   \n",
       "323218        1.0       NaN       NaN         6.0       18.0  FREEBAYES   \n",
       "\n",
       "        CATEGORY  \n",
       "159122   NEITHER  \n",
       "162520   NEITHER  \n",
       "152130   NEITHER  \n",
       "338100   NEITHER  \n",
       "323218   NEITHER  \n",
       "\n",
       "[5 rows x 27 columns]"
      ]
     },
     "execution_count": 15,
     "metadata": {},
     "output_type": "execute_result"
    }
   ],
   "source": [
    "# Sites called by neither program\n",
    "neither_gatk = gatk_snps_df[cols][gatk_snps_df['POS'].isin(rand25_neither)]\n",
    "neither_gatk['PROGRAM'] = 'GATK'\n",
    "neither_free = free_snps_df[cols][free_snps_df['POS'].isin(rand25_neither)]\n",
    "neither_free['PROGRAM'] = 'FREEBAYES'\n",
    "neither_df = pd.DataFrame.append(neither_gatk, neither_free).sort_values(by='POS')\n",
    "neither_df['CATEGORY'] = 'NEITHER'\n",
    "neither_df.head()"
   ]
  },
  {
   "cell_type": "code",
   "execution_count": 16,
   "metadata": {
    "collapsed": true,
    "jupyter": {
     "outputs_hidden": true
    }
   },
   "outputs": [
    {
     "data": {
      "text/html": [
       "<div>\n",
       "<style scoped>\n",
       "    .dataframe tbody tr th:only-of-type {\n",
       "        vertical-align: middle;\n",
       "    }\n",
       "\n",
       "    .dataframe tbody tr th {\n",
       "        vertical-align: top;\n",
       "    }\n",
       "\n",
       "    .dataframe thead th {\n",
       "        text-align: right;\n",
       "    }\n",
       "</style>\n",
       "<table border=\"1\" class=\"dataframe\">\n",
       "  <thead>\n",
       "    <tr style=\"text-align: right;\">\n",
       "      <th></th>\n",
       "      <th>CHROM</th>\n",
       "      <th>POS</th>\n",
       "      <th>QUAL</th>\n",
       "      <th>DP</th>\n",
       "      <th>FILTER</th>\n",
       "      <th>s_100_13.GT</th>\n",
       "      <th>s_116_1.GT</th>\n",
       "      <th>s_23_12.GT</th>\n",
       "      <th>s_37_18.GT</th>\n",
       "      <th>s_41_13.GT</th>\n",
       "      <th>...</th>\n",
       "      <th>s_23_12.GQ</th>\n",
       "      <th>s_37_18.GQ</th>\n",
       "      <th>s_41_13.GQ</th>\n",
       "      <th>s_43_15.GQ</th>\n",
       "      <th>s_54_9.GQ</th>\n",
       "      <th>s_7_7.GQ</th>\n",
       "      <th>s_83_10.GQ</th>\n",
       "      <th>s_97_3.GQ</th>\n",
       "      <th>PROGRAM</th>\n",
       "      <th>CATEGORY</th>\n",
       "    </tr>\n",
       "  </thead>\n",
       "  <tbody>\n",
       "    <tr>\n",
       "      <th>90172</th>\n",
       "      <td>CM019101.1</td>\n",
       "      <td>3528998</td>\n",
       "      <td>160.03</td>\n",
       "      <td>193</td>\n",
       "      <td>PASS</td>\n",
       "      <td>C/T</td>\n",
       "      <td>C/T</td>\n",
       "      <td>./.</td>\n",
       "      <td>C/T</td>\n",
       "      <td>C/C</td>\n",
       "      <td>...</td>\n",
       "      <td>NaN</td>\n",
       "      <td>83.0</td>\n",
       "      <td>72.0</td>\n",
       "      <td>57.0</td>\n",
       "      <td>6.0</td>\n",
       "      <td>99.0</td>\n",
       "      <td>51.0</td>\n",
       "      <td>72.0</td>\n",
       "      <td>GATK</td>\n",
       "      <td>GATK_ONLY</td>\n",
       "    </tr>\n",
       "    <tr>\n",
       "      <th>84718</th>\n",
       "      <td>CM019101.1</td>\n",
       "      <td>3528998</td>\n",
       "      <td>0.14</td>\n",
       "      <td>198</td>\n",
       "      <td>LowQual,FRAC_HQ_GT</td>\n",
       "      <td>C/T</td>\n",
       "      <td>C/T</td>\n",
       "      <td>.</td>\n",
       "      <td>C/T</td>\n",
       "      <td>C/C</td>\n",
       "      <td>...</td>\n",
       "      <td>NaN</td>\n",
       "      <td>0.0</td>\n",
       "      <td>99.0</td>\n",
       "      <td>99.0</td>\n",
       "      <td>77.0</td>\n",
       "      <td>99.0</td>\n",
       "      <td>99.0</td>\n",
       "      <td>99.0</td>\n",
       "      <td>FREEBAYES</td>\n",
       "      <td>GATK_ONLY</td>\n",
       "    </tr>\n",
       "    <tr>\n",
       "      <th>92429</th>\n",
       "      <td>CM019101.1</td>\n",
       "      <td>3786075</td>\n",
       "      <td>95.06</td>\n",
       "      <td>282</td>\n",
       "      <td>PASS</td>\n",
       "      <td>C/C</td>\n",
       "      <td>C/C</td>\n",
       "      <td>C/C</td>\n",
       "      <td>C/C</td>\n",
       "      <td>C/C</td>\n",
       "      <td>...</td>\n",
       "      <td>80.0</td>\n",
       "      <td>99.0</td>\n",
       "      <td>99.0</td>\n",
       "      <td>65.0</td>\n",
       "      <td>62.0</td>\n",
       "      <td>99.0</td>\n",
       "      <td>68.0</td>\n",
       "      <td>79.0</td>\n",
       "      <td>FREEBAYES</td>\n",
       "      <td>BOTH</td>\n",
       "    </tr>\n",
       "    <tr>\n",
       "      <th>98362</th>\n",
       "      <td>CM019101.1</td>\n",
       "      <td>3786075</td>\n",
       "      <td>398.48</td>\n",
       "      <td>216</td>\n",
       "      <td>PASS</td>\n",
       "      <td>C/C</td>\n",
       "      <td>C/C</td>\n",
       "      <td>C/C</td>\n",
       "      <td>C/C</td>\n",
       "      <td>C/C</td>\n",
       "      <td>...</td>\n",
       "      <td>18.0</td>\n",
       "      <td>72.0</td>\n",
       "      <td>72.0</td>\n",
       "      <td>99.0</td>\n",
       "      <td>NaN</td>\n",
       "      <td>36.0</td>\n",
       "      <td>99.0</td>\n",
       "      <td>39.0</td>\n",
       "      <td>GATK</td>\n",
       "      <td>BOTH</td>\n",
       "    </tr>\n",
       "    <tr>\n",
       "      <th>93699</th>\n",
       "      <td>CM019101.1</td>\n",
       "      <td>3829553</td>\n",
       "      <td>122.93</td>\n",
       "      <td>115</td>\n",
       "      <td>PASS</td>\n",
       "      <td>C/C</td>\n",
       "      <td>C/C</td>\n",
       "      <td>.</td>\n",
       "      <td>C/C</td>\n",
       "      <td>C/C</td>\n",
       "      <td>...</td>\n",
       "      <td>NaN</td>\n",
       "      <td>72.0</td>\n",
       "      <td>78.0</td>\n",
       "      <td>59.0</td>\n",
       "      <td>NaN</td>\n",
       "      <td>56.0</td>\n",
       "      <td>62.0</td>\n",
       "      <td>99.0</td>\n",
       "      <td>FREEBAYES</td>\n",
       "      <td>BOTH</td>\n",
       "    </tr>\n",
       "    <tr>\n",
       "      <th>99872</th>\n",
       "      <td>CM019101.1</td>\n",
       "      <td>3829553</td>\n",
       "      <td>170.78</td>\n",
       "      <td>108</td>\n",
       "      <td>PASS</td>\n",
       "      <td>C/C</td>\n",
       "      <td>C/C</td>\n",
       "      <td>./.</td>\n",
       "      <td>C/C</td>\n",
       "      <td>C/C</td>\n",
       "      <td>...</td>\n",
       "      <td>NaN</td>\n",
       "      <td>42.0</td>\n",
       "      <td>48.0</td>\n",
       "      <td>33.0</td>\n",
       "      <td>NaN</td>\n",
       "      <td>30.0</td>\n",
       "      <td>36.0</td>\n",
       "      <td>99.0</td>\n",
       "      <td>GATK</td>\n",
       "      <td>BOTH</td>\n",
       "    </tr>\n",
       "    <tr>\n",
       "      <th>100701</th>\n",
       "      <td>CM019101.1</td>\n",
       "      <td>3854392</td>\n",
       "      <td>639.71</td>\n",
       "      <td>95</td>\n",
       "      <td>FRAC_HQ_GT</td>\n",
       "      <td>G|A</td>\n",
       "      <td>G/G</td>\n",
       "      <td>./.</td>\n",
       "      <td>G/G</td>\n",
       "      <td>G|A</td>\n",
       "      <td>...</td>\n",
       "      <td>NaN</td>\n",
       "      <td>21.0</td>\n",
       "      <td>99.0</td>\n",
       "      <td>34.0</td>\n",
       "      <td>NaN</td>\n",
       "      <td>66.0</td>\n",
       "      <td>99.0</td>\n",
       "      <td>42.0</td>\n",
       "      <td>GATK</td>\n",
       "      <td>FREE_ONLY</td>\n",
       "    </tr>\n",
       "    <tr>\n",
       "      <th>94435</th>\n",
       "      <td>CM019101.1</td>\n",
       "      <td>3854392</td>\n",
       "      <td>476.23</td>\n",
       "      <td>101</td>\n",
       "      <td>PASS</td>\n",
       "      <td>G/A</td>\n",
       "      <td>G/G</td>\n",
       "      <td>.</td>\n",
       "      <td>G/G</td>\n",
       "      <td>G/A</td>\n",
       "      <td>...</td>\n",
       "      <td>NaN</td>\n",
       "      <td>55.0</td>\n",
       "      <td>49.0</td>\n",
       "      <td>70.0</td>\n",
       "      <td>NaN</td>\n",
       "      <td>65.0</td>\n",
       "      <td>99.0</td>\n",
       "      <td>71.0</td>\n",
       "      <td>FREEBAYES</td>\n",
       "      <td>FREE_ONLY</td>\n",
       "    </tr>\n",
       "    <tr>\n",
       "      <th>99157</th>\n",
       "      <td>CM019101.1</td>\n",
       "      <td>4046451</td>\n",
       "      <td>352.06</td>\n",
       "      <td>196</td>\n",
       "      <td>PASS</td>\n",
       "      <td>G/G</td>\n",
       "      <td>G/G</td>\n",
       "      <td>G/G</td>\n",
       "      <td>G/G</td>\n",
       "      <td>G/G</td>\n",
       "      <td>...</td>\n",
       "      <td>25.0</td>\n",
       "      <td>76.0</td>\n",
       "      <td>76.0</td>\n",
       "      <td>98.0</td>\n",
       "      <td>41.0</td>\n",
       "      <td>67.0</td>\n",
       "      <td>99.0</td>\n",
       "      <td>64.0</td>\n",
       "      <td>FREEBAYES</td>\n",
       "      <td>BOTH</td>\n",
       "    </tr>\n",
       "    <tr>\n",
       "      <th>105199</th>\n",
       "      <td>CM019101.1</td>\n",
       "      <td>4046451</td>\n",
       "      <td>464.44</td>\n",
       "      <td>187</td>\n",
       "      <td>PASS</td>\n",
       "      <td>G/G</td>\n",
       "      <td>G/G</td>\n",
       "      <td>G/G</td>\n",
       "      <td>G/G</td>\n",
       "      <td>G/G</td>\n",
       "      <td>...</td>\n",
       "      <td>6.0</td>\n",
       "      <td>48.0</td>\n",
       "      <td>57.0</td>\n",
       "      <td>72.0</td>\n",
       "      <td>42.0</td>\n",
       "      <td>45.0</td>\n",
       "      <td>81.0</td>\n",
       "      <td>45.0</td>\n",
       "      <td>GATK</td>\n",
       "      <td>BOTH</td>\n",
       "    </tr>\n",
       "    <tr>\n",
       "      <th>116807</th>\n",
       "      <td>CM019101.1</td>\n",
       "      <td>4737161</td>\n",
       "      <td>135.72</td>\n",
       "      <td>157</td>\n",
       "      <td>PASS</td>\n",
       "      <td>A/A</td>\n",
       "      <td>A/A</td>\n",
       "      <td>.</td>\n",
       "      <td>A/A</td>\n",
       "      <td>A/A</td>\n",
       "      <td>...</td>\n",
       "      <td>NaN</td>\n",
       "      <td>76.0</td>\n",
       "      <td>85.0</td>\n",
       "      <td>42.0</td>\n",
       "      <td>6.0</td>\n",
       "      <td>54.0</td>\n",
       "      <td>91.0</td>\n",
       "      <td>91.0</td>\n",
       "      <td>FREEBAYES</td>\n",
       "      <td>FREE_ONLY</td>\n",
       "    </tr>\n",
       "    <tr>\n",
       "      <th>147469</th>\n",
       "      <td>CM019101.1</td>\n",
       "      <td>5492600</td>\n",
       "      <td>454.83</td>\n",
       "      <td>278</td>\n",
       "      <td>PASS</td>\n",
       "      <td>C/A</td>\n",
       "      <td>C/C</td>\n",
       "      <td>C/C</td>\n",
       "      <td>C/C</td>\n",
       "      <td>C/C</td>\n",
       "      <td>...</td>\n",
       "      <td>6.0</td>\n",
       "      <td>99.0</td>\n",
       "      <td>90.0</td>\n",
       "      <td>72.0</td>\n",
       "      <td>NaN</td>\n",
       "      <td>99.0</td>\n",
       "      <td>99.0</td>\n",
       "      <td>99.0</td>\n",
       "      <td>GATK</td>\n",
       "      <td>BOTH</td>\n",
       "    </tr>\n",
       "    <tr>\n",
       "      <th>137869</th>\n",
       "      <td>CM019101.1</td>\n",
       "      <td>5492600</td>\n",
       "      <td>160.73</td>\n",
       "      <td>471</td>\n",
       "      <td>PASS</td>\n",
       "      <td>C/A</td>\n",
       "      <td>C/C</td>\n",
       "      <td>C/C</td>\n",
       "      <td>C/C</td>\n",
       "      <td>C/C</td>\n",
       "      <td>...</td>\n",
       "      <td>99.0</td>\n",
       "      <td>99.0</td>\n",
       "      <td>99.0</td>\n",
       "      <td>99.0</td>\n",
       "      <td>NaN</td>\n",
       "      <td>68.0</td>\n",
       "      <td>99.0</td>\n",
       "      <td>99.0</td>\n",
       "      <td>FREEBAYES</td>\n",
       "      <td>BOTH</td>\n",
       "    </tr>\n",
       "    <tr>\n",
       "      <th>159122</th>\n",
       "      <td>CM019101.1</td>\n",
       "      <td>6080752</td>\n",
       "      <td>75.64</td>\n",
       "      <td>40</td>\n",
       "      <td>FRAC_HQ_GT</td>\n",
       "      <td>T/T</td>\n",
       "      <td>T/T</td>\n",
       "      <td>./.</td>\n",
       "      <td>T/T</td>\n",
       "      <td>T/T</td>\n",
       "      <td>...</td>\n",
       "      <td>NaN</td>\n",
       "      <td>3.0</td>\n",
       "      <td>15.0</td>\n",
       "      <td>15.0</td>\n",
       "      <td>6.0</td>\n",
       "      <td>21.0</td>\n",
       "      <td>0.0</td>\n",
       "      <td>9.0</td>\n",
       "      <td>GATK</td>\n",
       "      <td>NEITHER</td>\n",
       "    </tr>\n",
       "    <tr>\n",
       "      <th>152130</th>\n",
       "      <td>CM019101.1</td>\n",
       "      <td>6213491</td>\n",
       "      <td>156.98</td>\n",
       "      <td>42</td>\n",
       "      <td>FRAC_HQ_GT</td>\n",
       "      <td>A/G</td>\n",
       "      <td>A/A</td>\n",
       "      <td>A/A</td>\n",
       "      <td>G/G</td>\n",
       "      <td>A/G</td>\n",
       "      <td>...</td>\n",
       "      <td>22.0</td>\n",
       "      <td>0.0</td>\n",
       "      <td>99.0</td>\n",
       "      <td>31.0</td>\n",
       "      <td>25.0</td>\n",
       "      <td>22.0</td>\n",
       "      <td>28.0</td>\n",
       "      <td>19.0</td>\n",
       "      <td>FREEBAYES</td>\n",
       "      <td>NEITHER</td>\n",
       "    </tr>\n",
       "    <tr>\n",
       "      <th>162520</th>\n",
       "      <td>CM019101.1</td>\n",
       "      <td>6213491</td>\n",
       "      <td>307.37</td>\n",
       "      <td>36</td>\n",
       "      <td>FRAC_HQ_GT</td>\n",
       "      <td>A|G</td>\n",
       "      <td>A/A</td>\n",
       "      <td>A/A</td>\n",
       "      <td>./.</td>\n",
       "      <td>A|G</td>\n",
       "      <td>...</td>\n",
       "      <td>9.0</td>\n",
       "      <td>NaN</td>\n",
       "      <td>99.0</td>\n",
       "      <td>12.0</td>\n",
       "      <td>12.0</td>\n",
       "      <td>9.0</td>\n",
       "      <td>9.0</td>\n",
       "      <td>3.0</td>\n",
       "      <td>GATK</td>\n",
       "      <td>NEITHER</td>\n",
       "    </tr>\n",
       "    <tr>\n",
       "      <th>198115</th>\n",
       "      <td>CM019101.1</td>\n",
       "      <td>7487074</td>\n",
       "      <td>202.60</td>\n",
       "      <td>445</td>\n",
       "      <td>PASS</td>\n",
       "      <td>C/C</td>\n",
       "      <td>C|T</td>\n",
       "      <td>C/C</td>\n",
       "      <td>C/C</td>\n",
       "      <td>C/C</td>\n",
       "      <td>...</td>\n",
       "      <td>15.0</td>\n",
       "      <td>99.0</td>\n",
       "      <td>99.0</td>\n",
       "      <td>93.0</td>\n",
       "      <td>6.0</td>\n",
       "      <td>99.0</td>\n",
       "      <td>99.0</td>\n",
       "      <td>99.0</td>\n",
       "      <td>GATK</td>\n",
       "      <td>GATK_ONLY</td>\n",
       "    </tr>\n",
       "    <tr>\n",
       "      <th>246301</th>\n",
       "      <td>CM019101.1</td>\n",
       "      <td>9340215</td>\n",
       "      <td>109.98</td>\n",
       "      <td>95</td>\n",
       "      <td>FRAC_HQ_GT</td>\n",
       "      <td>A/A</td>\n",
       "      <td>A/A</td>\n",
       "      <td>A/A</td>\n",
       "      <td>A/A</td>\n",
       "      <td>A/A</td>\n",
       "      <td>...</td>\n",
       "      <td>6.0</td>\n",
       "      <td>18.0</td>\n",
       "      <td>27.0</td>\n",
       "      <td>0.0</td>\n",
       "      <td>12.0</td>\n",
       "      <td>99.0</td>\n",
       "      <td>9.0</td>\n",
       "      <td>19.0</td>\n",
       "      <td>GATK</td>\n",
       "      <td>FREE_ONLY</td>\n",
       "    </tr>\n",
       "    <tr>\n",
       "      <th>233505</th>\n",
       "      <td>CM019101.1</td>\n",
       "      <td>9340215</td>\n",
       "      <td>40.59</td>\n",
       "      <td>103</td>\n",
       "      <td>PASS</td>\n",
       "      <td>A/A</td>\n",
       "      <td>A/A</td>\n",
       "      <td>A/A</td>\n",
       "      <td>A/A</td>\n",
       "      <td>A/A</td>\n",
       "      <td>...</td>\n",
       "      <td>34.0</td>\n",
       "      <td>49.0</td>\n",
       "      <td>58.0</td>\n",
       "      <td>28.0</td>\n",
       "      <td>64.0</td>\n",
       "      <td>41.0</td>\n",
       "      <td>40.0</td>\n",
       "      <td>2.0</td>\n",
       "      <td>FREEBAYES</td>\n",
       "      <td>FREE_ONLY</td>\n",
       "    </tr>\n",
       "    <tr>\n",
       "      <th>248095</th>\n",
       "      <td>CM019101.1</td>\n",
       "      <td>9388553</td>\n",
       "      <td>72.27</td>\n",
       "      <td>239</td>\n",
       "      <td>PASS</td>\n",
       "      <td>G/A</td>\n",
       "      <td>G/G</td>\n",
       "      <td>G/G</td>\n",
       "      <td>G/G</td>\n",
       "      <td>G/G</td>\n",
       "      <td>...</td>\n",
       "      <td>6.0</td>\n",
       "      <td>52.0</td>\n",
       "      <td>99.0</td>\n",
       "      <td>93.0</td>\n",
       "      <td>NaN</td>\n",
       "      <td>48.0</td>\n",
       "      <td>63.0</td>\n",
       "      <td>43.0</td>\n",
       "      <td>GATK</td>\n",
       "      <td>GATK_ONLY</td>\n",
       "    </tr>\n",
       "  </tbody>\n",
       "</table>\n",
       "<p>20 rows × 27 columns</p>\n",
       "</div>"
      ],
      "text/plain": [
       "             CHROM      POS    QUAL   DP              FILTER s_100_13.GT  \\\n",
       "90172   CM019101.1  3528998  160.03  193                PASS         C/T   \n",
       "84718   CM019101.1  3528998    0.14  198  LowQual,FRAC_HQ_GT         C/T   \n",
       "92429   CM019101.1  3786075   95.06  282                PASS         C/C   \n",
       "98362   CM019101.1  3786075  398.48  216                PASS         C/C   \n",
       "93699   CM019101.1  3829553  122.93  115                PASS         C/C   \n",
       "99872   CM019101.1  3829553  170.78  108                PASS         C/C   \n",
       "100701  CM019101.1  3854392  639.71   95          FRAC_HQ_GT         G|A   \n",
       "94435   CM019101.1  3854392  476.23  101                PASS         G/A   \n",
       "99157   CM019101.1  4046451  352.06  196                PASS         G/G   \n",
       "105199  CM019101.1  4046451  464.44  187                PASS         G/G   \n",
       "116807  CM019101.1  4737161  135.72  157                PASS         A/A   \n",
       "147469  CM019101.1  5492600  454.83  278                PASS         C/A   \n",
       "137869  CM019101.1  5492600  160.73  471                PASS         C/A   \n",
       "159122  CM019101.1  6080752   75.64   40          FRAC_HQ_GT         T/T   \n",
       "152130  CM019101.1  6213491  156.98   42          FRAC_HQ_GT         A/G   \n",
       "162520  CM019101.1  6213491  307.37   36          FRAC_HQ_GT         A|G   \n",
       "198115  CM019101.1  7487074  202.60  445                PASS         C/C   \n",
       "246301  CM019101.1  9340215  109.98   95          FRAC_HQ_GT         A/A   \n",
       "233505  CM019101.1  9340215   40.59  103                PASS         A/A   \n",
       "248095  CM019101.1  9388553   72.27  239                PASS         G/A   \n",
       "\n",
       "       s_116_1.GT s_23_12.GT s_37_18.GT s_41_13.GT  ... s_23_12.GQ s_37_18.GQ  \\\n",
       "90172         C/T        ./.        C/T        C/C  ...        NaN       83.0   \n",
       "84718         C/T          .        C/T        C/C  ...        NaN        0.0   \n",
       "92429         C/C        C/C        C/C        C/C  ...       80.0       99.0   \n",
       "98362         C/C        C/C        C/C        C/C  ...       18.0       72.0   \n",
       "93699         C/C          .        C/C        C/C  ...        NaN       72.0   \n",
       "99872         C/C        ./.        C/C        C/C  ...        NaN       42.0   \n",
       "100701        G/G        ./.        G/G        G|A  ...        NaN       21.0   \n",
       "94435         G/G          .        G/G        G/A  ...        NaN       55.0   \n",
       "99157         G/G        G/G        G/G        G/G  ...       25.0       76.0   \n",
       "105199        G/G        G/G        G/G        G/G  ...        6.0       48.0   \n",
       "116807        A/A          .        A/A        A/A  ...        NaN       76.0   \n",
       "147469        C/C        C/C        C/C        C/C  ...        6.0       99.0   \n",
       "137869        C/C        C/C        C/C        C/C  ...       99.0       99.0   \n",
       "159122        T/T        ./.        T/T        T/T  ...        NaN        3.0   \n",
       "152130        A/A        A/A        G/G        A/G  ...       22.0        0.0   \n",
       "162520        A/A        A/A        ./.        A|G  ...        9.0        NaN   \n",
       "198115        C|T        C/C        C/C        C/C  ...       15.0       99.0   \n",
       "246301        A/A        A/A        A/A        A/A  ...        6.0       18.0   \n",
       "233505        A/A        A/A        A/A        A/A  ...       34.0       49.0   \n",
       "248095        G/G        G/G        G/G        G/G  ...        6.0       52.0   \n",
       "\n",
       "       s_41_13.GQ s_43_15.GQ s_54_9.GQ  s_7_7.GQ  s_83_10.GQ  s_97_3.GQ  \\\n",
       "90172        72.0       57.0       6.0      99.0        51.0       72.0   \n",
       "84718        99.0       99.0      77.0      99.0        99.0       99.0   \n",
       "92429        99.0       65.0      62.0      99.0        68.0       79.0   \n",
       "98362        72.0       99.0       NaN      36.0        99.0       39.0   \n",
       "93699        78.0       59.0       NaN      56.0        62.0       99.0   \n",
       "99872        48.0       33.0       NaN      30.0        36.0       99.0   \n",
       "100701       99.0       34.0       NaN      66.0        99.0       42.0   \n",
       "94435        49.0       70.0       NaN      65.0        99.0       71.0   \n",
       "99157        76.0       98.0      41.0      67.0        99.0       64.0   \n",
       "105199       57.0       72.0      42.0      45.0        81.0       45.0   \n",
       "116807       85.0       42.0       6.0      54.0        91.0       91.0   \n",
       "147469       90.0       72.0       NaN      99.0        99.0       99.0   \n",
       "137869       99.0       99.0       NaN      68.0        99.0       99.0   \n",
       "159122       15.0       15.0       6.0      21.0         0.0        9.0   \n",
       "152130       99.0       31.0      25.0      22.0        28.0       19.0   \n",
       "162520       99.0       12.0      12.0       9.0         9.0        3.0   \n",
       "198115       99.0       93.0       6.0      99.0        99.0       99.0   \n",
       "246301       27.0        0.0      12.0      99.0         9.0       19.0   \n",
       "233505       58.0       28.0      64.0      41.0        40.0        2.0   \n",
       "248095       99.0       93.0       NaN      48.0        63.0       43.0   \n",
       "\n",
       "          PROGRAM   CATEGORY  \n",
       "90172        GATK  GATK_ONLY  \n",
       "84718   FREEBAYES  GATK_ONLY  \n",
       "92429   FREEBAYES       BOTH  \n",
       "98362        GATK       BOTH  \n",
       "93699   FREEBAYES       BOTH  \n",
       "99872        GATK       BOTH  \n",
       "100701       GATK  FREE_ONLY  \n",
       "94435   FREEBAYES  FREE_ONLY  \n",
       "99157   FREEBAYES       BOTH  \n",
       "105199       GATK       BOTH  \n",
       "116807  FREEBAYES  FREE_ONLY  \n",
       "147469       GATK       BOTH  \n",
       "137869  FREEBAYES       BOTH  \n",
       "159122       GATK    NEITHER  \n",
       "152130  FREEBAYES    NEITHER  \n",
       "162520       GATK    NEITHER  \n",
       "198115       GATK  GATK_ONLY  \n",
       "246301       GATK  FREE_ONLY  \n",
       "233505  FREEBAYES  FREE_ONLY  \n",
       "248095       GATK  GATK_ONLY  \n",
       "\n",
       "[20 rows x 27 columns]"
      ]
     },
     "execution_count": 16,
     "metadata": {},
     "output_type": "execute_result"
    }
   ],
   "source": [
    "all_rand_snps = pd.DataFrame.append(intersection_df, gatk_only_df).sort_values(by='POS')\n",
    "all_rand_snps = pd.DataFrame.append(all_rand_snps, free_only_df).sort_values(by='POS')\n",
    "all_rand_snps = pd.DataFrame.append(all_rand_snps, neither_df).sort_values(by='POS')\n",
    "all_rand_snps.head(20)"
   ]
  },
  {
   "cell_type": "code",
   "execution_count": 22,
   "metadata": {},
   "outputs": [],
   "source": [
    "# Write randomly chosen 100 SNPs to table\n",
    "outpath = \"../data/raw/snp_tables/\"\n",
    "all_rand_snps.to_csv(outpath + \"rand100Snps_gatk_freebayes.table\", sep=\"\\t\")"
   ]
  },
  {
   "cell_type": "code",
   "execution_count": 26,
   "metadata": {
    "collapsed": true,
    "jupyter": {
     "outputs_hidden": true
    }
   },
   "outputs": [
    {
     "data": {
      "text/plain": [
       "[3528998,\n",
       " 3786075,\n",
       " 3829553,\n",
       " 3854392,\n",
       " 4046451,\n",
       " 4737161,\n",
       " 5492600,\n",
       " 6080752,\n",
       " 6213491,\n",
       " 7487074]"
      ]
     },
     "execution_count": 26,
     "metadata": {},
     "output_type": "execute_result"
    }
   ],
   "source": [
    "positions = sorted(list(set(all_rand_snps['POS'].values.tolist())))\n",
    "positions[0:10]"
   ]
  },
  {
   "cell_type": "code",
   "execution_count": 32,
   "metadata": {},
   "outputs": [],
   "source": [
    "cols = ['POS', 'CATEGORY']\n",
    "outpath = \"../data/raw/snp_tables/\"\n",
    "all_rand_snps_uniqueRows = all_rand_snps[cols].drop_duplicates()\n",
    "all_rand_snps_uniqueRows.to_csv(outpath + \"rand100Snps_gatk_freebayes_POSonly.csv\", sep=\",\")"
   ]
  },
  {
   "cell_type": "code",
   "execution_count": 30,
   "metadata": {
    "collapsed": true,
    "jupyter": {
     "outputs_hidden": true
    }
   },
   "outputs": [
    {
     "data": {
      "text/html": [
       "<div>\n",
       "<style scoped>\n",
       "    .dataframe tbody tr th:only-of-type {\n",
       "        vertical-align: middle;\n",
       "    }\n",
       "\n",
       "    .dataframe tbody tr th {\n",
       "        vertical-align: top;\n",
       "    }\n",
       "\n",
       "    .dataframe thead th {\n",
       "        text-align: right;\n",
       "    }\n",
       "</style>\n",
       "<table border=\"1\" class=\"dataframe\">\n",
       "  <thead>\n",
       "    <tr style=\"text-align: right;\">\n",
       "      <th></th>\n",
       "      <th>POS</th>\n",
       "      <th>CATEGORY</th>\n",
       "    </tr>\n",
       "  </thead>\n",
       "  <tbody>\n",
       "    <tr>\n",
       "      <th>90172</th>\n",
       "      <td>3528998</td>\n",
       "      <td>GATK_ONLY</td>\n",
       "    </tr>\n",
       "    <tr>\n",
       "      <th>92429</th>\n",
       "      <td>3786075</td>\n",
       "      <td>BOTH</td>\n",
       "    </tr>\n",
       "    <tr>\n",
       "      <th>93699</th>\n",
       "      <td>3829553</td>\n",
       "      <td>BOTH</td>\n",
       "    </tr>\n",
       "    <tr>\n",
       "      <th>100701</th>\n",
       "      <td>3854392</td>\n",
       "      <td>FREE_ONLY</td>\n",
       "    </tr>\n",
       "    <tr>\n",
       "      <th>99157</th>\n",
       "      <td>4046451</td>\n",
       "      <td>BOTH</td>\n",
       "    </tr>\n",
       "  </tbody>\n",
       "</table>\n",
       "</div>"
      ],
      "text/plain": [
       "            POS   CATEGORY\n",
       "90172   3528998  GATK_ONLY\n",
       "92429   3786075       BOTH\n",
       "93699   3829553       BOTH\n",
       "100701  3854392  FREE_ONLY\n",
       "99157   4046451       BOTH"
      ]
     },
     "execution_count": 30,
     "metadata": {},
     "output_type": "execute_result"
    }
   ],
   "source": []
  },
  {
   "cell_type": "code",
   "execution_count": 24,
   "metadata": {},
   "outputs": [],
   "source": [
    "# Write regions BED file used to subset bam around 100 random SNPs\n",
    "outpath = \"../resources/rand100Snps_GATK_freebayes.bed\"\n",
    "with open(outpath, \"w\") as f:\n",
    "    chromosome = 'CM019101.1'\n",
    "    for pos in positions:\n",
    "        start = int(pos) - 150\n",
    "        end = int(pos) + 150\n",
    "        f.write('{0}\\t{1}\\t{2}\\n'.format(chromosome, start, end))"
   ]
  },
  {
   "cell_type": "markdown",
   "metadata": {},
   "source": [
    "## `GATK` vs. `freebayes` masking\n",
    "\n",
    "Manual SNP inspection suggested that `GATK` is calling SNPs in masked genomic regions by default <br>\n",
    "whereas `freebayes` is not. \n",
    "\n",
    "I'll quanity this here. "
   ]
  },
  {
   "cell_type": "code",
   "execution_count": 43,
   "metadata": {},
   "outputs": [],
   "source": [
    "from cyvcf2 import VCF \n",
    "from Bio import SeqIO"
   ]
  },
  {
   "cell_type": "code",
   "execution_count": 44,
   "metadata": {},
   "outputs": [],
   "source": [
    "# Import VCFs\n",
    "free_vcf_path = '../analysis/vcf/chr1_only/freebayes/tenSamplesTest_chr1_snps.vcf.gz'\n",
    "free_vcf = VCF(free_vcf_path)\n",
    "\n",
    "gatk_vcf_path = '../analysis/vcf/chr1_only/gatk/tenSamplesTest_chr1_snps.vcf.gz'\n",
    "gatk_vcf = VCF(gatk_vcf_path)"
   ]
  },
  {
   "cell_type": "code",
   "execution_count": 12,
   "metadata": {},
   "outputs": [],
   "source": [
    "# Import reference genome and subset to chromosome 1\n",
    "path_to_reference = '/scratch/research/references/trifolium/repens/GCA_005869975.1_AgR_To_v5/GCA_005869975.1_AgR_To_v5_genomic.fna'\n",
    "record_dict = SeqIO.to_dict(SeqIO.parse(path_to_reference, 'fasta'))\n",
    "CHROM1 = record_dict['CM019101.1']"
   ]
  },
  {
   "cell_type": "code",
   "execution_count": 130,
   "metadata": {},
   "outputs": [],
   "source": [
    "def count_masked_snps(vcf, ref_fasta):\n",
    "    \n",
    "    total_snps = 0\n",
    "    unmasked_snps = 0\n",
    "    masked_snps = 0\n",
    "    \n",
    "    for snp in vcf:\n",
    "\n",
    "        # SNP position and reference base\n",
    "        POS = snp.POS\n",
    "        REF = snp.REF\n",
    "\n",
    "        possible_bases = ['A', 'C', 'T', 'G']\n",
    "            \n",
    "        # Get extract base from reference genome\n",
    "        base = ref_fasta.seq[POS - 1]\n",
    "                \n",
    "        # Only include non-ambiguous nucleotides.\n",
    "        if REF in possible_bases and base.upper() in possible_bases:\n",
    "        \n",
    "            total_snps += 1\n",
    "            \n",
    "            # VCF REF base should be same as upper case base in reference genome\n",
    "            assert str(REF) == str(base.upper())\n",
    "\n",
    "            if base.isupper():\n",
    "                unmasked_snps += 1\n",
    "            elif base.islower():\n",
    "                masked_snps += 1\n",
    "                \n",
    "        else:\n",
    "            pass\n",
    "    \n",
    "    prop_masked = round((masked_snps / total_snps) * 100, 2)\n",
    "    print('{0} percent of snps are in masked regions of the genome'.format(prop_masked))"
   ]
  },
  {
   "cell_type": "code",
   "execution_count": 131,
   "metadata": {},
   "outputs": [
    {
     "name": "stdout",
     "output_type": "stream",
     "text": [
      "29.9 percent of snps are in masked regions of the genome\n"
     ]
    }
   ],
   "source": [
    "count_masked_snps(free_vcf, CHROM1)"
   ]
  },
  {
   "cell_type": "code",
   "execution_count": 132,
   "metadata": {},
   "outputs": [
    {
     "name": "stdout",
     "output_type": "stream",
     "text": [
      "25.74 percent of snps are in masked regions of the genome\n"
     ]
    }
   ],
   "source": [
    "count_masked_snps(gatk_vcf, CHROM1)"
   ]
  },
  {
   "cell_type": "markdown",
   "metadata": {},
   "source": [
    "Both `GATK` and `freebayes` have similar proportions of SNPs in masked regions of the genome."
   ]
  },
  {
   "cell_type": "markdown",
   "metadata": {},
   "source": [
    "## Transition-transversion ratio\n",
    "\n",
    "The ratio of transitions to transversions is an indicator of SNP set quality.\n",
    "\n",
    "Higher is better"
   ]
  },
  {
   "cell_type": "code",
   "execution_count": 199,
   "metadata": {},
   "outputs": [],
   "source": [
    "# Import VCFs\n",
    "free_vcf_path = '../analysis/vcf/chr1_only/freebayes/tenSamplesTest_chr1_snps.vcf.gz'\n",
    "free_vcf = VCF(free_vcf_path)\n",
    "\n",
    "gatk_vcf_path = '../analysis/vcf/chr1_only/gatk/tenSamplesTest_chr1_snps.vcf.gz'\n",
    "gatk_vcf = VCF(gatk_vcf_path)\n",
    "\n",
    "# Import filtered VCFs\n",
    "free_vcf_path = '../analysis/vcf/chr1_only/freebayes/vcftools_filtered/freebayes_tenSamplesTest_chr1_snps_vcftools_filtered.recode.vcf.gz'\n",
    "free_vcftools_filtered_vcf = VCF(free_vcf_path)\n",
    "\n",
    "gatk_vcf_path = '../analysis/vcf/chr1_only/gatk/vcftools_filtered/gatk_tenSamplesTest_chr1_snps_vcftools_filtered.recode.vcf.gz'\n",
    "gatk_vcftools_filtered_vcf = VCF(gatk_vcf_path)"
   ]
  },
  {
   "cell_type": "code",
   "execution_count": 175,
   "metadata": {},
   "outputs": [],
   "source": [
    "# Read in transition-transversion matrix\n",
    "tv_ti_matrix = pd.read_table('../resources/tv_ti_matrix.txt', sep = '\\t' )"
   ]
  },
  {
   "cell_type": "code",
   "execution_count": 200,
   "metadata": {},
   "outputs": [],
   "source": [
    "def ti_tv_ratio(vcf, tv_ti_matrix):\n",
    "    \n",
    "    ti = 0\n",
    "    tv = 0\n",
    "    valid_sites = 0\n",
    "    total_sites = 0\n",
    "    \n",
    "    for snp in vcf:\n",
    "        \n",
    "        total_sites += 1\n",
    "        \n",
    "        REF = snp.REF\n",
    "        ALT = snp.ALT[0]\n",
    "        \n",
    "        possible_bases = ['A', 'C', 'T', 'G']\n",
    "                \n",
    "        # Only include non-ambiguous nucleotides.\n",
    "        if REF in possible_bases and ALT in possible_bases:\n",
    "            \n",
    "            valid_sites += 1\n",
    "            \n",
    "            val = tv_ti_matrix.loc[tv_ti_matrix['Nuc'] == REF][ALT].values[0]\n",
    "            if val == 'TV':\n",
    "                tv += 1\n",
    "            elif val == 'TI':\n",
    "                ti += 1\n",
    "            else:\n",
    "                raise Exception('Something went wrong. Site is neither transition nor transversion')\n",
    "        \n",
    "    ti_tv = round(ti / tv, 4)\n",
    "    prop_valid = round((valid_sites / total_sites) * 100, 2)\n",
    "    print('The transition-transversion ration is {0}. Used {1} sites ({2} % of total)'.format(ti_tv, valid_sites, prop_valid))\n"
   ]
  },
  {
   "cell_type": "code",
   "execution_count": 201,
   "metadata": {},
   "outputs": [
    {
     "name": "stdout",
     "output_type": "stream",
     "text": [
      "The transition-transversion ration is 1.5707. Used 2790985 sites (1.0 % of total)\n"
     ]
    }
   ],
   "source": [
    "ti_tv_ratio(free_vcf, tv_ti_matrix)"
   ]
  },
  {
   "cell_type": "code",
   "execution_count": 202,
   "metadata": {},
   "outputs": [
    {
     "name": "stdout",
     "output_type": "stream",
     "text": [
      "The transition-transversion ration is 1.556. Used 2955674 sites (0.99 % of total)\n"
     ]
    }
   ],
   "source": [
    "ti_tv_ratio(gatk_vcf, tv_ti_matrix)"
   ]
  },
  {
   "cell_type": "code",
   "execution_count": 203,
   "metadata": {},
   "outputs": [
    {
     "name": "stdout",
     "output_type": "stream",
     "text": [
      "The transition-transversion ration is 1.6917. Used 904852 sites (1.0 % of total)\n"
     ]
    }
   ],
   "source": [
    "ti_tv_ratio(free_vcftools_filtered_vcf, tv_ti_matrix)"
   ]
  },
  {
   "cell_type": "code",
   "execution_count": 204,
   "metadata": {},
   "outputs": [
    {
     "name": "stdout",
     "output_type": "stream",
     "text": [
      "The transition-transversion ration is 1.6379. Used 1646532 sites (1.0 % of total)\n"
     ]
    }
   ],
   "source": [
    "ti_tv_ratio(gatk_vcftools_filtered_vcf, tv_ti_matrix)"
   ]
  },
  {
   "cell_type": "code",
   "execution_count": 1,
   "metadata": {},
   "outputs": [],
   "source": [
    "from Bio import SeqIO"
   ]
  },
  {
   "cell_type": "code",
   "execution_count": 3,
   "metadata": {},
   "outputs": [],
   "source": [
    "path_to_reference = '/scratch/research/references/trifolium/repens/GCA_005869975.1_AgR_To_v5/GCA_005869975.1_AgR_To_v5_genomic.fna'\n",
    "ref_dict = SeqIO.to_dict(SeqIO.parse(path_to_reference, 'fasta'))"
   ]
  },
  {
   "cell_type": "code",
   "execution_count": 137,
   "metadata": {},
   "outputs": [
    {
     "name": "stdout",
     "output_type": "stream",
     "text": [
      "100.0 percent of SNPs are within the regions specified in the regions file\n",
      "100.0 percent of SNPs are within the regions specified in the regions file\n",
      "100.0 percent of SNPs are within the regions specified in the regions file\n"
     ]
    }
   ],
   "source": [
    "def prop_in_region(regions_dict_tuple, snp_df):\n",
    "    \n",
    "    total_snps = 0\n",
    "    in_region = 0\n",
    "    out_region = 0\n",
    "    \n",
    "    snps = sorted(list(snp_df['CHROM_POS']))\n",
    "\n",
    "    for snp in snps:\n",
    "        \n",
    "        total_snps += 1\n",
    "        \n",
    "        CHROM_SNP = snp.split('_')[0]\n",
    "        POS_SNP = int(snp.split('_')[1])\n",
    "        \n",
    "#         print(CHROM_SNP, POS_SNP)\n",
    "        if any(START <= POS_SNP <= END for (START, END) in regions_dict_tuple[CHROM_SNP]):\n",
    "            in_region += 1\n",
    "        else:\n",
    "            out_region += 1\n",
    "#             print(CHROM_REG, START_REG, END_REG)\n",
    "        \n",
    "    prop = round((in_region / total_snps) * 100, 2)\n",
    "    print('{0} percent of SNPs are within the regions specified in the regions file'.format(prop))\n",
    "        \n",
    "#     for region in regions_dict:\n",
    "\n",
    "prop_in_region(regions_dict_tuple, gatk_100genes_snps_raw)\n",
    "prop_in_region(regions_dict_tuple, free_100genes_snps_raw)"
   ]
  },
  {
   "cell_type": "markdown",
   "metadata": {},
   "source": [
    "# Looking at VCFs using `scikit-allel`"
   ]
  },
  {
   "cell_type": "markdown",
   "metadata": {},
   "source": [
    "## Import VCFs and variant tables"
   ]
  },
  {
   "cell_type": "code",
   "execution_count": 2,
   "metadata": {},
   "outputs": [],
   "source": [
    "import allel"
   ]
  },
  {
   "cell_type": "code",
   "execution_count": 3,
   "metadata": {},
   "outputs": [],
   "source": [
    "def import_vcf(path, chrom=None):\n",
    "    \n",
    "    if chrom:\n",
    "        vcf = allel.read_vcf(path, fields=['variants/*', 'calldata/*'], region=str(chrom))\n",
    "    else:\n",
    "        vcf = allel.read_vcf(path, fields=['variants/*', 'calldata/*'])\n",
    "        \n",
    "    return vcf"
   ]
  },
  {
   "cell_type": "code",
   "execution_count": 4,
   "metadata": {},
   "outputs": [],
   "source": [
    "def import_variantTable(vcf_path, chrom=None, filter_biallelic=True):\n",
    "    \n",
    "    if chrom:\n",
    "        table = allel.VariantTable(allel.vcf_to_recarray(vcf_path, fields = '*', region = chrom), index = 'POS')\n",
    "    else:\n",
    "        table = allel.VariantTable(allel.vcf_to_recarray(vcf_path, fields = '*'), index = 'POS')\n",
    "        \n",
    "    if filter_biallelic:\n",
    "        table = table.compress(table.eval('numalt == 1')[:])\n",
    "        \n",
    "    return table"
   ]
  },
  {
   "cell_type": "code",
   "execution_count": 5,
   "metadata": {},
   "outputs": [],
   "source": [
    "def variant_table_to_dataframe(variantTable):\n",
    "    \n",
    "    cols = list(variantTable.names)\n",
    "    df_out = pd.DataFrame.from_records(variantTable, columns=cols)\n",
    "    to_keep = ['CHROM', 'POS', 'REF', 'ALT_1', 'QUAL', 'AC_1', 'AF_1', 'AN', 'DP']\n",
    "    df_out = df_out[to_keep].drop_duplicates(keep='first', subset='POS')\n",
    "    return df_out"
   ]
  },
  {
   "cell_type": "code",
   "execution_count": 6,
   "metadata": {},
   "outputs": [],
   "source": [
    "def create_merged_variantTable(inpath, chromosomes):\n",
    "    \n",
    "    variantTables = []\n",
    "    for chrom in chromosomes:\n",
    "        variantTable = import_variantTable(inpath, chrom=chrom, filter_biallelic=False)\n",
    "        variantTables.append(variantTable)\n",
    "        \n",
    "    mergedDF = pd.concat(map(variant_table_to_dataframe, variantTables)).reset_index()\n",
    "    mergedDF['CHROM_POS'] = mergedDF['CHROM'].astype(str) + '_' + mergedDF['POS'].astype(str)\n",
    "    \n",
    "    return mergedDF"
   ]
  },
  {
   "cell_type": "markdown",
   "metadata": {},
   "source": [
    "### Filtered"
   ]
  },
  {
   "cell_type": "markdown",
   "metadata": {},
   "source": [
    "#### 100 random genes"
   ]
  },
  {
   "cell_type": "code",
   "execution_count": 39,
   "metadata": {},
   "outputs": [],
   "source": [
    "gatk_100genes_vcf_filtered_path = '../analysis/vcf/100genes/gatk/vcftools_filtered/gatk_100randomGenes_120samples_snps_vcftools_filtered.recode.vcf.gz'\n",
    "gatk_100genes_vcf_filtered = import_vcf(gatk_100genes_vcf_filtered_path)"
   ]
  },
  {
   "cell_type": "code",
   "execution_count": 7,
   "metadata": {},
   "outputs": [],
   "source": [
    "%%capture\n",
    "# Freebayes with max-gap-length = 1\n",
    "free_100genes_vcf_filtered_path = '../analysis/vcf/100genes/freebayes/vcftools_filtered/freebayes_100randomGenes_120samples_snps_vcftools_filtered.recode.vcf.gz'\n",
    "free_100genes_vcf_filtered = import_vcf(free_100genes_vcf_filtered_path)"
   ]
  },
  {
   "cell_type": "code",
   "execution_count": 8,
   "metadata": {},
   "outputs": [],
   "source": [
    "chromosomes = np.unique(free_100genes_vcf_filtered['variants/CHROM'])"
   ]
  },
  {
   "cell_type": "code",
   "execution_count": 49,
   "metadata": {},
   "outputs": [],
   "source": [
    "gatk_100genes_VT_filtered = create_merged_variantTable(gatk_100genes_vcf_filtered_path, chromosomes)"
   ]
  },
  {
   "cell_type": "code",
   "execution_count": 9,
   "metadata": {},
   "outputs": [],
   "source": [
    "%%capture\n",
    "free_100genes_VT_filtered = create_merged_variantTable(free_100genes_vcf_filtered_path, chromosomes)"
   ]
  },
  {
   "cell_type": "code",
   "execution_count": 13,
   "metadata": {},
   "outputs": [],
   "source": [
    "%%capture\n",
    "# Freebayes with max-gap-length = 75\n",
    "free_100genes_75gap_vcf_filtered_path = '../analysis/vcf/100genes/freebayes_75gap/vcftools_filtered/freebayes_75gap_100randomGenes_120samples_snps_vcftools_filtered.recode.vcf.gz'\n",
    "free_100genes_75gap_vcf_filtered = import_vcf(free_100genes_75gap_vcf_filtered_path)\n",
    "chromosomes = np.unique(free_100genes_75gap_vcf_filtered['variants/CHROM'])\n",
    "free_100genes_VT_filtered_75gap = create_merged_variantTable(free_100genes_75gap_vcf_filtered_path, chromosomes)"
   ]
  },
  {
   "cell_type": "markdown",
   "metadata": {},
   "source": [
    "## Overlap in SNP set"
   ]
  },
  {
   "cell_type": "markdown",
   "metadata": {},
   "source": [
    "### Filtered"
   ]
  },
  {
   "cell_type": "markdown",
   "metadata": {},
   "source": [
    "#### GATK vs. freebayes (1 gap)\n",
    "\n",
    "Comapre overlap in SNP set between `GATK` and `freebayes` run with `--max-complex-gap 1`"
   ]
  },
  {
   "cell_type": "code",
   "execution_count": 52,
   "metadata": {},
   "outputs": [
    {
     "data": {
      "image/png": "[encoded data removed]",
      "text/plain": [
       "<Figure size 720x720 with 1 Axes>"
      ]
     },
     "metadata": {},
     "output_type": "display_data"
    }
   ],
   "source": [
    "gatk_set = set(gatk_100genes_VT_filtered['CHROM_POS'].tolist())\n",
    "free_set = set(free_100genes_VT_filtered['CHROM_POS'].tolist())\n",
    "set_list = [gatk_set, free_set]\n",
    "total = len(gatk_set.union(free_set))\n",
    "plt.figure(figsize=(10,10))\n",
    "venn2(subsets = set_list, set_labels = ('gatk', 'freebayes'), set_colors=('green', 'orange'), alpha = 0.5, subset_label_formatter=lambda x: f\"{(x/total):1.0%}\")\n",
    "# venn2(subsets = set_list, set_labels = ('gatk', 'freebayes'), set_colors=('green', 'orange'), alpha = 0.5)\n",
    "venn2_circles(subsets = set_list)\n",
    "plt.show()"
   ]
  },
  {
   "cell_type": "markdown",
   "metadata": {},
   "source": [
    "#### freebayes (1 gap) vs. freebayes (75 gap)\n",
    "\n",
    "Comapre overlap in SNP set between `freebayes` run with `--max-complex-gap 1 and `freebayes` run with `--max-complex-gap 75`"
   ]
  },
  {
   "cell_type": "code",
   "execution_count": 26,
   "metadata": {},
   "outputs": [],
   "source": [
    "dfs = []\n",
    "with open('../resources/100genes_sorted_75gap.region', 'r') as f:\n",
    "    \n",
    "    lines = f.readlines()\n",
    "    for l in lines:\n",
    "        region = l.strip()\n",
    "        CHROM = str(region.split(':')[0])\n",
    "        START = int(region.split(':')[1].split('-')[0])\n",
    "        END = int(region.split(':')[1].split('-')[1])\n",
    "        \n",
    "        df = free_100genes_VT_filtered[(free_100genes_VT_filtered['CHROM'] == CHROM) & \n",
    "                                      (free_100genes_VT_filtered['POS'] > START) &\n",
    "                                      (free_100genes_VT_filtered['POS'] < END)]\n",
    "        dfs.append(df)\n",
    "free_1gap_VT_filtered_regions = pd.concat(dfs).reset_index()"
   ]
  },
  {
   "cell_type": "code",
   "execution_count": 30,
   "metadata": {},
   "outputs": [
    {
     "data": {
      "image/png": "[encoded data removed]",
      "text/plain": [
       "<Figure size 720x720 with 1 Axes>"
      ]
     },
     "metadata": {},
     "output_type": "display_data"
    }
   ],
   "source": [
    "free1gap_set = set(free_1gap_VT_filtered_regions['CHROM_POS'])\n",
    "free75gap_set = set(free_100genes_VT_filtered_75gap['CHROM_POS'])\n",
    "set_list = [free1gap_set, free75gap_set]\n",
    "total = len(free1gap_set.union(free75gap_set))\n",
    "plt.figure(figsize=(10,10))\n",
    "venn2(subsets = set_list, set_labels = ('freebayes_1gap', 'freebayes_75gap'), set_colors=('green', 'orange'), alpha = 0.5, subset_label_formatter=lambda x: f\"{(x/total):1.0%}\")\n",
    "# venn2(subsets = set_list, set_labels = ('gatk', 'freebayes'), set_colors=('green', 'orange'), alpha = 0.5)\n",
    "venn2_circles(subsets = set_list)\n",
    "plt.show()"
   ]
  },
  {
   "cell_type": "markdown",
   "metadata": {},
   "source": [
    "### Unfiltered"
   ]
  },
  {
   "cell_type": "code",
   "execution_count": 53,
   "metadata": {},
   "outputs": [],
   "source": [
    "gatk_100genes_vcf_unfiltered_path = '../analysis/vcf/100genes/gatk/100randomGenes_120samples_snps.vcf.gz'\n",
    "gatk_100genes_VT_unfiltered = create_merged_variantTable(gatk_100genes_vcf_unfiltered_path, chromosomes)"
   ]
  },
  {
   "cell_type": "code",
   "execution_count": 54,
   "metadata": {},
   "outputs": [],
   "source": [
    "%%capture\n",
    "free_100genes_vcf_unfiltered_path = '../analysis/vcf/100genes/freebayes/100randomGenes_120samples_snps.vcf.gz'\n",
    "free_100genes_VT_unfiltered = create_merged_variantTable(free_100genes_vcf_unfiltered_path, chromosomes)"
   ]
  },
  {
   "cell_type": "code",
   "execution_count": 29,
   "metadata": {},
   "outputs": [
    {
     "ename": "NameError",
     "evalue": "name 'gatk_100genes_VT_unfiltered' is not defined",
     "output_type": "error",
     "traceback": [
      "\u001b[0;31m---------------------------------------------------------------------------\u001b[0m",
      "\u001b[0;31mNameError\u001b[0m                                 Traceback (most recent call last)",
      "\u001b[0;32m<ipython-input-29-08605ad3616f>\u001b[0m in \u001b[0;36m<module>\u001b[0;34m\u001b[0m\n\u001b[0;32m----> 1\u001b[0;31m \u001b[0mgatk_set\u001b[0m \u001b[0;34m=\u001b[0m \u001b[0mset\u001b[0m\u001b[0;34m(\u001b[0m\u001b[0mgatk_100genes_VT_unfiltered\u001b[0m\u001b[0;34m[\u001b[0m\u001b[0;34m'CHROM_POS'\u001b[0m\u001b[0;34m]\u001b[0m\u001b[0;34m)\u001b[0m\u001b[0;34m\u001b[0m\u001b[0;34m\u001b[0m\u001b[0m\n\u001b[0m\u001b[1;32m      2\u001b[0m \u001b[0mfree_set\u001b[0m \u001b[0;34m=\u001b[0m \u001b[0mset\u001b[0m\u001b[0;34m(\u001b[0m\u001b[0mfree_100genes_VT_unfiltered\u001b[0m\u001b[0;34m[\u001b[0m\u001b[0;34m'CHROM_POS'\u001b[0m\u001b[0;34m]\u001b[0m\u001b[0;34m)\u001b[0m\u001b[0;34m\u001b[0m\u001b[0;34m\u001b[0m\u001b[0m\n\u001b[1;32m      3\u001b[0m \u001b[0mset_list\u001b[0m \u001b[0;34m=\u001b[0m \u001b[0;34m[\u001b[0m\u001b[0mgatk_set\u001b[0m\u001b[0;34m,\u001b[0m \u001b[0mfree_set\u001b[0m\u001b[0;34m]\u001b[0m\u001b[0;34m\u001b[0m\u001b[0;34m\u001b[0m\u001b[0m\n\u001b[1;32m      4\u001b[0m \u001b[0mtotal\u001b[0m \u001b[0;34m=\u001b[0m \u001b[0mlen\u001b[0m\u001b[0;34m(\u001b[0m\u001b[0mgatk_set\u001b[0m\u001b[0;34m.\u001b[0m\u001b[0munion\u001b[0m\u001b[0;34m(\u001b[0m\u001b[0mfree_set\u001b[0m\u001b[0;34m)\u001b[0m\u001b[0;34m)\u001b[0m\u001b[0;34m\u001b[0m\u001b[0;34m\u001b[0m\u001b[0m\n\u001b[1;32m      5\u001b[0m \u001b[0mplt\u001b[0m\u001b[0;34m.\u001b[0m\u001b[0mfigure\u001b[0m\u001b[0;34m(\u001b[0m\u001b[0mfigsize\u001b[0m\u001b[0;34m=\u001b[0m\u001b[0;34m(\u001b[0m\u001b[0;36m10\u001b[0m\u001b[0;34m,\u001b[0m\u001b[0;36m10\u001b[0m\u001b[0;34m)\u001b[0m\u001b[0;34m)\u001b[0m\u001b[0;34m\u001b[0m\u001b[0;34m\u001b[0m\u001b[0m\n",
      "\u001b[0;31mNameError\u001b[0m: name 'gatk_100genes_VT_unfiltered' is not defined"
     ]
    }
   ],
   "source": [
    "gatk_set = set(gatk_100genes_VT_unfiltered['CHROM_POS'].tolist())\n",
    "free_set = set(free_100genes_VT_unfiltered['CHROM_POS'].tolist())\n",
    "set_list = [gatk_set, free_set]\n",
    "total = len(gatk_set.union(free_set))\n",
    "plt.figure(figsize=(10,10))\n",
    "venn2(subsets = set_list, set_labels = ('gatk', 'freebayes'), set_colors=('green', 'orange'), alpha = 0.5, subset_label_formatter=lambda x: f\"{(x/total):1.0%}\")\n",
    "# venn2(subsets = set_list, set_labels = ('gatk', 'freebayes'), set_colors=('green', 'orange'), alpha = 0.5)\n",
    "venn2_circles(subsets = set_list)\n",
    "plt.show()"
   ]
  },
  {
   "cell_type": "markdown",
   "metadata": {},
   "source": [
    "## Two genomes"
   ]
  },
  {
   "cell_type": "code",
   "execution_count": 61,
   "metadata": {},
   "outputs": [],
   "source": [
    "gatk_100genes_twoGenomes_path = '../../../sequencingTwoGenomes_Cyan-Acyan/analysis/vcf/100genes/gatk/vcftools_filtered/gatk_100randomGenes_twoHighCoverageGenomes_snps_vcftools_filtered.recode.vcf.gz'\n",
    "gatk_100genes_VT_twoGenomes = create_merged_variantTable(gatk_100genes_twoGenomes_path, chromosomes)"
   ]
  },
  {
   "cell_type": "code",
   "execution_count": 62,
   "metadata": {},
   "outputs": [],
   "source": [
    "%%capture\n",
    "free_100genes_twoGenomes_path = '../../../sequencingTwoGenomes_Cyan-Acyan/analysis/vcf/100genes/freebayes/vcftools_filtered/freebayes_100randomGenes_twoHighCoverageGenomes_snps_vcftools_filtered.recode.vcf.gz'\n",
    "free_100genes_VT_twoGenomes = create_merged_variantTable(free_100genes_twoGenomes_path, chromosomes)"
   ]
  },
  {
   "cell_type": "code",
   "execution_count": 64,
   "metadata": {},
   "outputs": [
    {
     "data": {
      "image/png": "[encoded data removed]",
      "text/plain": [
       "<Figure size 720x720 with 1 Axes>"
      ]
     },
     "metadata": {},
     "output_type": "display_data"
    }
   ],
   "source": [
    "gatk_set = set(gatk_100genes_VT_twoGenomes['CHROM_POS'].tolist())\n",
    "free_set = set(free_100genes_VT_twoGenomes['CHROM_POS'].tolist())\n",
    "set_list = [gatk_set, free_set]\n",
    "total = len(gatk_set.union(free_set))\n",
    "plt.figure(figsize=(10,10))\n",
    "venn2(subsets = set_list, set_labels = ('gatk', 'freebayes'), set_colors=('green', 'orange'), alpha = 0.5, subset_label_formatter=lambda x: f\"{(x/total):1.0%}\")\n",
    "# venn2(subsets = set_list, set_labels = ('gatk', 'freebayes'), set_colors=('green', 'orange'), alpha = 0.5)\n",
    "venn2_circles(subsets = set_list)\n",
    "plt.show()"
   ]
  },
  {
   "cell_type": "code",
   "execution_count": 67,
   "metadata": {},
   "outputs": [],
   "source": [
    "def percent_true(snp_list_1, snp_list_2):\n",
    "\n",
    "    total_true = len(snp_list_1)\n",
    "\n",
    "    overlap = list(set(snp_list_1).intersection(set(snp_list_2)))\n",
    "    count_true = len(overlap)\n",
    "    \n",
    "    percent_true = round((count_true / total_true) * 100, 2)\n",
    "    \n",
    "    return percent_true"
   ]
  },
  {
   "cell_type": "code",
   "execution_count": 65,
   "metadata": {},
   "outputs": [],
   "source": [
    "true_snps = list(set(gatk_100genes_VT_twoGenomes['CHROM_POS']).intersection(set(free_100genes_VT_twoGenomes['CHROM_POS'])))"
   ]
  },
  {
   "cell_type": "markdown",
   "metadata": {},
   "source": [
    "### Filtered"
   ]
  },
  {
   "cell_type": "code",
   "execution_count": 68,
   "metadata": {},
   "outputs": [
    {
     "data": {
      "text/plain": [
       "52.26"
      ]
     },
     "execution_count": 68,
     "metadata": {},
     "output_type": "execute_result"
    }
   ],
   "source": [
    "freebayes_snps_filtered = list(free_100genes_VT_filtered['CHROM_POS'])\n",
    "percent_true(true_snps, freebayes_snps_filtered)"
   ]
  },
  {
   "cell_type": "code",
   "execution_count": 69,
   "metadata": {},
   "outputs": [
    {
     "data": {
      "text/plain": [
       "53.59"
      ]
     },
     "execution_count": 69,
     "metadata": {},
     "output_type": "execute_result"
    }
   ],
   "source": [
    "gatk_snps_filtered = list(gatk_100genes_VT_filtered['CHROM_POS'])\n",
    "percent_true(true_snps, gatk_snps_filtered)"
   ]
  },
  {
   "cell_type": "markdown",
   "metadata": {},
   "source": [
    "### Unfiltered"
   ]
  },
  {
   "cell_type": "code",
   "execution_count": 70,
   "metadata": {},
   "outputs": [
    {
     "data": {
      "text/plain": [
       "67.82"
      ]
     },
     "execution_count": 70,
     "metadata": {},
     "output_type": "execute_result"
    }
   ],
   "source": [
    "freebayes_snps_unfiltered = list(free_100genes_VT_unfiltered['CHROM_POS'])\n",
    "percent_true(true_snps, freebayes_snps_unfiltered)"
   ]
  },
  {
   "cell_type": "code",
   "execution_count": 71,
   "metadata": {},
   "outputs": [
    {
     "data": {
      "text/plain": [
       "92.33"
      ]
     },
     "execution_count": 71,
     "metadata": {},
     "output_type": "execute_result"
    }
   ],
   "source": [
    "gatk_snps_unfiltered = list(gatk_100genes_VT_unfiltered['CHROM_POS'])\n",
    "percent_true(true_snps, gatk_snps_unfiltered)"
   ]
  },
  {
   "cell_type": "markdown",
   "metadata": {},
   "source": [
    "## Plot SFS for `freebayes` and `GATK` SNPs\n",
    "\n",
    "Plot SFS for SNPs for both programs to see if the different variant sets <br>\n",
    "are likely to influence downstream inferences based on the SFS."
   ]
  },
  {
   "cell_type": "code",
   "execution_count": 39,
   "metadata": {},
   "outputs": [],
   "source": [
    "def get_folded_sfs(vcf):\n",
    "    \n",
    "    # Get SFS as numpy array\n",
    "    GTarray = allel.GenotypeArray(vcf['calldata/GT'])\n",
    "    alleleCounts = GTarray.count_alleles()\n",
    "    sfs = allel.sfs_folded(alleleCounts)\n",
    "    \n",
    "    return sfs"
   ]
  },
  {
   "cell_type": "markdown",
   "metadata": {},
   "source": [
    "### 100 random genes"
   ]
  },
  {
   "cell_type": "code",
   "execution_count": 40,
   "metadata": {},
   "outputs": [],
   "source": [
    "gatk_100genes_filtered_folded_sfs = get_folded_sfs(gatk_100genes_vcf_filtered)\n",
    "free_100genes_filtered_folded_sfs = get_folded_sfs(free_100genes_vcf_filtered)"
   ]
  },
  {
   "cell_type": "code",
   "execution_count": 41,
   "metadata": {},
   "outputs": [
    {
     "data": {
      "image/png": "[encoded data removed]",
      "text/plain": [
       "<Figure size 576x360 with 1 Axes>"
      ]
     },
     "metadata": {
      "needs_background": "light"
     },
     "output_type": "display_data"
    }
   ],
   "source": [
    "fig, ax = plt.subplots(figsize=(8, 5))\n",
    "sns.despine(ax=ax, offset=10)\n",
    "allel.plot_sfs_folded(gatk_100genes_filtered_folded_sfs, ax=ax, label='GATK', yscale='log')\n",
    "allel.plot_sfs_folded(free_100genes_filtered_folded_sfs, ax=ax, label='Freebayes', yscale='log')\n",
    "ax.legend()\n",
    "ax.set_title('Folded site frequency spectra')\n",
    "ax.set_ylabel('Site count (log)')\n",
    "ax.set_xlabel('Minor allele count');"
   ]
  },
  {
   "cell_type": "markdown",
   "metadata": {},
   "source": [
    "## Plot MAF for overlapping SNPs\n",
    "\n",
    "Look at allele frequency estimates for SNPs called by both programs. <br>"
   ]
  },
  {
   "cell_type": "markdown",
   "metadata": {},
   "source": [
    "### 100 random genes \n",
    "\n",
    "- Only includes SNPs called along chromosome 1, but still across 120 samples"
   ]
  },
  {
   "cell_type": "markdown",
   "metadata": {},
   "source": [
    "#### GATK vs. freebayes (1 gap)\n",
    "\n",
    "- MAF correlation for overlapping SNPs following filtering using `vcftools`"
   ]
  },
  {
   "cell_type": "code",
   "execution_count": 44,
   "metadata": {},
   "outputs": [],
   "source": [
    "chromosomes = np.unique(gatk_100genes_vcf_filtered['variants/CHROM'])"
   ]
  },
  {
   "cell_type": "code",
   "execution_count": 45,
   "metadata": {},
   "outputs": [],
   "source": [
    "gatk_100genes_vcf_filtered_path = '../analysis/vcf/100genes/gatk/vcftools_filtered/gatk_100randomGenes_120samples_snps_vcftools_filtered.recode.vcf.gz'\n",
    "gatk_variantTables = []\n",
    "for chrom in chromosomes:\n",
    "    variantTable = import_variantTable(gatk_100genes_vcf_filtered_path, chrom=chrom, filter_biallelic=False)\n",
    "    gatk_variantTables.append(variantTable)"
   ]
  },
  {
   "cell_type": "code",
   "execution_count": 46,
   "metadata": {},
   "outputs": [],
   "source": [
    "%%capture\n",
    "free_100genes_vcf_filtered_path = '../analysis/vcf/100genes/freebayes/vcftools_filtered/freebayes_100randomGenes_120samples_snps_vcftools_filtered.recode.vcf.gz'\n",
    "free_variantTables = []\n",
    "for chrom in chromosomes:\n",
    "    variantTable = import_variantTable(free_100genes_vcf_filtered_path, chrom=chrom, filter_biallelic=False)\n",
    "    free_variantTables.append(variantTable)"
   ]
  },
  {
   "cell_type": "code",
   "execution_count": 28,
   "metadata": {},
   "outputs": [],
   "source": [
    "def get_intersection_snps(variantTable1, variantTable2):\n",
    "    \n",
    "    sortedIndex1 = allel.SortedIndex(variantTable1['POS'])\n",
    "    sortedIndex2 = allel.SortedIndex(variantTable2['POS'])\n",
    "    \n",
    "    vt1_intersection, vt2_intersection = sortedIndex1.locate_intersection(sortedIndex2)\n",
    "    \n",
    "    vt1_intersection_snps = variantTable1[vt1_intersection]\n",
    "    vt2_intersection_snps = variantTable2[vt2_intersection]\n",
    "        \n",
    "    return vt1_intersection_snps, vt2_intersection_snps"
   ]
  },
  {
   "cell_type": "code",
   "execution_count": 48,
   "metadata": {},
   "outputs": [],
   "source": [
    "gatk_intersectionTables = []\n",
    "free_intersectionTables = []\n",
    "for i in range(len(chromosomes)):\n",
    "    gatk_table =  gatk_variantTables[i]\n",
    "    free_table =  free_variantTables[i]\n",
    "    gatk_intersection_snps, free_intersection_snps = get_intersection_snps(gatk_table, free_table)\n",
    "    gatk_intersectionTables.append(gatk_intersection_snps)\n",
    "    free_intersectionTables.append(free_intersection_snps)"
   ]
  },
  {
   "cell_type": "code",
   "execution_count": 49,
   "metadata": {},
   "outputs": [],
   "source": [
    "gatk_intersection_mergedDF = pd.concat(map(variant_table_to_dataframe, gatk_intersectionTables)).reset_index()\n",
    "free_intersection_mergedDF = pd.concat(map(variant_table_to_dataframe, free_intersectionTables)).reset_index()"
   ]
  },
  {
   "cell_type": "code",
   "execution_count": 50,
   "metadata": {},
   "outputs": [
    {
     "data": {
      "image/png": "[encoded data removed]",
      "text/plain": [
       "<Figure size 576x360 with 1 Axes>"
      ]
     },
     "metadata": {
      "needs_background": "light"
     },
     "output_type": "display_data"
    }
   ],
   "source": [
    "fig, ax = plt.subplots(figsize=(8, 5))\n",
    "sns.despine(ax=ax, offset=10)\n",
    "sns.scatterplot(gatk_intersection_mergedDF['AF_1'], free_intersection_mergedDF['AF_1'], alpha = 0.2)\n",
    "sns.lineplot(x=[0, 1], y=[0, 1], ax=ax, color='black')\n",
    "ax.set_ylabel(\"freebayes AF\")\n",
    "ax.set_xlabel(\"GATK AF\")\n",
    "plt.show()"
   ]
  },
  {
   "cell_type": "markdown",
   "metadata": {},
   "source": [
    "#### freebayes (1 gap) vs. freebayes (75 gap)"
   ]
  },
  {
   "cell_type": "code",
   "execution_count": 46,
   "metadata": {},
   "outputs": [],
   "source": [
    "free_intersection = free1gap_set.intersection(free75gap_set)\n",
    "free_1gap_VT_filtered_regions_intersection = free_1gap_VT_filtered_regions[free_1gap_VT_filtered_regions['CHROM_POS'].isin(free_intersection)].sort_values('CHROM_POS')\n",
    "free_100genes_VT_filtered_75gap_intersection = free_100genes_VT_filtered_75gap[free_100genes_VT_filtered_75gap['CHROM_POS'].isin(free_intersection)].sort_values('CHROM_POS')"
   ]
  },
  {
   "cell_type": "code",
   "execution_count": 73,
   "metadata": {},
   "outputs": [],
   "source": [
    "one = list(free_1gap_VT_filtered_regions_intersection['AF_1'])\n",
    "two = list(free_100genes_VT_filtered_75gap_intersection['AF_1'])"
   ]
  },
  {
   "cell_type": "code",
   "execution_count": 76,
   "metadata": {},
   "outputs": [
    {
     "data": {
      "image/png": "[encoded data removed]",
      "text/plain": [
       "<Figure size 576x360 with 1 Axes>"
      ]
     },
     "metadata": {
      "needs_background": "light"
     },
     "output_type": "display_data"
    }
   ],
   "source": [
    "fig, ax = plt.subplots(figsize=(8, 5))\n",
    "sns.despine(ax=ax)\n",
    "sns.scatterplot(one, two, alpha = 0.2)\n",
    "sns.lineplot(x=[0, 1], y=[0, 1], ax=ax, color='black')\n",
    "ax.set_ylabel(\"freebayes AF (75 gap)\")\n",
    "ax.set_xlabel(\"freebayes AF (1 gap)\")\n",
    "plt.show()"
   ]
  },
  {
   "cell_type": "markdown",
   "metadata": {},
   "source": [
    "### Low frequecy bias\n",
    "\n",
    "- Extract SNPs with `GATK` AF < 0.2 but `freebayes` AF > 0.4\n",
    "- Create Pandas df out of positions with `GATK` and `freebayes` INFO for sites"
   ]
  },
  {
   "cell_type": "code",
   "execution_count": 18,
   "metadata": {},
   "outputs": [
    {
     "data": {
      "text/plain": [
       "[1907,\n",
       " 1908,\n",
       " 5163,\n",
       " 8871,\n",
       " 8872,\n",
       " 13456,\n",
       " 15200,\n",
       " 15483,\n",
       " 17055,\n",
       " 17300,\n",
       " 17449,\n",
       " 23397,\n",
       " 25854,\n",
       " 28753,\n",
       " 28754,\n",
       " 28756,\n",
       " 34911,\n",
       " 34912,\n",
       " 35531,\n",
       " 36213,\n",
       " 36722,\n",
       " 43908,\n",
       " 46058,\n",
       " 52468,\n",
       " 52623,\n",
       " 52661,\n",
       " 52683,\n",
       " 53166,\n",
       " 56374,\n",
       " 57920,\n",
       " 63831,\n",
       " 64006,\n",
       " 64234,\n",
       " 67452,\n",
       " 67597,\n",
       " 67625,\n",
       " 67706,\n",
       " 67729,\n",
       " 67763,\n",
       " 67764,\n",
       " 67766,\n",
       " 70767,\n",
       " 71619,\n",
       " 72934,\n",
       " 73478,\n",
       " 78061,\n",
       " 78476,\n",
       " 78477,\n",
       " 78478,\n",
       " 78480,\n",
       " 78863,\n",
       " 80158,\n",
       " 80584,\n",
       " 83052,\n",
       " 84072,\n",
       " 84103,\n",
       " 84155,\n",
       " 87310,\n",
       " 87311,\n",
       " 87359,\n",
       " 88876,\n",
       " 88940,\n",
       " 88941,\n",
       " 89183,\n",
       " 90542,\n",
       " 95911,\n",
       " 98546,\n",
       " 99622,\n",
       " 100391,\n",
       " 102671,\n",
       " 103278,\n",
       " 105019,\n",
       " 105190,\n",
       " 105877,\n",
       " 107380,\n",
       " 107476,\n",
       " 107836,\n",
       " 108111,\n",
       " 109696,\n",
       " 109969,\n",
       " 109971,\n",
       " 110649,\n",
       " 110650,\n",
       " 111520,\n",
       " 112521,\n",
       " 115233,\n",
       " 115234,\n",
       " 115235,\n",
       " 117905]"
      ]
     },
     "execution_count": 18,
     "metadata": {},
     "output_type": "execute_result"
    }
   ],
   "source": [
    "manual_check_freeTooHigh = []\n",
    "for index, row in gatk_intersection_mergedDF.iterrows():\n",
    "    gatk_af = gatk_intersection_mergedDF.iloc[index]['AF_1']\n",
    "    free_af = free_intersection_mergedDF.iloc[index]['AF_1']\n",
    "    if gatk_af < 0.2 and free_af > 0.4:\n",
    "        manual_check_freeTooHigh.append(index)\n",
    "manual_check_freeTooHigh"
   ]
  },
  {
   "cell_type": "code",
   "execution_count": 19,
   "metadata": {},
   "outputs": [],
   "source": [
    "gatk_toCheck_lowFreqBias = gatk_intersection_mergedDF.iloc[manual_check_freeTooHigh]\n",
    "gatk_toCheck_lowFreqBias.columns = [str(col) + '_gatk' for col in gatk_toCheck_lowFreqBias.columns]"
   ]
  },
  {
   "cell_type": "code",
   "execution_count": 20,
   "metadata": {},
   "outputs": [],
   "source": [
    "free_toCheck_lowFreqBias = free_intersection_mergedDF.iloc[manual_check_freeTooHigh]\n",
    "free_toCheck_lowFreqBias.columns = [str(col) + '_free' for col in free_toCheck_lowFreqBias.columns]"
   ]
  },
  {
   "cell_type": "code",
   "execution_count": 21,
   "metadata": {},
   "outputs": [],
   "source": [
    "toCheck_lowFreqBias = pd.merge(gatk_toCheck_lowFreqBias, free_toCheck_lowFreqBias, left_index=True, right_index=True)\n",
    "toCheck_lowFreqBias = toCheck_lowFreqBias.sort_index(axis=1).drop(columns=['index_free', 'index_gatk', 'POS_free', 'CHROM_free']).rename(columns={\"CHROM_gatk\": \"CHROM\", \"POS_gatk\": \"POS\"})"
   ]
  },
  {
   "cell_type": "code",
   "execution_count": 22,
   "metadata": {},
   "outputs": [],
   "source": [
    "cols = toCheck_lowFreqBias.columns.tolist()\n",
    "cols.insert(0, cols.pop(cols.index('CHROM')))\n",
    "cols.insert(1, cols.pop(cols.index('POS')))\n",
    "toCheck_lowFreqBias = toCheck_lowFreqBias[cols]\n",
    "toCheck_lowFreqBias['Class'] = 'lowFreqBias'"
   ]
  },
  {
   "cell_type": "markdown",
   "metadata": {},
   "source": [
    "### `GATK` singletons compared to `freebayes`\n",
    "\n",
    "- Extract positions where `GATK` called site a singleton but `freebayes` called otherwise"
   ]
  },
  {
   "cell_type": "code",
   "execution_count": 23,
   "metadata": {},
   "outputs": [],
   "source": [
    "# def get_singletons(vcf):\n",
    "    \n",
    "#     GTarray = allel.GenotypeArray(vcf['calldata/GT'])\n",
    "#     alleleCounts = GTarray.count_alleles()\n",
    "#     singletons = alleleCounts.is_singleton(allele=1)\n",
    "    \n",
    "#     return singletons"
   ]
  },
  {
   "cell_type": "code",
   "execution_count": 24,
   "metadata": {},
   "outputs": [],
   "source": [
    "gatk_variantTables_mergedDF = pd.concat(map(variant_table_to_dataframe, gatk_variantTables)).reset_index()\n",
    "gatk_variantTables_mergedDF['CHROMPOS'] = gatk_variantTables_mergedDF['CHROM'].astype(str) + gatk_variantTables_mergedDF['POS'].astype(str)\n",
    "free_variantTables_mergedDF = pd.concat(map(variant_table_to_dataframe, free_variantTables)).reset_index()\n",
    "free_variantTables_mergedDF['CHROMPOS'] = free_variantTables_mergedDF['CHROM'].astype(str) + free_variantTables_mergedDF['POS'].astype(str)"
   ]
  },
  {
   "cell_type": "code",
   "execution_count": 25,
   "metadata": {},
   "outputs": [],
   "source": [
    "gatk_singletons_df = gatk_variantTables_mergedDF[gatk_variantTables_mergedDF['AC_1'] == 1]\n",
    "free_singletons_df = free_variantTables_mergedDF[free_variantTables_mergedDF['AC_1'] == 1]"
   ]
  },
  {
   "cell_type": "code",
   "execution_count": 26,
   "metadata": {},
   "outputs": [],
   "source": [
    "common = gatk_singletons_df.merge(free_variantTables_mergedDF, on=['CHROMPOS'], indicator=True)\n",
    "gatk_uniqueSingletons = gatk_singletons_df[(~gatk_singletons_df['CHROMPOS'].isin(common['CHROMPOS']))].drop(columns=['CHROMPOS'])\n",
    "gatk_uniqueSingletons.columns = [str(col) + '_gatk' for col in gatk_uniqueSingletons.columns]\n",
    "gatk_uniqueSingletons = gatk_uniqueSingletons.sort_index(axis=1).drop(columns=['index_gatk']).rename(columns={\"CHROM_gatk\": \"CHROM\", \"POS_gatk\": \"POS\"})"
   ]
  },
  {
   "cell_type": "code",
   "execution_count": 27,
   "metadata": {},
   "outputs": [],
   "source": [
    "cols = gatk_uniqueSingletons.columns.tolist()\n",
    "cols.insert(0, cols.pop(cols.index('CHROM')))\n",
    "cols.insert(1, cols.pop(cols.index('POS')))\n",
    "gatk_uniqueSingletons = gatk_uniqueSingletons[cols]\n",
    "gatk_uniqueSingletons['Class'] = 'gatkSingletons_notInFreebayes'"
   ]
  },
  {
   "cell_type": "code",
   "execution_count": 28,
   "metadata": {},
   "outputs": [],
   "source": [
    "gatk_commonSingletons = gatk_singletons_df[(gatk_singletons_df['CHROMPOS'].isin(common['CHROMPOS']))].drop(columns=['CHROMPOS']).reset_index()\n",
    "gatk_commonSingletons.columns = [str(col) + '_gatk' for col in gatk_commonSingletons.columns]"
   ]
  },
  {
   "cell_type": "code",
   "execution_count": 29,
   "metadata": {},
   "outputs": [],
   "source": [
    "free_commonSingletons = free_variantTables_mergedDF[(free_variantTables_mergedDF['CHROMPOS'].isin(common['CHROMPOS']))].drop(columns=['CHROMPOS']).reset_index()\n",
    "free_commonSingletons.columns = [str(col) + '_free' for col in free_commonSingletons.columns]"
   ]
  },
  {
   "cell_type": "code",
   "execution_count": 30,
   "metadata": {},
   "outputs": [],
   "source": [
    "toCheck_commonSingletons = pd.merge(gatk_commonSingletons, free_commonSingletons, left_index=True, right_index=True)\n",
    "toCheck_commonSingletons = toCheck_commonSingletons.sort_index(axis=1).drop(columns=['level_0_gatk', 'level_0_free', 'index_free', 'index_gatk', 'POS_free', 'CHROM_free']).rename(columns={\"CHROM_gatk\": \"CHROM\", \"POS_gatk\": \"POS\"})"
   ]
  },
  {
   "cell_type": "code",
   "execution_count": 31,
   "metadata": {},
   "outputs": [],
   "source": [
    "cols = toCheck_commonSingletons.columns.tolist()\n",
    "cols.insert(0, cols.pop(cols.index('CHROM')))\n",
    "cols.insert(1, cols.pop(cols.index('POS')))\n",
    "toCheck_commonSingletons = toCheck_commonSingletons[cols]\n",
    "toCheck_commonSingletons['Class'] = 'gatkSingletons_inFreebayes'"
   ]
  },
  {
   "cell_type": "code",
   "execution_count": 32,
   "metadata": {},
   "outputs": [],
   "source": [
    "np.random.seed(42)\n",
    "toCheck_commonSingletons_sample = toCheck_commonSingletons.sample(n = 50)\n",
    "toCheck_gatk_uniqueSingletons_sample = gatk_uniqueSingletons.sample(n = 50)"
   ]
  },
  {
   "cell_type": "code",
   "execution_count": 33,
   "metadata": {},
   "outputs": [],
   "source": [
    "toCheck_allSites = pd.concat([toCheck_lowFreqBias, toCheck_commonSingletons_sample, toCheck_gatk_uniqueSingletons_sample]).sort_values(by=['CHROM', 'POS'])"
   ]
  },
  {
   "cell_type": "code",
   "execution_count": 34,
   "metadata": {},
   "outputs": [
    {
     "data": {
      "text/html": [
       "<div>\n",
       "<style scoped>\n",
       "    .dataframe tbody tr th:only-of-type {\n",
       "        vertical-align: middle;\n",
       "    }\n",
       "\n",
       "    .dataframe tbody tr th {\n",
       "        vertical-align: top;\n",
       "    }\n",
       "\n",
       "    .dataframe thead th {\n",
       "        text-align: right;\n",
       "    }\n",
       "</style>\n",
       "<table border=\"1\" class=\"dataframe\">\n",
       "  <thead>\n",
       "    <tr style=\"text-align: right;\">\n",
       "      <th></th>\n",
       "      <th>CHROM</th>\n",
       "      <th>POS</th>\n",
       "      <th>AC_1_free</th>\n",
       "      <th>AC_1_gatk</th>\n",
       "      <th>AF_1_free</th>\n",
       "      <th>AF_1_gatk</th>\n",
       "      <th>ALT_1_free</th>\n",
       "      <th>ALT_1_gatk</th>\n",
       "      <th>AN_free</th>\n",
       "      <th>AN_gatk</th>\n",
       "      <th>DP_free</th>\n",
       "      <th>DP_gatk</th>\n",
       "      <th>QUAL_free</th>\n",
       "      <th>QUAL_gatk</th>\n",
       "      <th>REF_free</th>\n",
       "      <th>REF_gatk</th>\n",
       "      <th>Class</th>\n",
       "    </tr>\n",
       "  </thead>\n",
       "  <tbody>\n",
       "    <tr>\n",
       "      <th>149</th>\n",
       "      <td>CM019101.1</td>\n",
       "      <td>8899537</td>\n",
       "      <td>4.0</td>\n",
       "      <td>1</td>\n",
       "      <td>0.017544</td>\n",
       "      <td>0.004425</td>\n",
       "      <td>T</td>\n",
       "      <td>T</td>\n",
       "      <td>228.0</td>\n",
       "      <td>226</td>\n",
       "      <td>793.0</td>\n",
       "      <td>670</td>\n",
       "      <td>89.800003</td>\n",
       "      <td>52.650002</td>\n",
       "      <td>A</td>\n",
       "      <td>A</td>\n",
       "      <td>gatkSingletons_inFreebayes</td>\n",
       "    </tr>\n",
       "    <tr>\n",
       "      <th>2740</th>\n",
       "      <td>CM019101.1</td>\n",
       "      <td>8905403</td>\n",
       "      <td>NaN</td>\n",
       "      <td>1</td>\n",
       "      <td>NaN</td>\n",
       "      <td>0.004386</td>\n",
       "      <td>NaN</td>\n",
       "      <td>T</td>\n",
       "      <td>NaN</td>\n",
       "      <td>228</td>\n",
       "      <td>NaN</td>\n",
       "      <td>1033</td>\n",
       "      <td>NaN</td>\n",
       "      <td>124.820000</td>\n",
       "      <td>NaN</td>\n",
       "      <td>A</td>\n",
       "      <td>gatkSingletons_notInFreebayes</td>\n",
       "    </tr>\n",
       "    <tr>\n",
       "      <th>1907</th>\n",
       "      <td>CM019101.1</td>\n",
       "      <td>11353694</td>\n",
       "      <td>99.0</td>\n",
       "      <td>3</td>\n",
       "      <td>0.426724</td>\n",
       "      <td>0.015000</td>\n",
       "      <td>G</td>\n",
       "      <td>G</td>\n",
       "      <td>232.0</td>\n",
       "      <td>198</td>\n",
       "      <td>1108.0</td>\n",
       "      <td>1081</td>\n",
       "      <td>5422.379883</td>\n",
       "      <td>279.299988</td>\n",
       "      <td>A</td>\n",
       "      <td>A</td>\n",
       "      <td>lowFreqBias</td>\n",
       "    </tr>\n",
       "    <tr>\n",
       "      <th>1908</th>\n",
       "      <td>CM019101.1</td>\n",
       "      <td>11353702</td>\n",
       "      <td>97.0</td>\n",
       "      <td>2</td>\n",
       "      <td>0.418103</td>\n",
       "      <td>0.010000</td>\n",
       "      <td>T</td>\n",
       "      <td>T</td>\n",
       "      <td>232.0</td>\n",
       "      <td>196</td>\n",
       "      <td>1058.0</td>\n",
       "      <td>1046</td>\n",
       "      <td>4162.029785</td>\n",
       "      <td>222.110001</td>\n",
       "      <td>C</td>\n",
       "      <td>C</td>\n",
       "      <td>lowFreqBias</td>\n",
       "    </tr>\n",
       "    <tr>\n",
       "      <th>357</th>\n",
       "      <td>CM019101.1</td>\n",
       "      <td>11415365</td>\n",
       "      <td>1.0</td>\n",
       "      <td>1</td>\n",
       "      <td>0.004167</td>\n",
       "      <td>0.004167</td>\n",
       "      <td>T</td>\n",
       "      <td>T</td>\n",
       "      <td>240.0</td>\n",
       "      <td>240</td>\n",
       "      <td>2613.0</td>\n",
       "      <td>2485</td>\n",
       "      <td>216.539993</td>\n",
       "      <td>280.220001</td>\n",
       "      <td>C</td>\n",
       "      <td>C</td>\n",
       "      <td>gatkSingletons_inFreebayes</td>\n",
       "    </tr>\n",
       "    <tr>\n",
       "      <th>...</th>\n",
       "      <td>...</td>\n",
       "      <td>...</td>\n",
       "      <td>...</td>\n",
       "      <td>...</td>\n",
       "      <td>...</td>\n",
       "      <td>...</td>\n",
       "      <td>...</td>\n",
       "      <td>...</td>\n",
       "      <td>...</td>\n",
       "      <td>...</td>\n",
       "      <td>...</td>\n",
       "      <td>...</td>\n",
       "      <td>...</td>\n",
       "      <td>...</td>\n",
       "      <td>...</td>\n",
       "      <td>...</td>\n",
       "      <td>...</td>\n",
       "    </tr>\n",
       "    <tr>\n",
       "      <th>14515</th>\n",
       "      <td>CM019116.1</td>\n",
       "      <td>35010899</td>\n",
       "      <td>7.0</td>\n",
       "      <td>1</td>\n",
       "      <td>0.029167</td>\n",
       "      <td>0.004274</td>\n",
       "      <td>A</td>\n",
       "      <td>A</td>\n",
       "      <td>240.0</td>\n",
       "      <td>234</td>\n",
       "      <td>5697.0</td>\n",
       "      <td>4567</td>\n",
       "      <td>900.820007</td>\n",
       "      <td>304.570007</td>\n",
       "      <td>C</td>\n",
       "      <td>C</td>\n",
       "      <td>gatkSingletons_inFreebayes</td>\n",
       "    </tr>\n",
       "    <tr>\n",
       "      <th>14557</th>\n",
       "      <td>CM019116.1</td>\n",
       "      <td>35014904</td>\n",
       "      <td>1.0</td>\n",
       "      <td>1</td>\n",
       "      <td>0.004464</td>\n",
       "      <td>0.004464</td>\n",
       "      <td>C</td>\n",
       "      <td>C</td>\n",
       "      <td>224.0</td>\n",
       "      <td>224</td>\n",
       "      <td>760.0</td>\n",
       "      <td>746</td>\n",
       "      <td>48.480000</td>\n",
       "      <td>61.599998</td>\n",
       "      <td>A</td>\n",
       "      <td>A</td>\n",
       "      <td>gatkSingletons_inFreebayes</td>\n",
       "    </tr>\n",
       "    <tr>\n",
       "      <th>261515</th>\n",
       "      <td>CM019116.1</td>\n",
       "      <td>39421760</td>\n",
       "      <td>NaN</td>\n",
       "      <td>1</td>\n",
       "      <td>NaN</td>\n",
       "      <td>0.004348</td>\n",
       "      <td>NaN</td>\n",
       "      <td>T</td>\n",
       "      <td>NaN</td>\n",
       "      <td>230</td>\n",
       "      <td>NaN</td>\n",
       "      <td>706</td>\n",
       "      <td>NaN</td>\n",
       "      <td>145.330002</td>\n",
       "      <td>NaN</td>\n",
       "      <td>C</td>\n",
       "      <td>gatkSingletons_notInFreebayes</td>\n",
       "    </tr>\n",
       "    <tr>\n",
       "      <th>14662</th>\n",
       "      <td>CM019116.1</td>\n",
       "      <td>39424510</td>\n",
       "      <td>1.0</td>\n",
       "      <td>1</td>\n",
       "      <td>0.004310</td>\n",
       "      <td>0.004310</td>\n",
       "      <td>A</td>\n",
       "      <td>A</td>\n",
       "      <td>232.0</td>\n",
       "      <td>232</td>\n",
       "      <td>1462.0</td>\n",
       "      <td>1193</td>\n",
       "      <td>86.849998</td>\n",
       "      <td>156.720001</td>\n",
       "      <td>C</td>\n",
       "      <td>C</td>\n",
       "      <td>gatkSingletons_inFreebayes</td>\n",
       "    </tr>\n",
       "    <tr>\n",
       "      <th>117905</th>\n",
       "      <td>CM019116.1</td>\n",
       "      <td>41913646</td>\n",
       "      <td>95.0</td>\n",
       "      <td>40</td>\n",
       "      <td>0.409483</td>\n",
       "      <td>0.172000</td>\n",
       "      <td>G</td>\n",
       "      <td>G</td>\n",
       "      <td>232.0</td>\n",
       "      <td>232</td>\n",
       "      <td>2267.0</td>\n",
       "      <td>2077</td>\n",
       "      <td>9155.019531</td>\n",
       "      <td>3577.459961</td>\n",
       "      <td>T</td>\n",
       "      <td>T</td>\n",
       "      <td>lowFreqBias</td>\n",
       "    </tr>\n",
       "  </tbody>\n",
       "</table>\n",
       "<p>189 rows × 17 columns</p>\n",
       "</div>"
      ],
      "text/plain": [
       "             CHROM       POS  AC_1_free  AC_1_gatk  AF_1_free  AF_1_gatk  \\\n",
       "149     CM019101.1   8899537        4.0          1   0.017544   0.004425   \n",
       "2740    CM019101.1   8905403        NaN          1        NaN   0.004386   \n",
       "1907    CM019101.1  11353694       99.0          3   0.426724   0.015000   \n",
       "1908    CM019101.1  11353702       97.0          2   0.418103   0.010000   \n",
       "357     CM019101.1  11415365        1.0          1   0.004167   0.004167   \n",
       "...            ...       ...        ...        ...        ...        ...   \n",
       "14515   CM019116.1  35010899        7.0          1   0.029167   0.004274   \n",
       "14557   CM019116.1  35014904        1.0          1   0.004464   0.004464   \n",
       "261515  CM019116.1  39421760        NaN          1        NaN   0.004348   \n",
       "14662   CM019116.1  39424510        1.0          1   0.004310   0.004310   \n",
       "117905  CM019116.1  41913646       95.0         40   0.409483   0.172000   \n",
       "\n",
       "       ALT_1_free ALT_1_gatk  AN_free  AN_gatk  DP_free  DP_gatk    QUAL_free  \\\n",
       "149             T          T    228.0      226    793.0      670    89.800003   \n",
       "2740          NaN          T      NaN      228      NaN     1033          NaN   \n",
       "1907            G          G    232.0      198   1108.0     1081  5422.379883   \n",
       "1908            T          T    232.0      196   1058.0     1046  4162.029785   \n",
       "357             T          T    240.0      240   2613.0     2485   216.539993   \n",
       "...           ...        ...      ...      ...      ...      ...          ...   \n",
       "14515           A          A    240.0      234   5697.0     4567   900.820007   \n",
       "14557           C          C    224.0      224    760.0      746    48.480000   \n",
       "261515        NaN          T      NaN      230      NaN      706          NaN   \n",
       "14662           A          A    232.0      232   1462.0     1193    86.849998   \n",
       "117905          G          G    232.0      232   2267.0     2077  9155.019531   \n",
       "\n",
       "          QUAL_gatk REF_free REF_gatk                          Class  \n",
       "149       52.650002        A        A     gatkSingletons_inFreebayes  \n",
       "2740     124.820000      NaN        A  gatkSingletons_notInFreebayes  \n",
       "1907     279.299988        A        A                    lowFreqBias  \n",
       "1908     222.110001        C        C                    lowFreqBias  \n",
       "357      280.220001        C        C     gatkSingletons_inFreebayes  \n",
       "...             ...      ...      ...                            ...  \n",
       "14515    304.570007        C        C     gatkSingletons_inFreebayes  \n",
       "14557     61.599998        A        A     gatkSingletons_inFreebayes  \n",
       "261515   145.330002      NaN        C  gatkSingletons_notInFreebayes  \n",
       "14662    156.720001        C        C     gatkSingletons_inFreebayes  \n",
       "117905  3577.459961        T        T                    lowFreqBias  \n",
       "\n",
       "[189 rows x 17 columns]"
      ]
     },
     "execution_count": 34,
     "metadata": {},
     "output_type": "execute_result"
    }
   ],
   "source": [
    "toCheck_allSites.to_csv('../data/manual_snp_inspection/toCheck_MAFcorr.csv', )"
   ]
  },
  {
   "cell_type": "code",
   "execution_count": 86,
   "metadata": {},
   "outputs": [],
   "source": [
    "bed_out = '../resources/100genes_MAFcorr_toCheck.bed'\n",
    "with open(bed_out, 'w') as f:\n",
    "    for index, row in toCheck_allSites.iterrows():\n",
    "        chrom = row['CHROM']\n",
    "        start = row['POS'] - 150\n",
    "        end = row['POS'] + 150\n",
    "        \n",
    "        f.write('{0}\\t{1}\\t{2}\\n'.format(chrom, start, end))"
   ]
  },
  {
   "cell_type": "markdown",
   "metadata": {},
   "source": [
    "#### Raw\n",
    "\n",
    "- MAF correlation among overlapping SNPs in raw dataset"
   ]
  },
  {
   "cell_type": "code",
   "execution_count": 30,
   "metadata": {},
   "outputs": [],
   "source": [
    "gatk_100genes_vcf_raw_path = '../analysis/vcf/100genes/gatk/100randomGenes_120samples_snps.vcf.gz'\n",
    "gatk_100genes_raw_variantTable = import_variantTable(gatk_100genes_vcf_filtered_path, chrom='CM019101.1', filter_biallelic=True)"
   ]
  },
  {
   "cell_type": "code",
   "execution_count": 31,
   "metadata": {},
   "outputs": [
    {
     "name": "stderr",
     "output_type": "stream",
     "text": [
      "/home/santang3/.local/share/virtualenvs/gwsd-1Dt4D4sP/lib/python3.7/site-packages/allel/io/vcf_read.py:1736: UserWarning: multiple INFO headers for 'AC'\n",
      "  warnings.warn('multiple INFO headers for %r' % k)\n",
      "/home/santang3/.local/share/virtualenvs/gwsd-1Dt4D4sP/lib/python3.7/site-packages/allel/io/vcf_read.py:1736: UserWarning: multiple INFO headers for 'AF'\n",
      "  warnings.warn('multiple INFO headers for %r' % k)\n",
      "/home/santang3/.local/share/virtualenvs/gwsd-1Dt4D4sP/lib/python3.7/site-packages/allel/io/vcf_read.py:1736: UserWarning: multiple INFO headers for 'DP'\n",
      "  warnings.warn('multiple INFO headers for %r' % k)\n"
     ]
    }
   ],
   "source": [
    "free_100genes_vcf_raw_path = '../analysis/vcf/100genes/freebayes/100randomGenes_120samples_snps.vcf.gz'\n",
    "free_100genes_raw_variantTable = import_variantTable(free_100genes_vcf_raw_path, chrom='CM019101.1', filter_biallelic=True)"
   ]
  },
  {
   "cell_type": "code",
   "execution_count": 32,
   "metadata": {},
   "outputs": [],
   "source": [
    "gatk_100genes_raw_intersection, free_100genes_raw_intersection = get_intersection_indices(gatk_100genes_raw_variantTable, free_100genes_raw_variantTable)"
   ]
  },
  {
   "cell_type": "code",
   "execution_count": 33,
   "metadata": {},
   "outputs": [],
   "source": [
    "gatk_100genes_chr1_only_raw_intersection_snps = gatk_100genes_raw_variantTable[gatk_100genes_raw_intersection]\n",
    "free_100genes_chr1_only_raw_intersection_snps = free_100genes_raw_variantTable[free_100genes_raw_intersection]"
   ]
  },
  {
   "cell_type": "code",
   "execution_count": 36,
   "metadata": {},
   "outputs": [
    {
     "data": {
      "image/png": "[encoded data removed]",
      "text/plain": [
       "<Figure size 576x360 with 1 Axes>"
      ]
     },
     "metadata": {
      "needs_background": "light"
     },
     "output_type": "display_data"
    }
   ],
   "source": [
    "fig, ax = plt.subplots(figsize=(8, 5))\n",
    "sns.despine(ax=ax, offset=10)\n",
    "sns.scatterplot(gatk_100genes_chr1_only_raw_intersection_snps['AF_1'], free_100genes_chr1_only_raw_intersection_snps['AF_1'], alpha = 0.5)\n",
    "sns.lineplot(x=[0, 1], y=[0, 1], ax=ax, color='red')\n",
    "ax.set_ylabel(\"freebayes AF\")\n",
    "ax.set_xlabel(\"GATK AF\")\n",
    "plt.show()"
   ]
  },
  {
   "cell_type": "code",
   "execution_count": null,
   "metadata": {},
   "outputs": [],
   "source": []
  },
  {
   "cell_type": "code",
   "execution_count": null,
   "metadata": {},
   "outputs": [],
   "source": []
  },
  {
   "cell_type": "code",
   "execution_count": 290,
   "metadata": {},
   "outputs": [
    {
     "data": {
      "text/plain": [
       "11353694"
      ]
     },
     "execution_count": 290,
     "metadata": {},
     "output_type": "execute_result"
    }
   ],
   "source": [
    "gatk_1_index[gatk_intersection][1907]"
   ]
  },
  {
   "cell_type": "code",
   "execution_count": 291,
   "metadata": {},
   "outputs": [
    {
     "data": {
      "text/plain": [
       "11353694"
      ]
     },
     "execution_count": 291,
     "metadata": {},
     "output_type": "execute_result"
    }
   ],
   "source": [
    "free_1_index[free_intersection][1907]"
   ]
  },
  {
   "cell_type": "code",
   "execution_count": 301,
   "metadata": {},
   "outputs": [
    {
     "data": {
      "text/html": [
       "<div class=\"allel allel-DisplayAs1D\"><span>&lt;GenotypeVector shape=(107, 2) dtype=int8&gt;</span><table><thead><tr><th style=\"text-align: center\">0</th><th style=\"text-align: center\">1</th><th style=\"text-align: center\">2</th><th style=\"text-align: center\">3</th><th style=\"text-align: center\">4</th><th style=\"text-align: center\">...</th><th style=\"text-align: center\">102</th><th style=\"text-align: center\">103</th><th style=\"text-align: center\">104</th><th style=\"text-align: center\">105</th><th style=\"text-align: center\">106</th></tr></thead><tbody><tr><td style=\"text-align: center\">0/0</td><td style=\"text-align: center\">0/0</td><td style=\"text-align: center\">0/0</td><td style=\"text-align: center\">0/0</td><td style=\"text-align: center\">0/0</td><td style=\"text-align: center\">...</td><td style=\"text-align: center\">0/0</td><td style=\"text-align: center\">0/0</td><td style=\"text-align: center\">0/0</td><td style=\"text-align: center\">0/0</td><td style=\"text-align: center\">0/0</td></tr></tbody></table></div>"
      ],
      "text/plain": [
       "<GenotypeVector shape=(107, 2) dtype=int8>\n",
       "0/0 0/0 0/0 0/0 0/0 ... 0/0 0/0 0/0 0/0 0/0"
      ]
     },
     "execution_count": 301,
     "metadata": {},
     "output_type": "execute_result"
    }
   ],
   "source": [
    "gatk_1_GTarray[1907]"
   ]
  },
  {
   "cell_type": "code",
   "execution_count": 302,
   "metadata": {},
   "outputs": [
    {
     "data": {
      "text/html": [
       "<div class=\"allel allel-DisplayAs1D\"><span>&lt;GenotypeVector shape=(109, 2) dtype=int8&gt;</span><table><thead><tr><th style=\"text-align: center\">0</th><th style=\"text-align: center\">1</th><th style=\"text-align: center\">2</th><th style=\"text-align: center\">3</th><th style=\"text-align: center\">4</th><th style=\"text-align: center\">...</th><th style=\"text-align: center\">104</th><th style=\"text-align: center\">105</th><th style=\"text-align: center\">106</th><th style=\"text-align: center\">107</th><th style=\"text-align: center\">108</th></tr></thead><tbody><tr><td style=\"text-align: center\">0/0</td><td style=\"text-align: center\">0/0</td><td style=\"text-align: center\">0/0</td><td style=\"text-align: center\">0/0</td><td style=\"text-align: center\">0/0</td><td style=\"text-align: center\">...</td><td style=\"text-align: center\">0/0</td><td style=\"text-align: center\">0/0</td><td style=\"text-align: center\">0/0</td><td style=\"text-align: center\">./.</td><td style=\"text-align: center\">0/0</td></tr></tbody></table></div>"
      ],
      "text/plain": [
       "<GenotypeVector shape=(109, 2) dtype=int8>\n",
       "0/0 0/0 0/0 0/0 0/0 ... 0/0 0/0 0/0 ./. 0/0"
      ]
     },
     "execution_count": 302,
     "metadata": {},
     "output_type": "execute_result"
    }
   ],
   "source": [
    "free_1_GTarray[1907]"
   ]
  },
  {
   "cell_type": "code",
   "execution_count": null,
   "metadata": {},
   "outputs": [],
   "source": []
  }
 ],
 "metadata": {
  "kernelspec": {
   "display_name": "gwsd_venv",
   "language": "python",
   "name": "gwsd_venv"
  },
  "language_info": {
   "codemirror_mode": {
    "name": "ipython",
    "version": 3
   },
   "file_extension": ".py",
   "mimetype": "text/x-python",
   "name": "python",
   "nbconvert_exporter": "python",
   "pygments_lexer": "ipython3",
   "version": "3.7.7"
  }
 },
 "nbformat": 4,
 "nbformat_minor": 4
}
