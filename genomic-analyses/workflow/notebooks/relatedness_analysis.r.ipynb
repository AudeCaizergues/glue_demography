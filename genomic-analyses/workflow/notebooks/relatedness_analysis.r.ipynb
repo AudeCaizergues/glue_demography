{
 "cells": [
  {
   "cell_type": "code",
   "execution_count": 130,
   "metadata": {},
   "outputs": [],
   "source": [
    "library(tidyverse)\n",
    "library(fs)"
   ]
  },
  {
   "cell_type": "code",
   "execution_count": 139,
   "metadata": {
    "scrolled": true
   },
   "outputs": [],
   "source": [
    "habitat <- suppressMessages(read_delim('../../sequencing-prep/resources/low1_sampleSheet.txt', delim = '\\t')) %>% \n",
    "    dplyr::select(city, pop, site) %>% \n",
    "    mutate(pop = as.character(pop)) %>% \n",
    "    distinct()"
   ]
  },
  {
   "cell_type": "code",
   "execution_count": 277,
   "metadata": {},
   "outputs": [],
   "source": [
    "compare_relatedness <- function(path){\n",
    "    \n",
    "    city <- str_split(path_dir(path), pattern = '/', simplify = TRUE)[1,1]\n",
    "    \n",
    "    relate_df <- suppressMessages(\n",
    "        read_delim(sprintf(\n",
    "            '../results/population_structure/ngsrelate/%s/%s_4fold_ngsrelate_maf0.05.out', city, city),\n",
    "                         delim = '\\t')\n",
    "    ) %>% \n",
    "    dplyr::select(a, b, rab) %>% \n",
    "    mutate(city = city)\n",
    "    \n",
    "    bams_df <- suppressMessages(\n",
    "        read_table(sprintf('../results/program_resources/bam_lists/by_city/%s/%s_bams.list', city, city),\n",
    "                       col_names = 'bam')\n",
    "    ) %>% \n",
    "    mutate(base = basename(bam)) %>% \n",
    "    mutate(city = city,\n",
    "           pop = str_extract(base, pattern = '(?<=_)(\\\\d+)(?=_\\\\d+)')) %>% \n",
    "    dplyr::select(-bam, -base) %>% \n",
    "    mutate(order = 1:n() - 1,\n",
    "           pop = as.character(pop)) %>%\n",
    "    left_join(., habitat, by = c('city', 'pop'))\n",
    "    \n",
    "    \n",
    "    df_out <- relate_df %>% \n",
    "        pivot_longer(cols = c('a', 'b'), names_to = 'sample', values_to = 'order') %>% \n",
    "        left_join(., bams_df, by = c('order', 'city')) %>% \n",
    "        dplyr::select(-order) %>% \n",
    "        group_by(sample) %>% \n",
    "        mutate(row = row_number()) %>%\n",
    "        pivot_wider(names_from = c('sample'), values_from = c('pop', 'site')) %>%\n",
    "        dplyr::select(-row) %>% \n",
    "        mutate(comparison = case_when((pop_a == pop_b) & (site_a == 'u') ~ 'within-pop_urban',\n",
    "                                      (pop_a == pop_b) & (site_a == 'r') ~ 'within-pop_rural',\n",
    "                                      (pop_a != pop_b) & (site_a == site_b) ~ 'between-pop_within-habitat',\n",
    "                                      (pop_a != pop_b) & (site_a != site_b) ~ 'between-pop_between-habitat',\n",
    "                                      TRUE ~ 'Error')) %>% \n",
    "        ungroup() %>% \n",
    "        group_by(comparison, city) %>% \n",
    "        summarise(n = n(),\n",
    "                  mean_rab = mean(rab),\n",
    "                  se = sd(rab) / sqrt(n))\n",
    "    \n",
    "    return(df_out)\n",
    "    \n",
    "}"
   ]
  },
  {
   "cell_type": "code",
   "execution_count": 278,
   "metadata": {
    "scrolled": false
   },
   "outputs": [],
   "source": [
    "inpath <- '../results/population_structure/ngsrelate/'\n",
    "relate_df <- list.files(inpath, pattern = '*.out', recursive = TRUE) %>% \n",
    "    map_dfr(., compare_relatedness)"
   ]
  },
  {
   "cell_type": "markdown",
   "metadata": {},
   "outputs": [],
   "source": [
    "# relate_df"
   ]
  },
  {
   "cell_type": "code",
   "execution_count": 270,
   "metadata": {},
   "outputs": [],
   "source": [
    "relate_df %>% \n",
    "    filter(comparison %in% c('within-pop_urban', 'within-pop_rural')) %>% \n",
    "    ggplot(., aes(x = city, y = mean_rab, fill = comparison)) +\n",
    "    geom_bar(stat = 'identity', color = 'black', position = position_dodge(1)) +\n",
    "    geom_errorbar(aes(ymax = mean_rab + se, ymin = mean_rab - se), width = 0.15, position = position_dodge(1)) +\n",
    "    xlab('city') + ylab('Mean pairwise relatedness') +\n",
    "    theme_classic() +\n",
    "    theme(axis.text.x = element_text(angle = 45, hjust = 1))"
   ]
  },
  {
   "cell_type": "code",
   "execution_count": 279,
   "metadata": {},
   "outputs": [],
   "source": [
    "file.create(snakemake@output[[1]])"
   ]
  },
  {
   "cell_type": "code",
   "execution_count": null,
   "metadata": {},
   "outputs": [],
   "source": []
  }
 ],
 "metadata": {
  "kernelspec": {
   "display_name": "R",
   "language": "R",
   "name": "ir"
  },
  "language_info": {
   "codemirror_mode": "r",
   "file_extension": ".r",
   "mimetype": "text/x-r-source",
   "name": "R",
   "pygments_lexer": "r",
   "version": "3.6.3"
  }
 },
 "nbformat": 4,
 "nbformat_minor": 4
}
