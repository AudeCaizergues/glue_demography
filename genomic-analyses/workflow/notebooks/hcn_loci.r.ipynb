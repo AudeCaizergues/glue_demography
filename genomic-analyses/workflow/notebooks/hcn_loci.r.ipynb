{
 "cells": [
  {
   "cell_type": "code",
   "execution_count": 130,
   "metadata": {},
   "outputs": [],
   "source": [
    "library(tidyverse)\n",
    "library(data.table)\n",
    "library(ggridges)\n",
    "library(wesanderson)"
   ]
  },
  {
   "cell_type": "markdown",
   "metadata": {},
   "outputs": [],
   "source": [
    "# HCN Loci Fst outlier test\n",
    "\n",
    "- Use per-city estimates of Ac and Li deletion frequencies to estimate Hudson's Fst\n",
    "- Compare Fst at HCN loci to distribution of Fst values at 4fold sites"
   ]
  },
  {
   "cell_type": "markdown",
   "metadata": {},
   "outputs": [],
   "source": [
    "## Estimate Fst at Ac and Li\n",
    "\n",
    "- Load in Allele frequency estimates for both loci\n",
    "- Estimate Hudson's Fst\n",
    "- Return a single dataframe with Fst estimates for both loci and for all cities"
   ]
  },
  {
   "cell_type": "code",
   "execution_count": 90,
   "metadata": {},
   "outputs": [],
   "source": [
    "habitat_info <- suppressMessages(read_delim('../../sequencing-prep/resources/low1_sampleSheet.txt', delim = '\\t'))\n",
    "betaLog <- suppressMessages(read_csv('../../phenotypic-analyses/analysis/supplementary-tables/allCities_logisticReg_coefs.csv'))"
   ]
  },
  {
   "cell_type": "code",
   "execution_count": 105,
   "metadata": {},
   "outputs": [],
   "source": [
    "# Function to load genotype likelihoods\n",
    "load_gls <- function(inpath){\n",
    "    \n",
    "    df <- suppressMessages(read_delim(inpath, delim = '\\t')) %>% \n",
    "        dplyr::select(sample, ends_with('norm')) %>% \n",
    "        left_join(habitat_info, by = 'sample')\n",
    "    \n",
    "    return(df)\n",
    "    \n",
    "    \n",
    "}\n",
    "\n",
    "hudson_fst <- function(p_u, p_r, n_u, n_r){\n",
    "    \n",
    "    # Numerator\n",
    "    a <- (p_u - p_r)^2\n",
    "    b <- (p_u * (1 - p_u)) / (n_u - 1)\n",
    "    c <- (p_r * (1 - p_r)) / (n_r - 1)\n",
    "    num <- a - b - c\n",
    "    \n",
    "    # Denominator\n",
    "    d <- p_u * (1 - p_r)\n",
    "    e <- p_r * (1 - p_u)\n",
    "    denom <- d + e\n",
    "    \n",
    "    fst <- num / denom\n",
    "    \n",
    "    return(fst)\n",
    "}\n",
    "\n",
    "estimate_p <- function(df){\n",
    "    \n",
    "    df_out <- df %>% \n",
    "        group_by(city, site) %>% \n",
    "        summarise(num_aa = sum(l_aa_norm),\n",
    "                  num_Aa = sum(l_Aa_norm),\n",
    "                  num_AA = sum(l_AA_norm),\n",
    "                  n = n(),\n",
    "                  p = (num_aa * (0.5 * num_Aa)) / sum(num_aa, num_Aa, num_AA)) %>% \n",
    "        dplyr::select(-starts_with('num_')) %>% \n",
    "        pivot_wider(names_from = site, values_from = c('n', 'p')) %>% \n",
    "        mutate(fst = hudson_fst(p_u, p_r, n_u, n_r)) %>% \n",
    "        left_join(., betaLog, by = 'city')\n",
    "    \n",
    "    return(df_out)\n",
    "}\n"
   ]
  },
  {
   "cell_type": "code",
   "execution_count": 117,
   "metadata": {},
   "outputs": [],
   "source": [
    "# Load in genotype likelihoods for all samples at both loci\n",
    "# TODO: Remove 5 individuals with high alignment error rate\n",
    "ac_gls <- load_gls('../results/hcn_genotyping/ac_GLs.txt')\n",
    "li_gls <- load_gls('../results/hcn_genotyping/li_GLs.txt')"
   ]
  },
  {
   "cell_type": "code",
   "execution_count": 115,
   "metadata": {},
   "outputs": [],
   "source": [
    "# Estimate urban and rural allele frequencies from genotype likelihoods\n",
    "ac_freq <- estimate_p(ac_gls) %>% mutate(locus = 'ac')\n",
    "li_freq <- estimate_p(li_gls) %>% mutate(locus = 'li')"
   ]
  },
  {
   "cell_type": "code",
   "execution_count": 112,
   "metadata": {},
   "outputs": [],
   "source": [
    "# Combine Ac and Li allele frequencies\n",
    "all_freqs <- bind_rows(ac_freq, li_freq) %>% arrange(city)\n",
    "head(all_freqs)"
   ]
  },
  {
   "cell_type": "code",
   "execution_count": 125,
   "metadata": {},
   "outputs": [],
   "source": [
    "load_obs_fst <- function(path){\n",
    "    # Get Fst type and city from filenames\n",
    "    city <- dirname(path)\n",
    "    full_path <- paste0(inpath, path)\n",
    "    colnames <- c('chrom', 'pos', 'num', 'denom')\n",
    "    df <- suppressMessages(fread(full_path, sep = '\\t', header = FALSE, col.names = colnames)) %>%\n",
    "    \n",
    "    # Cap numerators at 0 if negative\n",
    "    # https://github.com/ANGSD/angsd/issues/309 # Does not affect overall pattern \n",
    "    mutate(num = ifelse(num < 0, 0, num),\n",
    "           fst = num / denom) %>%\n",
    "    mutate(city = city)\n",
    "    \n",
    "    return(df)\n",
    "}"
   ]
  },
  {
   "cell_type": "code",
   "execution_count": 126,
   "metadata": {},
   "outputs": [],
   "source": [
    "inpath <- '../results/angsd/summary_stats/fst/fst1/'\n",
    "fst_df <- list.files(inpath, pattern = '.*_r_u_fst1_readable.fst', recursive = TRUE) %>% \n",
    "    map_dfr(., load_obs_fst)"
   ]
  },
  {
   "cell_type": "code",
   "execution_count": 131,
   "metadata": {},
   "outputs": [],
   "source": [
    "pal <- wes_palette('Zissou1', 26, type = 'continuous') \n",
    "fst_df %>%\n",
    "    filter(fst < 0.)\n",
    "    ggplot(., aes(x = fst, y = city)) +\n",
    "    geom_density_ridges(scale = 1, show.legend = FALSE) +\n",
    "#     geom_segment(data = obs_fst_df, aes(x = fst, xend = fst, y = as.numeric(as.factor(city)),\n",
    "#                                              yend = as.numeric(as.factor(city)) + 0.9),\n",
    "#                 color = 'black', size = 0.9, linetype = 'dotted') +\n",
    "    ylab('City') + xlab('Urban-rural Fst') +\n",
    "    scale_fill_manual(values = pal) +\n",
    "#     coord_cartesian(xlim = c(0, 0.22)) +\n",
    "#     scale_x_continuous(breaks = seq(from = 0, to = 0.2, by = 0.05)) +\n",
    "    theme_classic() + theme(axis.line.x = element_line(color=\"black\",size=1),\n",
    "          axis.line.y = element_line(color=\"black\",size=1),\n",
    "          axis.ticks=element_line(color=\"black\"),\n",
    "          axis.text=element_text(color=\"black\",size=15),\n",
    "          axis.title=element_text(color=\"black\",size=1),\n",
    "          axis.title.y=element_text(vjust=2,size=17),\n",
    "          axis.title.x=element_text(vjust=0.1,size=17),\n",
    "          axis.text.x=element_text(size=13),\n",
    "          axis.text.y=element_text(size=13),\n",
    "          strip.text.x = element_text(size = 10, colour = \"black\",face = \"bold\"))"
   ]
  },
  {
   "cell_type": "code",
   "execution_count": 151,
   "metadata": {},
   "outputs": [],
   "source": [
    "fst_df %>% \n",
    "    filter(city == 'Toronto') %>% \n",
    "    ggplot(., aes(x = pos, y = fst)) +\n",
    "    geom_point(size = 0.5, alpha = 0.5) +\n",
    "    theme_classic()"
   ]
  },
  {
   "cell_type": "code",
   "execution_count": 136,
   "metadata": {},
   "outputs": [],
   "source": [
    "fst_df %>% \n",
    "    filter(city == 'Toronto') %>% \n",
    "    filter(fst > 0.5)"
   ]
  },
  {
   "cell_type": "code",
   "execution_count": 147,
   "metadata": {},
   "outputs": [],
   "source": [
    "quantile(fst_df %>% filter(city == 'Toronto' & fst !=0) %>% filter(!(is.na(fst))) %>% pull(fst), probs = c(0.025, 0.975))"
   ]
  },
  {
   "cell_type": "code",
   "execution_count": null,
   "metadata": {},
   "outputs": [],
   "source": []
  }
 ],
 "metadata": {
  "kernelspec": {
   "display_name": "R",
   "language": "R",
   "name": "ir"
  },
  "language_info": {
   "codemirror_mode": "r",
   "file_extension": ".r",
   "mimetype": "text/x-r-source",
   "name": "R",
   "pygments_lexer": "r",
   "version": "3.6.3"
  }
 },
 "nbformat": 4,
 "nbformat_minor": 4
}
