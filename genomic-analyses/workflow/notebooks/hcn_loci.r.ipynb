{
 "cells": [
  {
   "cell_type": "code",
   "execution_count": 2,
   "metadata": {},
   "outputs": [],
   "source": [
    "library(tidyverse)\n",
    "library(data.table)\n",
    "library(ggridges)\n",
    "library(wesanderson)"
   ]
  },
  {
   "cell_type": "markdown",
   "metadata": {},
   "outputs": [],
   "source": [
    "# HCN Loci Fst outlier test\n",
    "\n",
    "- Use per-city estimates of Ac and Li deletion frequencies to estimate Hudson's Fst\n",
    "- Compare Fst at HCN loci to distribution of Fst values at 4fold sites"
   ]
  },
  {
   "cell_type": "markdown",
   "metadata": {},
   "outputs": [],
   "source": [
    "## Estimate Fst at Ac and Li\n",
    "\n",
    "- Load in Allele frequency estimates for both loci\n",
    "- Estimate Hudson's Fst\n",
    "- Return a single dataframe with Fst estimates for both loci and for all cities"
   ]
  },
  {
   "cell_type": "code",
   "execution_count": 3,
   "metadata": {},
   "outputs": [],
   "source": [
    "habitat_info <- suppressMessages(read_delim('../../sequencing-prep/resources/low1_sampleSheet.txt', delim = '\\t'))\n",
    "betaLog <- suppressMessages(read_csv('../../phenotypic-analyses/analysis/supplementary-tables/allCities_logisticReg_coefs.csv'))\n",
    "cyan <- suppressMessages(read_csv('../../phenotypic-analyses/analysis/supplementary-tables/allCities_stats.csv')) %>% \n",
    "    dplyr::select(city, meanHCN)"
   ]
  },
  {
   "cell_type": "code",
   "execution_count": 4,
   "metadata": {},
   "outputs": [],
   "source": [
    "# Function to load genotype likelihoods\n",
    "load_gls <- function(inpath){\n",
    "    \n",
    "    to_remove <- c('Calgary_25_13', 'Linkoping_8_8', 'Melbourne_2_3', 'Paris_15_14', 'Paris_3_9')\n",
    "    df <- suppressMessages(read_delim(inpath, delim = '\\t')) %>% \n",
    "        dplyr::select(sample, ends_with('norm')) %>% \n",
    "        filter(!(sample %in% to_remove)) %>% \n",
    "        left_join(habitat_info, by = 'sample')\n",
    "    \n",
    "    return(df)\n",
    "    \n",
    "    \n",
    "}\n",
    "\n",
    "hudson_fst <- function(p_u, p_r, n_u, n_r){\n",
    "    \n",
    "    # Numerator\n",
    "    a <- (p_u - p_r)^2\n",
    "    b <- (p_u * (1 - p_u)) / (n_u - 1)\n",
    "    c <- (p_r * (1 - p_r)) / (n_r - 1)\n",
    "    num <- a - b - c\n",
    "    \n",
    "    # Denominator\n",
    "    d <- p_u * (1 - p_r)\n",
    "    e <- p_r * (1 - p_u)\n",
    "    denom <- d + e\n",
    "    \n",
    "    fst <- num / denom\n",
    "   \n",
    "    return(fst)\n",
    "}\n",
    "\n",
    "estimate_p <- function(df, by_site = TRUE){\n",
    "    \n",
    "    if(by_site == TRUE){\n",
    "        df_out <- df %>% \n",
    "            group_by(city, site) %>% \n",
    "            summarise(num_aa = sum(l_aa_norm),\n",
    "                      num_Aa = sum(l_Aa_norm),\n",
    "                      num_AA = sum(l_AA_norm),\n",
    "                      n = 2*n(),\n",
    "                      p = (num_aa + (0.5 * num_Aa)) / sum(num_aa, num_Aa, num_AA)) %>% \n",
    "            dplyr::select(-starts_with('num_')) %>% \n",
    "            pivot_wider(names_from = site, values_from = c('n', 'p')) %>% \n",
    "            mutate(fst = hudson_fst(p_u, p_r, n_u, n_r)) %>% \n",
    "            left_join(., betaLog, by = 'city')\n",
    "    }else{\n",
    "        df_out <- df %>% \n",
    "            group_by(city) %>% \n",
    "            summarise(num_aa = sum(l_aa_norm),\n",
    "                      num_Aa = sum(l_Aa_norm),\n",
    "                      num_AA = sum(l_AA_norm),\n",
    "                      p = (num_aa + (0.5 * num_Aa)) / sum(num_aa, num_Aa, num_AA)) %>% \n",
    "            dplyr::select(-starts_with('num_'))\n",
    "    }\n",
    "    \n",
    "    return(df_out)\n",
    "}\n"
   ]
  },
  {
   "cell_type": "code",
   "execution_count": 5,
   "metadata": {},
   "outputs": [],
   "source": [
    "# Load in genotype likelihoods for all samples at both loci\n",
    "# TODO: Remove 5 individuals with high alignment error rate\n",
    "ac_gls <- load_gls('../results/hcn_genotyping/ac_GLs.txt')\n",
    "li_gls <- load_gls('../results/hcn_genotyping/li_GLs.txt')"
   ]
  },
  {
   "cell_type": "code",
   "execution_count": 6,
   "metadata": {},
   "outputs": [],
   "source": [
    "# Estimate urban and rural allele frequencies from genotype likelihoods\n",
    "ac_freq <- estimate_p(ac_gls, by_site = TRUE) %>% mutate(locus = 'ac')\n",
    "li_freq <- estimate_p(li_gls, by_site = TRUE) %>% mutate(locus = 'li')"
   ]
  },
  {
   "cell_type": "code",
   "execution_count": 7,
   "metadata": {
    "scrolled": false
   },
   "outputs": [],
   "source": [
    "# Combine Ac and Li allele frequencies\n",
    "all_freqs <- bind_rows(ac_freq, li_freq) %>% \n",
    "    arrange(city)\n",
    "head(all_freqs)"
   ]
  },
  {
   "cell_type": "code",
   "execution_count": 8,
   "metadata": {},
   "outputs": [],
   "source": [
    "freqChange_UR <- all_freqs %>% \n",
    "    dplyr::select(city, starts_with('p_'), locus) %>% \n",
    "    pivot_wider(names_from = locus, values_from = starts_with('p_')) %>% \n",
    "    mutate(ac_change = p_u_ac - p_r_ac,\n",
    "           li_change = p_u_li - p_r_li)\n",
    "\n",
    "print(cor.test(freqChange_UR$ac_change, freqChange_UR$li_change, method = 'pearson'))\n",
    "\n",
    "freqChange_UR %>% \n",
    "    ggplot(., aes(x = ac_change, y = li_change)) +\n",
    "        geom_point(size = 3, color = 'black') +\n",
    "        geom_smooth(method = 'lm', se = FALSE, color = 'black') +\n",
    "        xlab('Urban-rural change in Ac deletion frequency') +\n",
    "        ylab('Urban-rural change in Li deletion frequency') +\n",
    "        theme_classic()"
   ]
  },
  {
   "cell_type": "markdown",
   "metadata": {},
   "outputs": [],
   "source": [
    "## Correlation between Fst and strength of cline"
   ]
  },
  {
   "cell_type": "code",
   "execution_count": 9,
   "metadata": {},
   "outputs": [],
   "source": [
    "all_freqs %>% \n",
    "    group_by(locus) %>% \n",
    "    do(broom::tidy(lm(betaLog ~ fst, data = .)))"
   ]
  },
  {
   "cell_type": "code",
   "execution_count": 10,
   "metadata": {},
   "outputs": [],
   "source": [
    "all_freqs %>% \n",
    "    group_by(locus) %>% \n",
    "    ggplot(., aes(x = fst, y = betaLog)) +\n",
    "    geom_point(size = 3, color = 'black') +\n",
    "    facet_wrap(~locus) +\n",
    "    geom_smooth(method = 'lm', se = FALSE, color = 'black') +\n",
    "    xlab('Fst') + ylab('Slope of cline (logOdds)') +\n",
    "    theme_classic()"
   ]
  },
  {
   "cell_type": "markdown",
   "metadata": {},
   "outputs": [],
   "source": [
    "## Correlation in mean HCN frequencies\n",
    "\n",
    "- Correlate the city-wide HCN frequencies from the phenotyping with the estimated HCN frequencies from the genotype likelihoods at both loci. "
   ]
  },
  {
   "cell_type": "code",
   "execution_count": 12,
   "metadata": {},
   "outputs": [],
   "source": [
    "# Create dataframe with city-wide allele frequencies and HCN frequencies\n",
    "ac_freq_wholeCity <- estimate_p(ac_gls, by_site = FALSE) %>% mutate(locus = 'ac')\n",
    "li_freq_wholeCity <- estimate_p(li_gls, by_site = FALSE) %>% mutate(locus = 'li')\n",
    "all_freqs_wholeCity <- bind_rows(ac_freq_wholeCity, li_freq_wholeCity) %>% \n",
    "    pivot_wider(names_from = locus, values_from = p) %>% \n",
    "    left_join(., cyan) %>% \n",
    "    mutate(hcn_est = 1 - (ac^2 + li^2 - (ac^2 * li^2)))"
   ]
  },
  {
   "cell_type": "code",
   "execution_count": 13,
   "metadata": {},
   "outputs": [],
   "source": [
    "# Plot mean HCN frequencies against frequencies estimated from genotype likelihoods. \n",
    "all_freqs_wholeCity %>% \n",
    "    ggplot(., aes(x = meanHCN, y = hcn_est)) +\n",
    "        geom_point(size = 3, color = 'black') +\n",
    "        geom_smooth(method = 'lm', se = FALSE, color = 'black', size = 1.5) +\n",
    "        xlab('Mean HCN frequency from phenotyping') + ylab('Estimated HCN frequency from allele frequencies') +\n",
    "        theme_classic()\n",
    "print(cor(all_freqs_wholeCity$meanHCN, all_freqs_wholeCity$hcn_est))"
   ]
  },
  {
   "cell_type": "markdown",
   "metadata": {},
   "outputs": [],
   "source": [
    "## Fst outlier analysis\n",
    "\n",
    "- Compare Fst at Ac and Li loci to distribution of Fst values along same chromosomes"
   ]
  },
  {
   "cell_type": "code",
   "execution_count": 16,
   "metadata": {},
   "outputs": [],
   "source": [
    "# Load per-site Fst values along chromosomes with Ac and Li\n",
    "load_obs_fst <- function(path){\n",
    "    \n",
    "    # Get Fst type and city from filenames\n",
    "    city <- dirname(dirname(path))\n",
    "    locus <- str_split(dirname(path), pattern = '/', simplify = TRUE)[2]\n",
    "    \n",
    "    full_path <- paste0(inpath, path)\n",
    "    colnames <- c('chrom', 'pos', 'num', 'denom')\n",
    "    df <- suppressMessages(fread(full_path, sep = '\\t', header = FALSE, col.names = colnames)) %>%\n",
    "    \n",
    "    # Cap numerators at 0 if negative\n",
    "    # https://github.com/ANGSD/angsd/issues/309 # Does not affect overall pattern \n",
    "    mutate(num = ifelse(num < 0, 0, num),\n",
    "           fst = num / denom) %>%\n",
    "    mutate(city = city,\n",
    "           locus = locus)\n",
    "    \n",
    "    return(df)\n",
    "}"
   ]
  },
  {
   "cell_type": "code",
   "execution_count": 17,
   "metadata": {},
   "outputs": [],
   "source": [
    "inpath <- '../results/angsd/summary_stats/fst/fst1/'\n",
    "obs_fst_df <- list.files(inpath, pattern = '.*_(ac|li)_4fold_r_u_fst1_readable.fst', recursive = TRUE)  %>% \n",
    "    map_dfr(., load_obs_fst)\n",
    "head(obs_fst_df)"
   ]
  },
  {
   "cell_type": "code",
   "execution_count": 94,
   "metadata": {},
   "outputs": [],
   "source": [
    "# Total number of sites and number of sites with non zero Fst by city and locus\n",
    "numSites_fst <- obs_fst_df %>% \n",
    "    group_by(city, locus) %>% \n",
    "    mutate(non_zero = ifelse(fst != 0, 1, 0)) %>% \n",
    "    summarise(nSites = n(),\n",
    "              num_nonZero = sum(non_zero, na.rm = TRUE))"
   ]
  },
  {
   "cell_type": "code",
   "execution_count": 78,
   "metadata": {},
   "outputs": [],
   "source": [
    "# Function to plot Ac and li outliers against neutral distribution\n",
    "plot_fst_dist <- function(ac_li_df, neutral_fst_df, locus_sub){\n",
    "    \n",
    "    neutral_fst_df <- neutral_fst_df %>% \n",
    "        filter(locus == locus_sub) %>% \n",
    "        filter(fst != 0) %>% \n",
    "        left_join(., betaLog, by = 'city') %>% \n",
    "        mutate(city = fct_reorder(as.factor(city), betaLog),\n",
    "               sig = case_when(betaLog > 0 & pvalLog < 0.05 ~ 'Significantly positive',\n",
    "                               betaLog < 0 & pvalLog < 0.05 ~ 'Significantly negative',\n",
    "                               TRUE ~ 'Not significant')) %>% \n",
    "        na.omit()\n",
    "    ac_li_df <- ac_li_df %>% \n",
    "        mutate(fst = ifelse(fst < 0, 0, fst),\n",
    "               sig = case_when(betaLog > 0 & pvalLog < 0.05 ~ 'Significantly positive',\n",
    "                               betaLog < 0 & pvalLog < 0.05 ~ 'Significantly negative',\n",
    "                               TRUE ~ 'Not significant')) %>% \n",
    "        filter(locus == locus_sub)\n",
    "    \n",
    "    pal <- c(\"#909090\", \"#FF0000\", \"#046C9A\")\n",
    "    plot <- ggplot(neutral_fst_df, aes(x = fst, y = city, fill = sig)) +\n",
    "        geom_density_ridges(scale = 1, show.legend = FALSE) +\n",
    "        geom_segment(data = ac_li_df, aes(x = fst, xend = fst, y = as.numeric(as.factor(city)), \n",
    "                                          yend = as.numeric(as.factor(city)) + 0.9),\n",
    "                                          color = 'black', size = 0.9, linetype = 'dotted') +\n",
    "        ylab('City') + xlab('Urban-rural Fst') +\n",
    "        scale_fill_manual(values = pal) +\n",
    "        coord_cartesian(xlim = c(0, 0.3)) +\n",
    "        scale_x_continuous(breaks = seq(from = 0, to = 0.3, by = 0.05)) +\n",
    "        theme_classic() + theme(axis.line.x = element_line(color=\"black\",size=1),\n",
    "              axis.line.y = element_line(color=\"black\",size=1),\n",
    "              axis.ticks=element_line(color=\"black\"),\n",
    "              axis.text=element_text(color=\"black\",size=15),\n",
    "              axis.title=element_text(color=\"black\",size=1),\n",
    "              axis.title.y=element_text(vjust=2,size=17),\n",
    "              axis.title.x=element_text(vjust=0.1,size=17),\n",
    "              axis.text.x=element_text(size=13),\n",
    "              axis.text.y=element_text(size=13),\n",
    "              strip.text.x = element_text(size = 10, colour = \"black\",face = \"bold\"))\n",
    "\n",
    "    return(plot)\n",
    "    \n",
    "}"
   ]
  },
  {
   "cell_type": "code",
   "execution_count": 88,
   "metadata": {},
   "outputs": [],
   "source": [
    "get_quantile <- function(df, probs = c(0.99)){\n",
    "    \n",
    "    city <- df %>% pull(city) %>% unique()\n",
    "    locus <- df %>% pull(locus) %>% unique()\n",
    "    fst <- df %>% filter(!(is.na(fst))) %>% pull(fst)\n",
    "    \n",
    "    quant <- quantile(fst, probs = probs)\n",
    "    df_out <- data.frame(city = city, locus = locus, quant = quant)\n",
    "    return(df_out)\n",
    "}"
   ]
  },
  {
   "cell_type": "code",
   "execution_count": 90,
   "metadata": {},
   "outputs": [],
   "source": [
    "neutral_fst_quantile_df <- obs_fst_df %>% \n",
    "    group_split(city, locus) %>% \n",
    "    map_dfr(., get_quantile)"
   ]
  },
  {
   "cell_type": "code",
   "execution_count": 100,
   "metadata": {},
   "outputs": [],
   "source": [
    "all_stats_df <- left_join(all_freqs, neutral_fst_quantile_df, by = c('city', 'locus')) %>% \n",
    "    left_join(., numSites_fst, by = c('city', 'locus')) %>% \n",
    "    mutate(fst = ifelse(fst < 0, 0, fst),\n",
    "           is_outlier = ifelse(fst > quant, 1, 0)) %>% \n",
    "    dplyr::select(-starts_with('n_'), -starts_with('p_'), -continent)\n",
    "all_stats_df"
   ]
  },
  {
   "cell_type": "code",
   "execution_count": 96,
   "metadata": {},
   "outputs": [],
   "source": [
    "write_csv(all_stats_df, '~/ac_li_outlier_test.csv')"
   ]
  },
  {
   "cell_type": "code",
   "execution_count": 99,
   "metadata": {},
   "outputs": [],
   "source": [
    "file.create(snakemake@output[[1]])"
   ]
  },
  {
   "cell_type": "code",
   "execution_count": null,
   "metadata": {},
   "outputs": [],
   "source": []
  }
 ],
 "metadata": {
  "kernelspec": {
   "display_name": "R",
   "language": "R",
   "name": "ir"
  },
  "language_info": {
   "codemirror_mode": "r",
   "file_extension": ".r",
   "mimetype": "text/x-r-source",
   "name": "R",
   "pygments_lexer": "r",
   "version": "3.6.3"
  }
 },
 "nbformat": 4,
 "nbformat_minor": 4
}
