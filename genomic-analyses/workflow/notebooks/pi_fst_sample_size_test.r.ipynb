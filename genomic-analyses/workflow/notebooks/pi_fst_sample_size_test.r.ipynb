{
 "cells": [
  {
   "cell_type": "code",
   "execution_count": 2,
   "metadata": {},
   "outputs": [],
   "source": [
    "# Load required packages \n",
    "library(tidyverse)"
   ]
  },
  {
   "cell_type": "markdown",
   "metadata": {},
   "outputs": [],
   "source": [
    "# Description the the data\n",
    "\n",
    "The goal of this notebook is to assess potential biases with estimating the urban-rural difference in pi\n",
    "and urban-rural Fst for cities with low sample samples sizes in at least one of the habitats. As such, I'm\n",
    "testing not only cases where both habitats have few individuals, but also biases associated with urban-rural variation\n",
    "in sample sizes.\n",
    "\n",
    "To do this, I'm using high coverage data from Toronto as a way of \"simulating\" various sampling strategies. To start, I selected 7 individuals from a single urban Toronto population, and 7 from a single rural population. These individuals had mean coverage around 12X. I then estimated urban and rural pi in these populations and urban-rural Fst using these high coverage samples. This is the \"control\".\n",
    "\n",
    "I then downsampled the urban and rural samples to approximately 1X to simulate low coverage data and re-estimated pi and Fst under varying sampling schemes for individuals within habitats. I simulated cases where each habitat was represented either by 1, 3, 5, or 7 individuals and these were fully crossed for a total of 16 comparisons. \n",
    "\n",
    "In all cases, individuals were randomly selected. Ideally, we would do this multiple times to get a sense of how selection of individuals impacts our estimates but I didn't bother with this. We can add this in if we think it's important. \n",
    "\n",
    "Finally, I used only 4fold sites along chromosome 1"
   ]
  },
  {
   "cell_type": "markdown",
   "metadata": {},
   "outputs": [],
   "source": [
    "# Diversity\n",
    "\n",
    "- Estimate rural-urban difference in thetas for difference sample sizes\n",
    "- Estimate bias as the difference between the estimated difference in theta and the \"true\" difference in theata (i.e., estimated from high coverage samples)"
   ]
  },
  {
   "cell_type": "code",
   "execution_count": 3,
   "metadata": {},
   "outputs": [],
   "source": [
    "load_div_neut_df <- function(path){\n",
    "  \n",
    "    # Get name of folder with parameter combinations\n",
    "    base <- basename(path)\n",
    "    split <- str_split(base, pattern = '_')[[1]]\n",
    "    group <- split[1]\n",
    "    habitat <- split[2]\n",
    "    num_ind <- as.integer(str_sub(split[3], start = 1, end = 1))\n",
    "\n",
    "    # Read in stats\n",
    "    full_path <- paste0(inpath, '/', path)\n",
    "    stats <- suppressMessages(read_delim(full_path, delim= '\\t', col_names = TRUE)) %>% \n",
    "    mutate(group = group,\n",
    "           habitat = habitat,\n",
    "           num_ind = num_ind,\n",
    "           tp_scaled = tP / nSites,\n",
    "           tw_scaled = tW / nSites)\n",
    "    return(stats)\n",
    "  \n",
    "}"
   ]
  },
  {
   "cell_type": "code",
   "execution_count": 4,
   "metadata": {},
   "outputs": [],
   "source": [
    "inpath <- '../results/angsd/pi_fst_sample_size_test/stats/thetas/'\n",
    "thetas_df <- list.files(inpath, pattern = '*.thetas.idx.pestPG', recursive = TRUE) %>% \n",
    "  map_dfr(., load_div_neut_df)"
   ]
  },
  {
   "cell_type": "markdown",
   "metadata": {},
   "outputs": [],
   "source": [
    "## Same sample sizes"
   ]
  },
  {
   "cell_type": "code",
   "execution_count": 5,
   "metadata": {},
   "outputs": [],
   "source": [
    "# Show raw values\n",
    "thetas_df_mod <- thetas_df %>% \n",
    "    dplyr::select(group, num_ind, habitat, tp_scaled, tw_scaled, nSites) %>% \n",
    "    pivot_wider(names_from = habitat, values_from = c(tp_scaled, tw_scaled, nSites))\n",
    "thetas_df_mod"
   ]
  },
  {
   "cell_type": "code",
   "execution_count": 6,
   "metadata": {
    "scrolled": true
   },
   "outputs": [],
   "source": [
    "# Estimate bias\n",
    "thetas_df_bias <- thetas_df_mod %>% \n",
    "    mutate(tp_diff = round(tp_scaled_rural - tp_scaled_urban, 4),\n",
    "           tw_diff = round(tw_scaled_rural - tw_scaled_urban, 4)) %>% \n",
    "    dplyr::select(group, num_ind, tp_diff, tw_diff) %>% \n",
    "    mutate(tp_bias = tp_diff[group == 'highCov'] - tp_diff,\n",
    "           tw_bias = tw_diff[group == 'highCov'] - tw_diff)\n",
    "thetas_df_bias"
   ]
  },
  {
   "cell_type": "markdown",
   "metadata": {},
   "outputs": [],
   "source": [
    "## Different sample sizes"
   ]
  },
  {
   "cell_type": "code",
   "execution_count": 7,
   "metadata": {
    "scrolled": true
   },
   "outputs": [],
   "source": [
    "thetas_df_mod2 <- thetas_df %>% \n",
    "    dplyr::select(group, num_ind, habitat, tp_scaled)  %>% \n",
    "    left_join(thetas_df %>% dplyr::select(group, num_ind, habitat, tp_scaled), suffix = c(\"1\", \"2\"), \n",
    "              by = c(\"group\", \"habitat\")) %>% \n",
    "    filter(group == 'highCov' | num_ind1 != num_ind2) %>% \n",
    "    pivot_wider(names_from = habitat, values_from = c(tp_scaled1, tp_scaled2)) %>% \n",
    "    mutate(tp_diff = round(tp_scaled1_rural - tp_scaled2_urban, 4),\n",
    "           tp_bias = tp_diff[group == 'highCov'] - tp_diff) %>% \n",
    "    dplyr::select(group, num_ind1, num_ind2, tp_diff, tp_bias)\n",
    "thetas_df_mod2"
   ]
  },
  {
   "cell_type": "markdown",
   "metadata": {},
   "outputs": [],
   "source": [
    "### My take\n",
    "\n",
    "- Bias in difference in theta estimates is only apparent at the lowest sample size (N = 1).\n",
    "- This is true as long as __one__ of the populations has N = 1\n",
    "- This is true for both pi and Waterson's theta. "
   ]
  },
  {
   "cell_type": "markdown",
   "metadata": {},
   "outputs": [],
   "source": [
    "# Fst\n",
    "\n",
    "- Uses Hudson's Fst"
   ]
  },
  {
   "cell_type": "code",
   "execution_count": 8,
   "metadata": {},
   "outputs": [],
   "source": [
    " # Function to load Fst df by city/habitat\n",
    "load_fst <- function(path){\n",
    "    \n",
    "    # Get Fst type and city from filenames\n",
    "    base <- basename(path)\n",
    "    split <- str_split(base, pattern = '_')[[1]]\n",
    "    group <- split[1]\n",
    "    urban_n <- as.integer(str_sub(split[2], start = 2, end = 2))\n",
    "    rural_n <- as.integer(str_sub(split[3], start = 2, end = 2))\n",
    "    \n",
    "    full_path <- paste0(inpath, path)\n",
    "    colnames <- c('chrom', 'pos', 'num', 'denom')\n",
    "    df <- suppressMessages(read_delim(full_path, delim = '\\t', col_names = colnames)) %>%\n",
    "        \n",
    "    # Cap numerators at 0 if negative\n",
    "    # https://github.com/ANGSD/angsd/issues/309\n",
    "    # Does not affect overall pattern\n",
    "    mutate(num = ifelse(num < 0, 0, num)) %>%\n",
    "    # Estimate weighted Fst as ratio of averages # https://github.com/ANGSD/angsd/issues/61 \n",
    "    summarise(num_sum = sum(num),\n",
    "        denom_sum = sum(denom),\n",
    "        fst = num_sum / denom_sum,\n",
    "        nSites = n()) %>%\n",
    "        mutate(group = group,\n",
    "               urban_n = urban_n,\n",
    "               rural_n = rural_n)\n",
    "    return(df)\n",
    "}"
   ]
  },
  {
   "cell_type": "code",
   "execution_count": 9,
   "metadata": {},
   "outputs": [],
   "source": [
    "inpath <- '../results/angsd/pi_fst_sample_size_test/'\n",
    "fst_df <- list.files(inpath, pattern = '*.fst$', recursive = TRUE) %>%\n",
    "    map_dfr(., load_fst)\n",
    "fst_df"
   ]
  },
  {
   "cell_type": "markdown",
   "metadata": {},
   "outputs": [],
   "source": [
    "# Same sample size"
   ]
  },
  {
   "cell_type": "code",
   "execution_count": 10,
   "metadata": {},
   "outputs": [],
   "source": [
    "fst_df_mod <- fst_df %>% \n",
    "    filter(urban_n == rural_n) %>% \n",
    "    select(urban_n, rural_n, group, fst) %>% \n",
    "    mutate(fst_bias = fst[group == 'highCov'] - fst)\n",
    "fst_df_mod"
   ]
  },
  {
   "cell_type": "markdown",
   "metadata": {},
   "outputs": [],
   "source": [
    "# Difference in sample size"
   ]
  },
  {
   "cell_type": "code",
   "execution_count": 11,
   "metadata": {},
   "outputs": [],
   "source": [
    "fst_df_mod <- fst_df %>% \n",
    "    filter(group == 'highCov' | urban_n != rural_n) %>% \n",
    "    select(urban_n, rural_n, group, fst) %>% \n",
    "    mutate(fst_bias = fst[group == 'highCov'] - fst)\n",
    "fst_df_mod"
   ]
  },
  {
   "cell_type": "markdown",
   "metadata": {},
   "outputs": [],
   "source": [
    "### My take\n",
    "\n",
    "- Once again, bias in Fst is only apparent when at least one population has N = 1\n",
    "- In some cases this bias is quite large (e.g., estimated Fst > 0.06 units away from \"true\" value)"
   ]
  },
  {
   "cell_type": "markdown",
   "metadata": {},
   "outputs": [],
   "source": [
    "## Does it matter?\n",
    "\n",
    "- Let's extract urban and rural sample sizes for cities with sample sizes of either habitat < 5\n",
    "- Let's look at the Fst estimates for these cities"
   ]
  },
  {
   "cell_type": "code",
   "execution_count": 12,
   "metadata": {},
   "outputs": [],
   "source": [
    "get_num_samples <- function(path){\n",
    "    city <- dirname(path)\n",
    "    habitat <- str_extract(basename(path), pattern = '(?<=_)[r|u]')\n",
    "    full_path <- paste0(inpath, path)\n",
    "    df <- suppressMessages(read_table(full_path, col_names = FALSE)) \n",
    "    nsamples <- nrow(df)\n",
    "    df <- data.frame(city = city, habitat = habitat, n = nsamples)\n",
    "    return(df)\n",
    "}"
   ]
  },
  {
   "cell_type": "code",
   "execution_count": 13,
   "metadata": {},
   "outputs": [],
   "source": [
    "inpath <- '../results/program_resources/bam_lists/by_city/'\n",
    "sample_size_df <- list.files(inpath, pattern = '*.list', recursive = TRUE) %>%\n",
    "    map_dfr(., get_num_samples) %>%\n",
    "    pivot_wider(names_from = habitat, values_from = n) %>% \n",
    "    filter(r < 5 | u < 5)\n",
    "sample_size_df"
   ]
  },
  {
   "cell_type": "code",
   "execution_count": 14,
   "metadata": {},
   "outputs": [],
   "source": [
    "load_fst_glue <- function(path){\n",
    "    \n",
    "    # Get Fst type and city from filenames\n",
    "    dir <- str_split(path, pattern = '/')\n",
    "    fst_type <- dir[[1]][[1]]\n",
    "    city <- dir[[1]][[2]]\n",
    "    full_path <- paste0(inpath, path)\n",
    "     colnames <- c('chrom', 'pos', 'num', 'denom')\n",
    "    df <- suppressMessages(read_delim(full_path, delim = '\\t', col_names = colnames)) %>%\n",
    "    # Cap numerators at 0 if negative\n",
    "    # https://github.com/ANGSD/angsd/issues/309\n",
    "    # Does not affect overall pattern\n",
    "    mutate(num = ifelse(num < 0, 0, num)) %>%\n",
    "    # Estimate weighted Fst as ratio of averages \n",
    "    # https://github.com/ANGSD/angsd/issues/61 \n",
    "    summarise(num_sum = sum(num),\n",
    "            denom_sum = sum(denom),\n",
    "            fst = num_sum / denom_sum,\n",
    "            nSites = n()) %>%\n",
    "    mutate(fst_type = ifelse(fst_type == 'fst0', 'wc', 'hudson'),\n",
    "            city = city)\n",
    "    return(df) \n",
    "}"
   ]
  },
  {
   "cell_type": "code",
   "execution_count": 15,
   "metadata": {},
   "outputs": [],
   "source": [
    "cities <- sample_size_df %>% pull(city)\n",
    "inpath <- '../results/angsd/summary_stats/fst/'\n",
    "fst_df <- list.files(inpath, pattern = '*_readable.fst', recursive = TRUE) %>%\n",
    "    map_dfr(., load_fst_glue) %>% \n",
    "    filter(city %in% cities & fst_type == 'hudson')"
   ]
  },
  {
   "cell_type": "code",
   "execution_count": 16,
   "metadata": {},
   "outputs": [],
   "source": [
    "fst_df %>% \n",
    "    left_join(., sample_size_df, by = 'city') %>% \n",
    "    dplyr::select(city, r, u, fst)"
   ]
  },
  {
   "cell_type": "markdown",
   "metadata": {},
   "outputs": [],
   "source": [
    "### My take\n",
    "\n",
    "- Fst for Kyoto is really high and has only a single rural sample. I don't trust this Fst\n",
    "- The rest of the cities are probably fine. Melbourne has second highest Fst value, but \"simulation\" above suggests minimal bias when both habitats have 3 samples, so I would leave it in. "
   ]
  },
  {
   "cell_type": "code",
   "execution_count": 17,
   "metadata": {},
   "outputs": [],
   "source": [
    "outpath = snakemake@output[[1]]\n",
    "print(outpath)\n",
    "file.create(outpath)"
   ]
  },
  {
   "cell_type": "code",
   "execution_count": null,
   "metadata": {},
   "outputs": [],
   "source": []
  }
 ],
 "metadata": {
  "kernelspec": {
   "display_name": "R",
   "language": "R",
   "name": "ir"
  },
  "language_info": {
   "codemirror_mode": "r",
   "file_extension": ".r",
   "mimetype": "text/x-r-source",
   "name": "R",
   "pygments_lexer": "r",
   "version": "3.6.3"
  }
 },
 "nbformat": 4,
 "nbformat_minor": 4
}
