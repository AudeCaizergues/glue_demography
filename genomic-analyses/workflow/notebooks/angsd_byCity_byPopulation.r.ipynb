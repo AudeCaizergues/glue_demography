{
 "cells": [
  {
   "cell_type": "code",
   "execution_count": 45,
   "metadata": {},
   "outputs": [],
   "source": [
    "library(tidyverse)\n",
    "library(ggrepel)"
   ]
  },
  {
   "cell_type": "code",
   "execution_count": 26,
   "metadata": {},
   "outputs": [],
   "source": [
    "load_population_diversity <- function(path){\n",
    "    \n",
    "    city <- dirname(dirname(path))\n",
    "    base <- basename(path)\n",
    "    pop <- str_extract(base, '(?<=\\\\w_)\\\\d+(?=_4fold)')\n",
    "    \n",
    "    full_path <- paste0(inpath, '/', path)\n",
    "    df <- suppressMessages(read_delim(full_path, delim = '\\t')) %>% \n",
    "        mutate(city = city,\n",
    "               pop = as.character(pop),\n",
    "               tp_scaled = tP / nSites) %>% \n",
    "    dplyr::select(city, pop, tp_scaled, nSites)\n",
    "    return(df)\n",
    "}"
   ]
  },
  {
   "cell_type": "code",
   "execution_count": 27,
   "metadata": {},
   "outputs": [],
   "source": [
    "inpath <- '../results/angsd/summary_stats/thetas/by_city/'\n",
    "pop_div_df <- list.files(inpath, pattern = '.*_\\\\d+_4fold.thetas.idx.pestPG', recursive = TRUE) %>% \n",
    "    map_dfr(., load_population_diversity)"
   ]
  },
  {
   "cell_type": "code",
   "execution_count": 29,
   "metadata": {},
   "outputs": [],
   "source": [
    "habitats <- suppressMessages(read_delim('../../sequencing-prep/resources/low1_sampleSheet.txt', delim = '\\t')) %>% \n",
    "    mutate(pop = as.character(pop))\n",
    "pop_div_df <- pop_div_df %>% \n",
    "    left_join(., habitats, by = c('city', 'pop'))"
   ]
  },
  {
   "cell_type": "code",
   "execution_count": 53,
   "metadata": {},
   "outputs": [],
   "source": [
    "pop_div_df %>% \n",
    "    group_by(city, site) %>% \n",
    "    summarize(mean = mean(tp_scaled),\n",
    "              se = sd(tp_scaled) / sqrt(n())) %>% \n",
    "    ungroup() %>% \n",
    "    ggplot(., aes(x = site, y = mean, color = city, label = city)) +\n",
    "        geom_point(size = 1) + \n",
    "#         geom_errorbar(aes(ymax = mean + se, ymin = mean - se), width = 0.15) +\n",
    "        geom_line(aes(group = city)) +\n",
    "        geom_text_repel(point.size = NA) +\n",
    "        theme_classic() + theme(legend.position = 'none')"
   ]
  },
  {
   "cell_type": "code",
   "execution_count": null,
   "metadata": {},
   "outputs": [],
   "source": []
  }
 ],
 "metadata": {
  "kernelspec": {
   "display_name": "R",
   "language": "R",
   "name": "ir"
  },
  "language_info": {
   "codemirror_mode": "r",
   "file_extension": ".r",
   "mimetype": "text/x-r-source",
   "name": "R",
   "pygments_lexer": "r",
   "version": "3.6.3"
  }
 },
 "nbformat": 4,
 "nbformat_minor": 4
}
