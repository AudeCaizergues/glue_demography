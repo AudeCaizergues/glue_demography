{
 "cells": [
  {
   "cell_type": "code",
   "execution_count": 16,
   "metadata": {},
   "outputs": [],
   "source": [
    "# Load packages\n",
    "library(tidyverse)\n",
    "library(wesanderson)"
   ]
  },
  {
   "cell_type": "markdown",
   "metadata": {},
   "outputs": [],
   "source": [
    "# Global patterns of diversity and structure\n",
    "\n",
    "In this notebook, we'll analyze the output fron `ANGSD` run using 495 samples sampled from urban and rural habitats across 25 cities. Specifically, we'll look at:\n",
    "\n",
    "1. Sequencing depth across all samples. This is mostly a check to see whether our maximum depth threshold used in genotype likelihoos and SFS estimation is reasonable.\n",
    "2. General shape of the SFS estimated using all sites, 4-fold sites, and 0-fold sites across the genome\n",
    "3. Genome-wide average pairwise genetic diversity (Theta<sub>pi</sub>) across all samples. Done for all sites, 4-fold sites, and 0-fold sites.\n",
    "4. PCA showing population clustering of all 495 samples using 4-fold sites only"
   ]
  },
  {
   "cell_type": "markdown",
   "metadata": {},
   "outputs": [],
   "source": [
    "## Sequencing depth\n",
    "\n",
    "We'll look at the depth distribution across all 495 samples using a single chromosome as an example\n",
    "\n",
    "### Load in depth dataset"
   ]
  },
  {
   "cell_type": "code",
   "execution_count": 75,
   "metadata": {},
   "outputs": [],
   "source": [
    "# Load in data and transform\n",
    "depth_df <- suppressMessages(\n",
    "    read_delim(\n",
    "        '..//results//angsd/depth/CM019101.1/CM019101.1_allSamples_allSites.depthGlobal',\n",
    "                      delim = '\\t', col_names = FALSE)) %>% \n",
    "    t() %>% \n",
    "    as.data.frame() %>% \n",
    "    rename('num_sites' = 'V1') %>% \n",
    "    mutate(cov = 1:n() - 1)"
   ]
  },
  {
   "cell_type": "markdown",
   "metadata": {},
   "outputs": [],
   "source": [
    "The dataset as 10,000 rows. Each row represents the total number of sites with a total X coverage. The exception is bin 10,000, which represents the number of sites with coverage equal or greater than 10,000."
   ]
  },
  {
   "cell_type": "code",
   "execution_count": 4,
   "metadata": {},
   "outputs": [],
   "source": [
    "head(depth_df)"
   ]
  },
  {
   "cell_type": "markdown",
   "metadata": {},
   "outputs": [],
   "source": [
    "### Histogram of sequencing coverage\n",
    "\n",
    "Plotting histogram of number of sites at each X coverage along chromosome 1.\n",
    "\n",
    "Red dashed line is the max depth cutoff used when estimating genotype likelihoods and the SFS. Sites with depth great than this cutoff were excluded. \n",
    "\n",
    "- This depth (1250X) was calculated as 2 x the mean coverage from qualimap (1.25X) x Number of samples (500)\n",
    "- I didn't bother recalculating max depth when we switched from 500 to 495 samples. "
   ]
  },
  {
   "cell_type": "code",
   "execution_count": 5,
   "metadata": {
    "scrolled": true
   },
   "outputs": [],
   "source": [
    "depth_cutoff <- 1250\n",
    "depthGlobal_plot <- ggplot(depth_df, aes(x = cov, y = num_sites)) +\n",
    "    geom_bar(stat = 'identity', color = 'black', fill = 'white') + \n",
    "    xlab('Coverage') + ylab('Number of sites') +\n",
    "    theme_classic() + \n",
    "    geom_vline(xintercept = depth_cutoff, linetype = 'dashed', color = 'red') +\n",
    "    theme(axis.text = element_text(size = 13),\n",
    "        axis.title = element_text(size = 15))\n",
    "depthGlobal_plot"
   ]
  },
  {
   "cell_type": "code",
   "execution_count": 6,
   "metadata": {},
   "outputs": [],
   "source": [
    "# Estimate proportion of sites abe and below cutoff\n",
    "total_sites <- sum(depth_df$num_sites, na.rm = TRUE)\n",
    "depth_df %>% \n",
    "    mutate(is_below_cutoff = ifelse(cov <= depth_cutoff, 1, 0)) %>% \n",
    "    group_by(is_below_cutoff) %>% \n",
    "    summarize(site_count = sum(num_sites, na.rm = TRUE),\n",
    "              prop = site_count / total_sites)"
   ]
  },
  {
   "cell_type": "code",
   "execution_count": 8,
   "metadata": {},
   "outputs": [],
   "source": [
    "# Save plot\n",
    "outpath <- snakemake@output[[1]]\n",
    "print(outpath)\n",
    "ggsave(filename = outpath, plot = depthGlobal_plot, device = 'png', \n",
    "       dpi = 300, width = 8, height = 8, units = 'cm')"
   ]
  },
  {
   "cell_type": "markdown",
   "metadata": {},
   "outputs": [],
   "source": [
    "### My take\n",
    "\n",
    "- Most sites have 1 to 2X coverage\n",
    "- As coverage increases beyond 2X, there is a gradual decline in the number of sites for a given depth\n",
    "- 1250X is a reasonable cutoff and captures 98% of all sites. "
   ]
  },
  {
   "cell_type": "markdown",
   "metadata": {},
   "outputs": [],
   "source": [
    "## SFS and diversity\n",
    "\n",
    "Here I'll plot the SFS for all sites across the genome, in additional to subsets of degenerate sites (4-fold and 0-fold). We'll similarly estimate diversity as the genome-wide average of pairwise nucleotide differences for these same sets of sites. \n",
    "\n",
    "- Filters applied on on sites:\n",
    "    - Minimum phred-scaled read mapping quality of 30\n",
    "    - Minimimum phred-scaled base quality of 20\n",
    "    - Max depth of 1250X across all individuals\n",
    "    - 50% of all individuals required to have at least 1 read\n",
    "    \n",
    "In addition to the above filters, genotype likelihoods are estimated using the `samtools` model with the `samtools` \"extended BAQ\" algorithm to re-assign base quality scores around INDELS. "
   ]
  },
  {
   "cell_type": "markdown",
   "metadata": {},
   "outputs": [],
   "source": [
    "### SFS\n",
    "\n",
    "#### Load in SFS data as single dataframe"
   ]
  },
  {
   "cell_type": "code",
   "execution_count": 73,
   "metadata": {},
   "outputs": [],
   "source": [
    "load_long_sfs <- function(path){\n",
    "  \n",
    "    # Get name of folder with parameter combinations\n",
    "    dirname <- dirname(path)\n",
    "\n",
    "    # Read in SFS\n",
    "    full_path <- paste0(inpath, '/', path)\n",
    "    sfs <- suppressMessages(read_delim(full_path, delim= '\\t', col_names = FALSE)) %>% \n",
    "    as.data.frame() %>% \n",
    "    rename('maf' = 'X1',\n",
    "           'num_sites' = 'X2') %>% \n",
    "    filter(num_sites != 0) %>%  #  folded SFS so samples > # of samples will be 0\n",
    "    mutate(prop_sites = num_sites / sum(num_sites),\n",
    "           site = dirname)\n",
    "    return(sfs)\n",
    "}"
   ]
  },
  {
   "cell_type": "code",
   "execution_count": 74,
   "metadata": {},
   "outputs": [],
   "source": [
    "inpath <- '../results/angsd/sfs/'\n",
    "sfs_df <- list.files(inpath, pattern = '*allChroms.sfs', recursive = TRUE) %>% \n",
    "  map_dfr(., load_long_sfs)"
   ]
  },
  {
   "cell_type": "code",
   "execution_count": 19,
   "metadata": {},
   "outputs": [],
   "source": [
    "# Quick look at the da\n",
    "head(sfs_df)"
   ]
  },
  {
   "cell_type": "markdown",
   "metadata": {},
   "outputs": [],
   "source": [
    "#### Plot SFS\n",
    "\n",
    "- Only plotting minor allele frequence from 1/495 to 25/495 for clarity"
   ]
  },
  {
   "cell_type": "code",
   "execution_count": 20,
   "metadata": {},
   "outputs": [],
   "source": [
    "# How many sites in each category?\n",
    "sfs_df %>% \n",
    "    group_by(site) %>% \n",
    "    summarize(total_sites = sum(num_sites))"
   ]
  },
  {
   "cell_type": "code",
   "execution_count": 76,
   "metadata": {},
   "outputs": [],
   "source": [
    "# SFS with for all sites, 0fold, and 4fold sites\n",
    "# Invariant sites not plotted\n",
    "# Only show up to 25-tons\n",
    "cols <- wes_palette(\"Darjeeling1\", n = 3, type = 'discrete')\n",
    "sfs_plot <- sfs_df %>% \n",
    "  filter(maf != 0 & maf <= 25)  %>%\n",
    "  ggplot(., aes(x = maf, y = prop_sites, fill = site)) + \n",
    "  geom_bar(stat ='identity', color = 'black',  width=.70, position = \"dodge\") + \n",
    "  ylab('Proportion of sites') + xlab('Minor allele frequency') +\n",
    "  scale_fill_manual(values = cols) +\n",
    "  scale_x_continuous(breaks = seq(1, 40, 3)) +\n",
    "  scale_y_continuous(breaks = seq(0, 0.13, 0.01)) + \n",
    "  theme_classic() + \n",
    "  theme(axis.text = element_text(size = 13),\n",
    "        axis.title = element_text(size = 15))\n",
    "sfs_plot"
   ]
  },
  {
   "cell_type": "code",
   "execution_count": 77,
   "metadata": {},
   "outputs": [],
   "source": [
    "# Save plot\n",
    "outpath <- snakemake@output[[2]]\n",
    "print(outpath)\n",
    "ggsave(filename = outpath, plot = sfs_plot, device = 'png', \n",
    "       dpi = 300, width = 8, height = 8, units = 'cm')"
   ]
  },
  {
   "cell_type": "markdown",
   "metadata": {},
   "outputs": [],
   "source": [
    "#### My take\n",
    "\n",
    "- This SFS looks a little suspicious. Why is there more 4-fold than 0-fold rare variants? We see the same thing in the Toronto data. Though we do see more 0-fold invariant, as expected (not shown)"
   ]
  },
  {
   "cell_type": "markdown",
   "metadata": {},
   "outputs": [],
   "source": [
    "### Diversity\n",
    "\n",
    "#### Load in diversity dataframes"
   ]
  },
  {
   "cell_type": "code",
   "execution_count": 64,
   "metadata": {},
   "outputs": [],
   "source": [
    "load_div_neut_df <- function(path){\n",
    "  \n",
    "    # Get name of folder with parameter combinations\n",
    "    dirname <- dirname(path)\n",
    "\n",
    "    # Read in stats\n",
    "    full_path <- paste0(inpath, '/', path)\n",
    "    stats <- suppressMessages(read_delim(full_path, delim= '\\t', col_names = TRUE)) %>% \n",
    "    mutate(site = dirname,\n",
    "           tp_scaled = tP / nSites,\n",
    "           tw_scaled = tW / nSites)\n",
    "    return(stats)\n",
    "  \n",
    "}"
   ]
  },
  {
   "cell_type": "code",
   "execution_count": 65,
   "metadata": {},
   "outputs": [],
   "source": [
    "inpath <- '../results/angsd/summary_stats/thetas/'\n",
    "thetas_df <- list.files(inpath, pattern = 'allChroms.thetas.idx.pestPG', recursive = TRUE) %>% \n",
    "  map_dfr(., load_div_neut_df)"
   ]
  },
  {
   "cell_type": "code",
   "execution_count": 25,
   "metadata": {
    "scrolled": true
   },
   "outputs": [],
   "source": [
    "# tp is theta_pi\n",
    "# tw is theta_waterson\n",
    "# td is Tajima's D\n",
    "thetas_df %>% \n",
    "  group_by(site) %>% \n",
    "  summarise(total_sites = sum(nSites),\n",
    "            mean_tp = mean(tp_scaled),\n",
    "            mean_tw = mean(tw_scaled), \n",
    "            mean_td = mean(Tajima))"
   ]
  },
  {
   "cell_type": "markdown",
   "metadata": {},
   "outputs": [],
   "source": [
    "#### My take\n",
    "\n",
    "- Looks good. Lower diversity at 0-fold sites, as expected\n",
    "- 1.7% diversity worldwide, slightly higher than the estimate of 1.55% in Toronto"
   ]
  },
  {
   "cell_type": "markdown",
   "metadata": {},
   "outputs": [],
   "source": [
    "## PCA\n",
    "\n",
    "- PCA is performed on genotype likelihoods\n",
    "- Filtering criteria the same as those above with one exception:\n",
    "    - This is based only on variant sites with MAF > 0.05"
   ]
  },
  {
   "cell_type": "markdown",
   "metadata": {},
   "outputs": [],
   "source": [
    "### Load in data"
   ]
  },
  {
   "cell_type": "code",
   "execution_count": 67,
   "metadata": {},
   "outputs": [],
   "source": [
    "# Load covariance matrix from PCAngsd\n",
    "cov_mat <- suppressMessages(\n",
    "    read_delim(\n",
    "        '../results//population_structure//pcangsd//allSamples_4fold_maf0.05_pcangsd.cov', \n",
    "                      col_names = FALSE, delim = ' ')) %>% \n",
    "      as.matrix()\n",
    "\n",
    "# Load data with continent info\n",
    "continent <- suppressMessages(\n",
    "    read_delim(\n",
    "        '../../sequencing-prep/data-clean/low-1/plantsToPrep_low1.csv', \n",
    "                           delim = ',')) %>% \n",
    "    dplyr::select(continent, city, pop, individual)\n",
    "\n",
    "# Load sata with habitat info\n",
    "habitat_info <- suppressMessages(\n",
    "    read_delim(\n",
    "        '../resources/low1_libraryConcentrations.csv', \n",
    "                           delim = ',')) %>% \n",
    "    dplyr::select(city, pop, individual, site, plantID) %>% \n",
    "    left_join(., continent, by = c('city', 'pop', 'individual'))\n",
    "\n",
    "# Combine continent and habitat data with sample order from ANGSD\n",
    "samples <- suppressMessages(\n",
    "    read_table(\n",
    "        '../results/program_resources/angsd_sample_order.txt', col_names = FALSE) %>% \n",
    "  rename('plantID' = 'X1')) %>%\n",
    "  left_join(., habitat_info, by = 'plantID')"
   ]
  },
  {
   "cell_type": "markdown",
   "metadata": {},
   "outputs": [],
   "source": [
    "### Perform the PCA and summarize"
   ]
  },
  {
   "cell_type": "code",
   "execution_count": 68,
   "metadata": {},
   "outputs": [],
   "source": [
    "# Summary of PCA\n",
    "# 17% explained by PC1\n",
    "# 7% explained by PC2\n",
    "# < 1% for all remaining PCs\n",
    "summary(princomp(cov_mat))"
   ]
  },
  {
   "cell_type": "code",
   "execution_count": 29,
   "metadata": {},
   "outputs": [],
   "source": [
    "# Dataframe with eigenvectors\n",
    "eigenvectors <- eigen(cov_mat)\n",
    "eigen_df <- eigenvectors$vectors %>% \n",
    "  as.data.frame() %>% \n",
    "  dplyr::select(V1, V2, V3, V4) %>% \n",
    "  rename('PC1' = 'V1',\n",
    "         'PC2' = 'V2', \n",
    "         'PC3' = 'V3',\n",
    "         'PC4' = 'V4') %>% \n",
    "  bind_cols(., samples)"
   ]
  },
  {
   "cell_type": "markdown",
   "metadata": {},
   "outputs": [],
   "source": [
    "#### Plot the PCA"
   ]
  },
  {
   "cell_type": "markdown",
   "metadata": {},
   "outputs": [],
   "source": [
    "__Colored by habitat__"
   ]
  },
  {
   "cell_type": "code",
   "execution_count": 78,
   "metadata": {},
   "outputs": [],
   "source": [
    "# Plot\n",
    "col1 <- wes_palette(\"Darjeeling1\", n = 5, type = 'discrete')[2]\n",
    "col2 <- wes_palette(\"Darjeeling1\", n = 5, type = 'discrete')[4]\n",
    "cols <- c(col1, col2)\n",
    "pca_byHabitat <- ggplot(eigen_df, aes(x = PC1, y = PC2, color = site)) +\n",
    "  geom_point(size = 2.5) + \n",
    "  scale_color_manual(values = cols) + \n",
    "  theme_classic() + \n",
    "  xlab('PC1 (17%)') + ylab('PC2 (7%)') +\n",
    "  theme(axis.text = element_text(size = 13),\n",
    "        axis.title = element_text(size = 15))\n",
    "pca_byHabitat"
   ]
  },
  {
   "cell_type": "code",
   "execution_count": 79,
   "metadata": {},
   "outputs": [],
   "source": [
    "# Save plot\n",
    "outpath <- snakemake@output[[3]]\n",
    "print(outpath)\n",
    "ggsave(filename = outpath, plot = pca_byHabitat, device = 'png', \n",
    "       dpi = 300, width = 8, height = 8, units = 'cm')"
   ]
  },
  {
   "cell_type": "markdown",
   "metadata": {},
   "outputs": [],
   "source": [
    "__Colored by city__"
   ]
  },
  {
   "cell_type": "code",
   "execution_count": 80,
   "metadata": {},
   "outputs": [],
   "source": [
    "# Plot\n",
    "cols <- wes_palette(\"Darjeeling1\", n = 25, type = 'continuous')\n",
    "pca_byCity <- ggplot(eigen_df, aes(x = PC1, y = PC2, color = city)) +\n",
    "  geom_point(size = 2.5) + \n",
    "  scale_color_manual(values = cols) + \n",
    "  theme_classic() + \n",
    "  xlab('PC1 (17%)') + ylab('PC2 (7%)') +\n",
    "  theme(axis.text = element_text(size = 13),\n",
    "        axis.title = element_text(size = 15))\n",
    "pca_byCity"
   ]
  },
  {
   "cell_type": "code",
   "execution_count": 81,
   "metadata": {},
   "outputs": [],
   "source": [
    "# Save plot\n",
    "outpath <- snakemake@output[[4]]\n",
    "print(outpath)\n",
    "ggsave(filename = outpath, plot = pca_byCity, device = 'png', \n",
    "       dpi = 300, width = 8, height = 8, units = 'cm')"
   ]
  },
  {
   "cell_type": "markdown",
   "metadata": {},
   "outputs": [],
   "source": [
    "__Colored by continent__"
   ]
  },
  {
   "cell_type": "code",
   "execution_count": 82,
   "metadata": {},
   "outputs": [],
   "source": [
    "# Plot\n",
    "cols <- wes_palette(\"Darjeeling1\", n = 6, type = 'continuous')\n",
    "pca_byContinent <- ggplot(eigen_df, aes(x = PC1, y = PC2, color = continent)) +\n",
    "  geom_point(size = 2.5) + \n",
    "  scale_color_manual(values = cols) + \n",
    "  theme_classic() + \n",
    "  xlab('PC1 (17%)') + ylab('PC2 (7%)') +\n",
    "  theme(axis.text = element_text(size = 13),\n",
    "        axis.title = element_text(size = 15))\n",
    "pca_byContinent"
   ]
  },
  {
   "cell_type": "code",
   "execution_count": 83,
   "metadata": {},
   "outputs": [],
   "source": [
    "# Save plot\n",
    "outpath <- snakemake@output[[5]]\n",
    "print(outpath)\n",
    "ggsave(filename = outpath, plot = pca_byContinent, device = 'png', \n",
    "       dpi = 300, width = 8, height = 8, units = 'cm')"
   ]
  },
  {
   "cell_type": "markdown",
   "metadata": {},
   "outputs": [],
   "source": [
    "#### My take\n",
    "\n",
    "- The worldwide distribution of clover represents a single population\n",
    "    - Obviously it's not that extreme\n",
    "    - There is some clustering by continent and by cities within continent\n",
    "    - We should do some more digging to see whether these PCs correpons to Lat/Long, for example"
   ]
  },
  {
   "cell_type": "code",
   "execution_count": null,
   "metadata": {},
   "outputs": [],
   "source": []
  }
 ],
 "metadata": {
  "kernelspec": {
   "display_name": "R",
   "language": "R",
   "name": "ir"
  },
  "language_info": {
   "codemirror_mode": "r",
   "file_extension": ".r",
   "mimetype": "text/x-r-source",
   "name": "R",
   "pygments_lexer": "r",
   "version": "3.6.3"
  }
 },
 "nbformat": 4,
 "nbformat_minor": 4
}
