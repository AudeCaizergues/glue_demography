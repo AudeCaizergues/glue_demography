{
 "cells": [
  {
   "cell_type": "code",
   "execution_count": 2,
   "metadata": {},
   "outputs": [],
   "source": [
    "# Load packages\n",
    "library(tidyverse)\n",
    "library(wesanderson)\n",
    "library(vegan)\n",
    "library(fs)"
   ]
  },
  {
   "cell_type": "markdown",
   "metadata": {},
   "outputs": [],
   "source": [
    "# Description of data and sample sets\n",
    "\n",
    "All analyses in this notebook were performed separately on two different sample sets: \n",
    "\n",
    "1. _highErrorRemoved_: This sample set contains 515 samples from urban and rural habitats across 26 cities (25 cities for GLUE-LOW1 plus 20 samples from Toronto. 5 samples were removed due to having abnormaly high alignment error rates (as reported by `Qualimap`). These samples likely represent different species that were mistaken for white clover\n",
    "2. _finalSamples_lowCovRemoved_: This sample set contains 432 samples across 26 cities. In addition to the 5 samples with high error rates above, an additional 83 samples with low coverage (< 0.31X) were removed since these were previously found to have low mapping % and lower than average SNP density when compared to remaining samples. \n",
    "\n",
    "In addition to the 500 samples sequenced as part of GLUE-LOW1, we are including 10 urban and 10 rural plants from Toronto. These were sequenced to higher coverage (~12X) as part of a separate project. We selected these plants as follows:\n",
    "\n",
    "- 2 samples from each of 5 urban populations for a total of 10 urban plants\n",
    "- 5 samples from one rural population and 1 sample from each of 5 other populations. These samples come from the western Toronto transect only. We couldn't evenly sample rural populations because they weren't evenly sampled for the Toronto data. Total of 10 rural plants \n",
    "- All 20 plants were downsampled by sampling 25% of their reads. Because initial coverage between these samples varied between ~7.5X and ~14X, downsampled coverages in GLUE should range from ~1.8X to 3.5X."
   ]
  },
  {
   "cell_type": "markdown",
   "metadata": {},
   "outputs": [],
   "source": [
    "# Global patterns of diversity and structure\n",
    "\n",
    "In this notebook, we'll analyze the output fron `ANGSD` run separately on both sample sets described above. The notebook contains the following analyses:\n",
    "\n",
    "1. Sequencing depth across all samples. This is mostly a check to see whether our maximum depth threshold used in genotype likelihood and SFS estimation is reasonable.\n",
    "2. General shape of the SFS estimated using all sites, 4-fold sites, and 0-fold sites across the genome\n",
    "3. Genome-wide average pairwise genetic diversity (Theta<sub>pi</sub>) across all samples. Done for all sites, 4-fold sites, and 0-fold sites.\n",
    "4. PCA showing population clustering of samples using 4-fold sites only. \n",
    "\n",
    "    - The PCA is performed on both sample sets and at 3 different MAF cutoffs to assess the impact of including rare variants on sample clustering."
   ]
  },
  {
   "cell_type": "markdown",
   "metadata": {},
   "outputs": [],
   "source": [
    "## Sequencing depth\n",
    "\n",
    "- Examine total sequencing depth across samples to get a sense of whether our max depth cutoff in `ANGSD` is reasonable. \n",
    "- Only looking at depth across chromosome 1 since this should be enough to see what's going on\n",
    "\n",
    "### Load in depth dataset"
   ]
  },
  {
   "cell_type": "code",
   "execution_count": 3,
   "metadata": {},
   "outputs": [],
   "source": [
    "load_depth_df <- function(path){\n",
    "    \n",
    "    # Get name of folder with parameter combinations\n",
    "    sample_set <- str_split(path_dir(path), '/', simplify = TRUE)[1,1]\n",
    "\n",
    "    # Read in SFS\n",
    "    full_path <- paste0(inpath, '/', path)\n",
    "    depth_df <- suppressMessages(\n",
    "        read_delim(full_path, delim = '\\t', col_names = FALSE)) %>% \n",
    "    t() %>% \n",
    "    as.data.frame() %>% \n",
    "    rename('num_sites' = 'V1') %>% \n",
    "    mutate(cov = 1:n() - 1,\n",
    "           sample_set = sample_set)\n",
    "    return(depth_df)\n",
    "}"
   ]
  },
  {
   "cell_type": "code",
   "execution_count": 4,
   "metadata": {},
   "outputs": [],
   "source": [
    "inpath <- '../results/angsd/depth/'\n",
    "depth_df <- list.files(inpath, pattern = 'CM019101.1_\\\\w+_allSites.depthGlobal', recursive = TRUE) %>% \n",
    "  map_dfr(., load_depth_df)"
   ]
  },
  {
   "cell_type": "code",
   "execution_count": 5,
   "metadata": {},
   "outputs": [],
   "source": [
    "head(depth_df)"
   ]
  },
  {
   "cell_type": "markdown",
   "metadata": {},
   "outputs": [],
   "source": [
    "The dataset as 20,000 rows. Each row represents the total number of sites with a total X coverage, for one or the other sample set (10,000 rows per sample set). The exception is bin 10,000, which represents the number of sites with coverage equal or greater than 10,000. "
   ]
  },
  {
   "cell_type": "markdown",
   "metadata": {},
   "outputs": [],
   "source": [
    "### Histogram of sequencing coverage\n",
    "\n",
    "Plotting histogram of number of sites at each X coverage along chromosome 1.\n",
    "\n",
    "Red dashed line is the max depth cutoff used when estimating genotype likelihoods and the SFS. Sites with depth great than this cutoff were excluded. \n",
    "\n",
    "- This depth (1250X) was calculated as 2 x the mean coverage from qualimap (1.25X) x Number of samples (515)\n",
    "- Max depth cutoff is the same for both sample sets since even though there are fewer samples in the *finalSamples* sample set, they are at higher mean coverage, so these cancel out. "
   ]
  },
  {
   "cell_type": "code",
   "execution_count": 6,
   "metadata": {
    "scrolled": true
   },
   "outputs": [],
   "source": [
    "depth_cutoff <- 1250\n",
    "depthGlobal_plot <- ggplot(depth_df, aes(x = cov, y = num_sites)) +\n",
    "    geom_bar(stat = 'identity', color = 'black', fill = 'white') + \n",
    "    xlab('Coverage') + ylab('Number of sites') +\n",
    "    facet_wrap(~sample_set) + \n",
    "    theme_classic() + \n",
    "    geom_vline(xintercept = depth_cutoff, linetype = 'dashed', color = 'red') +\n",
    "    theme(axis.text = element_text(size = 13),\n",
    "        axis.title = element_text(size = 15))\n",
    "depthGlobal_plot"
   ]
  },
  {
   "cell_type": "code",
   "execution_count": 7,
   "metadata": {},
   "outputs": [],
   "source": [
    "# Estimate proportion of sites above and below cutoff for both sample sets\n",
    "total_sites <- sum(depth_df$num_sites, na.rm = TRUE)\n",
    "depth_df %>% \n",
    "    mutate(is_below_cutoff = ifelse(cov <= depth_cutoff, 1, 0)) %>% \n",
    "    group_by(sample_set, is_below_cutoff) %>% \n",
    "    summarize(n = sum(num_sites, na.rm = TRUE)) %>% \n",
    "    mutate(freq = n / sum(n, na.rm = TRUE))"
   ]
  },
  {
   "cell_type": "code",
   "execution_count": 8,
   "metadata": {},
   "outputs": [],
   "source": [
    "# Save plot\n",
    "outpath <- snakemake@output[[1]]\n",
    "print(outpath)\n",
    "ggsave(filename = outpath, plot = depthGlobal_plot, device = 'pdf', \n",
    "       dpi = 300, width = 14, height = 8, units = 'in')"
   ]
  },
  {
   "cell_type": "markdown",
   "metadata": {},
   "outputs": [],
   "source": [
    "### My take\n",
    "\n",
    "Regardless of sample set:\n",
    "- Most sites have 1 to 2X coverage\n",
    "- As coverage increases beyond 2X, there is a gradual decline in the number of sites for a given depth\n",
    "- 1250X is a reasonable cutoff and captures ~98% of all sites. "
   ]
  },
  {
   "cell_type": "markdown",
   "metadata": {},
   "outputs": [],
   "source": [
    "## SFS and diversity\n",
    "\n",
    "Here I'll plot the SFS for all sites across the genome, in additional to subsets of degenerate sites (4-fold and 0-fold). We'll similarly estimate diversity as the genome-wide average of pairwise nucleotide differences for these same sets of sites. \n",
    "\n",
    "- Filters applied on sites:\n",
    "    - Minimum phred-scaled read mapping quality of 30\n",
    "    - Minimimum phred-scaled base quality of 20\n",
    "    - Max depth of 1250X across all individuals\n",
    "    - 50% of all individuals required to have at least 1 read\n",
    "    \n",
    "Genotype likelihoods are estimated using the `samtools` model with the `samtools` \"extended BAQ\" algorithm to recalibrate base quality scores around INDELS. \n",
    "\n",
    "- During tests on the high coverage Toronto data, the `GATK` GL model called more sites than the `samtools` GL model, especially singletons. However, the overall shape of the SFS was consistent under both models. \n",
    "- The `extended BAQ` model to recalibrate base quality scores performed well in tests on the Toronto data. The `standard BAQ` model (`-baq 1` in `ANGSD`) was too conservative and removed a lot of sites. Not performing BAQ is not recommended since, unlike haplotype-aware callers (e.g., `GATK` and `freebayes`), there is no local realignment of reads around indels in `ANGSD`."
   ]
  },
  {
   "cell_type": "markdown",
   "metadata": {},
   "outputs": [],
   "source": [
    "### SFS\n",
    "\n",
    "#### Load in SFS data as single dataframe"
   ]
  },
  {
   "cell_type": "code",
   "execution_count": 9,
   "metadata": {},
   "outputs": [],
   "source": [
    "load_long_sfs <- function(path){\n",
    "  \n",
    "    # Get name of folder with parameter combinations\n",
    "    dir <- str_split(path_dir(path), '/', simplify = TRUE)\n",
    "    sample_set <- dir[1, 1]\n",
    "    site <- dir[1, 2]\n",
    "\n",
    "    # Read in SFS\n",
    "    full_path <- paste0(inpath, '/', path)\n",
    "    sfs <- suppressMessages(read_delim(full_path, delim= '\\t', col_names = FALSE)) %>% \n",
    "    as.data.frame() %>% \n",
    "    rename('maf' = 'X1',\n",
    "           'num_sites' = 'X2') %>% \n",
    "    filter(num_sites != 0) %>%  #  folded SFS so samples > # of samples will be 0\n",
    "    mutate(prop_sites = num_sites / sum(num_sites),\n",
    "           sample_set = sample_set,\n",
    "           site = site)\n",
    "    return(sfs)\n",
    "}"
   ]
  },
  {
   "cell_type": "code",
   "execution_count": 10,
   "metadata": {
    "scrolled": true
   },
   "outputs": [],
   "source": [
    "inpath <- '../results/angsd/sfs/'\n",
    "sfs_df <- list.files(inpath, pattern = '*allChroms.sfs', recursive = TRUE) %>% \n",
    "  map_dfr(., load_long_sfs)"
   ]
  },
  {
   "cell_type": "code",
   "execution_count": 11,
   "metadata": {},
   "outputs": [],
   "source": [
    "# Quick look at the da\n",
    "head(sfs_df)"
   ]
  },
  {
   "cell_type": "markdown",
   "metadata": {},
   "outputs": [],
   "source": [
    "#### Plot SFS\n",
    "\n",
    "- Only plotting minor allele frequency from 1 to 25. Therefore, invariant sites and sites with MAF > 25/N not shown"
   ]
  },
  {
   "cell_type": "code",
   "execution_count": 12,
   "metadata": {},
   "outputs": [],
   "source": [
    "# How many sites in each category?\n",
    "sfs_df %>% \n",
    "    group_by(sample_set, site) %>% \n",
    "    summarize(total_sites = sum(num_sites))"
   ]
  },
  {
   "cell_type": "code",
   "execution_count": 13,
   "metadata": {},
   "outputs": [],
   "source": [
    "sfs_plot <- sfs_df %>% \n",
    "    filter(maf != 0 & maf <= 25)  %>%\n",
    "    ggplot(., aes(x = maf, y = prop_sites)) + \n",
    "    geom_bar(stat ='identity', color = 'black',  width=.70) + \n",
    "    facet_grid(sample_set~ site) +\n",
    "    ylab('Proportion of sites') + xlab('Minor allele frequency') +\n",
    "    scale_fill_manual(values = cols) +\n",
    "    scale_x_continuous(breaks = seq(1, 40, 3)) +\n",
    "    scale_y_continuous(breaks = seq(0, 0.13, 0.02)) + \n",
    "    theme_classic() + \n",
    "    theme(axis.text = element_text(size = 13),\n",
    "        axis.title = element_text(size = 15))\n",
    "sfs_plot"
   ]
  },
  {
   "cell_type": "code",
   "execution_count": 14,
   "metadata": {},
   "outputs": [],
   "source": [
    "# Save plot\n",
    "outpath <- snakemake@output[[2]]\n",
    "print(outpath)\n",
    "ggsave(filename = outpath, plot = sfs_plot, device = 'pdf', \n",
    "       dpi = 300, width = 14, height = 14, units = 'in')"
   ]
  },
  {
   "cell_type": "markdown",
   "metadata": {},
   "outputs": [],
   "source": [
    "#### My take\n",
    "\n",
    "- Regardless of site type, the *finalSamples_lowCovRemoved* SFSs look better than the *highErrorRemoved* sample set\n",
    "    - Likely due to fewer sites in the *highErrorRemoved* sample set, which reduces `ANGSD`'s \"power\" to find the ML estimate of the SFS\n",
    "    - Despite having more samples in the *highErrorRemoved* sample set, there are fewer sites because the proportion of individuals required to have reads at a site was fixed at 50% for both sample sets. For the *finalSamples* dataset, this equates to 216 samples, which is esily met in this dataset since bad individuals have already been removed. As a result, more sites pass this filter. By contrast, ~80 samples in the *highErrorRemoved* sample set are pretty low coverage, so this filter is more strict in that case. \n",
    "- The *finalSamples* SFSs look decent and show the expected patterns (e.g., more strongly left-skewed 0fold SFS). \n",
    "- There is still some jaggedness, some of which could probably be alleviated by further increasing the number of sites by, for example, further reducing the proportion of individuals required to have reads at a site.\n",
    "    - However, given the low depth (~1X) and high variation in depth across samples (range: 1X to ~7X), some jaggedness is likely inevitable. \n",
    "    - In addition, keep in mind this SFS include samples from all across the world. Some of the jaggedness may come from including global samples with different demographic histories and structures. "
   ]
  },
  {
   "cell_type": "markdown",
   "metadata": {},
   "outputs": [],
   "source": [
    "#### Nicer plot of *finalSamples_lowCovRemoved* SFS"
   ]
  },
  {
   "cell_type": "code",
   "execution_count": 15,
   "metadata": {},
   "outputs": [],
   "source": [
    "cols <- wes_palette(\"Darjeeling1\", n = 3, type = 'discrete')\n",
    "sfs_plot <- sfs_df %>% \n",
    "    filter(maf != 0 & maf <= 25)  %>%\n",
    "    filter(sample_set == 'finalSamples_lowCovRemoved')  %>%\n",
    "    ggplot(., aes(x = maf, y = prop_sites, fill = site)) + \n",
    "    geom_bar(stat ='identity',  width=.75, position = 'dodge') + \n",
    "    ylab('Proportion of sites') + xlab('Minor allele frequency') +\n",
    "    scale_fill_manual(values = cols) +\n",
    "    scale_x_continuous(breaks = seq(1, 40, 3)) +\n",
    "    scale_y_continuous(breaks = seq(0, 0.13, 0.02)) + \n",
    "    theme_classic() + \n",
    "    theme(axis.text = element_text(size = 13),\n",
    "        axis.title = element_text(size = 15))\n",
    "sfs_plot"
   ]
  },
  {
   "cell_type": "code",
   "execution_count": 16,
   "metadata": {},
   "outputs": [],
   "source": [
    "# Save plot\n",
    "outpath <- snakemake@output[[3]]\n",
    "print(outpath)\n",
    "ggsave(filename = outpath, plot = sfs_plot, device = 'pdf', \n",
    "       dpi = 300, width = 8, height = 12, units = 'in')"
   ]
  },
  {
   "cell_type": "markdown",
   "metadata": {},
   "outputs": [],
   "source": [
    "### Diversity\n",
    "\n",
    "#### Load in diversity dataframes"
   ]
  },
  {
   "cell_type": "code",
   "execution_count": 17,
   "metadata": {},
   "outputs": [],
   "source": [
    "load_div_neut_df <- function(path){\n",
    "  \n",
    "    # Get name of folder with parameter combinations\n",
    "    dir <- str_split(path_dir(path), '/', simplify = TRUE)\n",
    "    sample_set <- dir[1, 1]\n",
    "    site <- dir[1, 2]\n",
    "\n",
    "    # Read in stats\n",
    "    full_path <- paste0(inpath, '/', path)\n",
    "    stats <- suppressMessages(read_delim(full_path, delim= '\\t', col_names = TRUE)) %>% \n",
    "    mutate(sample_set = sample_set,\n",
    "           site = site,\n",
    "           tp_scaled = tP / nSites,\n",
    "           tw_scaled = tW / nSites)\n",
    "    return(stats)\n",
    "  \n",
    "}"
   ]
  },
  {
   "cell_type": "code",
   "execution_count": 23,
   "metadata": {},
   "outputs": [],
   "source": [
    "inpath <- '../results/angsd/summary_stats/thetas/'\n",
    "thetas_df <- list.files(inpath, pattern = '*diversityNeutrality.thetas.idx.pestPG', recursive = TRUE) %>% \n",
    "  map_dfr(., load_div_neut_df)"
   ]
  },
  {
   "cell_type": "code",
   "execution_count": 25,
   "metadata": {
    "scrolled": false
   },
   "outputs": [],
   "source": [
    "# tp is theta_pi\n",
    "# tw is theta_waterson\n",
    "# td is Tajima's D\n",
    "theta_summary <- thetas_df %>% \n",
    "  group_by(sample_set, site) %>% \n",
    "  summarise(total_sites = sum(nSites),\n",
    "            mean_tp = mean(tp_scaled),\n",
    "            mean_tw = mean(tw_scaled), \n",
    "            mean_td = mean(Tajima))\n",
    "theta_summary"
   ]
  },
  {
   "cell_type": "code",
   "execution_count": 26,
   "metadata": {},
   "outputs": [],
   "source": [
    "outpath <- snakemake@output[[4]]\n",
    "print(outpath)\n",
    "write_delim(x = theta_summary, file = outpath, delim = '\\t', col_names = TRUE)"
   ]
  },
  {
   "cell_type": "markdown",
   "metadata": {},
   "outputs": [],
   "source": [
    "#### My take\n",
    "\n",
    "Regardless of sample set:\n",
    "\n",
    "- Looks good. Lower diversity at 0-fold sites, as expected\n",
    "- ~1.5% genome-wide diversity"
   ]
  },
  {
   "cell_type": "markdown",
   "metadata": {},
   "outputs": [],
   "source": [
    "## PCA\n",
    "\n",
    "- PCA is performed on genotype likelihoods\n",
    "- Filtering criteria the same as those above with one exception:\n",
    "    - This is based only on variant sites with 3 different MAF cutoffs: 0.005, 0.01, 0.05\n",
    "- PCAs were performed using `PCAngsd`, which generates a covariance matrix of allele frequencies across samples\n",
    "    - We can extract eigenvectors from this covariance matrix and plot in R. "
   ]
  },
  {
   "cell_type": "markdown",
   "metadata": {},
   "outputs": [],
   "source": [
    "### Load in data and perform PCA\n",
    "\n",
    "- Perform PCA on all combinations of sample set and MAF cutoff. \n",
    "- Merge PCA results into single dataframe"
   ]
  },
  {
   "cell_type": "markdown",
   "metadata": {},
   "outputs": [],
   "source": [
    "#### A few functions"
   ]
  },
  {
   "cell_type": "code",
   "execution_count": 27,
   "metadata": {},
   "outputs": [],
   "source": [
    "# Function to get PCA summary as matrix\n",
    "pca_importance <- function(covMat) {\n",
    "    \n",
    "    # Sample set and MAF info\n",
    "    sample_set <- covMat %>% distinct(sample_set) %>% pull()\n",
    "    maf <- covMat %>% distinct(maf) %>% pull()\n",
    "    \n",
    "    # Prepare matrix for PCA\n",
    "    not_all_na <- function(x) any(!is.na(x))\n",
    "    covMat_matrix <- covMat %>% \n",
    "        dplyr::select(where(not_all_na)) %>% \n",
    "        dplyr::select(-sample_set, -maf) %>% \n",
    "        as.matrix()\n",
    "    \n",
    "    pca_summary <- summary(princomp(covMat_matrix))\n",
    "    vars <- pca_summary$sdev^2\n",
    "    vars <- vars/sum(vars)\n",
    "    df_out <- rbind(\n",
    "        `Proportion of Variance` = vars, \n",
    "        `Cumulative Proportion` = cumsum(vars)) %>%\n",
    "    as.data.frame() %>% \n",
    "    dplyr::select(Comp.1:Comp.4) %>% \n",
    "    mutate(sample_set = sample_set,\n",
    "           maf = maf)\n",
    "    \n",
    "    return(df_out)\n",
    "}"
   ]
  },
  {
   "cell_type": "code",
   "execution_count": 28,
   "metadata": {},
   "outputs": [],
   "source": [
    "# Function to load allele frequency covariance matrix and return as dataframe for tidy joining\n",
    "load_covMat <- function(path){\n",
    "    \n",
    "    # Get sample set and MAF info for allele frequency covariance matrix from PCAngsd\n",
    "    basename <- basename(path)\n",
    "    sample_set <- str_split(basename, '_4fold', simplify = TRUE)[1,1]\n",
    "    maf <- str_extract(basename, '(?<=maf).+(?=_pcangsd)')\n",
    "    \n",
    "    # Load in covariance matrix, assign sample set and maf as columns\n",
    "    full_path <- paste0(inpath, '/', path)\n",
    "    covMat_out <- suppressMessages(\n",
    "        read_delim(\n",
    "            full_path, \n",
    "            col_names = FALSE, \n",
    "            delim = ' ')) %>% \n",
    "    as.data.frame() %>% \n",
    "    mutate(sample_set = sample_set,\n",
    "           maf = maf)\n",
    "    \n",
    "    return(covMat_out)\n",
    "    \n",
    "}"
   ]
  },
  {
   "cell_type": "code",
   "execution_count": 29,
   "metadata": {},
   "outputs": [],
   "source": [
    "# Function to create sample sheet for specific sample set\n",
    "get_sample_sheet <- function(sample_set){\n",
    "    \n",
    "    # Load habitat info\n",
    "    # Hard-coded since not expected to change\n",
    "    habitat_info <- suppressMessages(\n",
    "        read_delim(\n",
    "            '../../sequencing-prep/resources/low1_sampleSheet.txt', \n",
    "            delim = '\\t')) %>% \n",
    "        dplyr::select(continent, range, city, pop, individual, site, sample)\n",
    "    \n",
    "    # Hard coded relative path since not expected to change\n",
    "    sample_sheet_path <- '../results/program_resources/'\n",
    "    \n",
    "    # Full path to sample sheet by sample set\n",
    "    full_path <- paste0(sample_sheet_path, 'angsd_', sample_set, '_order.txt')\n",
    "    \n",
    "    # Load in sample sheet\n",
    "    sample_sheet_out <- suppressMessages(\n",
    "        read_table(\n",
    "            full_path, \n",
    "            col_names = FALSE) %>% \n",
    "        rename('sample' = 'X1')) %>%\n",
    "        left_join(., habitat_info, by = 'sample')\n",
    "    \n",
    "    return(sample_sheet_out)\n",
    "    \n",
    "}"
   ]
  },
  {
   "cell_type": "code",
   "execution_count": 30,
   "metadata": {},
   "outputs": [],
   "source": [
    "# Performs PCA on covariance matrix and return dataframe with samples scores along first 4 PCs\n",
    "perform_pca <- function(covMat){\n",
    "    \n",
    "    # Sample set and MAF info\n",
    "    sample_set <- covMat %>% distinct(sample_set) %>% pull()\n",
    "    maf <- covMat %>% distinct(maf) %>% pull()\n",
    "    \n",
    "    # Prepare matrix for PCA\n",
    "    not_all_na <- function(x) any(!is.na(x))\n",
    "    covMat_matrix <- covMat %>% \n",
    "        dplyr::select(where(not_all_na)) %>% \n",
    "        dplyr::select(-sample_set, -maf) %>% \n",
    "        as.matrix()\n",
    "    \n",
    "    samples <- get_sample_sheet(sample_set)\n",
    "    \n",
    "    # Perform PCA and return samples scores along first 4 PCs\n",
    "    eigenvectors <- eigen(covMat_matrix)\n",
    "    eigen_df <- eigenvectors$vectors %>% \n",
    "        as.data.frame() %>% \n",
    "        dplyr::select(V1, V2, V3, V4) %>% \n",
    "        rename('PC1' = 'V1',\n",
    "               'PC2' = 'V2', \n",
    "               'PC3' = 'V3',\n",
    "               'PC4' = 'V4') %>% \n",
    "    bind_cols(., samples) %>% \n",
    "    mutate(sample_set = sample_set,\n",
    "           maf = maf)\n",
    "    \n",
    "    return(eigen_df)\n",
    "    \n",
    "}"
   ]
  },
  {
   "cell_type": "markdown",
   "metadata": {},
   "outputs": [],
   "source": [
    "#### Perform and plot the PCAs\n",
    "\n",
    "Here is a breakdown on the number of sites. Reminder: these are 4fold degenerate sites.\n",
    "\n",
    "- finalSamples_lowCovRemoved & MAF = 0.005: 487,260\n",
    "- finalSamples_lowCovRemoved & MAF = 0.01: 415,672\n",
    "- finalSamples_lowCovRemoved & MAF = 0.05: 230,212\n",
    "- highErrorRemoved & MAF = 0.005: 284,545\n",
    "- highErrorRemoved & MAF = 0.01: 243,647\n",
    "- highErrorRemoved & MAF = 0.05: 135,774"
   ]
  },
  {
   "cell_type": "code",
   "execution_count": 31,
   "metadata": {
    "scrolled": true
   },
   "outputs": [],
   "source": [
    "# Load covariance matrices as single df\n",
    "inpath <- '../results/population_structure/pcangsd'\n",
    "covMat_df <- list.files(inpath, pattern = '*.cov', recursive = TRUE) %>% \n",
    "    map_dfr(., load_covMat)"
   ]
  },
  {
   "cell_type": "code",
   "execution_count": 32,
   "metadata": {},
   "outputs": [],
   "source": [
    "# Scores of samples along first 4 PCs for all samples sets and MAF cutoffs as single df\n",
    "eigen_df <- covMat_df %>% \n",
    "    group_by(sample_set, maf) %>% \n",
    "    group_split(.) %>% \n",
    "    map_dfr(perform_pca)"
   ]
  },
  {
   "cell_type": "code",
   "execution_count": 33,
   "metadata": {},
   "outputs": [],
   "source": [
    "# Percent variance explained by first 4 PCs for all sample_set by MAF combinations\n",
    "covMat_df %>% \n",
    "    group_by(sample_set, maf) %>% \n",
    "    group_split(.) %>% \n",
    "    map_dfr(pca_importance)"
   ]
  },
  {
   "cell_type": "markdown",
   "metadata": {},
   "outputs": [],
   "source": [
    "#### Colored by Habitat"
   ]
  },
  {
   "cell_type": "code",
   "execution_count": 35,
   "metadata": {
    "scrolled": true
   },
   "outputs": [],
   "source": [
    "col1 <- wes_palette(\"Darjeeling1\", n = 5, type = 'discrete')[2]\n",
    "col2 <- wes_palette(\"Darjeeling1\", n = 5, type = 'discrete')[4]\n",
    "cols <- c(col1, col2)\n",
    "pca_plot <- eigen_df %>% \n",
    "    ggplot(., aes(x = PC1, y = PC2, color = site, shape = site)) +\n",
    "        geom_point(size = 2) + \n",
    "        scale_color_manual(values = cols) + \n",
    "        facet_grid(sample_set~maf) +\n",
    "        theme_classic() + \n",
    "        xlab('PC1') + ylab('PC2') +\n",
    "        scale_x_continuous(breaks = seq(-0.10, 0.10, 0.10)) +\n",
    "        theme(axis.text = element_text(size = 13),\n",
    "             axis.title = element_text(size = 15),\n",
    "             legend.position = 'top')\n",
    "pca_plot"
   ]
  },
  {
   "cell_type": "code",
   "execution_count": 36,
   "metadata": {},
   "outputs": [],
   "source": [
    "# Save plot\n",
    "outpath <- snakemake@output[[5]]\n",
    "print(outpath)\n",
    "ggsave(filename = outpath, plot = pca_plot, device = 'pdf', \n",
    "       dpi = 300, width = 14, height = 14, units = 'in')"
   ]
  },
  {
   "cell_type": "markdown",
   "metadata": {},
   "outputs": [],
   "source": [
    "#### Quick take\n",
    "\n",
    "- Comparing rows within columns (i.e., sample sets for same MAF), there is little difference between the sample sets in terms of the relative positions of samples and percent variation explained by each PC\n",
    "- In contrast to the SFS estimation, this suggests that we can use the full sample set (i.e., *highErrorRemoved*) for the PCA. Probably because PCA doesn't actually need that many sites. \n",
    "\n",
    "**For the remaining plots, I'll focus only on the *highErrorRemoved* sample set**"
   ]
  },
  {
   "cell_type": "markdown",
   "metadata": {},
   "outputs": [],
   "source": [
    "#### Colored by city"
   ]
  },
  {
   "cell_type": "code",
   "execution_count": 37,
   "metadata": {},
   "outputs": [],
   "source": [
    "# Plot\n",
    "cols <- wes_palette(\"Darjeeling1\", n = 26, type = 'continuous')\n",
    "pca_byCity <- eigen_df %>% \n",
    "    filter(sample_set == 'highErrorRemoved') %>% \n",
    "    ggplot(., aes(x = PC1, y = PC2, color = city, shape = site)) +\n",
    "        geom_point(size = 2) + \n",
    "        scale_color_manual(values = cols) + \n",
    "        scale_x_continuous(breaks = seq(-0.10, 0.10, 0.10)) +\n",
    "        facet_wrap(~maf) +\n",
    "        theme_classic() + \n",
    "        xlab('PC1') + ylab('PC2') +\n",
    "        theme(axis.text = element_text(size = 13),\n",
    "            axis.title = element_text(size = 15),\n",
    "            legend.position = 'top')\n",
    "pca_byCity"
   ]
  },
  {
   "cell_type": "code",
   "execution_count": 38,
   "metadata": {},
   "outputs": [],
   "source": [
    "# Save plot\n",
    "outpath <- snakemake@output[[6]]\n",
    "print(outpath)\n",
    "ggsave(filename = outpath, plot = pca_byCity, device = 'pdf', \n",
    "       dpi = 300, width = 14, height = 14, units = 'in')"
   ]
  },
  {
   "cell_type": "markdown",
   "metadata": {},
   "outputs": [],
   "source": [
    "#### Colored by continent"
   ]
  },
  {
   "cell_type": "code",
   "execution_count": 40,
   "metadata": {},
   "outputs": [],
   "source": [
    "# Plot\n",
    "cols <- wes_palette(\"Darjeeling1\", n = 6, type = 'continuous')\n",
    "pca_byContinent <- eigen_df %>% \n",
    "    filter(sample_set == 'highErrorRemoved') %>% \n",
    "    ggplot(., aes(x = PC1, y = PC2, color = continent, shape = site)) +\n",
    "        geom_point(size = 2) + \n",
    "        scale_color_manual(values = cols) + \n",
    "        scale_x_continuous(breaks = seq(-0.10, 0.10, 0.10)) +\n",
    "        facet_wrap(~maf) +\n",
    "        theme_classic() + \n",
    "        xlab('PC1') + ylab('PC2') +\n",
    "        theme(axis.text = element_text(size = 13),\n",
    "            axis.title = element_text(size = 15),\n",
    "            legend.position = 'top')\n",
    "pca_byContinent"
   ]
  },
  {
   "cell_type": "code",
   "execution_count": 41,
   "metadata": {},
   "outputs": [],
   "source": [
    "# Save plot\n",
    "outpath <- snakemake@output[[7]]\n",
    "print(outpath)\n",
    "ggsave(filename = outpath, plot = pca_byContinent, device = 'pdf', \n",
    "       dpi = 300, width = 14, height = 14, units = 'in')"
   ]
  },
  {
   "cell_type": "markdown",
   "metadata": {},
   "outputs": [],
   "source": [
    "#### Colored by range"
   ]
  },
  {
   "cell_type": "code",
   "execution_count": 42,
   "metadata": {},
   "outputs": [],
   "source": [
    "# Plot\n",
    "col1 <- wes_palette(\"Darjeeling1\", n = 5, type = 'discrete')[2]\n",
    "col2 <- wes_palette(\"Darjeeling1\", n = 5, type = 'discrete')[4]\n",
    "cols <- c(col1, col2)\n",
    "pca_byRange <- eigen_df %>% \n",
    "    filter(sample_set == 'highErrorRemoved') %>% \n",
    "    ggplot(., aes(x = PC1, y = PC2, color = range, shape = site)) +\n",
    "        geom_point(size = 2) + \n",
    "        scale_color_manual(values = cols) + \n",
    "        scale_x_continuous(breaks = seq(-0.10, 0.10, 0.10)) +\n",
    "        facet_wrap(~maf) +\n",
    "        theme_classic() + \n",
    "        xlab('PC1') + ylab('PC2') +\n",
    "        theme(axis.text = element_text(size = 13),\n",
    "            axis.title = element_text(size = 15),\n",
    "            legend.position = 'top')\n",
    "pca_byRange"
   ]
  },
  {
   "cell_type": "code",
   "execution_count": 43,
   "metadata": {},
   "outputs": [],
   "source": [
    "# Save plot\n",
    "outpath <- snakemake@output[[8]]\n",
    "print(outpath)\n",
    "ggsave(filename = outpath, plot = pca_byRange, device = 'pdf', \n",
    "       dpi = 300, width = 14, height = 14, units = 'in')"
   ]
  },
  {
   "cell_type": "markdown",
   "metadata": {},
   "outputs": [],
   "source": [
    "#### My take\n",
    "\n",
    "- PCAs are the same, regardless of sample set\n",
    "    - Suggests we could use all samples for this analysis (N = 515).\n",
    "- Regardless of MAF, PCAs are basically the same\n",
    "    - MAF = 0.05 is standard so I suggest we stick with this. \n",
    "- PC2 seems to largely separate Introduced vs. Native range\n",
    "- Unclear what PC1 corresponds to (maybe related to something like Lat/Long?)\n",
    "- Urban/rural sites seem to be largely overlapping within cities with some exceptions (e.g., Thessaloniki). \n"
   ]
  },
  {
   "cell_type": "markdown",
   "metadata": {},
   "outputs": [],
   "source": [
    "## RDA\n",
    "\n",
    "- Explicit test for urban/rural divergence in allele frequencies, conditioned on city\n",
    "- Focus only on *highErrorRemoved* sample set and MAF = 0.05"
   ]
  },
  {
   "cell_type": "code",
   "execution_count": 44,
   "metadata": {},
   "outputs": [],
   "source": [
    "highErrorRemoved_0.05_forRDA <- covMat_df %>% \n",
    "    filter(sample_set == 'highErrorRemoved' & maf == '0.05') %>% \n",
    "    bind_cols(., get_sample_sheet('highErrorRemoved'))"
   ]
  },
  {
   "cell_type": "code",
   "execution_count": 45,
   "metadata": {},
   "outputs": [],
   "source": [
    "response_matrix <- highErrorRemoved_0.05_forRDA %>% \n",
    "    dplyr::select(starts_with('X')) %>% \n",
    "    as.matrix()\n",
    "habitat_vector <- highErrorRemoved_0.05_forRDA %>% pull(site)\n",
    "city_vector <- highErrorRemoved_0.05_forRDA %>% pull(city)\n",
    "\n",
    "rda <- vegan::rda(response_matrix ~ habitat_vector + Condition(city_vector))"
   ]
  },
  {
   "cell_type": "code",
   "execution_count": 46,
   "metadata": {},
   "outputs": [],
   "source": [
    "rda_summary <- summary(rda)"
   ]
  },
  {
   "cell_type": "code",
   "execution_count": 47,
   "metadata": {
    "scrolled": true
   },
   "outputs": [],
   "source": [
    "# Summary of RDA1 (i.e., habitat) and first 4 PCs\n",
    "rda_summary$cont %>% as.data.frame() %>% dplyr::select(importance.RDA1:importance.PC4)"
   ]
  },
  {
   "cell_type": "code",
   "execution_count": 48,
   "metadata": {},
   "outputs": [],
   "source": [
    "anova.cca(rda, by = 'terms', permutations = 1000, model = 'reduced')"
   ]
  },
  {
   "cell_type": "markdown",
   "metadata": {},
   "outputs": [],
   "source": [
    "#### My take:\n",
    "\n",
    "- Permutation test suggests habitat explains significant variation in allele frequencies\n",
    "    - However, variance explained byt habitat is very low (0.3%). \n",
    "- City explains 24% of the variation in allele frequencies (not shown since output is massive)"
   ]
  }
 ],
 "metadata": {
  "kernelspec": {
   "display_name": "R",
   "language": "R",
   "name": "ir"
  },
  "language_info": {
   "codemirror_mode": "r",
   "file_extension": ".r",
   "mimetype": "text/x-r-source",
   "name": "R",
   "pygments_lexer": "r",
   "version": "3.6.3"
  }
 },
 "nbformat": 4,
 "nbformat_minor": 4
}
