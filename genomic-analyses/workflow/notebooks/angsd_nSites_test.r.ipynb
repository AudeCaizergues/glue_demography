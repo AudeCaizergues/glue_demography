{
 "cells": [
  {
   "cell_type": "code",
   "execution_count": 2,
   "metadata": {},
   "outputs": [],
   "source": [
    "# Load packages\n",
    "library(tidyverse)\n",
    "library(wesanderson)\n",
    "library(fs)"
   ]
  },
  {
   "cell_type": "markdown",
   "metadata": {},
   "outputs": [],
   "source": [
    "# Angsd SFS nSites test\n",
    "\n",
    "- I suspect our jagged SFSs might in part be due to having too few sites\n",
    "- Here, I generate SFSs with varying total number of sites\n",
    "- I varied the number of sites by varying the proportion of individuals required to have data when generating the SAF files"
   ]
  },
  {
   "cell_type": "code",
   "execution_count": 8,
   "metadata": {},
   "outputs": [],
   "source": [
    "load_long_sfs <- function(path){\n",
    "  \n",
    "    # Get name of folder with parameter combinations\n",
    "    dir <- str_split(path_dir(path), '/', simplify = TRUE)\n",
    "    sample_set <- dir[1, 1]\n",
    "    prop <- dir[1, 2]\n",
    "\n",
    "    # Read in SFS\n",
    "    full_path <- paste0(inpath, '/', path)\n",
    "    sfs <- suppressMessages(read_delim(full_path, delim= ' ', col_names = FALSE)) %>% \n",
    "    t() %>% \n",
    "    as.data.frame() %>% \n",
    "    rename('num_sites' = 'V1') %>% \n",
    "    filter(num_sites != 0) %>%  #  folded SFS so samples > # of samples will be 0\n",
    "    mutate(maf = 1: n() - 1,\n",
    "           prop_sites = num_sites / sum(num_sites),\n",
    "           sample_set = sample_set,\n",
    "           propInd = prop)\n",
    "    return(sfs)\n",
    "}"
   ]
  },
  {
   "cell_type": "code",
   "execution_count": 12,
   "metadata": {},
   "outputs": [],
   "source": [
    "inpath <- '../results/angsd/nSites_test/'\n",
    "sfs_df <- list.files(inpath, pattern = '*allSites.sfs', recursive = TRUE) %>% \n",
    "  map_dfr(., load_long_sfs)\n",
    "head(sfs_df)"
   ]
  },
  {
   "cell_type": "code",
   "execution_count": 14,
   "metadata": {},
   "outputs": [],
   "source": [
    "sfs_df %>% \n",
    "    group_by(sample_set, propInd) %>% \n",
    "    summarise(total_sites = sum(num_sites))"
   ]
  },
  {
   "cell_type": "code",
   "execution_count": 15,
   "metadata": {
    "scrolled": true
   },
   "outputs": [],
   "source": [
    "sfs_plot <- sfs_df %>% \n",
    "    filter(maf != 0 & maf <= 25)  %>%\n",
    "    ggplot(., aes(x = maf, y = prop_sites)) + \n",
    "    geom_bar(stat ='identity', color = 'black',  width=.70) + \n",
    "    facet_grid(sample_set~ propInd) +\n",
    "    ylab('Proportion of sites') + xlab('Minor allele frequency') +\n",
    "    scale_fill_manual(values = cols) +\n",
    "    scale_x_continuous(breaks = seq(1, 25, 6)) +\n",
    "    scale_y_continuous(breaks = seq(0, 0.13, 0.02)) + \n",
    "    theme_classic() + \n",
    "    theme(axis.text = element_text(size = 13),\n",
    "        axis.title = element_text(size = 15))\n",
    "sfs_plot"
   ]
  },
  {
   "cell_type": "code",
   "execution_count": 17,
   "metadata": {},
   "outputs": [],
   "source": [
    "# Save plot\n",
    "outpath <- snakemake@output[[1]]\n",
    "print(outpath)\n",
    "ggsave(filename = outpath, plot = sfs_plot, device = 'pdf', \n",
    "       dpi = 300, width = 12, height = 10, units = 'in')"
   ]
  },
  {
   "cell_type": "markdown",
   "metadata": {},
   "outputs": [],
   "source": [
    "## Quick take\n",
    "\n",
    "- SFSs look more jagged with fewer sites (i.e., greater proportion of individuals with reads)\n",
    "- Suggests having more sites better for estimating SFS"
   ]
  },
  {
   "cell_type": "code",
   "execution_count": null,
   "metadata": {},
   "outputs": [],
   "source": []
  }
 ],
 "metadata": {
  "kernelspec": {
   "display_name": "R",
   "language": "R",
   "name": "ir"
  },
  "language_info": {
   "codemirror_mode": "r",
   "file_extension": ".r",
   "mimetype": "text/x-r-source",
   "name": "R",
   "pygments_lexer": "r",
   "version": "3.6.3"
  }
 },
 "nbformat": 4,
 "nbformat_minor": 4
}
