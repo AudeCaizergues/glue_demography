{
 "cells": [
  {
   "cell_type": "code",
   "execution_count": 14,
   "metadata": {},
   "outputs": [],
   "source": [
    "library(MASS)\n",
    "library(tidyverse)\n",
    "library(car)\n",
    "library(emmeans)\n",
    "library(wesanderson)\n",
    "library(ggrepel)\n",
    "library(fs)\n",
    "library(ggridges)\n",
    "library(data.table)"
   ]
  },
  {
   "cell_type": "markdown",
   "metadata": {},
   "outputs": [],
   "source": [
    "# Pairwise urban-rural pi and Fst within cities\n",
    "\n",
    "In this notebook, we'll examine urban-rural differences in diversity (theta_pi) and urban-rural Fst across all 26 cities. \n",
    "\n",
    "## Description of the data\n",
    "\n",
    "- Low coverage individuals have been removed from these analyses, so we're using the samples that are part of the *finalSamples_lowCovRemoved* sample set from the previous analyses. \n",
    "- All analyses were performed using genome-wide 4-fold degenerate site.\n",
    "\n",
    "The basic workflow is as follows:\n",
    "\n",
    "1. Generate the Site Allele Frequency (SAF) likelihood distribution for each habitat within each city. \n",
    "\n",
    "    - Used the same filters as previously, the most important of which is that sites are only included if 50% of individuals have data. Remember, this is 50% of individuals _within_ a habitat; this would correspond to 5 individuals if none have been removed due to low coverage. \n",
    "\n",
    "2. To estimate diversity, generate the folded, one-dimensional SFS from the SAF file in step 1 and estimate diversity separately in urban and rural habitats\n",
    "3. To estimate Fst, generate the folded, two-dimensional joint SFS of urban-rural habitats and estimate Fst. This uses only sites that are shared between both populations (i.e., the intersection of the two SAF files). \n",
    "\n",
    "    - For comparison, I estimated Fst using both Weir and Cockerham (1984) and Hudson (1992).\n",
    "    \n",
    "4. We also performed a permutation test for pi and Fst in each city by randomly permuting the urban and rural individuals and repeating steps 1 to 2 above"
   ]
  },
  {
   "cell_type": "markdown",
   "metadata": {},
   "outputs": [],
   "source": [
    "## Pairwise diversity"
   ]
  },
  {
   "cell_type": "markdown",
   "metadata": {},
   "outputs": [],
   "source": [
    "### Load diversity data\n",
    "\n",
    "#### Observed"
   ]
  },
  {
   "cell_type": "code",
   "execution_count": 3,
   "metadata": {},
   "outputs": [],
   "source": [
    "# Function to load observed diversity estimates by city and habitat\n",
    "load_obs_pairwise_diversity <- function(path){\n",
    "    \n",
    "    # Get city and site names from file\n",
    "    city <- dirname(path)\n",
    "    site <- str_extract(basename(path), pattern = '(?<=_)[r|u]')\n",
    "    \n",
    "    full_path <- paste0(inpath, path)\n",
    "    df <- suppressMessages(read_delim(full_path, delim = '\\t')) %>% \n",
    "        mutate(tp_scaled = tP / nSites,\n",
    "               tw_scaled = tW / nSites,\n",
    "               city = city,\n",
    "               habitat = site) %>% \n",
    "    dplyr::select(city, habitat, tp_scaled, tw_scaled, nSites)\n",
    "\n",
    "    return(df)\n",
    "    \n",
    "}"
   ]
  },
  {
   "cell_type": "code",
   "execution_count": 4,
   "metadata": {
    "scrolled": true
   },
   "outputs": [],
   "source": [
    "# Merge diversity and habitat diversity dfs into single dataframe\n",
    "inpath <- '../results/angsd/summary_stats/thetas/by_city/'\n",
    "obs_div_df <- list.files(inpath, pattern = '.*_[u|r]_4fold.thetas.idx.pestPG', recursive = TRUE) %>% \n",
    "    map_dfr(., load_obs_pairwise_diversity) "
   ]
  },
  {
   "cell_type": "code",
   "execution_count": 5,
   "metadata": {},
   "outputs": [],
   "source": [
    "head(obs_div_df)"
   ]
  },
  {
   "cell_type": "code",
   "execution_count": 6,
   "metadata": {
    "scrolled": true
   },
   "outputs": [],
   "source": [
    "print(mean(obs_div_df$nSites))\n",
    "print(range(obs_div_df$nSites))"
   ]
  },
  {
   "cell_type": "code",
   "execution_count": 7,
   "metadata": {
    "scrolled": false
   },
   "outputs": [],
   "source": [
    "obs_div_df %>% filter(nSites == min(nSites) | nSites == max(nSites))"
   ]
  },
  {
   "cell_type": "code",
   "execution_count": 8,
   "metadata": {},
   "outputs": [],
   "source": [
    "obs_div_df_wide <- obs_div_df %>% \n",
    "    # Calculate urban-rural difference in theta\n",
    "    pivot_wider(names_from = habitat, values_from = c(tp_scaled, tw_scaled, nSites)) %>% \n",
    "    mutate(tp_diff = tp_scaled_u - tp_scaled_r)\n",
    "head(obs_div_df_wide)"
   ]
  },
  {
   "cell_type": "markdown",
   "metadata": {},
   "outputs": [],
   "source": [
    "#### Permuted"
   ]
  },
  {
   "cell_type": "code",
   "execution_count": 9,
   "metadata": {},
   "outputs": [],
   "source": [
    "# Function to load permuted diversity estimates by city and habitat\n",
    "load_permuted_pairwise_diversity <- function(path){\n",
    "    \n",
    "    # Get city and site names from file\n",
    "    city <- dirname(dirname(path))\n",
    "    site <- str_extract(basename(path), pattern = '(?<=_)[r|u]')\n",
    "    seed <- str_extract(basename(path), pattern = '(?<=_seed)\\\\d+')\n",
    "\n",
    "    \n",
    "    full_path <- paste0(inpath, path)\n",
    "    df <- suppressMessages(read_delim(full_path, delim = '\\t')) %>% \n",
    "        mutate(tp_scaled = tP / nSites,\n",
    "               tw_scaled = tW / nSites,\n",
    "               city = city,\n",
    "               habitat = site,\n",
    "               seed = seed) %>% \n",
    "    dplyr::select(city, habitat, seed, tp_scaled, tw_scaled, nSites) %>% \n",
    "    group_by(city, habitat)\n",
    "\n",
    "    return(df)\n",
    "    \n",
    "}"
   ]
  },
  {
   "cell_type": "code",
   "execution_count": 10,
   "metadata": {},
   "outputs": [],
   "source": [
    "perm_div_df <- list.files(inpath, pattern = '.*_[u|r]_4fold_seed.*.thetas.idx.pestPG', recursive = TRUE) %>% \n",
    "    map_dfr(., load_permuted_pairwise_diversity) "
   ]
  },
  {
   "cell_type": "code",
   "execution_count": 11,
   "metadata": {},
   "outputs": [],
   "source": [
    "head(perm_div_df)"
   ]
  },
  {
   "cell_type": "code",
   "execution_count": 12,
   "metadata": {},
   "outputs": [],
   "source": [
    "perm_div_df_wide <- perm_div_df %>% \n",
    "    # Calculate urban-rural difference in theta\n",
    "    pivot_wider(names_from = habitat, values_from = c(tp_scaled, tw_scaled, nSites)) %>% \n",
    "    mutate(tp_diff = tp_scaled_u - tp_scaled_r)\n",
    "head(perm_div_df_wide)"
   ]
  },
  {
   "cell_type": "markdown",
   "metadata": {},
   "outputs": [],
   "source": [
    "### Plot differences in diversity"
   ]
  },
  {
   "cell_type": "code",
   "execution_count": 56,
   "metadata": {
    "scrolled": false
   },
   "outputs": [],
   "source": [
    "pal <- wes_palette(\"Zissou1\", 26, type = \"continuous\")\n",
    "perm_div_df_wide %>% \n",
    "    ggplot(., aes(x = tp_diff, y = city, fill = city)) +\n",
    "    geom_density_ridges(scale = 1.1, show.legend = FALSE) +\n",
    "    geom_segment(data = obs_div_df_wide, aes(x = tp_diff, xend = tp_diff, y = as.numeric(as.factor(city)), \n",
    "                                             yend = as.numeric(as.factor(city)) + 0.8),\n",
    "                color = 'black', size = 0.5, linetype = 'dotted') +\n",
    "    ylab('City') + xlab('Urban-rural difference in pairwise nucleotide diversity') +\n",
    "    scale_fill_manual(values = pal) +\n",
    "    theme_classic()"
   ]
  },
  {
   "cell_type": "code",
   "execution_count": 165,
   "metadata": {},
   "outputs": [],
   "source": [
    "# Function to estimate P-values\n",
    "permutation_pval <- function(df, var){\n",
    "    \n",
    "    city <- df %>% pull(city) %>% unique\n",
    "    \n",
    "    obs_val <- df %>% filter(is.na(seed)) %>% pull(var)\n",
    "    perm_val <- df %>% filter(!(is.na(seed))) %>% pull(var)\n",
    "\n",
    "    pval <- sum(abs(perm_val) >= abs(obs_val)) / 100\n",
    "    df_out <- data.frame(city = city, pval = pval)\n",
    "    return(df_out)\n",
    "}"
   ]
  },
  {
   "cell_type": "code",
   "execution_count": 167,
   "metadata": {},
   "outputs": [],
   "source": [
    "div_df <- bind_rows(obs_div_df_wide, perm_div_df_wide)\n",
    "div_pval_df <- div_df %>% \n",
    "    group_split(city) %>% \n",
    "    purrr::map_dfr(., var = 'tp_diff', permutation_pval)"
   ]
  },
  {
   "cell_type": "markdown",
   "metadata": {},
   "outputs": [],
   "source": [
    "## Fst"
   ]
  },
  {
   "cell_type": "markdown",
   "metadata": {},
   "outputs": [],
   "source": [
    "### Load Fst dataframe\n",
    "\n",
    "#### Observed"
   ]
  },
  {
   "cell_type": "code",
   "execution_count": 84,
   "metadata": {},
   "outputs": [],
   "source": [
    "# Function to load observed Fst df by city/habitat\n",
    "load_obs_fst <- function(path){\n",
    "    \n",
    "    # Get Fst type and city from filenames\n",
    "    city <- dirname(path)\n",
    "    \n",
    "    full_path <- paste0(inpath, path)\n",
    "    colnames <- c('chrom', 'pos', 'num', 'denom')\n",
    "    df <- suppressMessages(fread(full_path, sep = '\\t', header = FALSE, col.names = colnames)) %>% \n",
    "        \n",
    "        # Cap numerators at 0 if negative \n",
    "        # https://github.com/ANGSD/angsd/issues/309\n",
    "        # Does not affect overall pattern\n",
    "        mutate(num = ifelse(num < 0, 0, num)) %>% \n",
    "        \n",
    "        # Estimate weighted Fst as ratio of averages\n",
    "        # https://github.com/ANGSD/angsd/issues/61\n",
    "        summarise(num_sum = sum(num),\n",
    "                  denom_sum = sum(denom),\n",
    "                  fst = num_sum / denom_sum,\n",
    "                  nSites = n()) %>% \n",
    "        mutate(city = city)\n",
    "    \n",
    "    return(df)\n",
    "    \n",
    "}"
   ]
  },
  {
   "cell_type": "code",
   "execution_count": 90,
   "metadata": {},
   "outputs": [],
   "source": [
    "# Merge Fst dataframes. Only using Hudson's Fst\n",
    "inpath <- '../results/angsd/summary_stats/fst/fst1/'\n",
    "obs_fst_df <- list.files(inpath, pattern = '.*_r_u_fst1_readable.fst', recursive = TRUE) %>% \n",
    "    map_dfr(., load_obs_fst)"
   ]
  },
  {
   "cell_type": "code",
   "execution_count": 86,
   "metadata": {},
   "outputs": [],
   "source": [
    "head(obs_fst_df)"
   ]
  },
  {
   "cell_type": "code",
   "execution_count": 91,
   "metadata": {},
   "outputs": [],
   "source": [
    "# Remove Kyoto since only 1 rural sample\n",
    "obs_fst_df_noKyoto <-  obs_fst_df %>% \n",
    "    filter(!(city == 'Kyoto'))"
   ]
  },
  {
   "cell_type": "code",
   "execution_count": 92,
   "metadata": {},
   "outputs": [],
   "source": [
    "# Mean number of sites fo Hudson's Fst (without Kyoto)\n",
    "obs_fst_df_noKyoto %>% pull(nSites) %>% mean()"
   ]
  },
  {
   "cell_type": "code",
   "execution_count": 93,
   "metadata": {},
   "outputs": [],
   "source": [
    "obs_fst_df_noKyoto %>% \n",
    "    ungroup() %>% \n",
    "    filter(nSites == min(nSites) | nSites == max(nSites))"
   ]
  },
  {
   "cell_type": "markdown",
   "metadata": {},
   "outputs": [],
   "source": [
    "#### Permuted"
   ]
  },
  {
   "cell_type": "code",
   "execution_count": 97,
   "metadata": {},
   "outputs": [],
   "source": [
    "# Function to load permuted Fst df by city/habitat\n",
    "load_perm_fst <- function(path){\n",
    "    \n",
    "    # Get Fst type and city from filenames\n",
    "    city <- dirname(dirname(path))\n",
    "    seed <- str_extract(basename(path), pattern = '(?<=_seed)\\\\d+')\n",
    "    \n",
    "    full_path <- paste0(inpath, path)\n",
    "    colnames <- c('chrom', 'pos', 'num', 'denom')\n",
    "    df <- suppressMessages(fread(full_path, sep = '\\t', header = FALSE, col.names = colnames)) %>% \n",
    "        \n",
    "        # Cap numerators at 0 if negative \n",
    "        # https://github.com/ANGSD/angsd/issues/309\n",
    "        # Does not affect overall pattern\n",
    "        mutate(num = ifelse(num < 0, 0, num)) %>% \n",
    "        \n",
    "        # Estimate weighted Fst as ratio of averages\n",
    "        # https://github.com/ANGSD/angsd/issues/61\n",
    "        summarise(num_sum = sum(num),\n",
    "                  denom_sum = sum(denom),\n",
    "                  fst = num_sum / denom_sum,\n",
    "                  nSites = n()) %>% \n",
    "        mutate(city = city,\n",
    "               seed = seed)\n",
    "    \n",
    "    return(df)\n",
    "    \n",
    "}"
   ]
  },
  {
   "cell_type": "code",
   "execution_count": 98,
   "metadata": {},
   "outputs": [],
   "source": [
    "# Merge Fst dataframes. Only using Hudson's Fst\n",
    "inpath <- '../results/angsd/summary_stats/fst/fst1/'\n",
    "perm_fst_df <- list.files(inpath, pattern = '.*seed\\\\d+_r_u_readable.fst', recursive = TRUE) %>% \n",
    "    map_dfr(., load_perm_fst)"
   ]
  },
  {
   "cell_type": "code",
   "execution_count": 172,
   "metadata": {},
   "outputs": [],
   "source": [
    "pal <- wes_palette(\"Zissou1\", 26, type = \"continuous\")\n",
    "perm_fst_df %>% \n",
    "    ggplot(., aes(x = fst, y = city, fill = city)) +\n",
    "    geom_density_ridges(scale = 1.1, show.legend = FALSE) +\n",
    "    geom_segment(data = obs_fst_df, aes(x = fst, xend = fst, y = as.numeric(as.factor(city)), \n",
    "                                             yend = as.numeric(as.factor(city)) + 0.8),\n",
    "                color = 'black', size = 0.5, linetype = 'dotted') +\n",
    "    ylab('City') + xlab('Urban-rural Fst') +\n",
    "    scale_fill_manual(values = pal) +\n",
    "    theme_classic()"
   ]
  },
  {
   "cell_type": "code",
   "execution_count": 169,
   "metadata": {},
   "outputs": [],
   "source": [
    "fst_df <- bind_rows(obs_fst_df, perm_fst_df)\n",
    "fst_pval_df <- fst_df %>% \n",
    "    group_split(city) %>% \n",
    "    purrr::map_dfr(., var = 'fst', permutation_pval)"
   ]
  },
  {
   "cell_type": "code",
   "execution_count": 170,
   "metadata": {},
   "outputs": [],
   "source": [
    "fst_pval_df"
   ]
  },
  {
   "cell_type": "markdown",
   "metadata": {},
   "outputs": [],
   "source": [
    "## Euclidean distance from PCA\n",
    "\n",
    "- Estimate Euclidean distance between urban and rural centroids by city"
   ]
  },
  {
   "cell_type": "code",
   "execution_count": 173,
   "metadata": {},
   "outputs": [],
   "source": [
    "euclidean <- function(x1, y1, x2, y2){\n",
    "    \n",
    "    dist <- sqrt((x1 - x2)^2 + (y1 - y2)^2)\n",
    "    return(dist)\n",
    "}"
   ]
  },
  {
   "cell_type": "code",
   "execution_count": 174,
   "metadata": {},
   "outputs": [],
   "source": [
    "# Load data with habitat info\n",
    "habitat_info <- suppressMessages(\n",
    "    read_delim(\n",
    "        '../../sequencing-prep/resources/low1_sampleSheet.txt', \n",
    "                           delim = '\\t')) %>% \n",
    "    dplyr::select(continent, range, city, pop, individual, site, sample)"
   ]
  },
  {
   "cell_type": "code",
   "execution_count": 175,
   "metadata": {},
   "outputs": [],
   "source": [
    "# Load covariance matrix from PCAngsd\n",
    "cov_mat <- suppressMessages(\n",
    "    read_delim(\n",
    "        '../results/population_structure/pcangsd/highErrorRemoved_4fold_maf0.05_pcangsd.cov', \n",
    "                      col_names = FALSE, delim = ' ')) %>% \n",
    "      as.matrix()\n",
    "\n",
    "# Combine continent and habitat data with sample order from ANGSD\n",
    "samples <- suppressMessages(\n",
    "    read_table(\n",
    "        '../results/program_resources/angsd_highErrorRemoved_order.txt', col_names = FALSE) %>% \n",
    "  rename('sample' = 'X1')) %>%\n",
    "  left_join(., habitat_info, by = 'sample')"
   ]
  },
  {
   "cell_type": "code",
   "execution_count": 176,
   "metadata": {},
   "outputs": [],
   "source": [
    "# Dataframe with eigenvectors\n",
    "eigenvectors <- eigen(cov_mat)\n",
    "eigen_df <- eigenvectors$vectors %>% \n",
    "    as.data.frame() %>% \n",
    "    dplyr::select(V1, V2) %>% \n",
    "    rename('PC1' = 'V1',\n",
    "         'PC2' = 'V2') %>% \n",
    "    bind_cols(., samples) %>% \n",
    "    mutate(sample_set = 'highErrorRemoved')"
   ]
  },
  {
   "cell_type": "code",
   "execution_count": 177,
   "metadata": {},
   "outputs": [],
   "source": [
    "euc_dist_df <- eigen_df %>% \n",
    "    group_by(city, site) %>% \n",
    "    summarise(x = mean(PC1),\n",
    "              y = mean(PC2)) %>% \n",
    "    pivot_wider(names_from = site, values_from = c(x, y)) %>% \n",
    "    mutate(distance = euclidean(x_u, y_u, x_r, y_r)) %>% \n",
    "    dplyr::select(city, distance)"
   ]
  },
  {
   "cell_type": "code",
   "execution_count": 178,
   "metadata": {},
   "outputs": [],
   "source": [
    "head(euc_dist_df)"
   ]
  },
  {
   "cell_type": "markdown",
   "metadata": {},
   "outputs": [],
   "source": [
    "## Fst vs. Euclidean distance"
   ]
  },
  {
   "cell_type": "code",
   "execution_count": 181,
   "metadata": {},
   "outputs": [],
   "source": [
    "fst"
   ]
  },
  {
   "cell_type": "code",
   "execution_count": 185,
   "metadata": {},
   "outputs": [],
   "source": [
    "fst <- obs_fst_df %>% pull(fst)\n",
    "dist <- euc_dist_df %>% pull(distance)"
   ]
  },
  {
   "cell_type": "code",
   "execution_count": 183,
   "metadata": {},
   "outputs": [],
   "source": [
    "fst_by_eucl <- qplot() + \n",
    "    geom_point(aes(x = fst, y = dist), size = 2, alpha = 0.5) +\n",
    "#     geom_abline(slope = 1, intercept = 0) +\n",
    "    xlab(\"Hudson's Fst\") + ylab('Euclidean distance') +\n",
    "    theme_classic()\n",
    "fst_by_eucl"
   ]
  },
  {
   "cell_type": "code",
   "execution_count": 186,
   "metadata": {
    "scrolled": true
   },
   "outputs": [],
   "source": [
    "# Correlation using all points\n",
    "cor(fst, dist, method = 'pearson')"
   ]
  },
  {
   "cell_type": "code",
   "execution_count": 187,
   "metadata": {},
   "outputs": [],
   "source": [
    "fst_highDrop <- fst[fst<0.1]\n",
    "dist_highDrop <- dist[fst<0.1]"
   ]
  },
  {
   "cell_type": "code",
   "execution_count": 188,
   "metadata": {},
   "outputs": [],
   "source": [
    "fst_by_eucl_highDrop <- qplot() + \n",
    "    geom_point(aes(x = fst_highDrop, y = dist_highDrop), size = 2, alpha = 0.5) +\n",
    "#     geom_abline(slope = 1, intercept = 0) +\n",
    "    xlab(\"Hudson's Fst\") + ylab('Euclidean distance') +\n",
    "    theme_classic()\n",
    "fst_by_eucl_highDrop"
   ]
  },
  {
   "cell_type": "code",
   "execution_count": 189,
   "metadata": {},
   "outputs": [],
   "source": [
    "# Correlation when large Fst outliers are removed\n",
    "cor.test(fst_highDrop, dist_highDrop)"
   ]
  },
  {
   "cell_type": "markdown",
   "metadata": {},
   "outputs": [],
   "source": [
    "## Models"
   ]
  },
  {
   "cell_type": "code",
   "execution_count": 190,
   "metadata": {},
   "outputs": [],
   "source": [
    "# Get dataframe with slopes and significance of clines\n",
    "betaLog <- suppressMessages(read_csv('../../phenotypic-analyses/analysis/supplementary-tables/allCities_logisticReg_coefs.csv')) %>% \n",
    "dplyr::select(city, betaLog, pvalLog)\n",
    "head(betaLog)"
   ]
  },
  {
   "cell_type": "code",
   "execution_count": 194,
   "metadata": {},
   "outputs": [],
   "source": [
    "df_allStats <- euc_dist_df %>% \n",
    "    left_join(., obs_fst_df, by = 'city') %>% \n",
    "    left_join(., obs_div_df_wide, by = 'city') %>% \n",
    "    left_join(., betaLog, by = 'city') %>% \n",
    "    mutate(sigLog = ifelse(pvalLog < 0.05, 'Yes', 'No'),\n",
    "           significance = case_when(sigLog == 'Yes' & betaLog < 0 ~ 'Significantly negative',\n",
    "                                    sigLog == 'Yes' & betaLog > 0 ~ 'Significantly positive',\n",
    "                                    TRUE ~ 'Not significant'))"
   ]
  },
  {
   "cell_type": "markdown",
   "metadata": {},
   "outputs": [],
   "source": [
    "### Does pi differ by habitat or city?"
   ]
  },
  {
   "cell_type": "code",
   "execution_count": 196,
   "metadata": {
    "scrolled": false
   },
   "outputs": [],
   "source": [
    "pi_mod <- aov(tp_scaled ~ city + habitat, data = obs_div_df)\n",
    "summary(pi_mod)"
   ]
  },
  {
   "cell_type": "code",
   "execution_count": 197,
   "metadata": {},
   "outputs": [],
   "source": [
    "# Least squared means of pi in each habitat\n",
    "emmeans(pi_mod, specs = 'habitat')"
   ]
  },
  {
   "cell_type": "code",
   "execution_count": 199,
   "metadata": {},
   "outputs": [],
   "source": [
    "# Standard errors from data instead of modelobs\n",
    "obs_div_df %>% \n",
    "    group_by(habitat) %>% \n",
    "    summarise(mean = round(mean(tp_scaled), 4),\n",
    "              n = n(),\n",
    "              se = round(sd(tp_scaled) / sqrt(n), 6))"
   ]
  },
  {
   "cell_type": "markdown",
   "metadata": {},
   "outputs": [],
   "source": [
    "### Pi by habitat and clines (sig vs. ns)"
   ]
  },
  {
   "cell_type": "code",
   "execution_count": 200,
   "metadata": {},
   "outputs": [],
   "source": [
    "div_df_mod <- obs_div_df %>% \n",
    "    left_join(., betaLog, by = 'city') %>% \n",
    "    mutate(sig = ifelse(pvalLog < 0.05, 'Yes', 'No'))"
   ]
  },
  {
   "cell_type": "code",
   "execution_count": 201,
   "metadata": {},
   "outputs": [],
   "source": [
    "# Model to get least squared means\n",
    "pi_mod_sig <- aov(tp_scaled ~ habitat + sig, data = div_df_mod)\n",
    "summary(pi_mod_sig)"
   ]
  },
  {
   "cell_type": "code",
   "execution_count": 202,
   "metadata": {},
   "outputs": [],
   "source": [
    "# Get least quared means\n",
    "emmeans(pi_mod_sig, specs = 'habitat', by = 'sig')"
   ]
  },
  {
   "cell_type": "code",
   "execution_count": 203,
   "metadata": {},
   "outputs": [],
   "source": [
    "# Standard errors from data instead of model\n",
    "div_df_mod %>% \n",
    "    group_by(habitat, sig) %>% \n",
    "    summarise(mean = round(mean(tp_scaled), 4),\n",
    "              n = n(),\n",
    "              se = round(sd(tp_scaled) / sqrt(n), 6))"
   ]
  },
  {
   "cell_type": "markdown",
   "metadata": {},
   "outputs": [],
   "source": [
    "### Does the strength of clines predict mean diversity?\n",
    "\n",
    "- Model above suggests diversity is higher in cities with clines?\n",
    "- Is this a real result?\n",
    "- Do mean diversity across cities vary with the strength of clines?"
   ]
  },
  {
   "cell_type": "code",
   "execution_count": 204,
   "metadata": {},
   "outputs": [],
   "source": [
    "div_df_mean <- obs_div_df %>% \n",
    "    group_by(city) %>% \n",
    "    summarise(tp_scaled = mean(tp_scaled)) %>% \n",
    "    left_join(., betaLog, by = 'city')"
   ]
  },
  {
   "cell_type": "code",
   "execution_count": 205,
   "metadata": {},
   "outputs": [],
   "source": [
    "summary(lm(tp_scaled ~ betaLog, data = div_df_mean))"
   ]
  },
  {
   "cell_type": "markdown",
   "metadata": {},
   "outputs": [],
   "source": [
    "### Does difference in neutral diversity predict HCN clines?"
   ]
  },
  {
   "cell_type": "code",
   "execution_count": 209,
   "metadata": {
    "scrolled": true
   },
   "outputs": [],
   "source": [
    "div_mod <- aov(betaLog ~ tp_diff, data = df_allStats)\n",
    "summary(div_mod)"
   ]
  },
  {
   "cell_type": "markdown",
   "metadata": {},
   "outputs": [],
   "source": [
    "### Does difference in pi differ between cities with and without clines?"
   ]
  },
  {
   "cell_type": "code",
   "execution_count": 210,
   "metadata": {
    "scrolled": true
   },
   "outputs": [],
   "source": [
    "tpDiff_by_sig_mod <- aov(tp_diff ~ sigLog, data = df_allStats)\n",
    "summary(tpDiff_by_sig_mod)"
   ]
  },
  {
   "cell_type": "code",
   "execution_count": 211,
   "metadata": {},
   "outputs": [],
   "source": [
    "emmeans(tpDiff_by_sig_mod, specs = 'sigLog')"
   ]
  },
  {
   "cell_type": "markdown",
   "metadata": {},
   "outputs": [],
   "source": [
    "### Does Fst predict HCN?"
   ]
  },
  {
   "cell_type": "code",
   "execution_count": 212,
   "metadata": {},
   "outputs": [],
   "source": [
    "# Does Fst predict HCN?\n",
    "# Rremove Kyoto since Fst likely biased by low sample size (N = 1)\n",
    "df_allStats_noKyoto <- df_allStats %>% filter(!(city == 'Kyoto'))\n",
    "fst_mod <- aov(betaLog ~ fst, data = df_allStats_noKyoto)\n",
    "summary(fst_mod)"
   ]
  },
  {
   "cell_type": "markdown",
   "metadata": {},
   "outputs": [],
   "source": [
    "### Does Fst differ between cities with and without clines?"
   ]
  },
  {
   "cell_type": "code",
   "execution_count": 213,
   "metadata": {},
   "outputs": [],
   "source": [
    "df_allStats_noKyoto %>% ungroup() %>% summarise(meanFst = mean(fst), n = n(), se = sd(fst) / sqrt(n))"
   ]
  },
  {
   "cell_type": "code",
   "execution_count": 214,
   "metadata": {
    "scrolled": true
   },
   "outputs": [],
   "source": [
    "fst_mod <- aov(fst ~ sigLog, data = df_allStats_noKyoto)\n",
    "summary(fst_mod)"
   ]
  },
  {
   "cell_type": "code",
   "execution_count": 215,
   "metadata": {
    "scrolled": true
   },
   "outputs": [],
   "source": [
    "emmeans(fst_mod, specs = 'sigLog')"
   ]
  },
  {
   "cell_type": "code",
   "execution_count": 216,
   "metadata": {},
   "outputs": [],
   "source": [
    "# Standard errors from data instead of model\n",
    "df_allStats_noKyoto %>% \n",
    "    group_by(sigLog) %>% \n",
    "    summarise(mean = round(mean(fst), 4),\n",
    "              n = n(),\n",
    "              se = round(sd(fst) / sqrt(n), 4))"
   ]
  },
  {
   "cell_type": "markdown",
   "metadata": {},
   "outputs": [],
   "source": [
    "### Does euclidean distance predict HCN?"
   ]
  },
  {
   "cell_type": "code",
   "execution_count": 217,
   "metadata": {},
   "outputs": [],
   "source": [
    "dist_mod <- aov(betaLog ~ distance, data = df_allStats)\n",
    "summary(dist_mod)"
   ]
  },
  {
   "cell_type": "markdown",
   "metadata": {},
   "outputs": [],
   "source": [
    "## Figure 4 for main text\n",
    "\n",
    "- Figure 4 will illustrate some of the (null) results from the models above"
   ]
  },
  {
   "cell_type": "code",
   "execution_count": 218,
   "metadata": {},
   "outputs": [],
   "source": [
    "# Theme used for plotting\n",
    "ng1 <- theme(aspect.ratio=0.7,panel.background = element_blank(),\n",
    "          panel.grid.major = element_blank(),\n",
    "          panel.grid.minor = element_blank(),\n",
    "          panel.border=element_blank(),\n",
    "          axis.line.x = element_line(color=\"black\",size=1),\n",
    "          axis.line.y = element_line(color=\"black\",size=1),\n",
    "          axis.ticks=element_line(color=\"black\"),\n",
    "          axis.text=element_text(color=\"black\",size=15),\n",
    "          axis.title=element_text(color=\"black\",size=1),\n",
    "          axis.title.y=element_text(vjust=2,size=17),\n",
    "          axis.title.x=element_text(vjust=0.1,size=17),\n",
    "          axis.text.x=element_text(size=15),\n",
    "          axis.text.y=element_text(size=15),\n",
    "          strip.text.x = element_text(size = 10, colour = \"black\",face = \"bold\"),\n",
    "          strip.background = element_rect(colour=\"black\"),\n",
    "          legend.position = \"top\", legend.direction=\"vertical\",\n",
    "          legend.text=element_text(size=17), legend.key = element_rect(fill = \"white\"),\n",
    "          legend.title = element_text(size=17),legend.key.size = unit(1.0, \"cm\"))"
   ]
  },
  {
   "cell_type": "markdown",
   "metadata": {},
   "outputs": [],
   "source": [
    "### Figure 4A\n",
    "\n",
    "- Histogram showing urban and rural theta pi"
   ]
  },
  {
   "cell_type": "code",
   "execution_count": 219,
   "metadata": {},
   "outputs": [],
   "source": [
    "# Colors for histograms\n",
    "pal <- wes_palette('Darjeeling1', 5, type = 'discrete')\n",
    "urban_col <- pal[4]\n",
    "rural_col <- pal[2]\n",
    "cols <- c(urban_col, rural_col)"
   ]
  },
  {
   "cell_type": "code",
   "execution_count": 221,
   "metadata": {},
   "outputs": [],
   "source": [
    "rural_div_df <- obs_div_df %>% filter(habitat == 'r')\n",
    "urban_div_df <- obs_div_df %>% filter(habitat == 'u')\n",
    "alpha = 0.75\n",
    "pi_by_habitat <- ggplot() +\n",
    "    geom_histogram(data = rural_div_df, \n",
    "                   bins = 26, \n",
    "                   aes(x = tp_scaled, fill = habitat), \n",
    "                   color = 'black',\n",
    "                  alpha = alpha) +\n",
    "    geom_histogram(data = urban_div_df, \n",
    "                   bins = 26, \n",
    "                   aes(x = tp_scaled, fill = habitat), \n",
    "                   color = 'black', \n",
    "                   alpha = alpha) +\n",
    "    scale_fill_manual(values = rev(cols), labels = c('Rural', 'Urban')) +\n",
    "    geom_vline(xintercept = mean(rural_div_df %>% pull(tp_scaled)), color = rural_col, linetype = 'dashed') +\n",
    "    geom_vline(xintercept = mean(urban_div_df %>% pull(tp_scaled)), color = urban_col, linetype = 'dashed') +\n",
    "    ylab('Number of cities') + xlab('Pairwise nucleotide diversity') +\n",
    "    scale_y_continuous(breaks = seq(from = 0, to = 7, by = 1)) +\n",
    "    scale_x_continuous(breaks = seq(from = -0.017, to = 0.023, by = 0.001)) +\n",
    "    coord_cartesian(xlim = c(0.017, 0.023)) +\n",
    "    ng1\n",
    "pi_by_habitat"
   ]
  },
  {
   "cell_type": "markdown",
   "metadata": {},
   "outputs": [],
   "source": [
    "### Figure 4B\n",
    "\n",
    "- Slope of HCN cline vs. difference in pi"
   ]
  },
  {
   "cell_type": "code",
   "execution_count": 222,
   "metadata": {},
   "outputs": [],
   "source": [
    "pal <- c(\"#909090\", \"#FF0000\", \"#046C9A\")"
   ]
  },
  {
   "cell_type": "code",
   "execution_count": 223,
   "metadata": {},
   "outputs": [],
   "source": [
    "slope_by_PIdiff <- ggplot(df_allStats, aes(x = tp_diff, y = betaLog)) +\n",
    "    geom_point(size = 5, aes(fill = significance), shape = 21) +\n",
    "    geom_smooth(method = 'lm', color = 'black', size = 1.5) +\n",
    "    scale_fill_manual(values = pal) +\n",
    "    ylab('Slope of HCN clines (log-odds)') + xlab('Rural-urban difference in pariwise nucleotide diversity') +\n",
    "    ng1\n",
    "slope_by_PIdiff"
   ]
  },
  {
   "cell_type": "markdown",
   "metadata": {},
   "outputs": [],
   "source": [
    "### Figure 4C\n",
    "\n",
    "- Histogram of Fst by significant cline"
   ]
  },
  {
   "cell_type": "code",
   "execution_count": 224,
   "metadata": {},
   "outputs": [],
   "source": [
    "alpha <- 0.6\n",
    "fst_by_cline <- ggplot(df_allStats_noKyoto, aes(x = fst)) +\n",
    "    geom_histogram(data = df_allStats_noKyoto %>% filter(significance == 'Not significant'),\n",
    "                                                         bins = 25, \n",
    "                                                         aes(fill = significance), \n",
    "                                                         color = 'black', \n",
    "                                                         alpha = alpha) +\n",
    "    geom_histogram(data = df_allStats_noKyoto %>% filter(significance == 'Significantly negative'),\n",
    "                                                         bins = 25, \n",
    "                                                         aes(fill = significance), \n",
    "                                                         color = 'black', \n",
    "                                                         alpha = alpha) +\n",
    "   geom_histogram(data = df_allStats_noKyoto %>% filter(significance == 'Significantly positive'),\n",
    "                                                         bins = 25, \n",
    "                                                         aes(fill = significance), \n",
    "                                                         color = 'black', \n",
    "                                                         alpha = alpha) +\n",
    "    scale_fill_manual(values = pal) +\n",
    "    coord_cartesian(xlim = c(0.01, 0.13)) +\n",
    "    scale_x_continuous(breaks = seq(from = 0.01, to = 0.13, by = 0.02)) +\n",
    "    ylab('Number of cities') + xlab('Urban-rural Fst') +\n",
    "#     scale_y_continuous(breaks = seq(from = 0, to = 7, by = 1)) +\n",
    "    ng1\n",
    "fst_by_cline"
   ]
  },
  {
   "cell_type": "markdown",
   "metadata": {},
   "outputs": [],
   "source": [
    "### Figure 4D\n",
    "\n",
    "- Slope of clines vs. Fst"
   ]
  },
  {
   "cell_type": "code",
   "execution_count": 225,
   "metadata": {},
   "outputs": [],
   "source": [
    "slope_by_fst <- ggplot(df_allStats_noKyoto, aes(x = fst, y = betaLog)) +\n",
    "    geom_point(size = 5, aes(fill = significance), shape = 21) +\n",
    "    geom_smooth(method = 'lm', color = 'black', size = 1.5) +\n",
    "    scale_fill_manual(values = pal) +\n",
    "    scale_x_continuous(breaks = seq(from = 0.01, to = 0.13, by = 0.02)) +\n",
    "    ylab('Slope of HCN clines (log-odds)') + xlab(\"Hudson's Fst\") +\n",
    "    ng1\n",
    "slope_by_fst"
   ]
  },
  {
   "cell_type": "markdown",
   "metadata": {},
   "outputs": [],
   "source": [
    "## Figure SX \n",
    "\n",
    "- PCA figure with urban/rural centroids"
   ]
  },
  {
   "cell_type": "code",
   "execution_count": 226,
   "metadata": {},
   "outputs": [],
   "source": [
    "euc_dist_df_forPlot <- eigen_df %>% \n",
    "    group_by(city, site) %>% \n",
    "    summarise(x = mean(PC1),\n",
    "              y = mean(PC2))\n",
    "head(euc_dist_df_forPlot)"
   ]
  },
  {
   "cell_type": "code",
   "execution_count": 227,
   "metadata": {},
   "outputs": [],
   "source": [
    "pca_centroids <- ggplot(euc_dist_df_forPlot, aes(x = x, y = y, fill = site, shape = site)) +\n",
    "    geom_line(size = 0.35, alpha = 0.4, aes(group = city)) +\n",
    "    geom_point(size = 3.5) +\n",
    "    scale_fill_manual(values = rev(cols), labels = c('Rural', 'Urban')) +\n",
    "    scale_shape_manual(values = c(21, 24), labels = c('Rural', 'Urban')) +\n",
    "    scale_x_continuous(breaks = seq(from = -0.08, to = 0.06, by = 0.02)) +\n",
    "    scale_y_continuous(breaks = seq(from = -0.05, to = 0.15, by = 0.03)) +\n",
    "    ylab('PC2 (7%)') + xlab(\"PC1 (18%)\") + \n",
    "    geom_label_repel(data = euc_dist_df_forPlot %>% filter(site == 'r'),\n",
    "                     aes(label = city),\n",
    "                        color = 'black',\n",
    "                        fill = 'white', \n",
    "                        size = 3,\n",
    "                        arrow = arrow(length = unit(0.03, \"npc\"), \n",
    "                        type = \"closed\", ends = \"last\"),\n",
    "                        nudge_y = 0.1,\n",
    "                        segment.size  = 0.3) +\n",
    "    ng1\n",
    "pca_centroids"
   ]
  },
  {
   "cell_type": "code",
   "execution_count": 228,
   "metadata": {},
   "outputs": [],
   "source": [
    "file.create(snakemake@output[[1]])"
   ]
  },
  {
   "cell_type": "code",
   "execution_count": null,
   "metadata": {},
   "outputs": [],
   "source": []
  }
 ],
 "metadata": {
  "kernelspec": {
   "display_name": "R",
   "language": "R",
   "name": "ir"
  },
  "language_info": {
   "codemirror_mode": "r",
   "file_extension": ".r",
   "mimetype": "text/x-r-source",
   "name": "R",
   "pygments_lexer": "r",
   "version": "3.6.3"
  }
 },
 "nbformat": 4,
 "nbformat_minor": 4
}
