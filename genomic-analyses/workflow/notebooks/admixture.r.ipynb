{
 "cells": [
  {
   "cell_type": "code",
   "execution_count": 2,
   "metadata": {},
   "outputs": [],
   "source": [
    "library(tidyverse)"
   ]
  },
  {
   "cell_type": "code",
   "execution_count": 4,
   "metadata": {},
   "outputs": [],
   "source": [
    "# Function to extract Best K from CLUMPAK outfile\n",
    "get_best_k <- function(path){\n",
    "        \n",
    "    lines = readLines(paste0(clumpak_files_path, '/', path))\n",
    "    print(lines)\n",
    "    \n",
    "}\n",
    "    \n",
    "    lines = readLines(paste0(clumpak_files_path, '/', path))\n",
    "    print(lines)"
   ]
  },
  {
   "cell_type": "code",
   "execution_count": 5,
   "metadata": {},
   "outputs": [],
   "source": [
    "clumpak_files_path <- '../results/population_structure/bestKbyEvanno/'\n",
    "list.files(clumpak_files_path, pattern = '*.log', recursive = TRUE) %>% \n",
    "    map_dfr(., get_best_k)"
   ]
  },
  {
   "cell_type": "code",
   "execution_count": null,
   "metadata": {},
   "outputs": [],
   "source": []
  }
 ],
 "metadata": {
  "kernelspec": {
   "display_name": "R",
   "language": "R",
   "name": "ir"
  },
  "language_info": {
   "codemirror_mode": "r",
   "file_extension": ".r",
   "mimetype": "text/x-r-source",
   "name": "R",
   "pygments_lexer": "r",
   "version": "3.6.3"
  }
 },
 "nbformat": 4,
 "nbformat_minor": 4
}
