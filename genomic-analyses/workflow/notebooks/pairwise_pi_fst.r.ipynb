{
 "cells": [
  {
   "cell_type": "code",
   "execution_count": 26,
   "metadata": {},
   "outputs": [],
   "source": [
    "library(tidyverse)"
   ]
  },
  {
   "cell_type": "markdown",
   "metadata": {},
   "outputs": [],
   "source": [
    "# Pairwise urban-rural pi and Fst within cities\n",
    "\n",
    "In this notebook, we'll examine urban-rural differences in diversity (theta_pi) and urban-rural Fst across all 26 cities. \n",
    "\n",
    "## Description of the data\n",
    "\n",
    "- Low coverage individuals have been removed from these analyses, so we're using the samples that are part of the *finalSamples_lowCovRemoved* sample set from the previous analyses. \n",
    "- All analyses were performed using genome-wide 4-fold degenerate site.\n",
    "\n",
    "The basic workflow is as follows:\n",
    "\n",
    "1. Generate the Site Allele Frequency (SAF) likelihood distribution for each habitat within each city. \n",
    "\n",
    "    - Used the same filters as previously, the most important of which is that sites are only included if 50% of individuals have data. Remember, this is 50% of individuals _within_ a habitat; this would correspond to 5 individuals if none have been removed due to low coverage. \n",
    "\n",
    "2. To estimate diversity, generate the folded, one-dimensional SFS from the SAF file in step 1 and estimate diversity separately in urban and rural habitats\n",
    "3. To estimate Fst, generate the folded, two-dimensional joint SFS of urban-rural habitats and estimate Fst. This uses only sites that are shared between both populations (i.e., the intersection of the two SAF files). \n",
    "\n",
    "    - For comparison, I estimated Fst using both Weir and Cockerham (1984) and Hudson (1992)."
   ]
  },
  {
   "cell_type": "markdown",
   "metadata": {},
   "outputs": [],
   "source": [
    "## Pairwise diversity"
   ]
  },
  {
   "cell_type": "markdown",
   "metadata": {},
   "outputs": [],
   "source": [
    "### Load diversity data"
   ]
  },
  {
   "cell_type": "code",
   "execution_count": 146,
   "metadata": {},
   "outputs": [],
   "source": [
    "# Function to load diversity estimates by city and habitat\n",
    "load_pairwise_diversity <- function(path){\n",
    "    \n",
    "    # Get city and site names from file\n",
    "    city <- dirname(path)\n",
    "    site <- str_extract(basename(path), pattern = '(?<=_)[r|u]')\n",
    "    \n",
    "    full_path <- paste0(inpath, path)\n",
    "    df <- suppressMessages(read_delim(full_path, delim = '\\t')) %>% \n",
    "        mutate(tp_scaled = tP / nSites,\n",
    "               tw_scaled = tW / nSites,\n",
    "               city = city,\n",
    "               habitat = site) %>% \n",
    "    dplyr::select(city, habitat, tp_scaled, tw_scaled, nSites) %>% \n",
    "    group_by(city, habitat) %>% \n",
    "    \n",
    "    # Mean across chromosomes\n",
    "    summarise(tp_scaled = mean(tp_scaled),\n",
    "              tw_scaled = mean(tw_scaled),\n",
    "              total_sites = sum(nSites),\n",
    "              .groups = 'drop')\n",
    "    return(df)\n",
    "    \n",
    "}"
   ]
  },
  {
   "cell_type": "code",
   "execution_count": 147,
   "metadata": {
    "scrolled": true
   },
   "outputs": [],
   "source": [
    "# Merge diversity and habitat diversity dfs into single dataframe\n",
    "inpath <- '../results/angsd/summary_stats/thetas/by_city/'\n",
    "div_df <- list.files(inpath, pattern = '*.pestPG', recursive = TRUE) %>% \n",
    "    map_dfr(., load_pairwise_diversity) %>% \n",
    "\n",
    "    # Calculate urban-rural difference in theta\n",
    "    pivot_wider(names_from = habitat, values_from = c(tp_scaled, tw_scaled, total_sites)) %>% \n",
    "    mutate(tp_diff = tp_scaled_u - tp_scaled_r)\n",
    "    "
   ]
  },
  {
   "cell_type": "code",
   "execution_count": 148,
   "metadata": {},
   "outputs": [],
   "source": [
    "head(div_df)"
   ]
  },
  {
   "cell_type": "markdown",
   "metadata": {},
   "outputs": [],
   "source": [
    "### Plot differences in diversity"
   ]
  },
  {
   "cell_type": "code",
   "execution_count": 151,
   "metadata": {},
   "outputs": [],
   "source": [
    "# Histogram of urban-rural differences in diversity\n",
    "div_diff_hist <- div_df %>% \n",
    "    ggplot(., aes(x = tp_diff)) +\n",
    "        geom_histogram(color = 'black', fill = 'white', bins = 13) +\n",
    "        ylab(\"Number of cities\") + xlab(\"Urban - rural difference in diversity\") +\n",
    "        theme_classic()\n",
    "div_diff_hist"
   ]
  },
  {
   "cell_type": "markdown",
   "metadata": {},
   "outputs": [],
   "source": [
    "### Does difference in neutral diversity predict HCN clines?"
   ]
  },
  {
   "cell_type": "code",
   "execution_count": 152,
   "metadata": {},
   "outputs": [],
   "source": [
    "slopes <- suppressMessages(read_csv('../../sequencing-prep/data/raw/linearClinesSummary.csv')) %>% \n",
    "    dplyr::select(city, betaHCN)\n",
    "div_df_withSlopes <- div_df %>% \n",
    "    left_join(., slopes, by = 'city')"
   ]
  },
  {
   "cell_type": "code",
   "execution_count": 153,
   "metadata": {},
   "outputs": [],
   "source": [
    "div_mod <- lm(betaHCN ~ tp_diff, data = div_df_withSlopes)\n",
    "summary(div_mod)"
   ]
  },
  {
   "cell_type": "code",
   "execution_count": 154,
   "metadata": {},
   "outputs": [],
   "source": [
    "# Looks fine\n",
    "par(mfrow = (c(2,2)))\n",
    "plot(div_mod)"
   ]
  },
  {
   "cell_type": "code",
   "execution_count": 155,
   "metadata": {},
   "outputs": [],
   "source": [
    "# Looks fine\n",
    "qplot(as.numeric(residuals(div_mod))) + \n",
    "    geom_histogram(color = 'black', fill = 'white') + \n",
    "    theme_classic()"
   ]
  },
  {
   "cell_type": "markdown",
   "metadata": {},
   "outputs": [],
   "source": [
    "## Fst"
   ]
  },
  {
   "cell_type": "markdown",
   "metadata": {},
   "outputs": [],
   "source": [
    "### Load Fst dataframe"
   ]
  },
  {
   "cell_type": "code",
   "execution_count": 56,
   "metadata": {},
   "outputs": [],
   "source": [
    "# Function to load Fst df by city/habitat\n",
    "load_fst <- function(path){\n",
    "    \n",
    "    # Get Fst type and city from filenames\n",
    "    dir <- str_split(path, pattern = '/')\n",
    "    fst_type <- dir[[1]][[1]]\n",
    "    city <- dir[[1]][[2]]    \n",
    "    \n",
    "    full_path <- paste0(inpath, path)\n",
    "    colnames <- c('chrom', 'pos', 'num', 'denom')\n",
    "    df <- suppressMessages(read_delim(full_path, delim = '\\t', col_names = colnames)) %>% \n",
    "        \n",
    "        # Cap numerators at 0 if negative \n",
    "        # https://github.com/ANGSD/angsd/issues/309\n",
    "        # Does not affect overall pattern\n",
    "#         mutate(num = ifelse(num < 0, 0, num)) %>% \n",
    "        \n",
    "        # Estimate weighted Fst as ratio of averages\n",
    "        # https://github.com/ANGSD/angsd/issues/61\n",
    "        summarise(num_sum = sum(num),\n",
    "                  denom_sum = sum(denom),\n",
    "                  fst = num_sum / denom_sum,\n",
    "                  nSites = n()) %>% \n",
    "        mutate(fst_type = ifelse(fst_type == 'fst0', 'wc', 'hudson'),\n",
    "               city = city)\n",
    "    \n",
    "    return(df)\n",
    "    \n",
    "}"
   ]
  },
  {
   "cell_type": "code",
   "execution_count": 77,
   "metadata": {},
   "outputs": [],
   "source": [
    "# Function to get number of samples buy city/habitat\n",
    "get_num_samples <- function(path){\n",
    "    \n",
    "    city <- dirname(path)\n",
    "    habitat <- str_extract(basename(path), pattern = '(?<=_)[r|u]')  \n",
    "    \n",
    "    full_path <- paste0(inpath, path)\n",
    "    df <- suppressMessages(read_table(full_path, col_names = FALSE)) \n",
    "    nsamples <- nrow(df)\n",
    "    \n",
    "    df <- data.frame(city = city, habitat = habitat, n = nsamples)\n",
    "    return(df)\n",
    "    \n",
    "}"
   ]
  },
  {
   "cell_type": "code",
   "execution_count": 81,
   "metadata": {},
   "outputs": [],
   "source": [
    "# Merged df with sample size info\n",
    "inpath <- '../results/program_resources/bam_lists/by_city/'\n",
    "sample_size_df <- list.files(inpath, pattern = '*.list', recursive = TRUE) %>% \n",
    "    map_dfr(., get_num_samples) %>% \n",
    "    pivot_wider(names_from = habitat, values_from = n)\n",
    "head(sample_size_df)"
   ]
  },
  {
   "cell_type": "code",
   "execution_count": 114,
   "metadata": {},
   "outputs": [],
   "source": [
    "# Merge Fst dataframes\n",
    "inpath <- '../results/angsd/summary_stats/fst/'\n",
    "fst_df <- list.files(inpath, pattern = '*_readable.fst', recursive = TRUE) %>% \n",
    "    map_dfr(., load_fst)"
   ]
  },
  {
   "cell_type": "code",
   "execution_count": 122,
   "metadata": {},
   "outputs": [],
   "source": [
    "fst_df_withSampleSize <- fst_df %>% \n",
    "    left_join(., sample_size_df, by = 'city') %>% \n",
    "    mutate(nmax = pmax(r, u),\n",
    "           nmin = pmin(r, u),\n",
    "           ndiff = nmax - nmin) %>% \n",
    "    rowwise() %>% \n",
    "    mutate(nmean = mean(c(r, u)))"
   ]
  },
  {
   "cell_type": "code",
   "execution_count": 123,
   "metadata": {},
   "outputs": [],
   "source": [
    "head(fst_df_withSampleSize)"
   ]
  },
  {
   "cell_type": "markdown",
   "metadata": {},
   "outputs": [],
   "source": [
    "### WC vs. Hudson's Fst"
   ]
  },
  {
   "cell_type": "code",
   "execution_count": 125,
   "metadata": {},
   "outputs": [],
   "source": [
    "wc <- fst_df_withSampleSize %>% filter(fst_type == 'wc') %>% pull(fst)\n",
    "hudson <- fst_df_withSampleSize %>% filter(fst_type == 'hudson') %>% pull(fst)"
   ]
  },
  {
   "cell_type": "code",
   "execution_count": 126,
   "metadata": {
    "scrolled": false
   },
   "outputs": [],
   "source": [
    "wc_vs_hudson <- qplot() + \n",
    "    geom_point(aes(x = wc, y = hudson), size = 2, alpha = 0.5) +\n",
    "    geom_abline(slope = 1, intercept = 0) +\n",
    "    xlab('Weir and Cockerham Fst') + ylab('Hudson Fst') +\n",
    "    theme_classic()\n",
    "wc_vs_hudson"
   ]
  },
  {
   "cell_type": "code",
   "execution_count": 89,
   "metadata": {},
   "outputs": [],
   "source": [
    "outpath <- snakemake@output[[1]]\n",
    "print(outpath)\n",
    "ggsave(filename = outpath, plot = wc_vs_hudson, device = 'pdf', width = 8, height = 9, units = 'in', dpi = 300)"
   ]
  },
  {
   "cell_type": "markdown",
   "metadata": {},
   "outputs": [],
   "source": [
    "### Dependence of Fst on sample size"
   ]
  },
  {
   "cell_type": "code",
   "execution_count": 132,
   "metadata": {},
   "outputs": [],
   "source": [
    "ggplot(fst_df_withSampleSize, aes(x = nmin, y = fst, color = fst_type)) + \n",
    "    geom_point(size = 2, alpha = 0.5) +\n",
    "    geom_smooth(method = 'loess', se = FALSE) + \n",
    "    xlab('Minimum sample size') + ylab('Fst') +\n",
    "    theme_classic()\n"
   ]
  },
  {
   "cell_type": "markdown",
   "metadata": {},
   "outputs": [],
   "source": [
    "#### My take\n",
    "\n",
    "- WC Fst generally higher than Hudson, as expected based on Bhatia (2013)\n",
    "- Highest Fst estimates occur for cities where sample sizes are lowest, suggesting these estimates may be biased upward\n",
    "    - Downsampling Toronto data will help us resolve this\n",
    "- That being said, Fst estimates are generally low for seemingly reliable estimates. Often Fst < 0.05"
   ]
  },
  {
   "cell_type": "markdown",
   "metadata": {},
   "outputs": [],
   "source": [
    "## Euclidean distance from PCA\n",
    "\n",
    "- Estimate Euclidean distance between urban and rural centroids by city"
   ]
  },
  {
   "cell_type": "code",
   "execution_count": 142,
   "metadata": {},
   "outputs": [],
   "source": [
    "euclidean <- function(x1, y1, x2, y2){\n",
    "    \n",
    "    dist <- sqrt((x1 - x2)^2 + (y1 - y2)^2)\n",
    "    return(dist)\n",
    "}"
   ]
  },
  {
   "cell_type": "code",
   "execution_count": 133,
   "metadata": {},
   "outputs": [],
   "source": [
    "# Load data with habitat info\n",
    "habitat_info <- suppressMessages(\n",
    "    read_delim(\n",
    "        '../../sequencing-prep/resources/low1_sampleSheet.txt', \n",
    "                           delim = '\\t')) %>% \n",
    "    dplyr::select(continent, range, city, pop, individual, site, sample)"
   ]
  },
  {
   "cell_type": "code",
   "execution_count": 135,
   "metadata": {},
   "outputs": [],
   "source": [
    "# Load covariance matrix from PCAngsd\n",
    "cov_mat <- suppressMessages(\n",
    "    read_delim(\n",
    "        '../results/population_structure/pcangsd/highErrorRemoved_4fold_maf0.05_pcangsd.cov', \n",
    "                      col_names = FALSE, delim = ' ')) %>% \n",
    "      as.matrix()\n",
    "\n",
    "# Combine continent and habitat data with sample order from ANGSD\n",
    "samples <- suppressMessages(\n",
    "    read_table(\n",
    "        '../results/program_resources/angsd_highErrorRemoved_order.txt', col_names = FALSE) %>% \n",
    "  rename('sample' = 'X1')) %>%\n",
    "  left_join(., habitat_info, by = 'sample')"
   ]
  },
  {
   "cell_type": "code",
   "execution_count": 136,
   "metadata": {},
   "outputs": [],
   "source": [
    "# Dataframe with eigenvectors\n",
    "eigenvectors <- eigen(cov_mat)\n",
    "eigen_df <- eigenvectors$vectors %>% \n",
    "    as.data.frame() %>% \n",
    "    dplyr::select(V1, V2) %>% \n",
    "    rename('PC1' = 'V1',\n",
    "         'PC2' = 'V2') %>% \n",
    "    bind_cols(., samples) %>% \n",
    "    mutate(sample_set = 'highErrorRemoved')"
   ]
  },
  {
   "cell_type": "code",
   "execution_count": 144,
   "metadata": {},
   "outputs": [],
   "source": [
    "euc_dist_df <- eigen_df %>% \n",
    "    group_by(city, site) %>% \n",
    "    summarise(x = mean(PC1),\n",
    "              y = mean(PC2)) %>% \n",
    "    pivot_wider(names_from = site, values_from = c(x, y)) %>% \n",
    "    mutate(distance = euclidean(x_u, y_u, x_r, y_r)) %>% \n",
    "    dplyr::select(city, distance)"
   ]
  },
  {
   "cell_type": "code",
   "execution_count": 145,
   "metadata": {},
   "outputs": [],
   "source": [
    "head(euc_dist_df)"
   ]
  },
  {
   "cell_type": "code",
   "execution_count": 158,
   "metadata": {},
   "outputs": [],
   "source": [
    "df_allStats <- euc_dist_df %>% \n",
    "    left_join(., fst_df %>% filter(fst_type == 'hudson'), by = 'city') %>% \n",
    "    left_join(., div_df, by = 'city') %>% \n",
    "    left_join(., slopes, by = 'city')"
   ]
  },
  {
   "cell_type": "code",
   "execution_count": 161,
   "metadata": {},
   "outputs": [],
   "source": [
    "# Does Fst predict HCN?\n",
    "fst_mod <- lm(betaHCN ~ fst, data = df_allStats)\n",
    "summary(fst_mod)"
   ]
  },
  {
   "cell_type": "code",
   "execution_count": 162,
   "metadata": {},
   "outputs": [],
   "source": [
    "# Does euclidean distance predict HCN?\n",
    "dist_mod <- lm(betaHCN ~ distance, data = df_allStats)\n",
    "summary(dist_mod)"
   ]
  },
  {
   "cell_type": "markdown",
   "metadata": {},
   "outputs": [],
   "source": [
    "## Important considerations\n",
    "\n",
    "1. Some estimates of pairwise diversity Fst result from urban/rural populations with different sample sizes. It seems common to downsample populations to the lowest sample size before estimating Fst. I haven't seen a detailed examination of biases in Fst resulting from unequal sample sizes but it's common enough that I wonder if we should consider this. However, variation in sample sizes seems to be a bigger problem for WC Fst (Bhatia 2013) than Hudson's, so maybe we don't need to worry about it. Not really sure but something to think about. \n",
    "2. We still need to downsample the Toronto data to get a sense of whether our estimates of diversity and Fst are biased at lower sample sizes, and by how much. \n",
    "3. Estimates of differences in pi, Fst, and euclidean distance seem pretty small on average. If we wanted to get a sense of whether these estimates differ significantly from zero, I think a permutation approach would be most appropriate. We could generate 100 bootstrapped replicates of the one-dimensional (or 2D) SFS, re-calculated theta (or Fst), and generate confidence intervals around our estimates to see if they overlap zero. "
   ]
  },
  {
   "cell_type": "code",
   "execution_count": null,
   "metadata": {},
   "outputs": [],
   "source": []
  }
 ],
 "metadata": {
  "kernelspec": {
   "display_name": "R",
   "language": "R",
   "name": "ir"
  },
  "language_info": {
   "codemirror_mode": "r",
   "file_extension": ".r",
   "mimetype": "text/x-r-source",
   "name": "R",
   "pygments_lexer": "r",
   "version": "3.6.3"
  }
 },
 "nbformat": 4,
 "nbformat_minor": 4
}
