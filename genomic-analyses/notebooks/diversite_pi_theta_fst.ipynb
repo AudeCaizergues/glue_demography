{
 "cells": [
  {
   "cell_type": "markdown",
   "id": "d9751a18",
   "metadata": {},
   "source": [
    "# Genetic diversity and population structure"
   ]
  },
  {
   "cell_type": "markdown",
   "id": "1529cebf",
   "metadata": {},
   "source": [
    "## Setup"
   ]
  },
  {
   "cell_type": "code",
   "execution_count": 78,
   "id": "5d1d19d2",
   "metadata": {},
   "outputs": [
    {
     "ename": "ERROR",
     "evalue": "Error in library(gridExtra): aucun package nommé ‘gridExtra’ n'est trouvé\n",
     "output_type": "error",
     "traceback": [
      "Error in library(gridExtra): aucun package nommé ‘gridExtra’ n'est trouvé\nTraceback:\n",
      "1. library(gridExtra)"
     ]
    }
   ],
   "source": [
    "# Load packages\n",
    "library(MASS)\n",
    "library(tidyverse)\n",
    "\n",
    "library(emmeans)\n",
    "library(wesanderson)\n",
    "library(gridExtra)\n",
    "library(fs)\n",
    "library(ggridges)\n",
    "library(data.table)\n",
    "library(RcppCNPy)\n",
    "library(R.utils)\n",
    "library(car)\n",
    "library(ggrepel)\n",
    "library(patchwork)\n"
   ]
  },
  {
   "cell_type": "markdown",
   "id": "18540e07",
   "metadata": {},
   "source": [
    "## Load summary dataset"
   ]
  },
  {
   "cell_type": "code",
   "execution_count": 3,
   "id": "4442a5e5",
   "metadata": {},
   "outputs": [
    {
     "data": {
      "text/html": [
       "<table class=\"dataframe\">\n",
       "<caption>A tibble: 6 × 9</caption>\n",
       "<thead>\n",
       "\t<tr><th scope=col>city</th><th scope=col>habitat</th><th scope=col>tp_mean</th><th scope=col>tw_mean</th><th scope=col>tp_sd</th><th scope=col>tw_sd</th><th scope=col>taj</th><th scope=col>taj_sd</th><th scope=col>nSites</th></tr>\n",
       "\t<tr><th scope=col>&lt;chr&gt;</th><th scope=col>&lt;chr&gt;</th><th scope=col>&lt;dbl&gt;</th><th scope=col>&lt;dbl&gt;</th><th scope=col>&lt;dbl&gt;</th><th scope=col>&lt;dbl&gt;</th><th scope=col>&lt;dbl&gt;</th><th scope=col>&lt;dbl&gt;</th><th scope=col>&lt;dbl&gt;</th></tr>\n",
       "</thead>\n",
       "<tbody>\n",
       "\t<tr><td>Albuquerque</td><td>r</td><td>0.02698932</td><td>0.03200117</td><td>0.001375431</td><td>0.0010143774</td><td>-0.5396303</td><td>0.06615948</td><td>1014098</td></tr>\n",
       "\t<tr><td>Albuquerque</td><td>u</td><td>0.02897677</td><td>0.03454662</td><td>0.001330479</td><td>0.0009070059</td><td>-0.5561956</td><td>0.07066635</td><td> 805367</td></tr>\n",
       "\t<tr><td>Antwerp    </td><td>r</td><td>0.03431930</td><td>0.04283631</td><td>0.001813351</td><td>0.0014501993</td><td>-0.6826126</td><td>0.08142041</td><td> 274252</td></tr>\n",
       "\t<tr><td>Antwerp    </td><td>u</td><td>0.02856077</td><td>0.03414765</td><td>0.001343769</td><td>0.0009041316</td><td>-0.5623712</td><td>0.06983064</td><td> 925024</td></tr>\n",
       "\t<tr><td>Armidale   </td><td>r</td><td>0.02896160</td><td>0.03372373</td><td>0.001361144</td><td>0.0009864637</td><td>-0.4863528</td><td>0.06743949</td><td> 966853</td></tr>\n",
       "\t<tr><td>Armidale   </td><td>u</td><td>0.03398263</td><td>0.04105213</td><td>0.003436243</td><td>0.0027046818</td><td>-0.5976881</td><td>0.13437001</td><td> 162945</td></tr>\n",
       "</tbody>\n",
       "</table>\n"
      ],
      "text/latex": [
       "A tibble: 6 × 9\n",
       "\\begin{tabular}{lllllllll}\n",
       " city & habitat & tp\\_mean & tw\\_mean & tp\\_sd & tw\\_sd & taj & taj\\_sd & nSites\\\\\n",
       " <chr> & <chr> & <dbl> & <dbl> & <dbl> & <dbl> & <dbl> & <dbl> & <dbl>\\\\\n",
       "\\hline\n",
       "\t Albuquerque & r & 0.02698932 & 0.03200117 & 0.001375431 & 0.0010143774 & -0.5396303 & 0.06615948 & 1014098\\\\\n",
       "\t Albuquerque & u & 0.02897677 & 0.03454662 & 0.001330479 & 0.0009070059 & -0.5561956 & 0.07066635 &  805367\\\\\n",
       "\t Antwerp     & r & 0.03431930 & 0.04283631 & 0.001813351 & 0.0014501993 & -0.6826126 & 0.08142041 &  274252\\\\\n",
       "\t Antwerp     & u & 0.02856077 & 0.03414765 & 0.001343769 & 0.0009041316 & -0.5623712 & 0.06983064 &  925024\\\\\n",
       "\t Armidale    & r & 0.02896160 & 0.03372373 & 0.001361144 & 0.0009864637 & -0.4863528 & 0.06743949 &  966853\\\\\n",
       "\t Armidale    & u & 0.03398263 & 0.04105213 & 0.003436243 & 0.0027046818 & -0.5976881 & 0.13437001 &  162945\\\\\n",
       "\\end{tabular}\n"
      ],
      "text/markdown": [
       "\n",
       "A tibble: 6 × 9\n",
       "\n",
       "| city &lt;chr&gt; | habitat &lt;chr&gt; | tp_mean &lt;dbl&gt; | tw_mean &lt;dbl&gt; | tp_sd &lt;dbl&gt; | tw_sd &lt;dbl&gt; | taj &lt;dbl&gt; | taj_sd &lt;dbl&gt; | nSites &lt;dbl&gt; |\n",
       "|---|---|---|---|---|---|---|---|---|\n",
       "| Albuquerque | r | 0.02698932 | 0.03200117 | 0.001375431 | 0.0010143774 | -0.5396303 | 0.06615948 | 1014098 |\n",
       "| Albuquerque | u | 0.02897677 | 0.03454662 | 0.001330479 | 0.0009070059 | -0.5561956 | 0.07066635 |  805367 |\n",
       "| Antwerp     | r | 0.03431930 | 0.04283631 | 0.001813351 | 0.0014501993 | -0.6826126 | 0.08142041 |  274252 |\n",
       "| Antwerp     | u | 0.02856077 | 0.03414765 | 0.001343769 | 0.0009041316 | -0.5623712 | 0.06983064 |  925024 |\n",
       "| Armidale    | r | 0.02896160 | 0.03372373 | 0.001361144 | 0.0009864637 | -0.4863528 | 0.06743949 |  966853 |\n",
       "| Armidale    | u | 0.03398263 | 0.04105213 | 0.003436243 | 0.0027046818 | -0.5976881 | 0.13437001 |  162945 |\n",
       "\n"
      ],
      "text/plain": [
       "  city        habitat tp_mean    tw_mean    tp_sd       tw_sd        taj       \n",
       "1 Albuquerque r       0.02698932 0.03200117 0.001375431 0.0010143774 -0.5396303\n",
       "2 Albuquerque u       0.02897677 0.03454662 0.001330479 0.0009070059 -0.5561956\n",
       "3 Antwerp     r       0.03431930 0.04283631 0.001813351 0.0014501993 -0.6826126\n",
       "4 Antwerp     u       0.02856077 0.03414765 0.001343769 0.0009041316 -0.5623712\n",
       "5 Armidale    r       0.02896160 0.03372373 0.001361144 0.0009864637 -0.4863528\n",
       "6 Armidale    u       0.03398263 0.04105213 0.003436243 0.0027046818 -0.5976881\n",
       "  taj_sd     nSites \n",
       "1 0.06615948 1014098\n",
       "2 0.07066635  805367\n",
       "3 0.08142041  274252\n",
       "4 0.06983064  925024\n",
       "5 0.06743949  966853\n",
       "6 0.13437001  162945"
      ]
     },
     "metadata": {},
     "output_type": "display_data"
    }
   ],
   "source": [
    "# Load in summary datasets rather than re-summarizing from raw data\n",
    "obs_div_df <- suppressMessages(read_delim('../analyses/tables/div_popStruct/observed_urban-rural_pi.txt.bz2', delim = '\\t'))  # Observed urban-rural thetas\n",
    "head(obs_div_df)\n",
    "obs_fst_df <- suppressMessages(read_delim('../analyses/tables/div_popStruct/observed_fst.txt.bz2', delim = '\\t'))  # Observed urban-rural fst\n",
    "\n",
    "\n"
   ]
  },
  {
   "cell_type": "code",
   "execution_count": 81,
   "id": "204b56c9",
   "metadata": {},
   "outputs": [],
   "source": [
    "# Theme used for plotting\n",
    "ng1 <- theme(panel.background = element_blank(),\n",
    "          panel.grid.major = element_blank(),\n",
    "          panel.grid.minor = element_blank(),\n",
    "          panel.border=element_blank(),\n",
    "          axis.line.x = element_line(color=\"black\",size=1),\n",
    "          axis.line.y = element_line(color=\"black\",size=1),\n",
    "          axis.ticks=element_line(size = 1, color=\"black\"),\n",
    "          axis.ticks.length=unit(0.25, 'cm'),\n",
    "          axis.text=element_text(color=\"black\",size=15),\n",
    "          axis.title=element_text(color=\"black\",size=1),\n",
    "          axis.title.y=element_text(vjust=2,size=17),\n",
    "          axis.title.x=element_text(vjust=0.1,size=17),\n",
    "          axis.text.x=element_text(size=15),\n",
    "          axis.text.y=element_text(size=15),\n",
    "          strip.text.x = element_text(size = 10, colour = \"black\",face = \"bold\"),\n",
    "          strip.background = element_rect(colour=\"black\"),\n",
    "          legend.position = \"right\", legend.direction=\"vertical\",\n",
    "          legend.text=element_text(size=17), legend.key = element_rect(fill = \"white\"),\n",
    "          legend.title = element_text(size=17),legend.key.size = unit(1.0, \"cm\"))\n",
    "\n",
    "ng2 <- theme(aspect.ratio=0.5,panel.background = element_blank(),\n",
    "          panel.grid.major = element_blank(),\n",
    "          panel.grid.minor = element_blank(),\n",
    "          panel.border=element_blank(),\n",
    "          axis.line.x = element_line(color=\"black\",size=1),\n",
    "          axis.line.y = element_line(color=\"black\",size=1),\n",
    "          axis.ticks=element_line(size = 1, color=\"black\"),\n",
    "          axis.ticks.length=unit(0.25, 'cm'),\n",
    "          axis.text=element_text(color=\"black\",size=15),\n",
    "          axis.title=element_text(color=\"black\",size=1),\n",
    "          axis.title.y=element_text(vjust=2,size=17),\n",
    "          #axis.title.x=element_text(vjust=0.1,size=17),\n",
    "          axis.text.x=element_text(size=15,angle = 45,hjust = 1),\n",
    "          axis.text.y=element_text(size=15),\n",
    "          strip.text.x = element_text(size = 10, colour = \"black\",face = \"bold\"),\n",
    "          strip.background = element_rect(colour=\"black\"),\n",
    "          axis.title.x=element_blank(),\n",
    "          legend.position = \"none\")\n",
    "          #legend.position = \"right\", legend.direction=\"vertical\",\n",
    "          #legend.text=element_text(size=17), legend.key = element_rect(fill = \"white\"),\n",
    "          #legend.title = element_text(size=17),legend.key.size = unit(1.0, \"cm\"))\n",
    "\n",
    "\n",
    "\n",
    "urban_col <- \"#7b3294\"\n",
    "rural_col <- \"#a6dba0\"\n",
    "cols <- c(urban_col, rural_col)"
   ]
  },
  {
   "cell_type": "markdown",
   "id": "23934bbb",
   "metadata": {},
   "source": [
    "## Plot pi"
   ]
  },
  {
   "cell_type": "code",
   "execution_count": 82,
   "id": "a4c83edb",
   "metadata": {
    "scrolled": true
   },
   "outputs": [
    {
     "data": {
      "image/png": "[encoded data removed]",
      "text/plain": [
       "plot without title"
      ]
     },
     "metadata": {
      "image/png": {
       "height": 420,
       "width": 420
      }
     },
     "output_type": "display_data"
    }
   ],
   "source": [
    "# Global pi\n",
    "pi_by_habitat <- obs_div_df %>% \n",
    "    group_by(habitat) %>% \n",
    "    summarise(mean = mean(tp_mean),\n",
    "              sd = sd(tp_mean),\n",
    "              se = sd / sqrt(n())) %>% \n",
    "    mutate(habitat = fct_recode(habitat, 'Rural' = 'r', 'Urban' = 'u')) %>% \n",
    "    ggplot(., aes(x = habitat, y = mean, fill = habitat)) +\n",
    "        geom_errorbar(aes(ymax = mean + se, ymin = mean - se), width = 0.15, size = 1) +\n",
    "        geom_point(size = 4, shape = 21) +\n",
    "        scale_fill_manual(values = rev(cols), labels = c('Rural', 'Urban')) +\n",
    "        ylab('Pairwise nucleotide diversity') + xlab('Habitat') +\n",
    "    ng1\n",
    "pi_by_habitat\n"
   ]
  },
  {
   "cell_type": "code",
   "execution_count": 83,
   "id": "add7a78e",
   "metadata": {},
   "outputs": [
    {
     "data": {
      "image/png": "[encoded data removed]",
      "text/plain": [
       "plot without title"
      ]
     },
     "metadata": {
      "image/png": {
       "height": 420,
       "width": 420
      }
     },
     "output_type": "display_data"
    }
   ],
   "source": [
    "# Pi per city per habitat\n",
    "pi_by_city_by_habitat <- obs_div_df %>% \n",
    "    mutate(habitat = fct_recode(habitat, 'Rural' = 'r', 'Urban' = 'u')) %>% \n",
    "    ggplot(., aes(x = city, y = tp_mean, fill = habitat)) +\n",
    "        geom_errorbar(aes(ymax = tp_mean + tp_sd, ymin = tp_mean - tp_sd), width = 0.15, size = .7, position=position_dodge(width = 0.6)) +\n",
    "        geom_point(size = 4, shape = 21, position=position_dodge(width = 0.6)) +\n",
    "        scale_fill_manual(values = rev(cols), labels = c('Rural', 'Urban')) +\n",
    "        ylab('Pairwise nucleotide diversity') +\n",
    "    ng2\n",
    "pi_by_city_by_habitat\n",
    "\n",
    "\n"
   ]
  },
  {
   "cell_type": "code",
   "execution_count": null,
   "id": "f6db1108",
   "metadata": {},
   "outputs": [],
   "source": [
    "## Plot Watterson's theta"
   ]
  },
  {
   "cell_type": "code",
   "execution_count": null,
   "id": "0b892a1a",
   "metadata": {},
   "outputs": [],
   "source": []
  },
  {
   "cell_type": "code",
   "execution_count": null,
   "id": "79238409",
   "metadata": {},
   "outputs": [],
   "source": []
  },
  {
   "cell_type": "code",
   "execution_count": null,
   "id": "4245a20f",
   "metadata": {},
   "outputs": [],
   "source": [
    "## Plot Tajima's D"
   ]
  },
  {
   "cell_type": "code",
   "execution_count": null,
   "id": "2edfb4d4",
   "metadata": {},
   "outputs": [],
   "source": []
  },
  {
   "cell_type": "code",
   "execution_count": null,
   "id": "f324583d",
   "metadata": {},
   "outputs": [],
   "source": []
  },
  {
   "cell_type": "code",
   "execution_count": null,
   "id": "c0a6a55e",
   "metadata": {},
   "outputs": [],
   "source": [
    "## Plot Fst"
   ]
  },
  {
   "cell_type": "code",
   "execution_count": null,
   "id": "6c60c628",
   "metadata": {},
   "outputs": [],
   "source": []
  },
  {
   "cell_type": "code",
   "execution_count": null,
   "id": "01d3ad5d",
   "metadata": {},
   "outputs": [],
   "source": []
  },
  {
   "cell_type": "markdown",
   "id": "8c79af65",
   "metadata": {},
   "source": [
    "# Generate summary datasets"
   ]
  },
  {
   "cell_type": "markdown",
   "id": "1fa95e1e",
   "metadata": {},
   "source": [
    "Note: This section only needs to be run to generate the summary datasets from the raw data output by the Snakemake pipeline. If the Snakemake pipeline hasn't been run, then the manuscript's results can be reproduced by running the analyses above using the summary datasets."
   ]
  },
  {
   "cell_type": "markdown",
   "id": "c9927aa8",
   "metadata": {},
   "source": [
    "## Functions used to generate summary datasets"
   ]
  },
  {
   "cell_type": "code",
   "execution_count": 25,
   "id": "a79a17e0",
   "metadata": {},
   "outputs": [],
   "source": [
    "# Function to load observed diversity estimates by city and habitat\n",
    "load_obs_pairwise_diversity <- function(path){\n",
    "    \n",
    "    # Get city and site names from file\n",
    "    city <- dirname(path)\n",
    "    site <- str_extract(basename(path), pattern = '(?<=_)[r|u]')\n",
    "    \n",
    "    full_path <- paste0(inpath, path)\n",
    "    \n",
    "    # Load dataframe\n",
    "    df <- suppressMessages(read_delim(full_path, delim = '\\t')) %>% \n",
    "        mutate(tp_scaled = tP / nSites,\n",
    "               tw_scaled = tW / nSites,\n",
    "               city = city,\n",
    "               habitat = site) %>% \n",
    "\n",
    "    # Calculate mean across chromosomes and sum of number of sites\n",
    "        group_by(city, habitat) %>% \n",
    "        summarise(tp_mean = mean(tp_scaled),\n",
    "                  tw_mean = mean(tw_scaled),\n",
    "                  tp_sd = sd(tp_scaled,na.rm=TRUE),\n",
    "                  tw_sd = sd(tw_scaled, na.rm=TRUE),\n",
    "                  taj= mean(Tajima),\n",
    "                  taj_sd = sd(Tajima),\n",
    "                  nSites = sum(nSites),\n",
    "                 .groups = 'drop') %>% \n",
    "        dplyr::select(city, habitat, tp_mean, tw_mean, tp_sd, tw_sd, taj, taj_sd, nSites)\n",
    "\n",
    "    return(df)\n",
    "    \n",
    "}\n",
    "\n",
    "\n",
    "# Function to load observed Fst df by city/habitat\n",
    "load_obs_fst <- function(path){\n",
    "    \n",
    "    # Get Fst type and city from filenames\n",
    "    city <- dirname(path)\n",
    "    \n",
    "    full_path <- paste0(inpath, path)\n",
    "    colnames <- c('chrom', 'pos', 'num', 'denom')\n",
    "    df <- suppressMessages(fread(full_path, sep = '\\t', header = FALSE, col.names = colnames)) %>% \n",
    "        \n",
    "        # Cap numerators at 0 if negative \n",
    "        # https://github.com/ANGSD/angsd/issues/309\n",
    "        # Does not affect overall pattern\n",
    "        mutate(num = ifelse(num < 0, 0, num)) %>% \n",
    "        \n",
    "        # Estimate weighted Fst as ratio of averages\n",
    "        # https://github.com/ANGSD/angsd/issues/61\n",
    "        summarise(num_sum = sum(num),\n",
    "                  denom_sum = sum(denom),\n",
    "                  fst = num_sum / denom_sum,\n",
    "                  nSites = n()) %>% \n",
    "        mutate(city = city)\n",
    "    \n",
    "    return(df)\n",
    "    \n",
    "}\n",
    "\n",
    "# Function to load permuted Fst df by city/habitat\n",
    "load_perm_fst <- function(path){\n",
    "    \n",
    "    # Get Fst type and city from filenames\n",
    "    city <- dirname(dirname(path))\n",
    "    seed <- str_extract(basename(path), pattern = '(?<=_seed)\\\\d+')\n",
    "    \n",
    "    full_path <- paste0(inpath, path)\n",
    "    colnames <- c('chrom', 'pos', 'num', 'denom')\n",
    "    df <- suppressMessages(fread(full_path, sep = '\\t', header = FALSE, col.names = colnames)) %>% \n",
    "        \n",
    "        # Cap numerators at 0 if negative \n",
    "        # https://github.com/ANGSD/angsd/issues/309\n",
    "        # Does not affect overall pattern\n",
    "        mutate(num = ifelse(num < 0, 0, num)) %>% \n",
    "        \n",
    "        # Estimate weighted Fst as ratio of averages\n",
    "        # https://github.com/ANGSD/angsd/issues/61\n",
    "        summarise(num_sum = sum(num),\n",
    "                  denom_sum = sum(denom),\n",
    "                  fst = num_sum / denom_sum,\n",
    "                  nSites = n()) %>% \n",
    "        mutate(city = city,\n",
    "               seed = seed)\n",
    "    \n",
    "    return(df)\n",
    "    \n",
    "}\n",
    "\n",
    "# Function to load admixture results from PCAngsd\n",
    "load_admixture <- function(path){\n",
    "    \n",
    "    city <- basename(dirname(path))\n",
    "    bam_list_path <- '/scratch/projects/trifolium/glue/demography/glue_demography/results/program_resources/bam_lists/by_city/withoutRelated/'\n",
    "    samples <- suppressMessages(list.files(paste0(bam_list_path, city, '/'), \n",
    "                          pattern = '*lowCovRemoved*', \n",
    "                          full.names = TRUE) %>% \n",
    "        read_table(., col_names = FALSE)) %>% \n",
    "        mutate(sample = str_extract(X1, '(?<=\\\\/)\\\\w+_\\\\d+_\\\\d+(?=_4fold)')) %>% \n",
    "        pull(sample)\n",
    "    \n",
    "    df <- npyLoad(path) %>% \n",
    "        as_tibble() %>% \n",
    "        mutate(city = city,\n",
    "               sample = samples)\n",
    "    return(df)\n",
    "}"
   ]
  },
  {
   "cell_type": "markdown",
   "id": "ccb91ddd",
   "metadata": {},
   "source": [
    "## Write dataframes"
   ]
  },
  {
   "cell_type": "markdown",
   "id": "50d1acb6",
   "metadata": {},
   "source": [
    "### Urban-rural genetic diversity"
   ]
  },
  {
   "cell_type": "code",
   "execution_count": 26,
   "id": "0e4237aa",
   "metadata": {},
   "outputs": [
    {
     "data": {
      "text/html": [
       "<table class=\"dataframe\">\n",
       "<caption>A tibble: 6 × 9</caption>\n",
       "<thead>\n",
       "\t<tr><th scope=col>city</th><th scope=col>habitat</th><th scope=col>tp_mean</th><th scope=col>tw_mean</th><th scope=col>tp_sd</th><th scope=col>tw_sd</th><th scope=col>taj</th><th scope=col>taj_sd</th><th scope=col>nSites</th></tr>\n",
       "\t<tr><th scope=col>&lt;chr&gt;</th><th scope=col>&lt;chr&gt;</th><th scope=col>&lt;dbl&gt;</th><th scope=col>&lt;dbl&gt;</th><th scope=col>&lt;dbl&gt;</th><th scope=col>&lt;dbl&gt;</th><th scope=col>&lt;dbl&gt;</th><th scope=col>&lt;dbl&gt;</th><th scope=col>&lt;dbl&gt;</th></tr>\n",
       "</thead>\n",
       "<tbody>\n",
       "\t<tr><td>Albuquerque</td><td>r</td><td>0.02698932</td><td>0.03200117</td><td>0.001375431</td><td>0.0010143774</td><td>-0.5396303</td><td>0.06615948</td><td>1014098</td></tr>\n",
       "\t<tr><td>Albuquerque</td><td>u</td><td>0.02897677</td><td>0.03454662</td><td>0.001330479</td><td>0.0009070059</td><td>-0.5561956</td><td>0.07066635</td><td> 805367</td></tr>\n",
       "\t<tr><td>Antwerp    </td><td>r</td><td>0.03431930</td><td>0.04283631</td><td>0.001813351</td><td>0.0014501993</td><td>-0.6826126</td><td>0.08142041</td><td> 274252</td></tr>\n",
       "\t<tr><td>Antwerp    </td><td>u</td><td>0.02856077</td><td>0.03414765</td><td>0.001343769</td><td>0.0009041316</td><td>-0.5623712</td><td>0.06983064</td><td> 925024</td></tr>\n",
       "\t<tr><td>Armidale   </td><td>r</td><td>0.02896160</td><td>0.03372373</td><td>0.001361144</td><td>0.0009864637</td><td>-0.4863528</td><td>0.06743949</td><td> 966853</td></tr>\n",
       "\t<tr><td>Armidale   </td><td>u</td><td>0.03398263</td><td>0.04105213</td><td>0.003436243</td><td>0.0027046818</td><td>-0.5976881</td><td>0.13437001</td><td> 162945</td></tr>\n",
       "</tbody>\n",
       "</table>\n"
      ],
      "text/latex": [
       "A tibble: 6 × 9\n",
       "\\begin{tabular}{lllllllll}\n",
       " city & habitat & tp\\_mean & tw\\_mean & tp\\_sd & tw\\_sd & taj & taj\\_sd & nSites\\\\\n",
       " <chr> & <chr> & <dbl> & <dbl> & <dbl> & <dbl> & <dbl> & <dbl> & <dbl>\\\\\n",
       "\\hline\n",
       "\t Albuquerque & r & 0.02698932 & 0.03200117 & 0.001375431 & 0.0010143774 & -0.5396303 & 0.06615948 & 1014098\\\\\n",
       "\t Albuquerque & u & 0.02897677 & 0.03454662 & 0.001330479 & 0.0009070059 & -0.5561956 & 0.07066635 &  805367\\\\\n",
       "\t Antwerp     & r & 0.03431930 & 0.04283631 & 0.001813351 & 0.0014501993 & -0.6826126 & 0.08142041 &  274252\\\\\n",
       "\t Antwerp     & u & 0.02856077 & 0.03414765 & 0.001343769 & 0.0009041316 & -0.5623712 & 0.06983064 &  925024\\\\\n",
       "\t Armidale    & r & 0.02896160 & 0.03372373 & 0.001361144 & 0.0009864637 & -0.4863528 & 0.06743949 &  966853\\\\\n",
       "\t Armidale    & u & 0.03398263 & 0.04105213 & 0.003436243 & 0.0027046818 & -0.5976881 & 0.13437001 &  162945\\\\\n",
       "\\end{tabular}\n"
      ],
      "text/markdown": [
       "\n",
       "A tibble: 6 × 9\n",
       "\n",
       "| city &lt;chr&gt; | habitat &lt;chr&gt; | tp_mean &lt;dbl&gt; | tw_mean &lt;dbl&gt; | tp_sd &lt;dbl&gt; | tw_sd &lt;dbl&gt; | taj &lt;dbl&gt; | taj_sd &lt;dbl&gt; | nSites &lt;dbl&gt; |\n",
       "|---|---|---|---|---|---|---|---|---|\n",
       "| Albuquerque | r | 0.02698932 | 0.03200117 | 0.001375431 | 0.0010143774 | -0.5396303 | 0.06615948 | 1014098 |\n",
       "| Albuquerque | u | 0.02897677 | 0.03454662 | 0.001330479 | 0.0009070059 | -0.5561956 | 0.07066635 |  805367 |\n",
       "| Antwerp     | r | 0.03431930 | 0.04283631 | 0.001813351 | 0.0014501993 | -0.6826126 | 0.08142041 |  274252 |\n",
       "| Antwerp     | u | 0.02856077 | 0.03414765 | 0.001343769 | 0.0009041316 | -0.5623712 | 0.06983064 |  925024 |\n",
       "| Armidale    | r | 0.02896160 | 0.03372373 | 0.001361144 | 0.0009864637 | -0.4863528 | 0.06743949 |  966853 |\n",
       "| Armidale    | u | 0.03398263 | 0.04105213 | 0.003436243 | 0.0027046818 | -0.5976881 | 0.13437001 |  162945 |\n",
       "\n"
      ],
      "text/plain": [
       "  city        habitat tp_mean    tw_mean    tp_sd       tw_sd        taj       \n",
       "1 Albuquerque r       0.02698932 0.03200117 0.001375431 0.0010143774 -0.5396303\n",
       "2 Albuquerque u       0.02897677 0.03454662 0.001330479 0.0009070059 -0.5561956\n",
       "3 Antwerp     r       0.03431930 0.04283631 0.001813351 0.0014501993 -0.6826126\n",
       "4 Antwerp     u       0.02856077 0.03414765 0.001343769 0.0009041316 -0.5623712\n",
       "5 Armidale    r       0.02896160 0.03372373 0.001361144 0.0009864637 -0.4863528\n",
       "6 Armidale    u       0.03398263 0.04105213 0.003436243 0.0027046818 -0.5976881\n",
       "  taj_sd     nSites \n",
       "1 0.06615948 1014098\n",
       "2 0.07066635  805367\n",
       "3 0.08142041  274252\n",
       "4 0.06983064  925024\n",
       "5 0.06743949  966853\n",
       "6 0.13437001  162945"
      ]
     },
     "metadata": {},
     "output_type": "display_data"
    }
   ],
   "source": [
    "# Concatenate urban and rural genetic diversity results (N = 2 habitats x 26 citis = 52) into single dataframe\n",
    "inpath <- '/scratch/projects/trifolium/glue/demography/glue_demography/results/angsd/summary_stats/thetas/by_city/'\n",
    "obs_div_df <- list.files(inpath, pattern = '.*_[u|r]_4fold.thetas.idx.pestPG', recursive = TRUE) %>% \n",
    "    map_dfr(., load_obs_pairwise_diversity)\n",
    "head(obs_div_df)\n",
    "\n",
    "# Write observed data to disc\n",
    "write_delim(obs_div_df, '../analyses/tables/div_popStruct/observed_urban-rural_pi.txt', delim = '\\t')\n",
    "bzip2(filename = '../analyses/tables/div_popStruct/observed_urban-rural_pi.txt', ext = 'bz2', FUN = bzfile, overwrite = TRUE)"
   ]
  },
  {
   "cell_type": "markdown",
   "id": "97a0316e",
   "metadata": {},
   "source": [
    "### Urban-rural Fst"
   ]
  },
  {
   "cell_type": "code",
   "execution_count": 3,
   "id": "65d54352",
   "metadata": {},
   "outputs": [],
   "source": [
    "# Merge Fst dataframes. Using Hudson's Fst\n",
    "inpath <- '/scratch/projects/trifolium/glue/demography/glue_demography/results/angsd/summary_stats/hudson_fst/'\n",
    "obs_fst_df <- list.files(inpath, pattern = '.*_4fold_r_u_readable.fst', recursive = TRUE) %>% \n",
    "    map_dfr(., load_obs_fst)\n",
    "\n",
    "# Write observed Fst values to disc\n",
    "write_delim(obs_fst_df, '../analyses/tables/div_popStruct/observed_fst.txt', delim = '\\t')\n",
    "bzip2(filename = '../analyses/tables/div_popStruct/observed_fst.txt', ext = 'bz2', FUN = bzfile, overwrite = TRUE)"
   ]
  },
  {
   "cell_type": "markdown",
   "id": "0abd61c8",
   "metadata": {},
   "source": [
    "## Admixture"
   ]
  },
  {
   "cell_type": "code",
   "execution_count": 44,
   "id": "04e6c67a",
   "metadata": {},
   "outputs": [
    {
     "data": {
      "text/html": [
       "<table class=\"dataframe\">\n",
       "<caption>A tibble: 6 × 2</caption>\n",
       "<thead>\n",
       "\t<tr><th scope=col>site</th><th scope=col>sample</th></tr>\n",
       "\t<tr><th scope=col>&lt;chr&gt;</th><th scope=col>&lt;chr&gt;</th></tr>\n",
       "</thead>\n",
       "<tbody>\n",
       "\t<tr><td>r</td><td>Albuquerque_29_5 </td></tr>\n",
       "\t<tr><td>r</td><td>Albuquerque_29_9 </td></tr>\n",
       "\t<tr><td>r</td><td>Albuquerque_32_13</td></tr>\n",
       "\t<tr><td>r</td><td>Albuquerque_32_3 </td></tr>\n",
       "\t<tr><td>r</td><td>Albuquerque_33_2 </td></tr>\n",
       "\t<tr><td>r</td><td>Albuquerque_33_7 </td></tr>\n",
       "</tbody>\n",
       "</table>\n"
      ],
      "text/latex": [
       "A tibble: 6 × 2\n",
       "\\begin{tabular}{ll}\n",
       " site & sample\\\\\n",
       " <chr> & <chr>\\\\\n",
       "\\hline\n",
       "\t r & Albuquerque\\_29\\_5 \\\\\n",
       "\t r & Albuquerque\\_29\\_9 \\\\\n",
       "\t r & Albuquerque\\_32\\_13\\\\\n",
       "\t r & Albuquerque\\_32\\_3 \\\\\n",
       "\t r & Albuquerque\\_33\\_2 \\\\\n",
       "\t r & Albuquerque\\_33\\_7 \\\\\n",
       "\\end{tabular}\n"
      ],
      "text/markdown": [
       "\n",
       "A tibble: 6 × 2\n",
       "\n",
       "| site &lt;chr&gt; | sample &lt;chr&gt; |\n",
       "|---|---|\n",
       "| r | Albuquerque_29_5  |\n",
       "| r | Albuquerque_29_9  |\n",
       "| r | Albuquerque_32_13 |\n",
       "| r | Albuquerque_32_3  |\n",
       "| r | Albuquerque_33_2  |\n",
       "| r | Albuquerque_33_7  |\n",
       "\n"
      ],
      "text/plain": [
       "  site sample           \n",
       "1 r    Albuquerque_29_5 \n",
       "2 r    Albuquerque_29_9 \n",
       "3 r    Albuquerque_32_13\n",
       "4 r    Albuquerque_32_3 \n",
       "5 r    Albuquerque_33_2 \n",
       "6 r    Albuquerque_33_7 "
      ]
     },
     "metadata": {},
     "output_type": "display_data"
    }
   ],
   "source": [
    "inpath <- '/scratch/projects/trifolium/glue/demography/glue_demography/results/population_structure/pcangsd/by_city/pcangsd_withoutRelated/'\n",
    "ss <- suppressMessages(\n",
    "    read_delim(\n",
    "        '../resources/glue_pc_sampleSheet_noRelated.txt', \n",
    "                           delim = '\\t')) %>% \n",
    "    dplyr::select(site, sample)\n",
    "\n",
    "admix_df <- list.files(inpath, pattern = '*.Q.npy', recursive = TRUE, full.names = TRUE) %>% \n",
    "    map_dfr(., load_admixture) %>% \n",
    "    left_join(., ss, by = 'sample') %>% \n",
    "    pivot_longer(V1:V2, values_to = 'Probs')\n",
    "\n",
    "# Write admixture dataframe to disc\n",
    "write_delim(admix_df, '../analyses/tables/div_popStruct/admixture.txt', delim = '\\t')\n",
    "bzip2(filename = '../analyses/tables/div_popStruct/admixture.txt', ext = 'bz2', FUN = bzfile, overwrite = TRUE)"
   ]
  },
  {
   "cell_type": "code",
   "execution_count": 45,
   "id": "5bdfeb8f",
   "metadata": {},
   "outputs": [],
   "source": [
    "# Write summary datasets to disc so analyses can be reproduced without running the pipeline\n",
    "# This only needs to be run once and datasets with be git controlled and placed in data repositories\n",
    "write_csv(obs_div_df, '../analyses/tables/observed_urban-rural_pi.csv')\n",
    "#write_csv(perm_div_df, '../analyses/tables/permuted_urban-rural_pi.csv')\n",
    "write_csv(obs_fst_df, '../analyses/tables/observed_fst.csv')\n",
    "#write_csv(perm_fst_df, '../analyses/tables/permuted_fst.csv')"
   ]
  },
  {
   "cell_type": "code",
   "execution_count": null,
   "id": "8d953b5d",
   "metadata": {},
   "outputs": [],
   "source": []
  },
  {
   "cell_type": "code",
   "execution_count": null,
   "id": "527837e7",
   "metadata": {},
   "outputs": [],
   "source": []
  },
  {
   "cell_type": "code",
   "execution_count": null,
   "id": "871079af",
   "metadata": {},
   "outputs": [],
   "source": []
  },
  {
   "cell_type": "code",
   "execution_count": null,
   "id": "cac572fc",
   "metadata": {},
   "outputs": [],
   "source": []
  },
  {
   "cell_type": "code",
   "execution_count": null,
   "id": "ee919b60",
   "metadata": {},
   "outputs": [],
   "source": []
  },
  {
   "cell_type": "code",
   "execution_count": null,
   "id": "d40afa1b",
   "metadata": {},
   "outputs": [],
   "source": []
  },
  {
   "cell_type": "code",
   "execution_count": null,
   "id": "ca526139",
   "metadata": {},
   "outputs": [],
   "source": []
  }
 ],
 "metadata": {
  "kernelspec": {
   "display_name": "R",
   "language": "R",
   "name": "ir"
  },
  "language_info": {
   "codemirror_mode": "r",
   "file_extension": ".r",
   "mimetype": "text/x-r-source",
   "name": "R",
   "pygments_lexer": "r",
   "version": "4.1.3"
  }
 },
 "nbformat": 4,
 "nbformat_minor": 5
}
