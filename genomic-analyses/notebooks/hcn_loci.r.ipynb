{
 "cells": [
  {
   "cell_type": "code",
   "execution_count": 1,
   "metadata": {},
   "outputs": [
    {
     "name": "stderr",
     "output_type": "stream",
     "text": [
      "── \u001b[1mAttaching packages\u001b[22m ──────────────────────────────────────────────────────────────────────────────────────────── tidyverse 1.3.0 ──\n",
      "\u001b[32m✔\u001b[39m \u001b[34mggplot2\u001b[39m 3.3.3     \u001b[32m✔\u001b[39m \u001b[34mpurrr  \u001b[39m 0.3.4\n",
      "\u001b[32m✔\u001b[39m \u001b[34mtibble \u001b[39m 3.1.2     \u001b[32m✔\u001b[39m \u001b[34mdplyr  \u001b[39m 1.0.6\n",
      "\u001b[32m✔\u001b[39m \u001b[34mtidyr  \u001b[39m 1.1.3     \u001b[32m✔\u001b[39m \u001b[34mstringr\u001b[39m 1.4.0\n",
      "\u001b[32m✔\u001b[39m \u001b[34mreadr  \u001b[39m 1.4.0     \u001b[32m✔\u001b[39m \u001b[34mforcats\u001b[39m 0.5.1\n",
      "── \u001b[1mConflicts\u001b[22m ─────────────────────────────────────────────────────────────────────────────────────────────── tidyverse_conflicts() ──\n",
      "\u001b[31m✖\u001b[39m \u001b[34mdplyr\u001b[39m::\u001b[32mfilter()\u001b[39m masks \u001b[34mstats\u001b[39m::filter()\n",
      "\u001b[31m✖\u001b[39m \u001b[34mdplyr\u001b[39m::\u001b[32mlag()\u001b[39m    masks \u001b[34mstats\u001b[39m::lag()\n",
      "\n",
      "Attaching package: ‘data.table’\n",
      "\n",
      "The following objects are masked from ‘package:dplyr’:\n",
      "\n",
      "    between, first, last\n",
      "\n",
      "The following object is masked from ‘package:purrr’:\n",
      "\n",
      "    transpose\n",
      "\n"
     ]
    }
   ],
   "source": [
    "library(tidyverse)\n",
    "library(data.table)\n",
    "library(ggridges)\n",
    "library(wesanderson)"
   ]
  },
  {
   "cell_type": "code",
   "execution_count": 4,
   "metadata": {},
   "outputs": [],
   "source": [
    "# custom theme for plots\n",
    "ng1 <- theme(aspect.ratio=0.7,panel.background = element_blank(),\n",
    "        panel.grid.major = element_blank(),\n",
    "        panel.grid.minor = element_blank(),\n",
    "        panel.border=element_blank(),\n",
    "        axis.line.x = element_line(color=\"black\",size=1),\n",
    "        axis.line.y = element_line(color=\"black\",size=1),\n",
    "        axis.ticks=element_line(size = 1, color=\"black\"),\n",
    "        axis.ticks.length=unit(0.25, 'cm'),\n",
    "        axis.text=element_text(color=\"black\",size=15),\n",
    "        axis.title=element_text(color=\"black\",size=1),\n",
    "        axis.title.y=element_text(vjust=2,size=17),\n",
    "        axis.title.x=element_text(vjust=0.1,size=17),\n",
    "        axis.text.x=element_text(size=15),\n",
    "        axis.text.y=element_text(size=15),\n",
    "        strip.text.x = element_text(size = 10, colour = \"black\",face = \"bold\"),\n",
    "        strip.background = element_rect(colour=\"black\"),\n",
    "        legend.position = \"top\", legend.direction=\"vertical\", \n",
    "        legend.text=element_text(size=17), legend.key = element_rect(fill = \"white\"),\n",
    "        legend.title = element_text(size=17),legend.key.size = unit(1.0, \"cm\"))"
   ]
  },
  {
   "cell_type": "code",
   "execution_count": 15,
   "metadata": {},
   "outputs": [],
   "source": [
    "# Function to load genotype likelihoods\n",
    "load_gls <- function(inpath){\n",
    "    \n",
    "    to_remove <- suppressMessages(\n",
    "        read_table('../../../results/program_resources/highErrorRate_toRemove.txt', \n",
    "                   col_names = FALSE)) %>% \n",
    "        pull()\n",
    "    df <- suppressMessages(read_delim(inpath, delim = '\\t')) %>% \n",
    "        dplyr::select(sample, ends_with('norm')) %>% \n",
    "        filter(!(sample %in% to_remove)) %>% \n",
    "        left_join(habitat_info, by = 'sample')\n",
    "    \n",
    "    return(df)\n",
    "    \n",
    "    \n",
    "}\n",
    "\n",
    "hudson_fst <- function(p_u, p_r, n_u, n_r){\n",
    "    \n",
    "    # Numerator\n",
    "    a <- (p_u - p_r)^2\n",
    "    b <- (p_u * (1 - p_u)) / (n_u - 1)\n",
    "    c <- (p_r * (1 - p_r)) / (n_r - 1)\n",
    "    num <- a - b - c\n",
    "    \n",
    "    # Denominator\n",
    "    d <- p_u * (1 - p_r)\n",
    "    e <- p_r * (1 - p_u)\n",
    "    denom <- d + e\n",
    "    \n",
    "    fst <- num / denom\n",
    "   \n",
    "    return(fst)\n",
    "}\n",
    "\n",
    "estimate_p <- function(df, by_site = TRUE){\n",
    "    \n",
    "    if(by_site == TRUE){\n",
    "        df_out <- df %>% \n",
    "            group_by(city, site) %>% \n",
    "            summarise(num_aa = sum(l_aa_norm),\n",
    "                      num_Aa = sum(l_Aa_norm),\n",
    "                      num_AA = sum(l_AA_norm),\n",
    "                      n = 2*n(),\n",
    "                      p = (num_aa + (0.5 * num_Aa)) / sum(num_aa, num_Aa, num_AA)) %>% \n",
    "            dplyr::select(-starts_with('num_')) %>% \n",
    "            pivot_wider(names_from = site, values_from = c('n', 'p')) %>% \n",
    "            mutate(fst = hudson_fst(p_u, p_r, n_u, n_r)) %>% \n",
    "            left_join(., betaLog, by = 'city')\n",
    "    }else{\n",
    "        df_out <- df %>% \n",
    "            group_by(city) %>% \n",
    "            summarise(num_aa = sum(l_aa_norm),\n",
    "                      num_Aa = sum(l_Aa_norm),\n",
    "                      num_AA = sum(l_AA_norm),\n",
    "                      p = (num_aa + (0.5 * num_Aa)) / sum(num_aa, num_Aa, num_AA)) %>% \n",
    "            dplyr::select(-starts_with('num_'))\n",
    "    }\n",
    "    \n",
    "    return(df_out)\n",
    "}\n"
   ]
  },
  {
   "cell_type": "markdown",
   "metadata": {},
   "source": [
    "# HCN Loci Fst outlier test\n",
    "\n",
    "- Use per-city estimates of Ac and Li deletion frequencies to estimate Hudson's Fst\n",
    "- Compare Fst at HCN loci to distribution of Fst values at 4fold sites"
   ]
  },
  {
   "cell_type": "code",
   "execution_count": 6,
   "metadata": {},
   "outputs": [],
   "source": [
    "habitat_info <- suppressMessages(read_delim('../../genomic-analyses/resources/glue_pc_sampleSheet.txt', delim = '\\t'))\n",
    "betaLog <- suppressMessages(read_csv('../../phenotypic-analyses/analysis/supplementary-tables/allCities_logisticReg_coefs.csv'))\n",
    "cyan <- suppressMessages(read_csv('../../phenotypic-analyses/analysis/supplementary-tables/allCities_stats.csv')) %>% \n",
    "    dplyr::select(city, meanHCN)"
   ]
  },
  {
   "cell_type": "markdown",
   "metadata": {},
   "source": [
    "## Correlation in mean HCN frequencies\n",
    "\n",
    "- Correlate the city-wide HCN frequencies from the phenotyping with the estimated HCN frequencies from the genotype likelihoods at both loci. \n",
    "- These should be correlated and is a good sanity check"
   ]
  },
  {
   "cell_type": "code",
   "execution_count": 8,
   "metadata": {},
   "outputs": [],
   "source": [
    "# Load in genotype likelihoods for all samples at both loci\n",
    "ac_gls <- load_gls('../../../results/hcn_genotyping/ac_GLs.txt')\n",
    "li_gls <- load_gls('../../../results/hcn_genotyping/li_GLs.txt')"
   ]
  },
  {
   "cell_type": "code",
   "execution_count": 10,
   "metadata": {},
   "outputs": [],
   "source": [
    "# Create dataframe with city-wide allele frequencies and HCN frequencies\n",
    "ac_freq_wholeCity <- estimate_p(ac_gls, by_site = FALSE) %>% mutate(locus = 'ac')\n",
    "li_freq_wholeCity <- estimate_p(li_gls, by_site = FALSE) %>% mutate(locus = 'li')\n",
    "all_freqs_wholeCity <- bind_rows(ac_freq_wholeCity, li_freq_wholeCity) %>% \n",
    "    pivot_wider(names_from = locus, values_from = p) %>% \n",
    "    left_join(., cyan, by = 'city') %>% \n",
    "    mutate(hcn_est = 1 - (ac^2 + li^2 - (ac^2 * li^2)))"
   ]
  },
  {
   "cell_type": "code",
   "execution_count": 20,
   "metadata": {
    "scrolled": false
   },
   "outputs": [
    {
     "name": "stdout",
     "output_type": "stream",
     "text": [
      "[1] 0.718047\n"
     ]
    },
    {
     "data": {
      "image/png": "[encoded data removed]",
      "text/plain": [
       "plot without title"
      ]
     },
     "metadata": {},
     "output_type": "display_data"
    }
   ],
   "source": [
    "# Plot mean HCN frequencies against frequencies estimated from genotype likelihoods. \n",
    "all_freqs_wholeCity %>% \n",
    "    ggplot(., aes(x = meanHCN, y = hcn_est)) +\n",
    "        geom_point(size = 3, color = 'black') +\n",
    "        geom_smooth(method = 'lm', se = FALSE, color = 'black', size = 1.5, formula = y ~ x) +\n",
    "        xlab('Mean HCN frequency from phenotyping') + ylab('Estimated HCN frequency from allele frequencies') +\n",
    "        ng1\n",
    "print(cor(all_freqs_wholeCity$meanHCN, all_freqs_wholeCity$hcn_est))"
   ]
  },
  {
   "cell_type": "markdown",
   "metadata": {},
   "source": [
    "## Estimate Fst at Ac and Li\n",
    "\n",
    "- Load in Allele frequency estimates for both loci\n",
    "- Estimate Hudson's Fst\n",
    "- Return a single dataframe with Fst estimates for both loci and for all cities"
   ]
  },
  {
   "cell_type": "code",
   "execution_count": 16,
   "metadata": {},
   "outputs": [
    {
     "name": "stderr",
     "output_type": "stream",
     "text": [
      "`summarise()` has grouped output by 'city'. You can override using the `.groups` argument.\n",
      "`summarise()` has grouped output by 'city'. You can override using the `.groups` argument.\n"
     ]
    }
   ],
   "source": [
    "# Estimate urban and rural allele frequencies from genotype likelihoods\n",
    "ac_freq <- estimate_p(ac_gls, by_site = TRUE) %>% mutate(locus = 'ac')\n",
    "li_freq <- estimate_p(li_gls, by_site = TRUE) %>% mutate(locus = 'li')"
   ]
  },
  {
   "cell_type": "code",
   "execution_count": 17,
   "metadata": {
    "scrolled": false
   },
   "outputs": [
    {
     "data": {
      "text/html": [
       "<table class=\"dataframe\">\n",
       "<caption>A grouped_df: 6 × 17</caption>\n",
       "<thead>\n",
       "\t<tr><th scope=col>city</th><th scope=col>n_r</th><th scope=col>n_u</th><th scope=col>p_r</th><th scope=col>p_u</th><th scope=col>fst</th><th scope=col>yint_Dist</th><th scope=col>betaLog_Dist</th><th scope=col>pvalLog_Dist</th><th scope=col>yint_GMIS</th><th scope=col>betaLog_GMIS</th><th scope=col>pvalLog_GMIS</th><th scope=col>yint_hii</th><th scope=col>betaLog_hii</th><th scope=col>pvalLog_hii</th><th scope=col>continent</th><th scope=col>locus</th></tr>\n",
       "\t<tr><th scope=col>&lt;chr&gt;</th><th scope=col>&lt;dbl&gt;</th><th scope=col>&lt;dbl&gt;</th><th scope=col>&lt;dbl&gt;</th><th scope=col>&lt;dbl&gt;</th><th scope=col>&lt;dbl&gt;</th><th scope=col>&lt;dbl&gt;</th><th scope=col>&lt;dbl&gt;</th><th scope=col>&lt;dbl&gt;</th><th scope=col>&lt;dbl&gt;</th><th scope=col>&lt;dbl&gt;</th><th scope=col>&lt;dbl&gt;</th><th scope=col>&lt;dbl&gt;</th><th scope=col>&lt;dbl&gt;</th><th scope=col>&lt;dbl&gt;</th><th scope=col>&lt;chr&gt;</th><th scope=col>&lt;chr&gt;</th></tr>\n",
       "</thead>\n",
       "<tbody>\n",
       "\t<tr><td>Albuquerque</td><td>94</td><td>92</td><td>0.2541680</td><td>0.3260111</td><td> 0.001709459</td><td>-0.825</td><td>-0.839</td><td>0.004</td><td>-1.236</td><td> 0.021</td><td>0.955</td><td>-1.604</td><td> 0.781</td><td>0.000</td><td>North America</td><td>ac</td></tr>\n",
       "\t<tr><td>Albuquerque</td><td>94</td><td>92</td><td>0.7392460</td><td>0.5092263</td><td> 0.097036908</td><td>-0.825</td><td>-0.839</td><td>0.004</td><td>-1.236</td><td> 0.021</td><td>0.955</td><td>-1.604</td><td> 0.781</td><td>0.000</td><td>North America</td><td>li</td></tr>\n",
       "\t<tr><td>Antwerp    </td><td>96</td><td>96</td><td>0.2898515</td><td>0.3042396</td><td>-0.010025509</td><td>-2.234</td><td> 2.150</td><td>0.000</td><td>-0.613</td><td>-2.196</td><td>0.000</td><td>-0.308</td><td>-1.674</td><td>0.000</td><td>Europe       </td><td>ac</td></tr>\n",
       "\t<tr><td>Antwerp    </td><td>96</td><td>96</td><td>0.7989247</td><td>0.8375313</td><td>-0.005475581</td><td>-2.234</td><td> 2.150</td><td>0.000</td><td>-0.613</td><td>-2.196</td><td>0.000</td><td>-0.308</td><td>-1.674</td><td>0.000</td><td>Europe       </td><td>li</td></tr>\n",
       "\t<tr><td>Armidale   </td><td>94</td><td>90</td><td>0.2267613</td><td>0.2712620</td><td>-0.005669832</td><td> 0.215</td><td> 1.487</td><td>0.000</td><td> 1.216</td><td>-2.224</td><td>0.000</td><td> 0.892</td><td>-0.162</td><td>0.425</td><td>Oceania      </td><td>ac</td></tr>\n",
       "\t<tr><td>Armidale   </td><td>94</td><td>90</td><td>0.4340181</td><td>0.5752685</td><td> 0.028562562</td><td> 0.215</td><td> 1.487</td><td>0.000</td><td> 1.216</td><td>-2.224</td><td>0.000</td><td> 0.892</td><td>-0.162</td><td>0.425</td><td>Oceania      </td><td>li</td></tr>\n",
       "</tbody>\n",
       "</table>\n"
      ],
      "text/latex": [
       "A grouped\\_df: 6 × 17\n",
       "\\begin{tabular}{lllllllllllllllll}\n",
       " city & n\\_r & n\\_u & p\\_r & p\\_u & fst & yint\\_Dist & betaLog\\_Dist & pvalLog\\_Dist & yint\\_GMIS & betaLog\\_GMIS & pvalLog\\_GMIS & yint\\_hii & betaLog\\_hii & pvalLog\\_hii & continent & locus\\\\\n",
       " <chr> & <dbl> & <dbl> & <dbl> & <dbl> & <dbl> & <dbl> & <dbl> & <dbl> & <dbl> & <dbl> & <dbl> & <dbl> & <dbl> & <dbl> & <chr> & <chr>\\\\\n",
       "\\hline\n",
       "\t Albuquerque & 94 & 92 & 0.2541680 & 0.3260111 &  0.001709459 & -0.825 & -0.839 & 0.004 & -1.236 &  0.021 & 0.955 & -1.604 &  0.781 & 0.000 & North America & ac\\\\\n",
       "\t Albuquerque & 94 & 92 & 0.7392460 & 0.5092263 &  0.097036908 & -0.825 & -0.839 & 0.004 & -1.236 &  0.021 & 0.955 & -1.604 &  0.781 & 0.000 & North America & li\\\\\n",
       "\t Antwerp     & 96 & 96 & 0.2898515 & 0.3042396 & -0.010025509 & -2.234 &  2.150 & 0.000 & -0.613 & -2.196 & 0.000 & -0.308 & -1.674 & 0.000 & Europe        & ac\\\\\n",
       "\t Antwerp     & 96 & 96 & 0.7989247 & 0.8375313 & -0.005475581 & -2.234 &  2.150 & 0.000 & -0.613 & -2.196 & 0.000 & -0.308 & -1.674 & 0.000 & Europe        & li\\\\\n",
       "\t Armidale    & 94 & 90 & 0.2267613 & 0.2712620 & -0.005669832 &  0.215 &  1.487 & 0.000 &  1.216 & -2.224 & 0.000 &  0.892 & -0.162 & 0.425 & Oceania       & ac\\\\\n",
       "\t Armidale    & 94 & 90 & 0.4340181 & 0.5752685 &  0.028562562 &  0.215 &  1.487 & 0.000 &  1.216 & -2.224 & 0.000 &  0.892 & -0.162 & 0.425 & Oceania       & li\\\\\n",
       "\\end{tabular}\n"
      ],
      "text/markdown": [
       "\n",
       "A grouped_df: 6 × 17\n",
       "\n",
       "| city &lt;chr&gt; | n_r &lt;dbl&gt; | n_u &lt;dbl&gt; | p_r &lt;dbl&gt; | p_u &lt;dbl&gt; | fst &lt;dbl&gt; | yint_Dist &lt;dbl&gt; | betaLog_Dist &lt;dbl&gt; | pvalLog_Dist &lt;dbl&gt; | yint_GMIS &lt;dbl&gt; | betaLog_GMIS &lt;dbl&gt; | pvalLog_GMIS &lt;dbl&gt; | yint_hii &lt;dbl&gt; | betaLog_hii &lt;dbl&gt; | pvalLog_hii &lt;dbl&gt; | continent &lt;chr&gt; | locus &lt;chr&gt; |\n",
       "|---|---|---|---|---|---|---|---|---|---|---|---|---|---|---|---|---|\n",
       "| Albuquerque | 94 | 92 | 0.2541680 | 0.3260111 |  0.001709459 | -0.825 | -0.839 | 0.004 | -1.236 |  0.021 | 0.955 | -1.604 |  0.781 | 0.000 | North America | ac |\n",
       "| Albuquerque | 94 | 92 | 0.7392460 | 0.5092263 |  0.097036908 | -0.825 | -0.839 | 0.004 | -1.236 |  0.021 | 0.955 | -1.604 |  0.781 | 0.000 | North America | li |\n",
       "| Antwerp     | 96 | 96 | 0.2898515 | 0.3042396 | -0.010025509 | -2.234 |  2.150 | 0.000 | -0.613 | -2.196 | 0.000 | -0.308 | -1.674 | 0.000 | Europe        | ac |\n",
       "| Antwerp     | 96 | 96 | 0.7989247 | 0.8375313 | -0.005475581 | -2.234 |  2.150 | 0.000 | -0.613 | -2.196 | 0.000 | -0.308 | -1.674 | 0.000 | Europe        | li |\n",
       "| Armidale    | 94 | 90 | 0.2267613 | 0.2712620 | -0.005669832 |  0.215 |  1.487 | 0.000 |  1.216 | -2.224 | 0.000 |  0.892 | -0.162 | 0.425 | Oceania       | ac |\n",
       "| Armidale    | 94 | 90 | 0.4340181 | 0.5752685 |  0.028562562 |  0.215 |  1.487 | 0.000 |  1.216 | -2.224 | 0.000 |  0.892 | -0.162 | 0.425 | Oceania       | li |\n",
       "\n"
      ],
      "text/plain": [
       "  city        n_r n_u p_r       p_u       fst          yint_Dist betaLog_Dist\n",
       "1 Albuquerque 94  92  0.2541680 0.3260111  0.001709459 -0.825    -0.839      \n",
       "2 Albuquerque 94  92  0.7392460 0.5092263  0.097036908 -0.825    -0.839      \n",
       "3 Antwerp     96  96  0.2898515 0.3042396 -0.010025509 -2.234     2.150      \n",
       "4 Antwerp     96  96  0.7989247 0.8375313 -0.005475581 -2.234     2.150      \n",
       "5 Armidale    94  90  0.2267613 0.2712620 -0.005669832  0.215     1.487      \n",
       "6 Armidale    94  90  0.4340181 0.5752685  0.028562562  0.215     1.487      \n",
       "  pvalLog_Dist yint_GMIS betaLog_GMIS pvalLog_GMIS yint_hii betaLog_hii\n",
       "1 0.004        -1.236     0.021       0.955        -1.604    0.781     \n",
       "2 0.004        -1.236     0.021       0.955        -1.604    0.781     \n",
       "3 0.000        -0.613    -2.196       0.000        -0.308   -1.674     \n",
       "4 0.000        -0.613    -2.196       0.000        -0.308   -1.674     \n",
       "5 0.000         1.216    -2.224       0.000         0.892   -0.162     \n",
       "6 0.000         1.216    -2.224       0.000         0.892   -0.162     \n",
       "  pvalLog_hii continent     locus\n",
       "1 0.000       North America ac   \n",
       "2 0.000       North America li   \n",
       "3 0.000       Europe        ac   \n",
       "4 0.000       Europe        li   \n",
       "5 0.425       Oceania       ac   \n",
       "6 0.425       Oceania       li   "
      ]
     },
     "metadata": {},
     "output_type": "display_data"
    }
   ],
   "source": [
    "# Combine Ac and Li allele frequencies\n",
    "all_freqs <- bind_rows(ac_freq, li_freq) %>% \n",
    "    arrange(city)\n",
    "head(all_freqs)"
   ]
  },
  {
   "cell_type": "code",
   "execution_count": 28,
   "metadata": {},
   "outputs": [
    {
     "name": "stderr",
     "output_type": "stream",
     "text": [
      "`geom_smooth()` using formula 'y ~ x'\n"
     ]
    },
    {
     "name": "stdout",
     "output_type": "stream",
     "text": [
      "\n",
      "\tPearson's product-moment correlation\n",
      "\n",
      "data:  freqChange_UR$ac_change and freqChange_UR$li_change\n",
      "t = 1.6028, df = 24, p-value = 0.1221\n",
      "alternative hypothesis: true correlation is not equal to 0\n",
      "95 percent confidence interval:\n",
      " -0.08686517  0.62323468\n",
      "sample estimates:\n",
      "      cor \n",
      "0.3109494 \n",
      "\n"
     ]
    },
    {
     "data": {
      "image/png": "[encoded data removed]",
      "text/plain": [
       "plot without title"
      ]
     },
     "metadata": {},
     "output_type": "display_data"
    }
   ],
   "source": [
    "freqChange_UR <- all_freqs %>% \n",
    "    dplyr::select(city, starts_with('p_'), locus) %>% \n",
    "    pivot_wider(names_from = locus, values_from = starts_with('p_')) %>% \n",
    "    mutate(ac_change = p_u_ac - p_r_ac,\n",
    "           li_change = p_u_li - p_r_li)\n",
    "\n",
    "freqChange_UR_plot <- freqChange_UR %>% \n",
    "    ggplot(., aes(x = ac_change, y = li_change)) +\n",
    "        geom_point(size = 3, color = 'black') +\n",
    "        geom_smooth(method = 'lm', se = FALSE, color = 'black') +\n",
    "        xlab('Urban-rural change in Ac deletion frequency') +\n",
    "        ylab('Urban-rural change in Li deletion frequency') +\n",
    "        ng1\n",
    "freqChange_UR_plot\n",
    "print(cor.test(freqChange_UR$ac_change, freqChange_UR$li_change, method = 'pearson'))"
   ]
  },
  {
   "cell_type": "markdown",
   "metadata": {},
   "source": [
    "## Correlation between Fst and strength of cline"
   ]
  },
  {
   "cell_type": "code",
   "execution_count": 29,
   "metadata": {},
   "outputs": [
    {
     "data": {
      "text/html": [
       "<table class=\"dataframe\">\n",
       "<caption>A grouped_df: 4 × 6</caption>\n",
       "<thead>\n",
       "\t<tr><th scope=col>locus</th><th scope=col>term</th><th scope=col>estimate</th><th scope=col>std.error</th><th scope=col>statistic</th><th scope=col>p.value</th></tr>\n",
       "\t<tr><th scope=col>&lt;chr&gt;</th><th scope=col>&lt;chr&gt;</th><th scope=col>&lt;dbl&gt;</th><th scope=col>&lt;dbl&gt;</th><th scope=col>&lt;dbl&gt;</th><th scope=col>&lt;dbl&gt;</th></tr>\n",
       "</thead>\n",
       "<tbody>\n",
       "\t<tr><td>ac</td><td>(Intercept)</td><td> 0.7853182</td><td>0.2807320</td><td> 2.7973941</td><td>0.00998945</td></tr>\n",
       "\t<tr><td>ac</td><td>fst        </td><td>-8.4690630</td><td>5.9429432</td><td>-1.4250621</td><td>0.16701507</td></tr>\n",
       "\t<tr><td>li</td><td>(Intercept)</td><td> 0.5908219</td><td>0.3537248</td><td> 1.6702869</td><td>0.10785504</td></tr>\n",
       "\t<tr><td>li</td><td>fst        </td><td> 3.8146436</td><td>7.1615159</td><td> 0.5326587</td><td>0.59916757</td></tr>\n",
       "</tbody>\n",
       "</table>\n"
      ],
      "text/latex": [
       "A grouped\\_df: 4 × 6\n",
       "\\begin{tabular}{llllll}\n",
       " locus & term & estimate & std.error & statistic & p.value\\\\\n",
       " <chr> & <chr> & <dbl> & <dbl> & <dbl> & <dbl>\\\\\n",
       "\\hline\n",
       "\t ac & (Intercept) &  0.7853182 & 0.2807320 &  2.7973941 & 0.00998945\\\\\n",
       "\t ac & fst         & -8.4690630 & 5.9429432 & -1.4250621 & 0.16701507\\\\\n",
       "\t li & (Intercept) &  0.5908219 & 0.3537248 &  1.6702869 & 0.10785504\\\\\n",
       "\t li & fst         &  3.8146436 & 7.1615159 &  0.5326587 & 0.59916757\\\\\n",
       "\\end{tabular}\n"
      ],
      "text/markdown": [
       "\n",
       "A grouped_df: 4 × 6\n",
       "\n",
       "| locus &lt;chr&gt; | term &lt;chr&gt; | estimate &lt;dbl&gt; | std.error &lt;dbl&gt; | statistic &lt;dbl&gt; | p.value &lt;dbl&gt; |\n",
       "|---|---|---|---|---|---|\n",
       "| ac | (Intercept) |  0.7853182 | 0.2807320 |  2.7973941 | 0.00998945 |\n",
       "| ac | fst         | -8.4690630 | 5.9429432 | -1.4250621 | 0.16701507 |\n",
       "| li | (Intercept) |  0.5908219 | 0.3537248 |  1.6702869 | 0.10785504 |\n",
       "| li | fst         |  3.8146436 | 7.1615159 |  0.5326587 | 0.59916757 |\n",
       "\n"
      ],
      "text/plain": [
       "  locus term        estimate   std.error statistic  p.value   \n",
       "1 ac    (Intercept)  0.7853182 0.2807320  2.7973941 0.00998945\n",
       "2 ac    fst         -8.4690630 5.9429432 -1.4250621 0.16701507\n",
       "3 li    (Intercept)  0.5908219 0.3537248  1.6702869 0.10785504\n",
       "4 li    fst          3.8146436 7.1615159  0.5326587 0.59916757"
      ]
     },
     "metadata": {},
     "output_type": "display_data"
    }
   ],
   "source": [
    "all_freqs %>% \n",
    "    group_by(locus) %>% \n",
    "    do(broom::tidy(lm(betaLog_Dist ~ fst, data = .)))"
   ]
  },
  {
   "cell_type": "code",
   "execution_count": 30,
   "metadata": {},
   "outputs": [
    {
     "name": "stderr",
     "output_type": "stream",
     "text": [
      "`geom_smooth()` using formula 'y ~ x'\n"
     ]
    },
    {
     "data": {
      "image/png": "[encoded data removed]",
      "text/plain": [
       "plot without title"
      ]
     },
     "metadata": {},
     "output_type": "display_data"
    }
   ],
   "source": [
    "all_freqs %>% \n",
    "    group_by(locus) %>% \n",
    "    ggplot(., aes(x = fst, y = betaLog_Dist)) +\n",
    "    geom_point(size = 3, color = 'black') +\n",
    "    facet_wrap(~locus) +\n",
    "    geom_smooth(method = 'lm', se = FALSE, color = 'black') +\n",
    "    xlab('Fst') + ylab('Slope of cline (logOdds)') +\n",
    "    theme_classic()"
   ]
  },
  {
   "cell_type": "markdown",
   "metadata": {},
   "source": [
    "## Fst outlier analysis\n",
    "\n",
    "- Compare Fst at Ac and Li loci to distribution of Fst values along same chromosomes"
   ]
  },
  {
   "cell_type": "code",
   "execution_count": 31,
   "metadata": {},
   "outputs": [],
   "source": [
    "# Load per-site Fst values along chromosomes with Ac and Li\n",
    "load_obs_fst <- function(path){\n",
    "    \n",
    "    # Get Fst type and city from filenames\n",
    "    city <- dirname(dirname(path))\n",
    "    locus <- str_split(dirname(path), pattern = '/', simplify = TRUE)[2]\n",
    "    \n",
    "    full_path <- paste0(inpath, path)\n",
    "    colnames <- c('chrom', 'pos', 'num', 'denom')\n",
    "    df <- suppressMessages(fread(full_path, sep = '\\t', header = FALSE, col.names = colnames)) %>%\n",
    "    \n",
    "    # Cap numerators at 0 if negative\n",
    "    # https://github.com/ANGSD/angsd/issues/309 # Does not affect overall pattern \n",
    "    mutate(num = ifelse(num < 0, 0, num),\n",
    "           fst = num / denom) %>%\n",
    "    mutate(city = city,\n",
    "           locus = locus)\n",
    "    \n",
    "    return(df)\n",
    "}"
   ]
  },
  {
   "cell_type": "code",
   "execution_count": 32,
   "metadata": {},
   "outputs": [
    {
     "data": {
      "text/html": [
       "<table class=\"dataframe\">\n",
       "<caption>A data.table: 6 × 7</caption>\n",
       "<thead>\n",
       "\t<tr><th scope=col>chrom</th><th scope=col>pos</th><th scope=col>num</th><th scope=col>denom</th><th scope=col>fst</th><th scope=col>city</th><th scope=col>locus</th></tr>\n",
       "\t<tr><th scope=col>&lt;chr&gt;</th><th scope=col>&lt;int&gt;</th><th scope=col>&lt;dbl&gt;</th><th scope=col>&lt;dbl&gt;</th><th scope=col>&lt;dbl&gt;</th><th scope=col>&lt;chr&gt;</th><th scope=col>&lt;chr&gt;</th></tr>\n",
       "</thead>\n",
       "<tbody>\n",
       "\t<tr><td>CM019103.1</td><td>16295</td><td>0.031660</td><td>0.480412</td><td>0.0659017676</td><td>Albuquerque</td><td>ac</td></tr>\n",
       "\t<tr><td>CM019103.1</td><td>16460</td><td>0.000107</td><td>0.236729</td><td>0.0004519936</td><td>Albuquerque</td><td>ac</td></tr>\n",
       "\t<tr><td>CM019103.1</td><td>16535</td><td>0.001080</td><td>0.332435</td><td>0.0032487554</td><td>Albuquerque</td><td>ac</td></tr>\n",
       "\t<tr><td>CM019103.1</td><td>16658</td><td>0.001752</td><td>0.466036</td><td>0.0037593662</td><td>Albuquerque</td><td>ac</td></tr>\n",
       "\t<tr><td>CM019103.1</td><td>16661</td><td>0.000000</td><td>0.252031</td><td>0.0000000000</td><td>Albuquerque</td><td>ac</td></tr>\n",
       "\t<tr><td>CM019103.1</td><td>16799</td><td>0.000000</td><td>0.152620</td><td>0.0000000000</td><td>Albuquerque</td><td>ac</td></tr>\n",
       "</tbody>\n",
       "</table>\n"
      ],
      "text/latex": [
       "A data.table: 6 × 7\n",
       "\\begin{tabular}{lllllll}\n",
       " chrom & pos & num & denom & fst & city & locus\\\\\n",
       " <chr> & <int> & <dbl> & <dbl> & <dbl> & <chr> & <chr>\\\\\n",
       "\\hline\n",
       "\t CM019103.1 & 16295 & 0.031660 & 0.480412 & 0.0659017676 & Albuquerque & ac\\\\\n",
       "\t CM019103.1 & 16460 & 0.000107 & 0.236729 & 0.0004519936 & Albuquerque & ac\\\\\n",
       "\t CM019103.1 & 16535 & 0.001080 & 0.332435 & 0.0032487554 & Albuquerque & ac\\\\\n",
       "\t CM019103.1 & 16658 & 0.001752 & 0.466036 & 0.0037593662 & Albuquerque & ac\\\\\n",
       "\t CM019103.1 & 16661 & 0.000000 & 0.252031 & 0.0000000000 & Albuquerque & ac\\\\\n",
       "\t CM019103.1 & 16799 & 0.000000 & 0.152620 & 0.0000000000 & Albuquerque & ac\\\\\n",
       "\\end{tabular}\n"
      ],
      "text/markdown": [
       "\n",
       "A data.table: 6 × 7\n",
       "\n",
       "| chrom &lt;chr&gt; | pos &lt;int&gt; | num &lt;dbl&gt; | denom &lt;dbl&gt; | fst &lt;dbl&gt; | city &lt;chr&gt; | locus &lt;chr&gt; |\n",
       "|---|---|---|---|---|---|---|\n",
       "| CM019103.1 | 16295 | 0.031660 | 0.480412 | 0.0659017676 | Albuquerque | ac |\n",
       "| CM019103.1 | 16460 | 0.000107 | 0.236729 | 0.0004519936 | Albuquerque | ac |\n",
       "| CM019103.1 | 16535 | 0.001080 | 0.332435 | 0.0032487554 | Albuquerque | ac |\n",
       "| CM019103.1 | 16658 | 0.001752 | 0.466036 | 0.0037593662 | Albuquerque | ac |\n",
       "| CM019103.1 | 16661 | 0.000000 | 0.252031 | 0.0000000000 | Albuquerque | ac |\n",
       "| CM019103.1 | 16799 | 0.000000 | 0.152620 | 0.0000000000 | Albuquerque | ac |\n",
       "\n"
      ],
      "text/plain": [
       "  chrom      pos   num      denom    fst          city        locus\n",
       "1 CM019103.1 16295 0.031660 0.480412 0.0659017676 Albuquerque ac   \n",
       "2 CM019103.1 16460 0.000107 0.236729 0.0004519936 Albuquerque ac   \n",
       "3 CM019103.1 16535 0.001080 0.332435 0.0032487554 Albuquerque ac   \n",
       "4 CM019103.1 16658 0.001752 0.466036 0.0037593662 Albuquerque ac   \n",
       "5 CM019103.1 16661 0.000000 0.252031 0.0000000000 Albuquerque ac   \n",
       "6 CM019103.1 16799 0.000000 0.152620 0.0000000000 Albuquerque ac   "
      ]
     },
     "metadata": {},
     "output_type": "display_data"
    }
   ],
   "source": [
    "inpath <- '../../../results/angsd/summary_stats/fst/fst1/'\n",
    "obs_fst_df <- list.files(inpath, pattern = '.*_(ac|li)_4fold_r_u_fst1_readable.fst', recursive = TRUE)  %>% \n",
    "    map_dfr(., load_obs_fst)\n",
    "head(obs_fst_df)"
   ]
  },
  {
   "cell_type": "code",
   "execution_count": 36,
   "metadata": {},
   "outputs": [],
   "source": [
    "get_quantile <- function(df, probs = c(0.975)){\n",
    "    \n",
    "    city <- df %>% pull(city) %>% unique()\n",
    "    locus <- df %>% pull(locus) %>% unique()\n",
    "    fst <- df %>% filter(!(is.na(fst))) %>% pull(fst)\n",
    "    \n",
    "    quant <- quantile(fst, probs = probs)\n",
    "    df_out <- data.frame(city = city, locus = locus, quant = quant)\n",
    "    return(df_out)\n",
    "}"
   ]
  },
  {
   "cell_type": "code",
   "execution_count": 37,
   "metadata": {},
   "outputs": [],
   "source": [
    "neutral_fst_quantile_df <- obs_fst_df %>% \n",
    "    group_split(city, locus) %>% \n",
    "    map_dfr(., get_quantile)"
   ]
  },
  {
   "cell_type": "code",
   "execution_count": 38,
   "metadata": {},
   "outputs": [],
   "source": [
    "all_stats_df <- left_join(all_freqs, neutral_fst_quantile_df, by = c('city', 'locus')) %>% \n",
    "    left_join(., numSites_fst, by = c('city', 'locus')) %>% \n",
    "    mutate(fst = ifelse(fst < 0, 0, fst),\n",
    "           is_outlier = ifelse(fst > quant, 1, 0)) %>% \n",
    "    dplyr::select(-starts_with('n_'), -starts_with('p_'), -continent)"
   ]
  },
  {
   "cell_type": "code",
   "execution_count": 40,
   "metadata": {},
   "outputs": [
    {
     "data": {
      "text/html": [
       "<table class=\"dataframe\">\n",
       "<caption>A grouped_df: 52 × 6</caption>\n",
       "<thead>\n",
       "\t<tr><th scope=col>city</th><th scope=col>fst</th><th scope=col>betaLog_Dist</th><th scope=col>pvalLog_Dist</th><th scope=col>locus</th><th scope=col>is_outlier</th></tr>\n",
       "\t<tr><th scope=col>&lt;chr&gt;</th><th scope=col>&lt;dbl&gt;</th><th scope=col>&lt;dbl&gt;</th><th scope=col>&lt;dbl&gt;</th><th scope=col>&lt;chr&gt;</th><th scope=col>&lt;dbl&gt;</th></tr>\n",
       "</thead>\n",
       "<tbody>\n",
       "\t<tr><td>Albuquerque </td><td>0.0017094592</td><td>-0.839</td><td>0.004</td><td>ac</td><td>0</td></tr>\n",
       "\t<tr><td>Albuquerque </td><td>0.0970369080</td><td>-0.839</td><td>0.004</td><td>li</td><td>1</td></tr>\n",
       "\t<tr><td>Antwerp     </td><td>0.0000000000</td><td> 2.150</td><td>0.000</td><td>ac</td><td>0</td></tr>\n",
       "\t<tr><td>Antwerp     </td><td>0.0000000000</td><td> 2.150</td><td>0.000</td><td>li</td><td>0</td></tr>\n",
       "\t<tr><td>Armidale    </td><td>0.0000000000</td><td> 1.487</td><td>0.000</td><td>ac</td><td>0</td></tr>\n",
       "\t<tr><td>Armidale    </td><td>0.0285625616</td><td> 1.487</td><td>0.000</td><td>li</td><td>1</td></tr>\n",
       "\t<tr><td>Athens      </td><td>0.0000000000</td><td> 1.565</td><td>0.000</td><td>ac</td><td>0</td></tr>\n",
       "\t<tr><td>Athens      </td><td>0.0799856505</td><td> 1.565</td><td>0.000</td><td>li</td><td>1</td></tr>\n",
       "\t<tr><td>Bogota      </td><td>0.0381202444</td><td> 0.839</td><td>0.014</td><td>ac</td><td>1</td></tr>\n",
       "\t<tr><td>Bogota      </td><td>0.0000000000</td><td> 0.839</td><td>0.014</td><td>li</td><td>0</td></tr>\n",
       "\t<tr><td>Buenos_Aires</td><td>0.0000000000</td><td> 0.015</td><td>0.950</td><td>ac</td><td>0</td></tr>\n",
       "\t<tr><td>Buenos_Aires</td><td>0.0000000000</td><td> 0.015</td><td>0.950</td><td>li</td><td>0</td></tr>\n",
       "\t<tr><td>Calgary     </td><td>0.0000000000</td><td> 1.168</td><td>0.014</td><td>ac</td><td>0</td></tr>\n",
       "\t<tr><td>Calgary     </td><td>0.0385720188</td><td> 1.168</td><td>0.014</td><td>li</td><td>0</td></tr>\n",
       "\t<tr><td>Canberra    </td><td>0.0000000000</td><td>-0.056</td><td>0.841</td><td>ac</td><td>0</td></tr>\n",
       "\t<tr><td>Canberra    </td><td>0.0038244366</td><td>-0.056</td><td>0.841</td><td>li</td><td>0</td></tr>\n",
       "\t<tr><td>Cape_Town   </td><td>0.0000000000</td><td> 0.851</td><td>0.159</td><td>ac</td><td>0</td></tr>\n",
       "\t<tr><td>Cape_Town   </td><td>0.0452961503</td><td> 0.851</td><td>0.159</td><td>li</td><td>0</td></tr>\n",
       "\t<tr><td>Christchurch</td><td>0.0000000000</td><td> 1.889</td><td>0.000</td><td>ac</td><td>0</td></tr>\n",
       "\t<tr><td>Christchurch</td><td>0.0291438276</td><td> 1.889</td><td>0.000</td><td>li</td><td>1</td></tr>\n",
       "\t<tr><td>Hiroshima   </td><td>0.0321339913</td><td>-0.043</td><td>0.842</td><td>ac</td><td>0</td></tr>\n",
       "\t<tr><td>Hiroshima   </td><td>0.0000000000</td><td>-0.043</td><td>0.842</td><td>li</td><td>0</td></tr>\n",
       "\t<tr><td>Kunming     </td><td>0.0000000000</td><td>-0.439</td><td>0.091</td><td>ac</td><td>0</td></tr>\n",
       "\t<tr><td>Kunming     </td><td>0.0000000000</td><td>-0.439</td><td>0.091</td><td>li</td><td>0</td></tr>\n",
       "\t<tr><td>Kyoto       </td><td>0.0000000000</td><td>-1.027</td><td>0.000</td><td>ac</td><td>0</td></tr>\n",
       "\t<tr><td>Kyoto       </td><td>0.0636945560</td><td>-1.027</td><td>0.000</td><td>li</td><td>1</td></tr>\n",
       "\t<tr><td>Landshut    </td><td>0.0086958321</td><td>-0.356</td><td>0.190</td><td>ac</td><td>0</td></tr>\n",
       "\t<tr><td>Landshut    </td><td>0.0209991315</td><td>-0.356</td><td>0.190</td><td>li</td><td>0</td></tr>\n",
       "\t<tr><td>Linkoping   </td><td>0.0000000000</td><td> 4.106</td><td>0.000</td><td>ac</td><td>0</td></tr>\n",
       "\t<tr><td>Linkoping   </td><td>0.0000000000</td><td> 4.106</td><td>0.000</td><td>li</td><td>0</td></tr>\n",
       "\t<tr><td>Loja        </td><td>0.0000000000</td><td> 1.113</td><td>0.000</td><td>ac</td><td>0</td></tr>\n",
       "\t<tr><td>Loja        </td><td>0.0000000000</td><td> 1.113</td><td>0.000</td><td>li</td><td>0</td></tr>\n",
       "\t<tr><td>Medellin    </td><td>0.0370747702</td><td>-3.450</td><td>0.000</td><td>ac</td><td>1</td></tr>\n",
       "\t<tr><td>Medellin    </td><td>0.0000000000</td><td>-3.450</td><td>0.000</td><td>li</td><td>0</td></tr>\n",
       "\t<tr><td>Melbourne   </td><td>0.0088913112</td><td> 1.330</td><td>0.000</td><td>ac</td><td>0</td></tr>\n",
       "\t<tr><td>Melbourne   </td><td>0.0552659664</td><td> 1.330</td><td>0.000</td><td>li</td><td>1</td></tr>\n",
       "\t<tr><td>Memphis     </td><td>0.0000000000</td><td> 1.810</td><td>0.000</td><td>ac</td><td>0</td></tr>\n",
       "\t<tr><td>Memphis     </td><td>0.0623620715</td><td> 1.810</td><td>0.000</td><td>li</td><td>1</td></tr>\n",
       "\t<tr><td>Mexico_City </td><td>0.1976961222</td><td>-0.152</td><td>0.703</td><td>ac</td><td>1</td></tr>\n",
       "\t<tr><td>Mexico_City </td><td>0.0245882637</td><td>-0.152</td><td>0.703</td><td>li</td><td>0</td></tr>\n",
       "\t<tr><td>Munich      </td><td>0.0003377569</td><td> 0.513</td><td>0.034</td><td>ac</td><td>0</td></tr>\n",
       "\t<tr><td>Munich      </td><td>0.0337210918</td><td> 0.513</td><td>0.034</td><td>li</td><td>1</td></tr>\n",
       "\t<tr><td>Paris       </td><td>0.1102928620</td><td>-0.227</td><td>0.312</td><td>ac</td><td>1</td></tr>\n",
       "\t<tr><td>Paris       </td><td>0.0000000000</td><td>-0.227</td><td>0.312</td><td>li</td><td>0</td></tr>\n",
       "\t<tr><td>Quito       </td><td>0.0000000000</td><td> 0.516</td><td>0.139</td><td>ac</td><td>0</td></tr>\n",
       "\t<tr><td>Quito       </td><td>0.0685015582</td><td> 0.516</td><td>0.139</td><td>li</td><td>1</td></tr>\n",
       "\t<tr><td>Tehran      </td><td>0.0000000000</td><td> 2.345</td><td>0.000</td><td>ac</td><td>0</td></tr>\n",
       "\t<tr><td>Tehran      </td><td>0.0159358251</td><td> 2.345</td><td>0.000</td><td>li</td><td>0</td></tr>\n",
       "\t<tr><td>Thessaloniki</td><td>0.0000000000</td><td> 1.703</td><td>0.000</td><td>ac</td><td>0</td></tr>\n",
       "\t<tr><td>Thessaloniki</td><td>0.1441968271</td><td> 1.703</td><td>0.000</td><td>li</td><td>1</td></tr>\n",
       "\t<tr><td>Toronto     </td><td>0.0000000000</td><td> 1.463</td><td>0.000</td><td>ac</td><td>0</td></tr>\n",
       "\t<tr><td>Toronto     </td><td>0.0480564238</td><td> 1.463</td><td>0.000</td><td>li</td><td>1</td></tr>\n",
       "</tbody>\n",
       "</table>\n"
      ],
      "text/latex": [
       "A grouped\\_df: 52 × 6\n",
       "\\begin{tabular}{llllll}\n",
       " city & fst & betaLog\\_Dist & pvalLog\\_Dist & locus & is\\_outlier\\\\\n",
       " <chr> & <dbl> & <dbl> & <dbl> & <chr> & <dbl>\\\\\n",
       "\\hline\n",
       "\t Albuquerque  & 0.0017094592 & -0.839 & 0.004 & ac & 0\\\\\n",
       "\t Albuquerque  & 0.0970369080 & -0.839 & 0.004 & li & 1\\\\\n",
       "\t Antwerp      & 0.0000000000 &  2.150 & 0.000 & ac & 0\\\\\n",
       "\t Antwerp      & 0.0000000000 &  2.150 & 0.000 & li & 0\\\\\n",
       "\t Armidale     & 0.0000000000 &  1.487 & 0.000 & ac & 0\\\\\n",
       "\t Armidale     & 0.0285625616 &  1.487 & 0.000 & li & 1\\\\\n",
       "\t Athens       & 0.0000000000 &  1.565 & 0.000 & ac & 0\\\\\n",
       "\t Athens       & 0.0799856505 &  1.565 & 0.000 & li & 1\\\\\n",
       "\t Bogota       & 0.0381202444 &  0.839 & 0.014 & ac & 1\\\\\n",
       "\t Bogota       & 0.0000000000 &  0.839 & 0.014 & li & 0\\\\\n",
       "\t Buenos\\_Aires & 0.0000000000 &  0.015 & 0.950 & ac & 0\\\\\n",
       "\t Buenos\\_Aires & 0.0000000000 &  0.015 & 0.950 & li & 0\\\\\n",
       "\t Calgary      & 0.0000000000 &  1.168 & 0.014 & ac & 0\\\\\n",
       "\t Calgary      & 0.0385720188 &  1.168 & 0.014 & li & 0\\\\\n",
       "\t Canberra     & 0.0000000000 & -0.056 & 0.841 & ac & 0\\\\\n",
       "\t Canberra     & 0.0038244366 & -0.056 & 0.841 & li & 0\\\\\n",
       "\t Cape\\_Town    & 0.0000000000 &  0.851 & 0.159 & ac & 0\\\\\n",
       "\t Cape\\_Town    & 0.0452961503 &  0.851 & 0.159 & li & 0\\\\\n",
       "\t Christchurch & 0.0000000000 &  1.889 & 0.000 & ac & 0\\\\\n",
       "\t Christchurch & 0.0291438276 &  1.889 & 0.000 & li & 1\\\\\n",
       "\t Hiroshima    & 0.0321339913 & -0.043 & 0.842 & ac & 0\\\\\n",
       "\t Hiroshima    & 0.0000000000 & -0.043 & 0.842 & li & 0\\\\\n",
       "\t Kunming      & 0.0000000000 & -0.439 & 0.091 & ac & 0\\\\\n",
       "\t Kunming      & 0.0000000000 & -0.439 & 0.091 & li & 0\\\\\n",
       "\t Kyoto        & 0.0000000000 & -1.027 & 0.000 & ac & 0\\\\\n",
       "\t Kyoto        & 0.0636945560 & -1.027 & 0.000 & li & 1\\\\\n",
       "\t Landshut     & 0.0086958321 & -0.356 & 0.190 & ac & 0\\\\\n",
       "\t Landshut     & 0.0209991315 & -0.356 & 0.190 & li & 0\\\\\n",
       "\t Linkoping    & 0.0000000000 &  4.106 & 0.000 & ac & 0\\\\\n",
       "\t Linkoping    & 0.0000000000 &  4.106 & 0.000 & li & 0\\\\\n",
       "\t Loja         & 0.0000000000 &  1.113 & 0.000 & ac & 0\\\\\n",
       "\t Loja         & 0.0000000000 &  1.113 & 0.000 & li & 0\\\\\n",
       "\t Medellin     & 0.0370747702 & -3.450 & 0.000 & ac & 1\\\\\n",
       "\t Medellin     & 0.0000000000 & -3.450 & 0.000 & li & 0\\\\\n",
       "\t Melbourne    & 0.0088913112 &  1.330 & 0.000 & ac & 0\\\\\n",
       "\t Melbourne    & 0.0552659664 &  1.330 & 0.000 & li & 1\\\\\n",
       "\t Memphis      & 0.0000000000 &  1.810 & 0.000 & ac & 0\\\\\n",
       "\t Memphis      & 0.0623620715 &  1.810 & 0.000 & li & 1\\\\\n",
       "\t Mexico\\_City  & 0.1976961222 & -0.152 & 0.703 & ac & 1\\\\\n",
       "\t Mexico\\_City  & 0.0245882637 & -0.152 & 0.703 & li & 0\\\\\n",
       "\t Munich       & 0.0003377569 &  0.513 & 0.034 & ac & 0\\\\\n",
       "\t Munich       & 0.0337210918 &  0.513 & 0.034 & li & 1\\\\\n",
       "\t Paris        & 0.1102928620 & -0.227 & 0.312 & ac & 1\\\\\n",
       "\t Paris        & 0.0000000000 & -0.227 & 0.312 & li & 0\\\\\n",
       "\t Quito        & 0.0000000000 &  0.516 & 0.139 & ac & 0\\\\\n",
       "\t Quito        & 0.0685015582 &  0.516 & 0.139 & li & 1\\\\\n",
       "\t Tehran       & 0.0000000000 &  2.345 & 0.000 & ac & 0\\\\\n",
       "\t Tehran       & 0.0159358251 &  2.345 & 0.000 & li & 0\\\\\n",
       "\t Thessaloniki & 0.0000000000 &  1.703 & 0.000 & ac & 0\\\\\n",
       "\t Thessaloniki & 0.1441968271 &  1.703 & 0.000 & li & 1\\\\\n",
       "\t Toronto      & 0.0000000000 &  1.463 & 0.000 & ac & 0\\\\\n",
       "\t Toronto      & 0.0480564238 &  1.463 & 0.000 & li & 1\\\\\n",
       "\\end{tabular}\n"
      ],
      "text/markdown": [
       "\n",
       "A grouped_df: 52 × 6\n",
       "\n",
       "| city &lt;chr&gt; | fst &lt;dbl&gt; | betaLog_Dist &lt;dbl&gt; | pvalLog_Dist &lt;dbl&gt; | locus &lt;chr&gt; | is_outlier &lt;dbl&gt; |\n",
       "|---|---|---|---|---|---|\n",
       "| Albuquerque  | 0.0017094592 | -0.839 | 0.004 | ac | 0 |\n",
       "| Albuquerque  | 0.0970369080 | -0.839 | 0.004 | li | 1 |\n",
       "| Antwerp      | 0.0000000000 |  2.150 | 0.000 | ac | 0 |\n",
       "| Antwerp      | 0.0000000000 |  2.150 | 0.000 | li | 0 |\n",
       "| Armidale     | 0.0000000000 |  1.487 | 0.000 | ac | 0 |\n",
       "| Armidale     | 0.0285625616 |  1.487 | 0.000 | li | 1 |\n",
       "| Athens       | 0.0000000000 |  1.565 | 0.000 | ac | 0 |\n",
       "| Athens       | 0.0799856505 |  1.565 | 0.000 | li | 1 |\n",
       "| Bogota       | 0.0381202444 |  0.839 | 0.014 | ac | 1 |\n",
       "| Bogota       | 0.0000000000 |  0.839 | 0.014 | li | 0 |\n",
       "| Buenos_Aires | 0.0000000000 |  0.015 | 0.950 | ac | 0 |\n",
       "| Buenos_Aires | 0.0000000000 |  0.015 | 0.950 | li | 0 |\n",
       "| Calgary      | 0.0000000000 |  1.168 | 0.014 | ac | 0 |\n",
       "| Calgary      | 0.0385720188 |  1.168 | 0.014 | li | 0 |\n",
       "| Canberra     | 0.0000000000 | -0.056 | 0.841 | ac | 0 |\n",
       "| Canberra     | 0.0038244366 | -0.056 | 0.841 | li | 0 |\n",
       "| Cape_Town    | 0.0000000000 |  0.851 | 0.159 | ac | 0 |\n",
       "| Cape_Town    | 0.0452961503 |  0.851 | 0.159 | li | 0 |\n",
       "| Christchurch | 0.0000000000 |  1.889 | 0.000 | ac | 0 |\n",
       "| Christchurch | 0.0291438276 |  1.889 | 0.000 | li | 1 |\n",
       "| Hiroshima    | 0.0321339913 | -0.043 | 0.842 | ac | 0 |\n",
       "| Hiroshima    | 0.0000000000 | -0.043 | 0.842 | li | 0 |\n",
       "| Kunming      | 0.0000000000 | -0.439 | 0.091 | ac | 0 |\n",
       "| Kunming      | 0.0000000000 | -0.439 | 0.091 | li | 0 |\n",
       "| Kyoto        | 0.0000000000 | -1.027 | 0.000 | ac | 0 |\n",
       "| Kyoto        | 0.0636945560 | -1.027 | 0.000 | li | 1 |\n",
       "| Landshut     | 0.0086958321 | -0.356 | 0.190 | ac | 0 |\n",
       "| Landshut     | 0.0209991315 | -0.356 | 0.190 | li | 0 |\n",
       "| Linkoping    | 0.0000000000 |  4.106 | 0.000 | ac | 0 |\n",
       "| Linkoping    | 0.0000000000 |  4.106 | 0.000 | li | 0 |\n",
       "| Loja         | 0.0000000000 |  1.113 | 0.000 | ac | 0 |\n",
       "| Loja         | 0.0000000000 |  1.113 | 0.000 | li | 0 |\n",
       "| Medellin     | 0.0370747702 | -3.450 | 0.000 | ac | 1 |\n",
       "| Medellin     | 0.0000000000 | -3.450 | 0.000 | li | 0 |\n",
       "| Melbourne    | 0.0088913112 |  1.330 | 0.000 | ac | 0 |\n",
       "| Melbourne    | 0.0552659664 |  1.330 | 0.000 | li | 1 |\n",
       "| Memphis      | 0.0000000000 |  1.810 | 0.000 | ac | 0 |\n",
       "| Memphis      | 0.0623620715 |  1.810 | 0.000 | li | 1 |\n",
       "| Mexico_City  | 0.1976961222 | -0.152 | 0.703 | ac | 1 |\n",
       "| Mexico_City  | 0.0245882637 | -0.152 | 0.703 | li | 0 |\n",
       "| Munich       | 0.0003377569 |  0.513 | 0.034 | ac | 0 |\n",
       "| Munich       | 0.0337210918 |  0.513 | 0.034 | li | 1 |\n",
       "| Paris        | 0.1102928620 | -0.227 | 0.312 | ac | 1 |\n",
       "| Paris        | 0.0000000000 | -0.227 | 0.312 | li | 0 |\n",
       "| Quito        | 0.0000000000 |  0.516 | 0.139 | ac | 0 |\n",
       "| Quito        | 0.0685015582 |  0.516 | 0.139 | li | 1 |\n",
       "| Tehran       | 0.0000000000 |  2.345 | 0.000 | ac | 0 |\n",
       "| Tehran       | 0.0159358251 |  2.345 | 0.000 | li | 0 |\n",
       "| Thessaloniki | 0.0000000000 |  1.703 | 0.000 | ac | 0 |\n",
       "| Thessaloniki | 0.1441968271 |  1.703 | 0.000 | li | 1 |\n",
       "| Toronto      | 0.0000000000 |  1.463 | 0.000 | ac | 0 |\n",
       "| Toronto      | 0.0480564238 |  1.463 | 0.000 | li | 1 |\n",
       "\n"
      ],
      "text/plain": [
       "   city         fst          betaLog_Dist pvalLog_Dist locus is_outlier\n",
       "1  Albuquerque  0.0017094592 -0.839       0.004        ac    0         \n",
       "2  Albuquerque  0.0970369080 -0.839       0.004        li    1         \n",
       "3  Antwerp      0.0000000000  2.150       0.000        ac    0         \n",
       "4  Antwerp      0.0000000000  2.150       0.000        li    0         \n",
       "5  Armidale     0.0000000000  1.487       0.000        ac    0         \n",
       "6  Armidale     0.0285625616  1.487       0.000        li    1         \n",
       "7  Athens       0.0000000000  1.565       0.000        ac    0         \n",
       "8  Athens       0.0799856505  1.565       0.000        li    1         \n",
       "9  Bogota       0.0381202444  0.839       0.014        ac    1         \n",
       "10 Bogota       0.0000000000  0.839       0.014        li    0         \n",
       "11 Buenos_Aires 0.0000000000  0.015       0.950        ac    0         \n",
       "12 Buenos_Aires 0.0000000000  0.015       0.950        li    0         \n",
       "13 Calgary      0.0000000000  1.168       0.014        ac    0         \n",
       "14 Calgary      0.0385720188  1.168       0.014        li    0         \n",
       "15 Canberra     0.0000000000 -0.056       0.841        ac    0         \n",
       "16 Canberra     0.0038244366 -0.056       0.841        li    0         \n",
       "17 Cape_Town    0.0000000000  0.851       0.159        ac    0         \n",
       "18 Cape_Town    0.0452961503  0.851       0.159        li    0         \n",
       "19 Christchurch 0.0000000000  1.889       0.000        ac    0         \n",
       "20 Christchurch 0.0291438276  1.889       0.000        li    1         \n",
       "21 Hiroshima    0.0321339913 -0.043       0.842        ac    0         \n",
       "22 Hiroshima    0.0000000000 -0.043       0.842        li    0         \n",
       "23 Kunming      0.0000000000 -0.439       0.091        ac    0         \n",
       "24 Kunming      0.0000000000 -0.439       0.091        li    0         \n",
       "25 Kyoto        0.0000000000 -1.027       0.000        ac    0         \n",
       "26 Kyoto        0.0636945560 -1.027       0.000        li    1         \n",
       "27 Landshut     0.0086958321 -0.356       0.190        ac    0         \n",
       "28 Landshut     0.0209991315 -0.356       0.190        li    0         \n",
       "29 Linkoping    0.0000000000  4.106       0.000        ac    0         \n",
       "30 Linkoping    0.0000000000  4.106       0.000        li    0         \n",
       "31 Loja         0.0000000000  1.113       0.000        ac    0         \n",
       "32 Loja         0.0000000000  1.113       0.000        li    0         \n",
       "33 Medellin     0.0370747702 -3.450       0.000        ac    1         \n",
       "34 Medellin     0.0000000000 -3.450       0.000        li    0         \n",
       "35 Melbourne    0.0088913112  1.330       0.000        ac    0         \n",
       "36 Melbourne    0.0552659664  1.330       0.000        li    1         \n",
       "37 Memphis      0.0000000000  1.810       0.000        ac    0         \n",
       "38 Memphis      0.0623620715  1.810       0.000        li    1         \n",
       "39 Mexico_City  0.1976961222 -0.152       0.703        ac    1         \n",
       "40 Mexico_City  0.0245882637 -0.152       0.703        li    0         \n",
       "41 Munich       0.0003377569  0.513       0.034        ac    0         \n",
       "42 Munich       0.0337210918  0.513       0.034        li    1         \n",
       "43 Paris        0.1102928620 -0.227       0.312        ac    1         \n",
       "44 Paris        0.0000000000 -0.227       0.312        li    0         \n",
       "45 Quito        0.0000000000  0.516       0.139        ac    0         \n",
       "46 Quito        0.0685015582  0.516       0.139        li    1         \n",
       "47 Tehran       0.0000000000  2.345       0.000        ac    0         \n",
       "48 Tehran       0.0159358251  2.345       0.000        li    0         \n",
       "49 Thessaloniki 0.0000000000  1.703       0.000        ac    0         \n",
       "50 Thessaloniki 0.1441968271  1.703       0.000        li    1         \n",
       "51 Toronto      0.0000000000  1.463       0.000        ac    0         \n",
       "52 Toronto      0.0480564238  1.463       0.000        li    1         "
      ]
     },
     "metadata": {},
     "output_type": "display_data"
    }
   ],
   "source": [
    "all_stats_df %>% \n",
    "    dplyr::select(city, fst, betaLog_Dist, pvalLog_Dist, locus, is_outlier)"
   ]
  }
 ],
 "metadata": {
  "kernelspec": {
   "display_name": "R",
   "language": "R",
   "name": "ir"
  },
  "language_info": {
   "codemirror_mode": "r",
   "file_extension": ".r",
   "mimetype": "text/x-r-source",
   "name": "R",
   "pygments_lexer": "r",
   "version": "3.6.3"
  }
 },
 "nbformat": 4,
 "nbformat_minor": 4
}
