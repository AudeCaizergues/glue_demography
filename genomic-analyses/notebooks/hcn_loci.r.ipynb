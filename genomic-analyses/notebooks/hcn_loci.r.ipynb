{
 "cells": [
  {
   "cell_type": "code",
   "execution_count": 1,
   "metadata": {},
   "outputs": [
    {
     "name": "stderr",
     "output_type": "stream",
     "text": [
      "── \u001b[1mAttaching packages\u001b[22m ─────────────────────────────────────────────────────────────────────────────────────────── tidyverse 1.3.0 ──\n",
      "\u001b[32m✔\u001b[39m \u001b[34mggplot2\u001b[39m 3.3.3     \u001b[32m✔\u001b[39m \u001b[34mpurrr  \u001b[39m 0.3.4\n",
      "\u001b[32m✔\u001b[39m \u001b[34mtibble \u001b[39m 3.1.2     \u001b[32m✔\u001b[39m \u001b[34mdplyr  \u001b[39m 1.0.6\n",
      "\u001b[32m✔\u001b[39m \u001b[34mtidyr  \u001b[39m 1.1.3     \u001b[32m✔\u001b[39m \u001b[34mstringr\u001b[39m 1.4.0\n",
      "\u001b[32m✔\u001b[39m \u001b[34mreadr  \u001b[39m 1.4.0     \u001b[32m✔\u001b[39m \u001b[34mforcats\u001b[39m 0.5.1\n",
      "── \u001b[1mConflicts\u001b[22m ────────────────────────────────────────────────────────────────────────────────────────────── tidyverse_conflicts() ──\n",
      "\u001b[31m✖\u001b[39m \u001b[34mdplyr\u001b[39m::\u001b[32mfilter()\u001b[39m masks \u001b[34mstats\u001b[39m::filter()\n",
      "\u001b[31m✖\u001b[39m \u001b[34mdplyr\u001b[39m::\u001b[32mlag()\u001b[39m    masks \u001b[34mstats\u001b[39m::lag()\n",
      "\n",
      "Attaching package: ‘data.table’\n",
      "\n",
      "The following objects are masked from ‘package:dplyr’:\n",
      "\n",
      "    between, first, last\n",
      "\n",
      "The following object is masked from ‘package:purrr’:\n",
      "\n",
      "    transpose\n",
      "\n"
     ]
    }
   ],
   "source": [
    "library(tidyverse)\n",
    "library(data.table)\n",
    "library(ggridges)\n",
    "library(wesanderson)"
   ]
  },
  {
   "cell_type": "code",
   "execution_count": 2,
   "metadata": {},
   "outputs": [],
   "source": [
    "# custom theme for plots\n",
    "ng1 <- theme(aspect.ratio=0.7,panel.background = element_blank(),\n",
    "        panel.grid.major = element_blank(),\n",
    "        panel.grid.minor = element_blank(),\n",
    "        panel.border=element_blank(),\n",
    "        axis.line.x = element_line(color=\"black\",size=1),\n",
    "        axis.line.y = element_line(color=\"black\",size=1),\n",
    "        axis.ticks=element_line(size = 1, color=\"black\"),\n",
    "        axis.ticks.length=unit(0.25, 'cm'),\n",
    "        axis.text=element_text(color=\"black\",size=15),\n",
    "        axis.title=element_text(color=\"black\",size=1),\n",
    "        axis.title.y=element_text(vjust=2,size=17),\n",
    "        axis.title.x=element_text(vjust=0.1,size=17),\n",
    "        axis.text.x=element_text(size=15),\n",
    "        axis.text.y=element_text(size=15),\n",
    "        strip.text.x = element_text(size = 10, colour = \"black\",face = \"bold\"),\n",
    "        strip.background = element_rect(colour=\"black\"),\n",
    "        legend.position = \"top\", legend.direction=\"vertical\", \n",
    "        legend.text=element_text(size=17), legend.key = element_rect(fill = \"white\"),\n",
    "        legend.title = element_text(size=17),legend.key.size = unit(1.0, \"cm\"))"
   ]
  },
  {
   "cell_type": "code",
   "execution_count": 3,
   "metadata": {},
   "outputs": [],
   "source": [
    "# Function to load genotype likelihoods\n",
    "load_gls <- function(inpath){\n",
    "    \n",
    "    to_remove <- suppressMessages(\n",
    "        read_table('../../../results/program_resources/highErrorRate_toRemove.txt', \n",
    "                   col_names = FALSE)) %>% \n",
    "        pull()\n",
    "    df <- suppressMessages(read_delim(inpath, delim = '\\t')) %>% \n",
    "        dplyr::select(sample, ends_with('norm')) %>% \n",
    "        filter(!(sample %in% to_remove)) %>% \n",
    "        left_join(habitat_info, by = 'sample')\n",
    "    \n",
    "    return(df)\n",
    "    \n",
    "    \n",
    "}\n",
    "\n",
    "hudson_fst <- function(p_u, p_r, n_u, n_r){\n",
    "    \n",
    "    # Numerator\n",
    "    a <- (p_u - p_r)^2\n",
    "    b <- (p_u * (1 - p_u)) / (n_u - 1)\n",
    "    c <- (p_r * (1 - p_r)) / (n_r - 1)\n",
    "    num <- a - b - c\n",
    "    \n",
    "    # Denominator\n",
    "    d <- p_u * (1 - p_r)\n",
    "    e <- p_r * (1 - p_u)\n",
    "    denom <- d + e\n",
    "    \n",
    "    fst <- num / denom\n",
    "   \n",
    "    return(fst)\n",
    "}\n",
    "\n",
    "estimate_p <- function(df, by_site = TRUE){\n",
    "    \n",
    "    if(by_site == TRUE){\n",
    "        df_out <- df %>% \n",
    "            group_by(city, site) %>% \n",
    "            summarise(num_aa = sum(l_aa_norm),\n",
    "                      num_Aa = sum(l_Aa_norm),\n",
    "                      num_AA = sum(l_AA_norm),\n",
    "                      n = 2*n(),\n",
    "                      p = (num_aa + (0.5 * num_Aa)) / sum(num_aa, num_Aa, num_AA)) %>% \n",
    "            dplyr::select(-starts_with('num_')) %>% \n",
    "            pivot_wider(names_from = site, values_from = c('n', 'p')) %>% \n",
    "            mutate(fst = hudson_fst(p_u, p_r, n_u, n_r)) %>% \n",
    "            left_join(., betaLog, by = 'city')\n",
    "    }else{\n",
    "        df_out <- df %>% \n",
    "            group_by(city) %>% \n",
    "            summarise(num_aa = sum(l_aa_norm),\n",
    "                      num_Aa = sum(l_Aa_norm),\n",
    "                      num_AA = sum(l_AA_norm),\n",
    "                      p = (num_aa + (0.5 * num_Aa)) / sum(num_aa, num_Aa, num_AA)) %>% \n",
    "            dplyr::select(-starts_with('num_'))\n",
    "    }\n",
    "    \n",
    "    return(df_out)\n",
    "}\n",
    "\n",
    "load_plant_data <- function(city){\n",
    "    \n",
    "    inpath <- '../../phenotypic-analyses/data/clean/individualPlant_allCities/'\n",
    "    full_path <- paste0(inpath, city, '.csv')\n",
    "    df <- suppressMessages(read_csv(full_path)) %>%\n",
    "        dplyr::select(city, population, plant, hcn_result) %>% \n",
    "        mutate(population = as.character(population),\n",
    "               plant = as.character(plant))\n",
    "    if(city == 'Armidale'){\n",
    "        df <- separate(df, plant, sep = '-', into = c('population', 'plant'))\n",
    "    }\n",
    "    \n",
    "    return(df)\n",
    "}"
   ]
  },
  {
   "cell_type": "markdown",
   "metadata": {},
   "source": [
    "# HCN Loci Fst outlier test\n",
    "\n",
    "- Use per-city estimates of Ac and Li deletion frequencies to estimate Hudson's Fst\n",
    "- Compare Fst at HCN loci to distribution of Fst values at 4fold sites"
   ]
  },
  {
   "cell_type": "code",
   "execution_count": 4,
   "metadata": {},
   "outputs": [],
   "source": [
    "habitat_info <- suppressMessages(read_delim('../../genomic-analyses/resources/glue_pc_sampleSheet.txt', delim = '\\t'))\n",
    "betaLog <- suppressMessages(read_csv('../../phenotypic-analyses/analysis/supplementary-tables/allCities_logisticReg_coefs.csv'))\n",
    "cyan <- suppressMessages(read_csv('../../phenotypic-analyses/analysis/supplementary-tables/allCities_stats.csv')) %>% \n",
    "    dplyr::select(city, meanHCN)"
   ]
  },
  {
   "cell_type": "markdown",
   "metadata": {},
   "source": [
    "## Correlation in mean HCN frequencies\n",
    "\n",
    "- Correlate the city-wide HCN frequencies from the phenotyping with the estimated HCN frequencies from the genotype likelihoods at both loci. \n",
    "- Re-estimate city-wide HCN frequency from the phenotyping using only plants for which we have sequence data. \n",
    "- These should be correlated and is a good sanity check"
   ]
  },
  {
   "cell_type": "code",
   "execution_count": 5,
   "metadata": {},
   "outputs": [],
   "source": [
    "# Load in genotype likelihoods for all samples at both loci\n",
    "ac_gls <- load_gls('../../../results/hcn_genotyping/ac_GLs.txt')\n",
    "li_gls <- load_gls('../../../results/hcn_genotyping/li_GLs.txt')"
   ]
  },
  {
   "cell_type": "code",
   "execution_count": 6,
   "metadata": {},
   "outputs": [
    {
     "data": {
      "text/html": [
       "2055"
      ],
      "text/latex": [
       "2055"
      ],
      "text/markdown": [
       "2055"
      ],
      "text/plain": [
       "[1] 2055"
      ]
     },
     "metadata": {},
     "output_type": "display_data"
    }
   ],
   "source": [
    "nrow(li_gls)"
   ]
  },
  {
   "cell_type": "code",
   "execution_count": 7,
   "metadata": {},
   "outputs": [],
   "source": [
    "# Create dataframe with city-wide allele frequencies and HCN frequencies\n",
    "ac_freq_wholeCity <- estimate_p(ac_gls, by_site = FALSE) %>% mutate(locus = 'ac')\n",
    "li_freq_wholeCity <- estimate_p(li_gls, by_site = FALSE) %>% mutate(locus = 'li')\n",
    "all_freqs_wholeCity <- bind_rows(ac_freq_wholeCity, li_freq_wholeCity) %>% \n",
    "    pivot_wider(names_from = locus, values_from = p) %>% \n",
    "    mutate(hcn_est = 1 - (ac^2 + li^2 - (ac^2 * li^2)))"
   ]
  },
  {
   "cell_type": "code",
   "execution_count": 8,
   "metadata": {},
   "outputs": [],
   "source": [
    "# Data frame with indivudual plant phenotype data for sequenced cities\n",
    "cities <- all_freqs_wholeCity$city\n",
    "df_allPlants <- map_dfr(cities, load_plant_data) %>% \n",
    "    mutate(city = case_when(city == 'Toronto' ~ 's',\n",
    "                            city == 'Buenos_Aires' ~ 'Buen_Air',\n",
    "                            city == 'Thessaloniki' ~ 'Thessa',\n",
    "                            city == 'Christchurch' ~ 'Chrchurch',\n",
    "                            TRUE ~ city)) %>% \n",
    "    mutate(sample = paste(city, population, plant, sep = '_'))"
   ]
  },
  {
   "cell_type": "code",
   "execution_count": 9,
   "metadata": {},
   "outputs": [],
   "source": [
    "# Data frame containing only individual plants for which we have sequence data\n",
    "# NOTE: There are about 100 samples with sample ID issues that are excluded here. This shouldn't affect much\n",
    "hcnFreq_fromPhenotype <- df_allPlants %>% \n",
    "    group_by(city) %>% \n",
    "    summarise(total_plants = sum(!is.na(hcn_result)),\n",
    "              num_hcn = sum(hcn_result, na.rm = TRUE),\n",
    "              hcnFreq_phen = num_hcn / total_plants) %>% \n",
    "    mutate(city = case_when(city == 's' ~ 'Toronto',\n",
    "                            city == 'Buen_Air' ~ 'Buenos_Aires',\n",
    "                            city == 'Thessa' ~ 'Thessaloniki',\n",
    "                            city == 'Chrchurch' ~ 'Christchurch',\n",
    "                            TRUE ~ city))\n"
   ]
  },
  {
   "cell_type": "code",
   "execution_count": 10,
   "metadata": {},
   "outputs": [
    {
     "name": "stderr",
     "output_type": "stream",
     "text": [
      "`geom_smooth()` using formula 'y ~ x'\n"
     ]
    },
    {
     "name": "stdout",
     "output_type": "stream",
     "text": [
      "\n",
      "\tPearson's product-moment correlation\n",
      "\n",
      "data:  df_hcn_freqs$hcn_est and df_hcn_freqs$hcnFreq_phen\n",
      "t = 5.0853, df = 24, p-value = 3.349e-05\n",
      "alternative hypothesis: true correlation is not equal to 0\n",
      "95 percent confidence interval:\n",
      " 0.4615959 0.8659606\n",
      "sample estimates:\n",
      "      cor \n",
      "0.7201797 \n",
      "\n"
     ]
    },
    {
     "data": {
      "image/png": "[encoded data removed]",
      "text/plain": [
       "plot without title"
      ]
     },
     "metadata": {},
     "output_type": "display_data"
    }
   ],
   "source": [
    "df_hcn_freqs <- left_join(all_freqs_wholeCity, hcnFreq_fromPhenotype, by = 'city') \n",
    "hcnFreq_corPlot <- df_hcn_freqs %>% \n",
    "    ggplot(., aes(x = hcnFreq_phen, y = hcn_est)) +\n",
    "        geom_point(size = 3, color = 'black') +\n",
    "        geom_smooth(method = 'lm', se = FALSE, color = 'black') +\n",
    "        xlab('HCN frequency estimated from genomic data') +\n",
    "        ylab('HCN frequency estimated from phenotyping') +\n",
    "        ng1\n",
    "hcnFreq_corPlot\n",
    "\n",
    "print(cor.test(df_hcn_freqs$hcn_est, df_hcn_freqs$hcnFreq_phen))"
   ]
  },
  {
   "cell_type": "markdown",
   "metadata": {},
   "source": [
    "## Estimate Fst at Ac and Li\n",
    "\n",
    "- Load in Allele frequency estimates for both loci\n",
    "- Estimate Hudson's Fst\n",
    "- Return a single dataframe with Fst estimates for both loci and for all cities"
   ]
  },
  {
   "cell_type": "code",
   "execution_count": 11,
   "metadata": {},
   "outputs": [],
   "source": [
    "qc_data_path <- '../../../../dnaSeqQC/results/qc/multiqc/multiqc_data/multiqc_qualimap_bamqc_genome_results_qualimap_bamqc.txt'\n",
    "qc_data <- suppressMessages(read_delim(qc_data_path, delim = '\\t')) %>% \n",
    "    mutate(sample = str_extract(Sample, '(?<=\\\\|\\\\s)\\\\w+(?=$)'))\n",
    "highCovSamples <- qc_data %>% \n",
    "    filter(mean_coverage >= 0.5)"
   ]
  },
  {
   "cell_type": "code",
   "execution_count": 12,
   "metadata": {},
   "outputs": [
    {
     "name": "stderr",
     "output_type": "stream",
     "text": [
      "`summarise()` has grouped output by 'city'. You can override using the `.groups` argument.\n",
      "`summarise()` has grouped output by 'city'. You can override using the `.groups` argument.\n"
     ]
    }
   ],
   "source": [
    "# Estimate urban and rural allele frequencies from genotype likelihoods\n",
    "# Use only samples with coverage greater than 0.5X\n",
    "ac_gls_highCov_Only <- ac_gls %>% filter(sample %in% highCovSamples$sample)\n",
    "li_gls_highCov_Only <- li_gls %>% filter(sample %in% highCovSamples$sample)\n",
    "\n",
    "ac_freq <- estimate_p(ac_gls, by_site = TRUE) %>% mutate(locus = 'ac')\n",
    "li_freq <- estimate_p(li_gls, by_site = TRUE) %>% mutate(locus = 'li')"
   ]
  },
  {
   "cell_type": "code",
   "execution_count": 13,
   "metadata": {
    "scrolled": false
   },
   "outputs": [
    {
     "data": {
      "text/html": [
       "<table class=\"dataframe\">\n",
       "<caption>A grouped_df: 6 × 18</caption>\n",
       "<thead>\n",
       "\t<tr><th scope=col>city</th><th scope=col>n_r</th><th scope=col>n_u</th><th scope=col>p_r</th><th scope=col>p_u</th><th scope=col>fst</th><th scope=col>yint_Dist</th><th scope=col>betaLog_Dist</th><th scope=col>pvalLog_Dist</th><th scope=col>yint_GMIS</th><th scope=col>betaLog_GMIS</th><th scope=col>pvalLog_GMIS</th><th scope=col>yint_hii</th><th scope=col>betaLog_hii</th><th scope=col>pvalLog_hii</th><th scope=col>continent</th><th scope=col>betaLog_fromGlobalModel</th><th scope=col>locus</th></tr>\n",
       "\t<tr><th scope=col>&lt;chr&gt;</th><th scope=col>&lt;dbl&gt;</th><th scope=col>&lt;dbl&gt;</th><th scope=col>&lt;dbl&gt;</th><th scope=col>&lt;dbl&gt;</th><th scope=col>&lt;dbl&gt;</th><th scope=col>&lt;dbl&gt;</th><th scope=col>&lt;dbl&gt;</th><th scope=col>&lt;dbl&gt;</th><th scope=col>&lt;dbl&gt;</th><th scope=col>&lt;dbl&gt;</th><th scope=col>&lt;dbl&gt;</th><th scope=col>&lt;dbl&gt;</th><th scope=col>&lt;dbl&gt;</th><th scope=col>&lt;dbl&gt;</th><th scope=col>&lt;chr&gt;</th><th scope=col>&lt;dbl&gt;</th><th scope=col>&lt;chr&gt;</th></tr>\n",
       "</thead>\n",
       "<tbody>\n",
       "\t<tr><td>Albuquerque</td><td>94</td><td>92</td><td>0.2541680</td><td>0.3260111</td><td> 0.001709459</td><td>-0.825</td><td>-0.839</td><td>0.004</td><td>-1.236</td><td> 0.021</td><td>0.955</td><td>-1.604</td><td> 0.781</td><td>0.000</td><td>North America</td><td>-0.425</td><td>ac</td></tr>\n",
       "\t<tr><td>Albuquerque</td><td>94</td><td>92</td><td>0.7392460</td><td>0.5092263</td><td> 0.097036908</td><td>-0.825</td><td>-0.839</td><td>0.004</td><td>-1.236</td><td> 0.021</td><td>0.955</td><td>-1.604</td><td> 0.781</td><td>0.000</td><td>North America</td><td>-0.425</td><td>li</td></tr>\n",
       "\t<tr><td>Antwerp    </td><td>96</td><td>96</td><td>0.2898515</td><td>0.3042396</td><td>-0.010025509</td><td>-2.234</td><td> 2.150</td><td>0.000</td><td>-0.613</td><td>-2.196</td><td>0.000</td><td>-0.308</td><td>-1.674</td><td>0.000</td><td>Europe       </td><td> 2.142</td><td>ac</td></tr>\n",
       "\t<tr><td>Antwerp    </td><td>96</td><td>96</td><td>0.7989247</td><td>0.8375313</td><td>-0.005475581</td><td>-2.234</td><td> 2.150</td><td>0.000</td><td>-0.613</td><td>-2.196</td><td>0.000</td><td>-0.308</td><td>-1.674</td><td>0.000</td><td>Europe       </td><td> 2.142</td><td>li</td></tr>\n",
       "\t<tr><td>Armidale   </td><td>94</td><td>90</td><td>0.2267613</td><td>0.2712620</td><td>-0.005669832</td><td> 0.215</td><td> 1.487</td><td>0.000</td><td> 1.216</td><td>-2.224</td><td>0.000</td><td> 0.892</td><td>-0.162</td><td>0.425</td><td>Oceania      </td><td> 0.320</td><td>ac</td></tr>\n",
       "\t<tr><td>Armidale   </td><td>94</td><td>90</td><td>0.4340181</td><td>0.5752685</td><td> 0.028562562</td><td> 0.215</td><td> 1.487</td><td>0.000</td><td> 1.216</td><td>-2.224</td><td>0.000</td><td> 0.892</td><td>-0.162</td><td>0.425</td><td>Oceania      </td><td> 0.320</td><td>li</td></tr>\n",
       "</tbody>\n",
       "</table>\n"
      ],
      "text/latex": [
       "A grouped\\_df: 6 × 18\n",
       "\\begin{tabular}{llllllllllllllllll}\n",
       " city & n\\_r & n\\_u & p\\_r & p\\_u & fst & yint\\_Dist & betaLog\\_Dist & pvalLog\\_Dist & yint\\_GMIS & betaLog\\_GMIS & pvalLog\\_GMIS & yint\\_hii & betaLog\\_hii & pvalLog\\_hii & continent & betaLog\\_fromGlobalModel & locus\\\\\n",
       " <chr> & <dbl> & <dbl> & <dbl> & <dbl> & <dbl> & <dbl> & <dbl> & <dbl> & <dbl> & <dbl> & <dbl> & <dbl> & <dbl> & <dbl> & <chr> & <dbl> & <chr>\\\\\n",
       "\\hline\n",
       "\t Albuquerque & 94 & 92 & 0.2541680 & 0.3260111 &  0.001709459 & -0.825 & -0.839 & 0.004 & -1.236 &  0.021 & 0.955 & -1.604 &  0.781 & 0.000 & North America & -0.425 & ac\\\\\n",
       "\t Albuquerque & 94 & 92 & 0.7392460 & 0.5092263 &  0.097036908 & -0.825 & -0.839 & 0.004 & -1.236 &  0.021 & 0.955 & -1.604 &  0.781 & 0.000 & North America & -0.425 & li\\\\\n",
       "\t Antwerp     & 96 & 96 & 0.2898515 & 0.3042396 & -0.010025509 & -2.234 &  2.150 & 0.000 & -0.613 & -2.196 & 0.000 & -0.308 & -1.674 & 0.000 & Europe        &  2.142 & ac\\\\\n",
       "\t Antwerp     & 96 & 96 & 0.7989247 & 0.8375313 & -0.005475581 & -2.234 &  2.150 & 0.000 & -0.613 & -2.196 & 0.000 & -0.308 & -1.674 & 0.000 & Europe        &  2.142 & li\\\\\n",
       "\t Armidale    & 94 & 90 & 0.2267613 & 0.2712620 & -0.005669832 &  0.215 &  1.487 & 0.000 &  1.216 & -2.224 & 0.000 &  0.892 & -0.162 & 0.425 & Oceania       &  0.320 & ac\\\\\n",
       "\t Armidale    & 94 & 90 & 0.4340181 & 0.5752685 &  0.028562562 &  0.215 &  1.487 & 0.000 &  1.216 & -2.224 & 0.000 &  0.892 & -0.162 & 0.425 & Oceania       &  0.320 & li\\\\\n",
       "\\end{tabular}\n"
      ],
      "text/markdown": [
       "\n",
       "A grouped_df: 6 × 18\n",
       "\n",
       "| city &lt;chr&gt; | n_r &lt;dbl&gt; | n_u &lt;dbl&gt; | p_r &lt;dbl&gt; | p_u &lt;dbl&gt; | fst &lt;dbl&gt; | yint_Dist &lt;dbl&gt; | betaLog_Dist &lt;dbl&gt; | pvalLog_Dist &lt;dbl&gt; | yint_GMIS &lt;dbl&gt; | betaLog_GMIS &lt;dbl&gt; | pvalLog_GMIS &lt;dbl&gt; | yint_hii &lt;dbl&gt; | betaLog_hii &lt;dbl&gt; | pvalLog_hii &lt;dbl&gt; | continent &lt;chr&gt; | betaLog_fromGlobalModel &lt;dbl&gt; | locus &lt;chr&gt; |\n",
       "|---|---|---|---|---|---|---|---|---|---|---|---|---|---|---|---|---|---|\n",
       "| Albuquerque | 94 | 92 | 0.2541680 | 0.3260111 |  0.001709459 | -0.825 | -0.839 | 0.004 | -1.236 |  0.021 | 0.955 | -1.604 |  0.781 | 0.000 | North America | -0.425 | ac |\n",
       "| Albuquerque | 94 | 92 | 0.7392460 | 0.5092263 |  0.097036908 | -0.825 | -0.839 | 0.004 | -1.236 |  0.021 | 0.955 | -1.604 |  0.781 | 0.000 | North America | -0.425 | li |\n",
       "| Antwerp     | 96 | 96 | 0.2898515 | 0.3042396 | -0.010025509 | -2.234 |  2.150 | 0.000 | -0.613 | -2.196 | 0.000 | -0.308 | -1.674 | 0.000 | Europe        |  2.142 | ac |\n",
       "| Antwerp     | 96 | 96 | 0.7989247 | 0.8375313 | -0.005475581 | -2.234 |  2.150 | 0.000 | -0.613 | -2.196 | 0.000 | -0.308 | -1.674 | 0.000 | Europe        |  2.142 | li |\n",
       "| Armidale    | 94 | 90 | 0.2267613 | 0.2712620 | -0.005669832 |  0.215 |  1.487 | 0.000 |  1.216 | -2.224 | 0.000 |  0.892 | -0.162 | 0.425 | Oceania       |  0.320 | ac |\n",
       "| Armidale    | 94 | 90 | 0.4340181 | 0.5752685 |  0.028562562 |  0.215 |  1.487 | 0.000 |  1.216 | -2.224 | 0.000 |  0.892 | -0.162 | 0.425 | Oceania       |  0.320 | li |\n",
       "\n"
      ],
      "text/plain": [
       "  city        n_r n_u p_r       p_u       fst          yint_Dist betaLog_Dist\n",
       "1 Albuquerque 94  92  0.2541680 0.3260111  0.001709459 -0.825    -0.839      \n",
       "2 Albuquerque 94  92  0.7392460 0.5092263  0.097036908 -0.825    -0.839      \n",
       "3 Antwerp     96  96  0.2898515 0.3042396 -0.010025509 -2.234     2.150      \n",
       "4 Antwerp     96  96  0.7989247 0.8375313 -0.005475581 -2.234     2.150      \n",
       "5 Armidale    94  90  0.2267613 0.2712620 -0.005669832  0.215     1.487      \n",
       "6 Armidale    94  90  0.4340181 0.5752685  0.028562562  0.215     1.487      \n",
       "  pvalLog_Dist yint_GMIS betaLog_GMIS pvalLog_GMIS yint_hii betaLog_hii\n",
       "1 0.004        -1.236     0.021       0.955        -1.604    0.781     \n",
       "2 0.004        -1.236     0.021       0.955        -1.604    0.781     \n",
       "3 0.000        -0.613    -2.196       0.000        -0.308   -1.674     \n",
       "4 0.000        -0.613    -2.196       0.000        -0.308   -1.674     \n",
       "5 0.000         1.216    -2.224       0.000         0.892   -0.162     \n",
       "6 0.000         1.216    -2.224       0.000         0.892   -0.162     \n",
       "  pvalLog_hii continent     betaLog_fromGlobalModel locus\n",
       "1 0.000       North America -0.425                  ac   \n",
       "2 0.000       North America -0.425                  li   \n",
       "3 0.000       Europe         2.142                  ac   \n",
       "4 0.000       Europe         2.142                  li   \n",
       "5 0.425       Oceania        0.320                  ac   \n",
       "6 0.425       Oceania        0.320                  li   "
      ]
     },
     "metadata": {},
     "output_type": "display_data"
    }
   ],
   "source": [
    "# Combine Ac and Li allele frequencies\n",
    "all_freqs <- bind_rows(ac_freq, li_freq) %>% \n",
    "    arrange(city)\n",
    "head(all_freqs)"
   ]
  },
  {
   "cell_type": "code",
   "execution_count": 14,
   "metadata": {},
   "outputs": [
    {
     "name": "stderr",
     "output_type": "stream",
     "text": [
      "`geom_smooth()` using formula 'y ~ x'\n"
     ]
    },
    {
     "name": "stdout",
     "output_type": "stream",
     "text": [
      "\n",
      "\tPearson's product-moment correlation\n",
      "\n",
      "data:  freqChange_UR$ac_change and freqChange_UR$li_change\n",
      "t = 1.6028, df = 24, p-value = 0.1221\n",
      "alternative hypothesis: true correlation is not equal to 0\n",
      "95 percent confidence interval:\n",
      " -0.08686517  0.62323468\n",
      "sample estimates:\n",
      "      cor \n",
      "0.3109494 \n",
      "\n"
     ]
    },
    {
     "data": {
      "image/png": "[encoded data removed]",
      "text/plain": [
       "plot without title"
      ]
     },
     "metadata": {},
     "output_type": "display_data"
    }
   ],
   "source": [
    "freqChange_UR <- all_freqs %>% \n",
    "    dplyr::select(city, starts_with('p_'), locus) %>% \n",
    "    pivot_wider(names_from = locus, values_from = starts_with('p_')) %>% \n",
    "    mutate(ac_change = p_u_ac - p_r_ac,\n",
    "           li_change = p_u_li - p_r_li)\n",
    "\n",
    "freqChange_UR_plot <- freqChange_UR %>% \n",
    "    ggplot(., aes(x = ac_change, y = li_change)) +\n",
    "        geom_point(size = 3, color = 'black') +\n",
    "        geom_smooth(method = 'lm', se = FALSE, color = 'black') +\n",
    "        xlab('Urban-rural change in Ac deletion frequency') +\n",
    "        ylab('Urban-rural change in Li deletion frequency') +\n",
    "        ng1\n",
    "freqChange_UR_plot\n",
    "print(cor.test(freqChange_UR$ac_change, freqChange_UR$li_change, method = 'pearson'))"
   ]
  },
  {
   "cell_type": "markdown",
   "metadata": {},
   "source": [
    "## Fst outlier analysis\n",
    "\n",
    "- Compare Fst at Ac and Li loci to distribution of Fst values along same chromosomes"
   ]
  },
  {
   "cell_type": "code",
   "execution_count": 15,
   "metadata": {},
   "outputs": [],
   "source": [
    "# Load per-site Fst values along chromosomes with Ac and Li\n",
    "load_obs_fst <- function(path){\n",
    "    \n",
    "    # Get Fst type and city from filenames\n",
    "    city <- dirname(dirname(path))\n",
    "    locus <- str_split(dirname(path), pattern = '/', simplify = TRUE)[2]\n",
    "    \n",
    "    full_path <- paste0(inpath, path)\n",
    "    colnames <- c('chrom', 'pos', 'num', 'denom')\n",
    "    df <- suppressMessages(fread(full_path, sep = '\\t', header = FALSE, col.names = colnames)) %>%\n",
    "    \n",
    "    # Cap numerators at 0 if negative\n",
    "    # https://github.com/ANGSD/angsd/issues/309 # Does not affect overall pattern \n",
    "    mutate(num = ifelse(num < 0, 0, num),\n",
    "           fst = num / denom) %>%\n",
    "    mutate(city = city,\n",
    "           locus = locus)\n",
    "    \n",
    "    return(df)\n",
    "}"
   ]
  },
  {
   "cell_type": "code",
   "execution_count": 16,
   "metadata": {},
   "outputs": [
    {
     "data": {
      "text/html": [
       "<table class=\"dataframe\">\n",
       "<caption>A data.table: 6 × 7</caption>\n",
       "<thead>\n",
       "\t<tr><th scope=col>chrom</th><th scope=col>pos</th><th scope=col>num</th><th scope=col>denom</th><th scope=col>fst</th><th scope=col>city</th><th scope=col>locus</th></tr>\n",
       "\t<tr><th scope=col>&lt;chr&gt;</th><th scope=col>&lt;int&gt;</th><th scope=col>&lt;dbl&gt;</th><th scope=col>&lt;dbl&gt;</th><th scope=col>&lt;dbl&gt;</th><th scope=col>&lt;chr&gt;</th><th scope=col>&lt;chr&gt;</th></tr>\n",
       "</thead>\n",
       "<tbody>\n",
       "\t<tr><td>CM019103.1</td><td>16295</td><td>0.031660</td><td>0.480412</td><td>0.0659017676</td><td>Albuquerque</td><td>ac</td></tr>\n",
       "\t<tr><td>CM019103.1</td><td>16460</td><td>0.000107</td><td>0.236729</td><td>0.0004519936</td><td>Albuquerque</td><td>ac</td></tr>\n",
       "\t<tr><td>CM019103.1</td><td>16535</td><td>0.001080</td><td>0.332435</td><td>0.0032487554</td><td>Albuquerque</td><td>ac</td></tr>\n",
       "\t<tr><td>CM019103.1</td><td>16658</td><td>0.001752</td><td>0.466036</td><td>0.0037593662</td><td>Albuquerque</td><td>ac</td></tr>\n",
       "\t<tr><td>CM019103.1</td><td>16661</td><td>0.000000</td><td>0.252031</td><td>0.0000000000</td><td>Albuquerque</td><td>ac</td></tr>\n",
       "\t<tr><td>CM019103.1</td><td>16799</td><td>0.000000</td><td>0.152620</td><td>0.0000000000</td><td>Albuquerque</td><td>ac</td></tr>\n",
       "</tbody>\n",
       "</table>\n"
      ],
      "text/latex": [
       "A data.table: 6 × 7\n",
       "\\begin{tabular}{lllllll}\n",
       " chrom & pos & num & denom & fst & city & locus\\\\\n",
       " <chr> & <int> & <dbl> & <dbl> & <dbl> & <chr> & <chr>\\\\\n",
       "\\hline\n",
       "\t CM019103.1 & 16295 & 0.031660 & 0.480412 & 0.0659017676 & Albuquerque & ac\\\\\n",
       "\t CM019103.1 & 16460 & 0.000107 & 0.236729 & 0.0004519936 & Albuquerque & ac\\\\\n",
       "\t CM019103.1 & 16535 & 0.001080 & 0.332435 & 0.0032487554 & Albuquerque & ac\\\\\n",
       "\t CM019103.1 & 16658 & 0.001752 & 0.466036 & 0.0037593662 & Albuquerque & ac\\\\\n",
       "\t CM019103.1 & 16661 & 0.000000 & 0.252031 & 0.0000000000 & Albuquerque & ac\\\\\n",
       "\t CM019103.1 & 16799 & 0.000000 & 0.152620 & 0.0000000000 & Albuquerque & ac\\\\\n",
       "\\end{tabular}\n"
      ],
      "text/markdown": [
       "\n",
       "A data.table: 6 × 7\n",
       "\n",
       "| chrom &lt;chr&gt; | pos &lt;int&gt; | num &lt;dbl&gt; | denom &lt;dbl&gt; | fst &lt;dbl&gt; | city &lt;chr&gt; | locus &lt;chr&gt; |\n",
       "|---|---|---|---|---|---|---|\n",
       "| CM019103.1 | 16295 | 0.031660 | 0.480412 | 0.0659017676 | Albuquerque | ac |\n",
       "| CM019103.1 | 16460 | 0.000107 | 0.236729 | 0.0004519936 | Albuquerque | ac |\n",
       "| CM019103.1 | 16535 | 0.001080 | 0.332435 | 0.0032487554 | Albuquerque | ac |\n",
       "| CM019103.1 | 16658 | 0.001752 | 0.466036 | 0.0037593662 | Albuquerque | ac |\n",
       "| CM019103.1 | 16661 | 0.000000 | 0.252031 | 0.0000000000 | Albuquerque | ac |\n",
       "| CM019103.1 | 16799 | 0.000000 | 0.152620 | 0.0000000000 | Albuquerque | ac |\n",
       "\n"
      ],
      "text/plain": [
       "  chrom      pos   num      denom    fst          city        locus\n",
       "1 CM019103.1 16295 0.031660 0.480412 0.0659017676 Albuquerque ac   \n",
       "2 CM019103.1 16460 0.000107 0.236729 0.0004519936 Albuquerque ac   \n",
       "3 CM019103.1 16535 0.001080 0.332435 0.0032487554 Albuquerque ac   \n",
       "4 CM019103.1 16658 0.001752 0.466036 0.0037593662 Albuquerque ac   \n",
       "5 CM019103.1 16661 0.000000 0.252031 0.0000000000 Albuquerque ac   \n",
       "6 CM019103.1 16799 0.000000 0.152620 0.0000000000 Albuquerque ac   "
      ]
     },
     "metadata": {},
     "output_type": "display_data"
    }
   ],
   "source": [
    "inpath <- '../../../results/angsd/summary_stats/fst/fst1/'\n",
    "obs_fst_df <- list.files(inpath, pattern = '.*_(ac|li)_4fold_r_u_fst1_readable.fst', recursive = TRUE)  %>% \n",
    "    map_dfr(., load_obs_fst)\n",
    "head(obs_fst_df)"
   ]
  },
  {
   "cell_type": "code",
   "execution_count": 17,
   "metadata": {},
   "outputs": [],
   "source": [
    "get_quantile <- function(df, probs = c(0.975)){\n",
    "    \n",
    "    city <- df %>% pull(city) %>% unique()\n",
    "    locus <- df %>% pull(locus) %>% unique()\n",
    "    fst <- df %>% filter(!(is.na(fst))) %>% pull(fst)\n",
    "    \n",
    "    quant <- quantile(fst, probs = probs)\n",
    "    df_out <- data.frame(city = city, locus = locus, quant = quant)\n",
    "    return(df_out)\n",
    "}"
   ]
  },
  {
   "cell_type": "code",
   "execution_count": 18,
   "metadata": {},
   "outputs": [],
   "source": [
    "neutral_fst_quantile_df <- obs_fst_df %>% \n",
    "    group_split(city, locus) %>% \n",
    "    map_dfr(., get_quantile)"
   ]
  },
  {
   "cell_type": "code",
   "execution_count": 19,
   "metadata": {},
   "outputs": [],
   "source": [
    "all_stats_df <- left_join(all_freqs, neutral_fst_quantile_df, by = c('city', 'locus')) %>% \n",
    "    mutate(fst = ifelse(fst < 0, 0, fst),\n",
    "           is_outlier = ifelse(fst > quant, 1, 0)) %>% \n",
    "    dplyr::select(-starts_with('n_'), -starts_with('p_'), -continent) %>% \n",
    "    mutate(sig = ifelse(pvalLog_Dist < 0.05, 'Yes', 'No'))"
   ]
  },
  {
   "cell_type": "code",
   "execution_count": 20,
   "metadata": {
    "scrolled": true
   },
   "outputs": [
    {
     "data": {
      "text/html": [
       "<table class=\"dataframe\">\n",
       "<caption>A grouped_df: 52 × 7</caption>\n",
       "<thead>\n",
       "\t<tr><th scope=col>city</th><th scope=col>fst</th><th scope=col>betaLog_Dist</th><th scope=col>pvalLog_Dist</th><th scope=col>locus</th><th scope=col>is_outlier</th><th scope=col>sig</th></tr>\n",
       "\t<tr><th scope=col>&lt;chr&gt;</th><th scope=col>&lt;dbl&gt;</th><th scope=col>&lt;dbl&gt;</th><th scope=col>&lt;dbl&gt;</th><th scope=col>&lt;chr&gt;</th><th scope=col>&lt;dbl&gt;</th><th scope=col>&lt;chr&gt;</th></tr>\n",
       "</thead>\n",
       "<tbody>\n",
       "\t<tr><td>Albuquerque </td><td>0.0017094592</td><td>-0.839</td><td>0.004</td><td>ac</td><td>0</td><td>Yes</td></tr>\n",
       "\t<tr><td>Albuquerque </td><td>0.0970369080</td><td>-0.839</td><td>0.004</td><td>li</td><td>1</td><td>Yes</td></tr>\n",
       "\t<tr><td>Antwerp     </td><td>0.0000000000</td><td> 2.150</td><td>0.000</td><td>ac</td><td>0</td><td>Yes</td></tr>\n",
       "\t<tr><td>Antwerp     </td><td>0.0000000000</td><td> 2.150</td><td>0.000</td><td>li</td><td>0</td><td>Yes</td></tr>\n",
       "\t<tr><td>Armidale    </td><td>0.0000000000</td><td> 1.487</td><td>0.000</td><td>ac</td><td>0</td><td>Yes</td></tr>\n",
       "\t<tr><td>Armidale    </td><td>0.0285625616</td><td> 1.487</td><td>0.000</td><td>li</td><td>1</td><td>Yes</td></tr>\n",
       "\t<tr><td>Athens      </td><td>0.0000000000</td><td> 1.565</td><td>0.000</td><td>ac</td><td>0</td><td>Yes</td></tr>\n",
       "\t<tr><td>Athens      </td><td>0.0799856505</td><td> 1.565</td><td>0.000</td><td>li</td><td>1</td><td>Yes</td></tr>\n",
       "\t<tr><td>Bogota      </td><td>0.0381202444</td><td> 0.839</td><td>0.014</td><td>ac</td><td>1</td><td>Yes</td></tr>\n",
       "\t<tr><td>Bogota      </td><td>0.0000000000</td><td> 0.839</td><td>0.014</td><td>li</td><td>0</td><td>Yes</td></tr>\n",
       "\t<tr><td>Buenos_Aires</td><td>0.0000000000</td><td> 0.015</td><td>0.950</td><td>ac</td><td>0</td><td>No </td></tr>\n",
       "\t<tr><td>Buenos_Aires</td><td>0.0000000000</td><td> 0.015</td><td>0.950</td><td>li</td><td>0</td><td>No </td></tr>\n",
       "\t<tr><td>Calgary     </td><td>0.0000000000</td><td> 1.168</td><td>0.014</td><td>ac</td><td>0</td><td>Yes</td></tr>\n",
       "\t<tr><td>Calgary     </td><td>0.0385720188</td><td> 1.168</td><td>0.014</td><td>li</td><td>0</td><td>Yes</td></tr>\n",
       "\t<tr><td>Canberra    </td><td>0.0000000000</td><td>-0.056</td><td>0.841</td><td>ac</td><td>0</td><td>No </td></tr>\n",
       "\t<tr><td>Canberra    </td><td>0.0038244366</td><td>-0.056</td><td>0.841</td><td>li</td><td>0</td><td>No </td></tr>\n",
       "\t<tr><td>Cape_Town   </td><td>0.0000000000</td><td> 0.851</td><td>0.159</td><td>ac</td><td>0</td><td>No </td></tr>\n",
       "\t<tr><td>Cape_Town   </td><td>0.0452961503</td><td> 0.851</td><td>0.159</td><td>li</td><td>0</td><td>No </td></tr>\n",
       "\t<tr><td>Christchurch</td><td>0.0000000000</td><td> 1.889</td><td>0.000</td><td>ac</td><td>0</td><td>Yes</td></tr>\n",
       "\t<tr><td>Christchurch</td><td>0.0291438276</td><td> 1.889</td><td>0.000</td><td>li</td><td>1</td><td>Yes</td></tr>\n",
       "\t<tr><td>Hiroshima   </td><td>0.0321339913</td><td>-0.043</td><td>0.842</td><td>ac</td><td>0</td><td>No </td></tr>\n",
       "\t<tr><td>Hiroshima   </td><td>0.0000000000</td><td>-0.043</td><td>0.842</td><td>li</td><td>0</td><td>No </td></tr>\n",
       "\t<tr><td>Kunming     </td><td>0.0000000000</td><td>-0.439</td><td>0.091</td><td>ac</td><td>0</td><td>No </td></tr>\n",
       "\t<tr><td>Kunming     </td><td>0.0000000000</td><td>-0.439</td><td>0.091</td><td>li</td><td>0</td><td>No </td></tr>\n",
       "\t<tr><td>Kyoto       </td><td>0.0000000000</td><td>-1.027</td><td>0.000</td><td>ac</td><td>0</td><td>Yes</td></tr>\n",
       "\t<tr><td>Kyoto       </td><td>0.0636945560</td><td>-1.027</td><td>0.000</td><td>li</td><td>1</td><td>Yes</td></tr>\n",
       "\t<tr><td>Landshut    </td><td>0.0086958321</td><td>-0.356</td><td>0.190</td><td>ac</td><td>0</td><td>No </td></tr>\n",
       "\t<tr><td>Landshut    </td><td>0.0209991315</td><td>-0.356</td><td>0.190</td><td>li</td><td>0</td><td>No </td></tr>\n",
       "\t<tr><td>Linkoping   </td><td>0.0000000000</td><td> 4.106</td><td>0.000</td><td>ac</td><td>0</td><td>Yes</td></tr>\n",
       "\t<tr><td>Linkoping   </td><td>0.0000000000</td><td> 4.106</td><td>0.000</td><td>li</td><td>0</td><td>Yes</td></tr>\n",
       "\t<tr><td>Loja        </td><td>0.0000000000</td><td> 1.113</td><td>0.000</td><td>ac</td><td>0</td><td>Yes</td></tr>\n",
       "\t<tr><td>Loja        </td><td>0.0000000000</td><td> 1.113</td><td>0.000</td><td>li</td><td>0</td><td>Yes</td></tr>\n",
       "\t<tr><td>Medellin    </td><td>0.0370747702</td><td>-3.450</td><td>0.000</td><td>ac</td><td>1</td><td>Yes</td></tr>\n",
       "\t<tr><td>Medellin    </td><td>0.0000000000</td><td>-3.450</td><td>0.000</td><td>li</td><td>0</td><td>Yes</td></tr>\n",
       "\t<tr><td>Melbourne   </td><td>0.0088913112</td><td> 1.330</td><td>0.000</td><td>ac</td><td>0</td><td>Yes</td></tr>\n",
       "\t<tr><td>Melbourne   </td><td>0.0552659664</td><td> 1.330</td><td>0.000</td><td>li</td><td>1</td><td>Yes</td></tr>\n",
       "\t<tr><td>Memphis     </td><td>0.0000000000</td><td> 1.810</td><td>0.000</td><td>ac</td><td>0</td><td>Yes</td></tr>\n",
       "\t<tr><td>Memphis     </td><td>0.0623620715</td><td> 1.810</td><td>0.000</td><td>li</td><td>1</td><td>Yes</td></tr>\n",
       "\t<tr><td>Mexico_City </td><td>0.1976961222</td><td>-0.152</td><td>0.703</td><td>ac</td><td>1</td><td>No </td></tr>\n",
       "\t<tr><td>Mexico_City </td><td>0.0245882637</td><td>-0.152</td><td>0.703</td><td>li</td><td>0</td><td>No </td></tr>\n",
       "\t<tr><td>Munich      </td><td>0.0003377569</td><td> 0.513</td><td>0.034</td><td>ac</td><td>0</td><td>Yes</td></tr>\n",
       "\t<tr><td>Munich      </td><td>0.0337210918</td><td> 0.513</td><td>0.034</td><td>li</td><td>1</td><td>Yes</td></tr>\n",
       "\t<tr><td>Paris       </td><td>0.1102928620</td><td>-0.227</td><td>0.312</td><td>ac</td><td>1</td><td>No </td></tr>\n",
       "\t<tr><td>Paris       </td><td>0.0000000000</td><td>-0.227</td><td>0.312</td><td>li</td><td>0</td><td>No </td></tr>\n",
       "\t<tr><td>Quito       </td><td>0.0000000000</td><td> 0.516</td><td>0.139</td><td>ac</td><td>0</td><td>No </td></tr>\n",
       "\t<tr><td>Quito       </td><td>0.0685015582</td><td> 0.516</td><td>0.139</td><td>li</td><td>1</td><td>No </td></tr>\n",
       "\t<tr><td>Tehran      </td><td>0.0000000000</td><td> 2.345</td><td>0.000</td><td>ac</td><td>0</td><td>Yes</td></tr>\n",
       "\t<tr><td>Tehran      </td><td>0.0159358251</td><td> 2.345</td><td>0.000</td><td>li</td><td>0</td><td>Yes</td></tr>\n",
       "\t<tr><td>Thessaloniki</td><td>0.0000000000</td><td> 1.703</td><td>0.000</td><td>ac</td><td>0</td><td>Yes</td></tr>\n",
       "\t<tr><td>Thessaloniki</td><td>0.1441968271</td><td> 1.703</td><td>0.000</td><td>li</td><td>1</td><td>Yes</td></tr>\n",
       "\t<tr><td>Toronto     </td><td>0.0000000000</td><td> 1.463</td><td>0.000</td><td>ac</td><td>0</td><td>Yes</td></tr>\n",
       "\t<tr><td>Toronto     </td><td>0.0480564238</td><td> 1.463</td><td>0.000</td><td>li</td><td>1</td><td>Yes</td></tr>\n",
       "</tbody>\n",
       "</table>\n"
      ],
      "text/latex": [
       "A grouped\\_df: 52 × 7\n",
       "\\begin{tabular}{lllllll}\n",
       " city & fst & betaLog\\_Dist & pvalLog\\_Dist & locus & is\\_outlier & sig\\\\\n",
       " <chr> & <dbl> & <dbl> & <dbl> & <chr> & <dbl> & <chr>\\\\\n",
       "\\hline\n",
       "\t Albuquerque  & 0.0017094592 & -0.839 & 0.004 & ac & 0 & Yes\\\\\n",
       "\t Albuquerque  & 0.0970369080 & -0.839 & 0.004 & li & 1 & Yes\\\\\n",
       "\t Antwerp      & 0.0000000000 &  2.150 & 0.000 & ac & 0 & Yes\\\\\n",
       "\t Antwerp      & 0.0000000000 &  2.150 & 0.000 & li & 0 & Yes\\\\\n",
       "\t Armidale     & 0.0000000000 &  1.487 & 0.000 & ac & 0 & Yes\\\\\n",
       "\t Armidale     & 0.0285625616 &  1.487 & 0.000 & li & 1 & Yes\\\\\n",
       "\t Athens       & 0.0000000000 &  1.565 & 0.000 & ac & 0 & Yes\\\\\n",
       "\t Athens       & 0.0799856505 &  1.565 & 0.000 & li & 1 & Yes\\\\\n",
       "\t Bogota       & 0.0381202444 &  0.839 & 0.014 & ac & 1 & Yes\\\\\n",
       "\t Bogota       & 0.0000000000 &  0.839 & 0.014 & li & 0 & Yes\\\\\n",
       "\t Buenos\\_Aires & 0.0000000000 &  0.015 & 0.950 & ac & 0 & No \\\\\n",
       "\t Buenos\\_Aires & 0.0000000000 &  0.015 & 0.950 & li & 0 & No \\\\\n",
       "\t Calgary      & 0.0000000000 &  1.168 & 0.014 & ac & 0 & Yes\\\\\n",
       "\t Calgary      & 0.0385720188 &  1.168 & 0.014 & li & 0 & Yes\\\\\n",
       "\t Canberra     & 0.0000000000 & -0.056 & 0.841 & ac & 0 & No \\\\\n",
       "\t Canberra     & 0.0038244366 & -0.056 & 0.841 & li & 0 & No \\\\\n",
       "\t Cape\\_Town    & 0.0000000000 &  0.851 & 0.159 & ac & 0 & No \\\\\n",
       "\t Cape\\_Town    & 0.0452961503 &  0.851 & 0.159 & li & 0 & No \\\\\n",
       "\t Christchurch & 0.0000000000 &  1.889 & 0.000 & ac & 0 & Yes\\\\\n",
       "\t Christchurch & 0.0291438276 &  1.889 & 0.000 & li & 1 & Yes\\\\\n",
       "\t Hiroshima    & 0.0321339913 & -0.043 & 0.842 & ac & 0 & No \\\\\n",
       "\t Hiroshima    & 0.0000000000 & -0.043 & 0.842 & li & 0 & No \\\\\n",
       "\t Kunming      & 0.0000000000 & -0.439 & 0.091 & ac & 0 & No \\\\\n",
       "\t Kunming      & 0.0000000000 & -0.439 & 0.091 & li & 0 & No \\\\\n",
       "\t Kyoto        & 0.0000000000 & -1.027 & 0.000 & ac & 0 & Yes\\\\\n",
       "\t Kyoto        & 0.0636945560 & -1.027 & 0.000 & li & 1 & Yes\\\\\n",
       "\t Landshut     & 0.0086958321 & -0.356 & 0.190 & ac & 0 & No \\\\\n",
       "\t Landshut     & 0.0209991315 & -0.356 & 0.190 & li & 0 & No \\\\\n",
       "\t Linkoping    & 0.0000000000 &  4.106 & 0.000 & ac & 0 & Yes\\\\\n",
       "\t Linkoping    & 0.0000000000 &  4.106 & 0.000 & li & 0 & Yes\\\\\n",
       "\t Loja         & 0.0000000000 &  1.113 & 0.000 & ac & 0 & Yes\\\\\n",
       "\t Loja         & 0.0000000000 &  1.113 & 0.000 & li & 0 & Yes\\\\\n",
       "\t Medellin     & 0.0370747702 & -3.450 & 0.000 & ac & 1 & Yes\\\\\n",
       "\t Medellin     & 0.0000000000 & -3.450 & 0.000 & li & 0 & Yes\\\\\n",
       "\t Melbourne    & 0.0088913112 &  1.330 & 0.000 & ac & 0 & Yes\\\\\n",
       "\t Melbourne    & 0.0552659664 &  1.330 & 0.000 & li & 1 & Yes\\\\\n",
       "\t Memphis      & 0.0000000000 &  1.810 & 0.000 & ac & 0 & Yes\\\\\n",
       "\t Memphis      & 0.0623620715 &  1.810 & 0.000 & li & 1 & Yes\\\\\n",
       "\t Mexico\\_City  & 0.1976961222 & -0.152 & 0.703 & ac & 1 & No \\\\\n",
       "\t Mexico\\_City  & 0.0245882637 & -0.152 & 0.703 & li & 0 & No \\\\\n",
       "\t Munich       & 0.0003377569 &  0.513 & 0.034 & ac & 0 & Yes\\\\\n",
       "\t Munich       & 0.0337210918 &  0.513 & 0.034 & li & 1 & Yes\\\\\n",
       "\t Paris        & 0.1102928620 & -0.227 & 0.312 & ac & 1 & No \\\\\n",
       "\t Paris        & 0.0000000000 & -0.227 & 0.312 & li & 0 & No \\\\\n",
       "\t Quito        & 0.0000000000 &  0.516 & 0.139 & ac & 0 & No \\\\\n",
       "\t Quito        & 0.0685015582 &  0.516 & 0.139 & li & 1 & No \\\\\n",
       "\t Tehran       & 0.0000000000 &  2.345 & 0.000 & ac & 0 & Yes\\\\\n",
       "\t Tehran       & 0.0159358251 &  2.345 & 0.000 & li & 0 & Yes\\\\\n",
       "\t Thessaloniki & 0.0000000000 &  1.703 & 0.000 & ac & 0 & Yes\\\\\n",
       "\t Thessaloniki & 0.1441968271 &  1.703 & 0.000 & li & 1 & Yes\\\\\n",
       "\t Toronto      & 0.0000000000 &  1.463 & 0.000 & ac & 0 & Yes\\\\\n",
       "\t Toronto      & 0.0480564238 &  1.463 & 0.000 & li & 1 & Yes\\\\\n",
       "\\end{tabular}\n"
      ],
      "text/markdown": [
       "\n",
       "A grouped_df: 52 × 7\n",
       "\n",
       "| city &lt;chr&gt; | fst &lt;dbl&gt; | betaLog_Dist &lt;dbl&gt; | pvalLog_Dist &lt;dbl&gt; | locus &lt;chr&gt; | is_outlier &lt;dbl&gt; | sig &lt;chr&gt; |\n",
       "|---|---|---|---|---|---|---|\n",
       "| Albuquerque  | 0.0017094592 | -0.839 | 0.004 | ac | 0 | Yes |\n",
       "| Albuquerque  | 0.0970369080 | -0.839 | 0.004 | li | 1 | Yes |\n",
       "| Antwerp      | 0.0000000000 |  2.150 | 0.000 | ac | 0 | Yes |\n",
       "| Antwerp      | 0.0000000000 |  2.150 | 0.000 | li | 0 | Yes |\n",
       "| Armidale     | 0.0000000000 |  1.487 | 0.000 | ac | 0 | Yes |\n",
       "| Armidale     | 0.0285625616 |  1.487 | 0.000 | li | 1 | Yes |\n",
       "| Athens       | 0.0000000000 |  1.565 | 0.000 | ac | 0 | Yes |\n",
       "| Athens       | 0.0799856505 |  1.565 | 0.000 | li | 1 | Yes |\n",
       "| Bogota       | 0.0381202444 |  0.839 | 0.014 | ac | 1 | Yes |\n",
       "| Bogota       | 0.0000000000 |  0.839 | 0.014 | li | 0 | Yes |\n",
       "| Buenos_Aires | 0.0000000000 |  0.015 | 0.950 | ac | 0 | No  |\n",
       "| Buenos_Aires | 0.0000000000 |  0.015 | 0.950 | li | 0 | No  |\n",
       "| Calgary      | 0.0000000000 |  1.168 | 0.014 | ac | 0 | Yes |\n",
       "| Calgary      | 0.0385720188 |  1.168 | 0.014 | li | 0 | Yes |\n",
       "| Canberra     | 0.0000000000 | -0.056 | 0.841 | ac | 0 | No  |\n",
       "| Canberra     | 0.0038244366 | -0.056 | 0.841 | li | 0 | No  |\n",
       "| Cape_Town    | 0.0000000000 |  0.851 | 0.159 | ac | 0 | No  |\n",
       "| Cape_Town    | 0.0452961503 |  0.851 | 0.159 | li | 0 | No  |\n",
       "| Christchurch | 0.0000000000 |  1.889 | 0.000 | ac | 0 | Yes |\n",
       "| Christchurch | 0.0291438276 |  1.889 | 0.000 | li | 1 | Yes |\n",
       "| Hiroshima    | 0.0321339913 | -0.043 | 0.842 | ac | 0 | No  |\n",
       "| Hiroshima    | 0.0000000000 | -0.043 | 0.842 | li | 0 | No  |\n",
       "| Kunming      | 0.0000000000 | -0.439 | 0.091 | ac | 0 | No  |\n",
       "| Kunming      | 0.0000000000 | -0.439 | 0.091 | li | 0 | No  |\n",
       "| Kyoto        | 0.0000000000 | -1.027 | 0.000 | ac | 0 | Yes |\n",
       "| Kyoto        | 0.0636945560 | -1.027 | 0.000 | li | 1 | Yes |\n",
       "| Landshut     | 0.0086958321 | -0.356 | 0.190 | ac | 0 | No  |\n",
       "| Landshut     | 0.0209991315 | -0.356 | 0.190 | li | 0 | No  |\n",
       "| Linkoping    | 0.0000000000 |  4.106 | 0.000 | ac | 0 | Yes |\n",
       "| Linkoping    | 0.0000000000 |  4.106 | 0.000 | li | 0 | Yes |\n",
       "| Loja         | 0.0000000000 |  1.113 | 0.000 | ac | 0 | Yes |\n",
       "| Loja         | 0.0000000000 |  1.113 | 0.000 | li | 0 | Yes |\n",
       "| Medellin     | 0.0370747702 | -3.450 | 0.000 | ac | 1 | Yes |\n",
       "| Medellin     | 0.0000000000 | -3.450 | 0.000 | li | 0 | Yes |\n",
       "| Melbourne    | 0.0088913112 |  1.330 | 0.000 | ac | 0 | Yes |\n",
       "| Melbourne    | 0.0552659664 |  1.330 | 0.000 | li | 1 | Yes |\n",
       "| Memphis      | 0.0000000000 |  1.810 | 0.000 | ac | 0 | Yes |\n",
       "| Memphis      | 0.0623620715 |  1.810 | 0.000 | li | 1 | Yes |\n",
       "| Mexico_City  | 0.1976961222 | -0.152 | 0.703 | ac | 1 | No  |\n",
       "| Mexico_City  | 0.0245882637 | -0.152 | 0.703 | li | 0 | No  |\n",
       "| Munich       | 0.0003377569 |  0.513 | 0.034 | ac | 0 | Yes |\n",
       "| Munich       | 0.0337210918 |  0.513 | 0.034 | li | 1 | Yes |\n",
       "| Paris        | 0.1102928620 | -0.227 | 0.312 | ac | 1 | No  |\n",
       "| Paris        | 0.0000000000 | -0.227 | 0.312 | li | 0 | No  |\n",
       "| Quito        | 0.0000000000 |  0.516 | 0.139 | ac | 0 | No  |\n",
       "| Quito        | 0.0685015582 |  0.516 | 0.139 | li | 1 | No  |\n",
       "| Tehran       | 0.0000000000 |  2.345 | 0.000 | ac | 0 | Yes |\n",
       "| Tehran       | 0.0159358251 |  2.345 | 0.000 | li | 0 | Yes |\n",
       "| Thessaloniki | 0.0000000000 |  1.703 | 0.000 | ac | 0 | Yes |\n",
       "| Thessaloniki | 0.1441968271 |  1.703 | 0.000 | li | 1 | Yes |\n",
       "| Toronto      | 0.0000000000 |  1.463 | 0.000 | ac | 0 | Yes |\n",
       "| Toronto      | 0.0480564238 |  1.463 | 0.000 | li | 1 | Yes |\n",
       "\n"
      ],
      "text/plain": [
       "   city         fst          betaLog_Dist pvalLog_Dist locus is_outlier sig\n",
       "1  Albuquerque  0.0017094592 -0.839       0.004        ac    0          Yes\n",
       "2  Albuquerque  0.0970369080 -0.839       0.004        li    1          Yes\n",
       "3  Antwerp      0.0000000000  2.150       0.000        ac    0          Yes\n",
       "4  Antwerp      0.0000000000  2.150       0.000        li    0          Yes\n",
       "5  Armidale     0.0000000000  1.487       0.000        ac    0          Yes\n",
       "6  Armidale     0.0285625616  1.487       0.000        li    1          Yes\n",
       "7  Athens       0.0000000000  1.565       0.000        ac    0          Yes\n",
       "8  Athens       0.0799856505  1.565       0.000        li    1          Yes\n",
       "9  Bogota       0.0381202444  0.839       0.014        ac    1          Yes\n",
       "10 Bogota       0.0000000000  0.839       0.014        li    0          Yes\n",
       "11 Buenos_Aires 0.0000000000  0.015       0.950        ac    0          No \n",
       "12 Buenos_Aires 0.0000000000  0.015       0.950        li    0          No \n",
       "13 Calgary      0.0000000000  1.168       0.014        ac    0          Yes\n",
       "14 Calgary      0.0385720188  1.168       0.014        li    0          Yes\n",
       "15 Canberra     0.0000000000 -0.056       0.841        ac    0          No \n",
       "16 Canberra     0.0038244366 -0.056       0.841        li    0          No \n",
       "17 Cape_Town    0.0000000000  0.851       0.159        ac    0          No \n",
       "18 Cape_Town    0.0452961503  0.851       0.159        li    0          No \n",
       "19 Christchurch 0.0000000000  1.889       0.000        ac    0          Yes\n",
       "20 Christchurch 0.0291438276  1.889       0.000        li    1          Yes\n",
       "21 Hiroshima    0.0321339913 -0.043       0.842        ac    0          No \n",
       "22 Hiroshima    0.0000000000 -0.043       0.842        li    0          No \n",
       "23 Kunming      0.0000000000 -0.439       0.091        ac    0          No \n",
       "24 Kunming      0.0000000000 -0.439       0.091        li    0          No \n",
       "25 Kyoto        0.0000000000 -1.027       0.000        ac    0          Yes\n",
       "26 Kyoto        0.0636945560 -1.027       0.000        li    1          Yes\n",
       "27 Landshut     0.0086958321 -0.356       0.190        ac    0          No \n",
       "28 Landshut     0.0209991315 -0.356       0.190        li    0          No \n",
       "29 Linkoping    0.0000000000  4.106       0.000        ac    0          Yes\n",
       "30 Linkoping    0.0000000000  4.106       0.000        li    0          Yes\n",
       "31 Loja         0.0000000000  1.113       0.000        ac    0          Yes\n",
       "32 Loja         0.0000000000  1.113       0.000        li    0          Yes\n",
       "33 Medellin     0.0370747702 -3.450       0.000        ac    1          Yes\n",
       "34 Medellin     0.0000000000 -3.450       0.000        li    0          Yes\n",
       "35 Melbourne    0.0088913112  1.330       0.000        ac    0          Yes\n",
       "36 Melbourne    0.0552659664  1.330       0.000        li    1          Yes\n",
       "37 Memphis      0.0000000000  1.810       0.000        ac    0          Yes\n",
       "38 Memphis      0.0623620715  1.810       0.000        li    1          Yes\n",
       "39 Mexico_City  0.1976961222 -0.152       0.703        ac    1          No \n",
       "40 Mexico_City  0.0245882637 -0.152       0.703        li    0          No \n",
       "41 Munich       0.0003377569  0.513       0.034        ac    0          Yes\n",
       "42 Munich       0.0337210918  0.513       0.034        li    1          Yes\n",
       "43 Paris        0.1102928620 -0.227       0.312        ac    1          No \n",
       "44 Paris        0.0000000000 -0.227       0.312        li    0          No \n",
       "45 Quito        0.0000000000  0.516       0.139        ac    0          No \n",
       "46 Quito        0.0685015582  0.516       0.139        li    1          No \n",
       "47 Tehran       0.0000000000  2.345       0.000        ac    0          Yes\n",
       "48 Tehran       0.0159358251  2.345       0.000        li    0          Yes\n",
       "49 Thessaloniki 0.0000000000  1.703       0.000        ac    0          Yes\n",
       "50 Thessaloniki 0.1441968271  1.703       0.000        li    1          Yes\n",
       "51 Toronto      0.0000000000  1.463       0.000        ac    0          Yes\n",
       "52 Toronto      0.0480564238  1.463       0.000        li    1          Yes"
      ]
     },
     "metadata": {},
     "output_type": "display_data"
    }
   ],
   "source": [
    "all_stats_df %>% \n",
    "    dplyr::select(city, fst, betaLog_Dist, pvalLog_Dist, locus, is_outlier, sig)"
   ]
  },
  {
   "cell_type": "markdown",
   "metadata": {},
   "source": [
    "## Models"
   ]
  },
  {
   "cell_type": "markdown",
   "metadata": {},
   "source": [
    "### Correlation between Fst and strength of cline"
   ]
  },
  {
   "cell_type": "code",
   "execution_count": 21,
   "metadata": {},
   "outputs": [
    {
     "data": {
      "text/html": [
       "<table class=\"dataframe\">\n",
       "<caption>A grouped_df: 4 × 6</caption>\n",
       "<thead>\n",
       "\t<tr><th scope=col>locus</th><th scope=col>term</th><th scope=col>estimate</th><th scope=col>std.error</th><th scope=col>statistic</th><th scope=col>p.value</th></tr>\n",
       "\t<tr><th scope=col>&lt;chr&gt;</th><th scope=col>&lt;chr&gt;</th><th scope=col>&lt;dbl&gt;</th><th scope=col>&lt;dbl&gt;</th><th scope=col>&lt;dbl&gt;</th><th scope=col>&lt;dbl&gt;</th></tr>\n",
       "</thead>\n",
       "<tbody>\n",
       "\t<tr><td>ac</td><td>(Intercept)</td><td> 0.7853182</td><td>0.2807320</td><td> 2.7973941</td><td>0.00998945</td></tr>\n",
       "\t<tr><td>ac</td><td>fst        </td><td>-8.4690630</td><td>5.9429432</td><td>-1.4250621</td><td>0.16701507</td></tr>\n",
       "\t<tr><td>li</td><td>(Intercept)</td><td> 0.5908219</td><td>0.3537248</td><td> 1.6702869</td><td>0.10785504</td></tr>\n",
       "\t<tr><td>li</td><td>fst        </td><td> 3.8146436</td><td>7.1615159</td><td> 0.5326587</td><td>0.59916757</td></tr>\n",
       "</tbody>\n",
       "</table>\n"
      ],
      "text/latex": [
       "A grouped\\_df: 4 × 6\n",
       "\\begin{tabular}{llllll}\n",
       " locus & term & estimate & std.error & statistic & p.value\\\\\n",
       " <chr> & <chr> & <dbl> & <dbl> & <dbl> & <dbl>\\\\\n",
       "\\hline\n",
       "\t ac & (Intercept) &  0.7853182 & 0.2807320 &  2.7973941 & 0.00998945\\\\\n",
       "\t ac & fst         & -8.4690630 & 5.9429432 & -1.4250621 & 0.16701507\\\\\n",
       "\t li & (Intercept) &  0.5908219 & 0.3537248 &  1.6702869 & 0.10785504\\\\\n",
       "\t li & fst         &  3.8146436 & 7.1615159 &  0.5326587 & 0.59916757\\\\\n",
       "\\end{tabular}\n"
      ],
      "text/markdown": [
       "\n",
       "A grouped_df: 4 × 6\n",
       "\n",
       "| locus &lt;chr&gt; | term &lt;chr&gt; | estimate &lt;dbl&gt; | std.error &lt;dbl&gt; | statistic &lt;dbl&gt; | p.value &lt;dbl&gt; |\n",
       "|---|---|---|---|---|---|\n",
       "| ac | (Intercept) |  0.7853182 | 0.2807320 |  2.7973941 | 0.00998945 |\n",
       "| ac | fst         | -8.4690630 | 5.9429432 | -1.4250621 | 0.16701507 |\n",
       "| li | (Intercept) |  0.5908219 | 0.3537248 |  1.6702869 | 0.10785504 |\n",
       "| li | fst         |  3.8146436 | 7.1615159 |  0.5326587 | 0.59916757 |\n",
       "\n"
      ],
      "text/plain": [
       "  locus term        estimate   std.error statistic  p.value   \n",
       "1 ac    (Intercept)  0.7853182 0.2807320  2.7973941 0.00998945\n",
       "2 ac    fst         -8.4690630 5.9429432 -1.4250621 0.16701507\n",
       "3 li    (Intercept)  0.5908219 0.3537248  1.6702869 0.10785504\n",
       "4 li    fst          3.8146436 7.1615159  0.5326587 0.59916757"
      ]
     },
     "metadata": {},
     "output_type": "display_data"
    }
   ],
   "source": [
    "all_freqs %>% \n",
    "    group_by(locus) %>% \n",
    "    do(broom::tidy(lm(betaLog_Dist ~ fst, data = .)))"
   ]
  },
  {
   "cell_type": "code",
   "execution_count": 22,
   "metadata": {},
   "outputs": [
    {
     "name": "stderr",
     "output_type": "stream",
     "text": [
      "`geom_smooth()` using formula 'y ~ x'\n"
     ]
    },
    {
     "data": {
      "image/png": "[encoded data removed]",
      "text/plain": [
       "plot without title"
      ]
     },
     "metadata": {},
     "output_type": "display_data"
    }
   ],
   "source": [
    "all_freqs %>% \n",
    "    group_by(locus) %>% \n",
    "    ggplot(., aes(x = fst, y = betaLog_Dist)) +\n",
    "    geom_point(size = 3, color = 'black') +\n",
    "    facet_wrap(~locus) +\n",
    "    geom_smooth(method = 'lm', se = FALSE, color = 'black') +\n",
    "    xlab('Fst') + ylab('Slope of cline (logOdds)') +\n",
    "    theme_classic()"
   ]
  },
  {
   "cell_type": "markdown",
   "metadata": {},
   "source": [
    "## Fst by sig cline\n",
    "\n",
    "- Does Fst at HCN loci differ between cities with and without clines?\n"
   ]
  },
  {
   "cell_type": "code",
   "execution_count": 23,
   "metadata": {
    "scrolled": true
   },
   "outputs": [
    {
     "data": {
      "text/plain": [
       "\n",
       "Call:\n",
       "lm(formula = fst ~ sig * locus, data = all_stats_df)\n",
       "\n",
       "Residuals:\n",
       "      Min        1Q    Median        3Q       Max \n",
       "-0.040973 -0.018134 -0.005067  0.006611  0.158938 \n",
       "\n",
       "Coefficients:\n",
       "               Estimate Std. Error t value Pr(>|t|)   \n",
       "(Intercept)     0.03876    0.01292   3.001  0.00427 **\n",
       "sigYes         -0.03369    0.01597  -2.109  0.04018 * \n",
       "locusli        -0.02062    0.01827  -1.129  0.26452   \n",
       "sigYes:locusli  0.05653    0.02259   2.502  0.01580 * \n",
       "---\n",
       "Signif. codes:  0 ‘***’ 0.001 ‘**’ 0.01 ‘*’ 0.05 ‘.’ 0.1 ‘ ’ 1\n",
       "\n",
       "Residual standard error: 0.03875 on 48 degrees of freedom\n",
       "Multiple R-squared:  0.155,\tAdjusted R-squared:  0.1022 \n",
       "F-statistic: 2.934 on 3 and 48 DF,  p-value: 0.04272\n"
      ]
     },
     "metadata": {},
     "output_type": "display_data"
    }
   ],
   "source": [
    "fst_by_cline <- lm(fst ~ sig*locus, data = all_stats_df)\n",
    "summary(fst_by_cline)"
   ]
  },
  {
   "cell_type": "markdown",
   "metadata": {},
   "source": [
    "### Chi-squared test\n",
    "\n",
    "- Do loci show expected patterns of divergence based on whether they have clines?"
   ]
  },
  {
   "cell_type": "code",
   "execution_count": 24,
   "metadata": {},
   "outputs": [
    {
     "data": {
      "text/html": [
       "<table class=\"dataframe\">\n",
       "<caption>A grouped_df: 26 × 3</caption>\n",
       "<thead>\n",
       "\t<tr><th scope=col>city</th><th scope=col>sig</th><th scope=col>one_outlier</th></tr>\n",
       "\t<tr><th scope=col>&lt;chr&gt;</th><th scope=col>&lt;chr&gt;</th><th scope=col>&lt;chr&gt;</th></tr>\n",
       "</thead>\n",
       "<tbody>\n",
       "\t<tr><td>Albuquerque </td><td>Yes</td><td>Yes</td></tr>\n",
       "\t<tr><td>Antwerp     </td><td>Yes</td><td>No </td></tr>\n",
       "\t<tr><td>Armidale    </td><td>Yes</td><td>Yes</td></tr>\n",
       "\t<tr><td>Athens      </td><td>Yes</td><td>Yes</td></tr>\n",
       "\t<tr><td>Bogota      </td><td>Yes</td><td>Yes</td></tr>\n",
       "\t<tr><td>Buenos_Aires</td><td>No </td><td>No </td></tr>\n",
       "\t<tr><td>Calgary     </td><td>Yes</td><td>No </td></tr>\n",
       "\t<tr><td>Canberra    </td><td>No </td><td>No </td></tr>\n",
       "\t<tr><td>Cape_Town   </td><td>No </td><td>No </td></tr>\n",
       "\t<tr><td>Christchurch</td><td>Yes</td><td>Yes</td></tr>\n",
       "\t<tr><td>Hiroshima   </td><td>No </td><td>No </td></tr>\n",
       "\t<tr><td>Kunming     </td><td>No </td><td>No </td></tr>\n",
       "\t<tr><td>Kyoto       </td><td>Yes</td><td>Yes</td></tr>\n",
       "\t<tr><td>Landshut    </td><td>No </td><td>No </td></tr>\n",
       "\t<tr><td>Linkoping   </td><td>Yes</td><td>No </td></tr>\n",
       "\t<tr><td>Loja        </td><td>Yes</td><td>No </td></tr>\n",
       "\t<tr><td>Medellin    </td><td>Yes</td><td>Yes</td></tr>\n",
       "\t<tr><td>Melbourne   </td><td>Yes</td><td>Yes</td></tr>\n",
       "\t<tr><td>Memphis     </td><td>Yes</td><td>Yes</td></tr>\n",
       "\t<tr><td>Mexico_City </td><td>No </td><td>Yes</td></tr>\n",
       "\t<tr><td>Munich      </td><td>Yes</td><td>Yes</td></tr>\n",
       "\t<tr><td>Paris       </td><td>No </td><td>Yes</td></tr>\n",
       "\t<tr><td>Quito       </td><td>No </td><td>Yes</td></tr>\n",
       "\t<tr><td>Tehran      </td><td>Yes</td><td>No </td></tr>\n",
       "\t<tr><td>Thessaloniki</td><td>Yes</td><td>Yes</td></tr>\n",
       "\t<tr><td>Toronto     </td><td>Yes</td><td>Yes</td></tr>\n",
       "</tbody>\n",
       "</table>\n"
      ],
      "text/latex": [
       "A grouped\\_df: 26 × 3\n",
       "\\begin{tabular}{lll}\n",
       " city & sig & one\\_outlier\\\\\n",
       " <chr> & <chr> & <chr>\\\\\n",
       "\\hline\n",
       "\t Albuquerque  & Yes & Yes\\\\\n",
       "\t Antwerp      & Yes & No \\\\\n",
       "\t Armidale     & Yes & Yes\\\\\n",
       "\t Athens       & Yes & Yes\\\\\n",
       "\t Bogota       & Yes & Yes\\\\\n",
       "\t Buenos\\_Aires & No  & No \\\\\n",
       "\t Calgary      & Yes & No \\\\\n",
       "\t Canberra     & No  & No \\\\\n",
       "\t Cape\\_Town    & No  & No \\\\\n",
       "\t Christchurch & Yes & Yes\\\\\n",
       "\t Hiroshima    & No  & No \\\\\n",
       "\t Kunming      & No  & No \\\\\n",
       "\t Kyoto        & Yes & Yes\\\\\n",
       "\t Landshut     & No  & No \\\\\n",
       "\t Linkoping    & Yes & No \\\\\n",
       "\t Loja         & Yes & No \\\\\n",
       "\t Medellin     & Yes & Yes\\\\\n",
       "\t Melbourne    & Yes & Yes\\\\\n",
       "\t Memphis      & Yes & Yes\\\\\n",
       "\t Mexico\\_City  & No  & Yes\\\\\n",
       "\t Munich       & Yes & Yes\\\\\n",
       "\t Paris        & No  & Yes\\\\\n",
       "\t Quito        & No  & Yes\\\\\n",
       "\t Tehran       & Yes & No \\\\\n",
       "\t Thessaloniki & Yes & Yes\\\\\n",
       "\t Toronto      & Yes & Yes\\\\\n",
       "\\end{tabular}\n"
      ],
      "text/markdown": [
       "\n",
       "A grouped_df: 26 × 3\n",
       "\n",
       "| city &lt;chr&gt; | sig &lt;chr&gt; | one_outlier &lt;chr&gt; |\n",
       "|---|---|---|\n",
       "| Albuquerque  | Yes | Yes |\n",
       "| Antwerp      | Yes | No  |\n",
       "| Armidale     | Yes | Yes |\n",
       "| Athens       | Yes | Yes |\n",
       "| Bogota       | Yes | Yes |\n",
       "| Buenos_Aires | No  | No  |\n",
       "| Calgary      | Yes | No  |\n",
       "| Canberra     | No  | No  |\n",
       "| Cape_Town    | No  | No  |\n",
       "| Christchurch | Yes | Yes |\n",
       "| Hiroshima    | No  | No  |\n",
       "| Kunming      | No  | No  |\n",
       "| Kyoto        | Yes | Yes |\n",
       "| Landshut     | No  | No  |\n",
       "| Linkoping    | Yes | No  |\n",
       "| Loja         | Yes | No  |\n",
       "| Medellin     | Yes | Yes |\n",
       "| Melbourne    | Yes | Yes |\n",
       "| Memphis      | Yes | Yes |\n",
       "| Mexico_City  | No  | Yes |\n",
       "| Munich       | Yes | Yes |\n",
       "| Paris        | No  | Yes |\n",
       "| Quito        | No  | Yes |\n",
       "| Tehran       | Yes | No  |\n",
       "| Thessaloniki | Yes | Yes |\n",
       "| Toronto      | Yes | Yes |\n",
       "\n"
      ],
      "text/plain": [
       "   city         sig one_outlier\n",
       "1  Albuquerque  Yes Yes        \n",
       "2  Antwerp      Yes No         \n",
       "3  Armidale     Yes Yes        \n",
       "4  Athens       Yes Yes        \n",
       "5  Bogota       Yes Yes        \n",
       "6  Buenos_Aires No  No         \n",
       "7  Calgary      Yes No         \n",
       "8  Canberra     No  No         \n",
       "9  Cape_Town    No  No         \n",
       "10 Christchurch Yes Yes        \n",
       "11 Hiroshima    No  No         \n",
       "12 Kunming      No  No         \n",
       "13 Kyoto        Yes Yes        \n",
       "14 Landshut     No  No         \n",
       "15 Linkoping    Yes No         \n",
       "16 Loja         Yes No         \n",
       "17 Medellin     Yes Yes        \n",
       "18 Melbourne    Yes Yes        \n",
       "19 Memphis      Yes Yes        \n",
       "20 Mexico_City  No  Yes        \n",
       "21 Munich       Yes Yes        \n",
       "22 Paris        No  Yes        \n",
       "23 Quito        No  Yes        \n",
       "24 Tehran       Yes No         \n",
       "25 Thessaloniki Yes Yes        \n",
       "26 Toronto      Yes Yes        "
      ]
     },
     "metadata": {},
     "output_type": "display_data"
    }
   ],
   "source": [
    "all_stats_df_wide <- all_stats_df %>% \n",
    "    pivot_wider(names_from = 'locus', values_from = c('is_outlier', 'quant', 'fst')) %>% \n",
    "    mutate(one_outlier = ifelse(is_outlier_ac == 1 | is_outlier_li == 1, 'Yes', 'No')) %>% \n",
    "    group_by(sig, one_outlier)\n",
    "all_stats_df_wide %>% \n",
    "    dplyr::select(city, sig, one_outlier)"
   ]
  },
  {
   "cell_type": "code",
   "execution_count": 25,
   "metadata": {},
   "outputs": [
    {
     "name": "stderr",
     "output_type": "stream",
     "text": [
      "Warning message in chisq.test(chisq_table):\n",
      "“Chi-squared approximation may be incorrect”"
     ]
    },
    {
     "data": {
      "text/plain": [
       "\n",
       "\tPearson's Chi-squared test with Yates' continuity correction\n",
       "\n",
       "data:  chisq_table\n",
       "X-squared = 1.9939, df = 1, p-value = 0.1579\n"
      ]
     },
     "metadata": {},
     "output_type": "display_data"
    }
   ],
   "source": [
    "chisq_table <- table(all_stats_df_wide$sig, all_stats_df_wide$one_outlier)\n",
    "chisq.test(chisq_table)"
   ]
  },
  {
   "cell_type": "code",
   "execution_count": 26,
   "metadata": {},
   "outputs": [
    {
     "data": {
      "text/plain": [
       "     \n",
       "      No Yes\n",
       "  No   6   3\n",
       "  Yes  5  12"
      ]
     },
     "metadata": {},
     "output_type": "display_data"
    }
   ],
   "source": [
    "chisq_table"
   ]
  },
  {
   "cell_type": "code",
   "execution_count": null,
   "metadata": {},
   "outputs": [],
   "source": []
  }
 ],
 "metadata": {
  "kernelspec": {
   "display_name": "R",
   "language": "R",
   "name": "ir"
  },
  "language_info": {
   "codemirror_mode": "r",
   "file_extension": ".r",
   "mimetype": "text/x-r-source",
   "name": "R",
   "pygments_lexer": "r",
   "version": "3.6.3"
  }
 },
 "nbformat": 4,
 "nbformat_minor": 4
}
