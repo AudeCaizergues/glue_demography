{
 "cells": [
  {
   "cell_type": "markdown",
   "id": "4d45c6fe",
   "metadata": {},
   "source": [
    "# Divergence of HCN relative to neutral expectation\n",
    "\n",
    "- For each city, test whether urban-rural divergence in HCN is greater than expected based on null distribution of randomly selected 4fold degenerate sites with a similar genetic architecture as HCN. "
   ]
  },
  {
   "cell_type": "code",
   "execution_count": 5,
   "id": "a88ad400",
   "metadata": {},
   "outputs": [],
   "source": [
    "library(data.table)\n",
    "library(tidyverse)"
   ]
  },
  {
   "cell_type": "code",
   "execution_count": 6,
   "id": "5725cea9",
   "metadata": {},
   "outputs": [],
   "source": [
    "load_maf <- function(path){\n",
    "    base <- basename(path)\n",
    "    city = str_split(base, '_[u|r]_', simplify = TRUE)[1]\n",
    "    habitat = str_extract(base, pattern = '(?<=_)[r|u]')\n",
    "    \n",
    "    df <- suppressMessages(read_delim(path, delim = '\\t')) %>%\n",
    "        filter(nInd >= 10) %>%\n",
    "        mutate(city = city, \n",
    "               habitat = habitat,\n",
    "               pos = paste(chromo, position, sep = '_')) %>%\n",
    "    dplyr::select(city, habitat, pos, everything(), -'pK-EM', -ref, -anc, -chromo, -position) %>%\n",
    "    return(df)\n",
    "}\n",
    "\n",
    "intersect_positions <- function(df){\n",
    "    \n",
    "    df_out <- df %>%\n",
    "        filter(pos %in% (df %>% \n",
    "                         group_split(habitat) %>% \n",
    "                         map(~pull(., pos)) %>% \n",
    "                         reduce(intersect)))\n",
    "    return(df_out)\n",
    "}\n",
    "\n",
    "estimate_mock_hcn <- function(pA, pB){\n",
    "    qA <- 1 - pA\n",
    "    qB <- 1 - pB\n",
    "    acn <- qA^2 + qB^2 - (qA^2 * qB^2)\n",
    "    hcn <- 1 - acn\n",
    "    return(hcn)\n",
    "}\n",
    "\n",
    "hudson_fst <- function(p_u, p_r, n_u, n_r){\n",
    "    \n",
    "    # Numerator\n",
    "    a <- (p_u - p_r)^2\n",
    "    b <- (p_u * (1 - p_u)) / (n_u - 1)\n",
    "    c <- (p_r * (1 - p_r)) / (n_r - 1)\n",
    "    num <- a - b - c\n",
    "    \n",
    "    # Denominator\n",
    "    d <- p_u * (1 - p_r)\n",
    "    e <- p_r * (1 - p_u)\n",
    "    denom <- d + e\n",
    "    \n",
    "    fst <- num / denom\n",
    "    \n",
    "    return(fst)\n",
    "}\n",
    "\n",
    "dxy <- function(p_u, p_r){\n",
    "    \n",
    "    \n",
    "    dxy <- (p_u * (1 - p_r)) + (p_r * (1 - p_u))\n",
    "    return(dxy)\n",
    "}\n",
    "\n",
    "simulate_null <- function(df, stat, nreps = 1000){\n",
    "    \n",
    "    city <- df %>% pull(city) %>% unique()\n",
    "    stats_out <- c()\n",
    "    \n",
    "    for(i in 1:nreps){\n",
    "        # Randomly sample 2 sites\n",
    "        random_sites <- sample_n(df, size = 2)\n",
    "\n",
    "        # Get mock \"Ac\" and \"Li\" allele frequencies in each habitat\n",
    "        # Get sample sizes too\n",
    "        Ac_r <- random_sites[1, 'knownEM_r'] %>% pull()\n",
    "        Li_r <- random_sites[2, 'knownEM_r'] %>% pull()\n",
    "        Ac_u <- random_sites[1, 'knownEM_u'] %>% pull()\n",
    "        Li_u <- random_sites[2, 'knownEM_u'] %>% pull()\n",
    "\n",
    "        # Habitat sample size will be mean of mock Ac and Li sample sizes\n",
    "        r_ss <- mean(random_sites[1, 'nInd_r']  %>% pull(), random_sites[2, 'nInd_r'] %>% pull())\n",
    "        u_ss <- mean(random_sites[1, 'nInd_u']  %>% pull(), random_sites[2, 'nInd_u'] %>% pull())\n",
    "\n",
    "        # Estimate mock HCN frequency in each habitat\n",
    "        r_hcn <- estimate_mock_hcn(Ac_r, Li_r)\n",
    "        u_hcn <- estimate_mock_hcn(Ac_u, Li_u)\n",
    "\n",
    "        # Estimate differentiation stats as measure of differentiation in mock HCN\n",
    "        fst <- hudson_fst(u_hcn, r_hcn, u_ss, r_ss)\n",
    "        dxy <- dxy(u_hcn, r_hcn)\n",
    "        diff <- u_hcn - r_hcn\n",
    "\n",
    "        if(stat == 'fst'){\n",
    "            stat = fst\n",
    "        }else if(stat == 'dxy'){\n",
    "            stat = dxy\n",
    "        }else{\n",
    "            stat = diff\n",
    "        }\n",
    "        stats_out[i] <- stat\n",
    "    }\n",
    "    \n",
    "    out <- tibble(city = city, rep = 1:nreps, stat = stats_out)\n",
    "    return(out)\n",
    "}\n",
    "\n",
    "load_plant_data <- function(city){\n",
    "    inpath <- '../../phenotypic-analyses/data/clean/individualPlant_allCities/'\n",
    "    full_path <- paste0(inpath, city, '.csv')\n",
    "    df <- suppressMessages(read_csv(full_path)) %>%\n",
    "        dplyr::select(city, population, plant, hcn_result) %>%\n",
    "        mutate(population = as.character(population),\n",
    "               plant = as.character(plant))\n",
    "    if(city == 'Armidale'){\n",
    "        df <- separate(df, plant, sep = '-', into = c('population', 'plant'))\n",
    "    }\n",
    "    return(df) \n",
    "}\n",
    "\n",
    " # Function to estimate P-values\n",
    "permutation_pval <- function(df){\n",
    "    city <- df %>% pull(city) %>% unique()\n",
    "    obs_val <- df %>% filter(is.na(rep)) %>% pull('stat')\n",
    "    perm_val <- df %>% filter(!(is.na(rep))) %>% pull('stat')\n",
    "    pval <- sum(abs(perm_val) >= abs(obs_val)) / length(perm_val)\n",
    "    df_out <- data.frame(city = city, pval = pval)\n",
    "    return(df_out)\n",
    "}"
   ]
  },
  {
   "cell_type": "code",
   "execution_count": 3,
   "id": "a1be906c",
   "metadata": {},
   "outputs": [],
   "source": [
    "# Load all 4fold allele frequencies as single dataframe\n",
    "inpath <- '../../../results/angsd/afs/by_city/'\n",
    "df_afs <- list.files(inpath, full.names = TRUE, recursive = TRUE, pattern = '*.mafs.gz') %>%\n",
    "    map_dfr(., load_maf)"
   ]
  },
  {
   "cell_type": "code",
   "execution_count": 7,
   "id": "c5f7732c",
   "metadata": {},
   "outputs": [
    {
     "data": {
      "text/html": [
       "<table class=\"dataframe\">\n",
       "<caption>A tibble: 6 × 9</caption>\n",
       "<thead>\n",
       "\t<tr><th scope=col>city</th><th scope=col>pos</th><th scope=col>major</th><th scope=col>knownEM_r</th><th scope=col>knownEM_u</th><th scope=col>nInd_r</th><th scope=col>nInd_u</th><th scope=col>minor_r</th><th scope=col>minor_u</th></tr>\n",
       "\t<tr><th scope=col>&lt;chr&gt;</th><th scope=col>&lt;chr&gt;</th><th scope=col>&lt;chr&gt;</th><th scope=col>&lt;dbl&gt;</th><th scope=col>&lt;dbl&gt;</th><th scope=col>&lt;dbl&gt;</th><th scope=col>&lt;dbl&gt;</th><th scope=col>&lt;chr&gt;</th><th scope=col>&lt;chr&gt;</th></tr>\n",
       "</thead>\n",
       "<tbody>\n",
       "\t<tr><td>Albuquerque</td><td>CM019101.1_17063</td><td>A</td><td>0.522677</td><td>0.633789</td><td>13</td><td>10</td><td>C</td><td>C</td></tr>\n",
       "\t<tr><td>Albuquerque</td><td>CM019101.1_17462</td><td>T</td><td>0.144811</td><td>0.157838</td><td>13</td><td>13</td><td>A</td><td>A</td></tr>\n",
       "\t<tr><td>Albuquerque</td><td>CM019101.1_19481</td><td>C</td><td>0.741929</td><td>0.661749</td><td>13</td><td>13</td><td>A</td><td>A</td></tr>\n",
       "\t<tr><td>Albuquerque</td><td>CM019101.1_19520</td><td>G</td><td>0.746196</td><td>0.806513</td><td>13</td><td>13</td><td>A</td><td>A</td></tr>\n",
       "\t<tr><td>Albuquerque</td><td>CM019101.1_19553</td><td>A</td><td>0.638462</td><td>0.828019</td><td>12</td><td>10</td><td>T</td><td>T</td></tr>\n",
       "\t<tr><td>Albuquerque</td><td>CM019101.1_47203</td><td>C</td><td>0.880891</td><td>0.965221</td><td>23</td><td>19</td><td>G</td><td>G</td></tr>\n",
       "</tbody>\n",
       "</table>\n"
      ],
      "text/latex": [
       "A tibble: 6 × 9\n",
       "\\begin{tabular}{lllllllll}\n",
       " city & pos & major & knownEM\\_r & knownEM\\_u & nInd\\_r & nInd\\_u & minor\\_r & minor\\_u\\\\\n",
       " <chr> & <chr> & <chr> & <dbl> & <dbl> & <dbl> & <dbl> & <chr> & <chr>\\\\\n",
       "\\hline\n",
       "\t Albuquerque & CM019101.1\\_17063 & A & 0.522677 & 0.633789 & 13 & 10 & C & C\\\\\n",
       "\t Albuquerque & CM019101.1\\_17462 & T & 0.144811 & 0.157838 & 13 & 13 & A & A\\\\\n",
       "\t Albuquerque & CM019101.1\\_19481 & C & 0.741929 & 0.661749 & 13 & 13 & A & A\\\\\n",
       "\t Albuquerque & CM019101.1\\_19520 & G & 0.746196 & 0.806513 & 13 & 13 & A & A\\\\\n",
       "\t Albuquerque & CM019101.1\\_19553 & A & 0.638462 & 0.828019 & 12 & 10 & T & T\\\\\n",
       "\t Albuquerque & CM019101.1\\_47203 & C & 0.880891 & 0.965221 & 23 & 19 & G & G\\\\\n",
       "\\end{tabular}\n"
      ],
      "text/markdown": [
       "\n",
       "A tibble: 6 × 9\n",
       "\n",
       "| city &lt;chr&gt; | pos &lt;chr&gt; | major &lt;chr&gt; | knownEM_r &lt;dbl&gt; | knownEM_u &lt;dbl&gt; | nInd_r &lt;dbl&gt; | nInd_u &lt;dbl&gt; | minor_r &lt;chr&gt; | minor_u &lt;chr&gt; |\n",
       "|---|---|---|---|---|---|---|---|---|\n",
       "| Albuquerque | CM019101.1_17063 | A | 0.522677 | 0.633789 | 13 | 10 | C | C |\n",
       "| Albuquerque | CM019101.1_17462 | T | 0.144811 | 0.157838 | 13 | 13 | A | A |\n",
       "| Albuquerque | CM019101.1_19481 | C | 0.741929 | 0.661749 | 13 | 13 | A | A |\n",
       "| Albuquerque | CM019101.1_19520 | G | 0.746196 | 0.806513 | 13 | 13 | A | A |\n",
       "| Albuquerque | CM019101.1_19553 | A | 0.638462 | 0.828019 | 12 | 10 | T | T |\n",
       "| Albuquerque | CM019101.1_47203 | C | 0.880891 | 0.965221 | 23 | 19 | G | G |\n",
       "\n"
      ],
      "text/plain": [
       "  city        pos              major knownEM_r knownEM_u nInd_r nInd_u minor_r\n",
       "1 Albuquerque CM019101.1_17063 A     0.522677  0.633789  13     10     C      \n",
       "2 Albuquerque CM019101.1_17462 T     0.144811  0.157838  13     13     A      \n",
       "3 Albuquerque CM019101.1_19481 C     0.741929  0.661749  13     13     A      \n",
       "4 Albuquerque CM019101.1_19520 G     0.746196  0.806513  13     13     A      \n",
       "5 Albuquerque CM019101.1_19553 A     0.638462  0.828019  12     10     T      \n",
       "6 Albuquerque CM019101.1_47203 C     0.880891  0.965221  23     19     G      \n",
       "  minor_u\n",
       "1 C      \n",
       "2 A      \n",
       "3 A      \n",
       "4 A      \n",
       "5 T      \n",
       "6 G      "
      ]
     },
     "metadata": {},
     "output_type": "display_data"
    }
   ],
   "source": [
    "# Get sites common to urban and rural habitats, seaprately for each city\n",
    "# Pivot data for easier random site selection\n",
    "# Use only sites with same major and minor alleles\n",
    "df_afs_inter <- df_afs %>%\n",
    "    group_split(city) %>%\n",
    "    map_dfr(., intersect_positions) %>%\n",
    "    pivot_wider(names_from = 'habitat', values_from = c('knownEM', 'nInd', 'minor')) %>%\n",
    "    filter(minor_u == minor_r)  \n",
    "head(df_afs_inter)"
   ]
  },
  {
   "cell_type": "code",
   "execution_count": 33,
   "id": "da012256",
   "metadata": {},
   "outputs": [],
   "source": [
    "# Load in sample sheet\n",
    "# Load binomial regression model summaries and predict urban and rural HCN\n",
    "sample_sheet <- suppressMessages(read_delim('../resources/glue_pc_sampleSheet.txt', delim = '\\t'))\n",
    "cline_models <- suppressMessages(read_csv('../../phenotypic-analyses/analysis/supplementary-tables/allCities_logisticReg_coefs.csv')) %>% \n",
    "    filter(city %in% sample_sheet$city) %>% \n",
    "    mutate(hcn_u = exp(yint_Dist + betaLog_Dist*0) / (1 + (exp(yint_Dist + betaLog_Dist*0))),\n",
    "           hcn_r = exp(yint_Dist + betaLog_Dist*1) / (1 + (exp(yint_Dist + betaLog_Dist*1)))) %>% \n",
    "    mutate(diff = hcn_u - hcn_r,\n",
    "           fst = hudson_fst(hcn_u, hcn_r, 10, 10)) %>% \n",
    "    mutate(fst = ifelse(fst < 0, 0, fst)) %>% \n",
    "    mutate(sig = ifelse(pvalLog_Dist < 0.05, 'Yes', 'No')) %>% \n",
    "    dplyr::select(city, sig, hcn_u, hcn_r, diff, fst)"
   ]
  },
  {
   "cell_type": "code",
   "execution_count": 34,
   "id": "80931c7e",
   "metadata": {},
   "outputs": [
    {
     "data": {
      "text/html": [
       "<table class=\"dataframe\">\n",
       "<caption>A tibble: 6 × 6</caption>\n",
       "<thead>\n",
       "\t<tr><th scope=col>city</th><th scope=col>sig</th><th scope=col>hcn_u</th><th scope=col>hcn_r</th><th scope=col>diff</th><th scope=col>fst</th></tr>\n",
       "\t<tr><th scope=col>&lt;chr&gt;</th><th scope=col>&lt;chr&gt;</th><th scope=col>&lt;dbl&gt;</th><th scope=col>&lt;dbl&gt;</th><th scope=col>&lt;dbl&gt;</th><th scope=col>&lt;dbl&gt;</th></tr>\n",
       "</thead>\n",
       "<tbody>\n",
       "\t<tr><td>Albuquerque </td><td>Yes</td><td>0.30470333</td><td>0.1592258</td><td> 0.145477556</td><td>0.00000000</td></tr>\n",
       "\t<tr><td>Antwerp     </td><td>Yes</td><td>0.09673856</td><td>0.4790123</td><td>-0.382273783</td><td>0.22500845</td></tr>\n",
       "\t<tr><td>Armidale    </td><td>Yes</td><td>0.55354390</td><td>0.8457958</td><td>-0.292251863</td><td>0.09387276</td></tr>\n",
       "\t<tr><td>Athens      </td><td>Yes</td><td>0.35755317</td><td>0.7269097</td><td>-0.369356584</td><td>0.15734517</td></tr>\n",
       "\t<tr><td>Bogota      </td><td>Yes</td><td>0.29629576</td><td>0.4935004</td><td>-0.197204604</td><td>0.00000000</td></tr>\n",
       "\t<tr><td>Buenos_Aires</td><td>No </td><td>0.75565431</td><td>0.7584133</td><td>-0.002758981</td><td>0.00000000</td></tr>\n",
       "</tbody>\n",
       "</table>\n"
      ],
      "text/latex": [
       "A tibble: 6 × 6\n",
       "\\begin{tabular}{llllll}\n",
       " city & sig & hcn\\_u & hcn\\_r & diff & fst\\\\\n",
       " <chr> & <chr> & <dbl> & <dbl> & <dbl> & <dbl>\\\\\n",
       "\\hline\n",
       "\t Albuquerque  & Yes & 0.30470333 & 0.1592258 &  0.145477556 & 0.00000000\\\\\n",
       "\t Antwerp      & Yes & 0.09673856 & 0.4790123 & -0.382273783 & 0.22500845\\\\\n",
       "\t Armidale     & Yes & 0.55354390 & 0.8457958 & -0.292251863 & 0.09387276\\\\\n",
       "\t Athens       & Yes & 0.35755317 & 0.7269097 & -0.369356584 & 0.15734517\\\\\n",
       "\t Bogota       & Yes & 0.29629576 & 0.4935004 & -0.197204604 & 0.00000000\\\\\n",
       "\t Buenos\\_Aires & No  & 0.75565431 & 0.7584133 & -0.002758981 & 0.00000000\\\\\n",
       "\\end{tabular}\n"
      ],
      "text/markdown": [
       "\n",
       "A tibble: 6 × 6\n",
       "\n",
       "| city &lt;chr&gt; | sig &lt;chr&gt; | hcn_u &lt;dbl&gt; | hcn_r &lt;dbl&gt; | diff &lt;dbl&gt; | fst &lt;dbl&gt; |\n",
       "|---|---|---|---|---|---|\n",
       "| Albuquerque  | Yes | 0.30470333 | 0.1592258 |  0.145477556 | 0.00000000 |\n",
       "| Antwerp      | Yes | 0.09673856 | 0.4790123 | -0.382273783 | 0.22500845 |\n",
       "| Armidale     | Yes | 0.55354390 | 0.8457958 | -0.292251863 | 0.09387276 |\n",
       "| Athens       | Yes | 0.35755317 | 0.7269097 | -0.369356584 | 0.15734517 |\n",
       "| Bogota       | Yes | 0.29629576 | 0.4935004 | -0.197204604 | 0.00000000 |\n",
       "| Buenos_Aires | No  | 0.75565431 | 0.7584133 | -0.002758981 | 0.00000000 |\n",
       "\n"
      ],
      "text/plain": [
       "  city         sig hcn_u      hcn_r     diff         fst       \n",
       "1 Albuquerque  Yes 0.30470333 0.1592258  0.145477556 0.00000000\n",
       "2 Antwerp      Yes 0.09673856 0.4790123 -0.382273783 0.22500845\n",
       "3 Armidale     Yes 0.55354390 0.8457958 -0.292251863 0.09387276\n",
       "4 Athens       Yes 0.35755317 0.7269097 -0.369356584 0.15734517\n",
       "5 Bogota       Yes 0.29629576 0.4935004 -0.197204604 0.00000000\n",
       "6 Buenos_Aires No  0.75565431 0.7584133 -0.002758981 0.00000000"
      ]
     },
     "metadata": {},
     "output_type": "display_data"
    }
   ],
   "source": [
    "head(cline_models)"
   ]
  },
  {
   "cell_type": "code",
   "execution_count": 35,
   "id": "87d81f4b",
   "metadata": {},
   "outputs": [],
   "source": [
    " # Data frame with indivudual plant phenotype data for sequenced cities\n",
    "cities <- df_afs %>% pull(city) %>% unique()\n",
    "df_allPlants <- map_dfr(cities, load_plant_data) %>%\n",
    "    mutate(city = case_when(city == 'Toronto' ~ 's',\n",
    "                            city == 'Buenos_Aires' ~ 'Buen_Air',\n",
    "                            city == 'Thessaloniki' ~ 'Thessa', \n",
    "                            city == 'Christchurch' ~ 'Chrchurch', TRUE ~ city)) %>%\n",
    "    mutate(sample = paste(city, population, plant, sep = '_')) %>%\n",
    "    dplyr::select(sample, hcn_result)"
   ]
  },
  {
   "cell_type": "code",
   "execution_count": 12,
   "id": "dbdbaace",
   "metadata": {},
   "outputs": [],
   "source": [
    "set.seed(42)\n",
    "nulls <- df_afs_inter %>% \n",
    "    group_split(city) %>% \n",
    "    map_dfr(~simulate_null(., stat = 'fst', nreps = 1000))"
   ]
  },
  {
   "cell_type": "code",
   "execution_count": 23,
   "id": "c8ac20ea",
   "metadata": {
    "scrolled": false
   },
   "outputs": [],
   "source": [
    "combine_stats_sf <- cline_models %>% \n",
    "    rename('stat' = 'fst') %>% \n",
    "    dplyr::select(city, stat) %>% \n",
    "    bind_rows(nulls)"
   ]
  },
  {
   "cell_type": "code",
   "execution_count": 36,
   "id": "bceaed4f",
   "metadata": {},
   "outputs": [
    {
     "name": "stderr",
     "output_type": "stream",
     "text": [
      "Joining, by = \"city\"\n"
     ]
    }
   ],
   "source": [
    "perm_pval_df <- combine_stats_sf %>% \n",
    "    group_split(city) %>% \n",
    "    purrr::map_dfr(., permutation_pval) %>% \n",
    "    left_join(cline_models %>% dplyr::select(city, sig)) %>% \n",
    "    mutate(sig_perm = ifelse(pval < 0.05, 'Yes', 'No')) %>% \n",
    "    mutate(match_expect = ifelse(sig == sig_perm, 'Yes', 'No'))"
   ]
  },
  {
   "cell_type": "code",
   "execution_count": 37,
   "id": "6d826042",
   "metadata": {},
   "outputs": [
    {
     "data": {
      "text/html": [
       "<table class=\"dataframe\">\n",
       "<caption>A data.frame: 26 × 5</caption>\n",
       "<thead>\n",
       "\t<tr><th scope=col>city</th><th scope=col>pval</th><th scope=col>sig</th><th scope=col>sig_perm</th><th scope=col>match_expect</th></tr>\n",
       "\t<tr><th scope=col>&lt;chr&gt;</th><th scope=col>&lt;dbl&gt;</th><th scope=col>&lt;chr&gt;</th><th scope=col>&lt;chr&gt;</th><th scope=col>&lt;chr&gt;</th></tr>\n",
       "</thead>\n",
       "<tbody>\n",
       "\t<tr><td>Albuquerque </td><td>0.647</td><td>Yes</td><td>No </td><td>No </td></tr>\n",
       "\t<tr><td>Antwerp     </td><td>0.031</td><td>Yes</td><td>Yes</td><td>Yes</td></tr>\n",
       "\t<tr><td>Armidale    </td><td>0.160</td><td>Yes</td><td>No </td><td>No </td></tr>\n",
       "\t<tr><td>Athens      </td><td>0.078</td><td>Yes</td><td>No </td><td>No </td></tr>\n",
       "\t<tr><td>Bogota      </td><td>0.632</td><td>Yes</td><td>No </td><td>No </td></tr>\n",
       "\t<tr><td>Buenos_Aires</td><td>0.752</td><td>No </td><td>No </td><td>Yes</td></tr>\n",
       "\t<tr><td>Calgary     </td><td>0.466</td><td>Yes</td><td>No </td><td>No </td></tr>\n",
       "\t<tr><td>Canberra    </td><td>0.810</td><td>No </td><td>No </td><td>Yes</td></tr>\n",
       "\t<tr><td>Cape_Town   </td><td>0.800</td><td>No </td><td>No </td><td>Yes</td></tr>\n",
       "\t<tr><td>Christchurch</td><td>0.038</td><td>Yes</td><td>Yes</td><td>Yes</td></tr>\n",
       "\t<tr><td>Hiroshima   </td><td>0.772</td><td>No </td><td>No </td><td>Yes</td></tr>\n",
       "\t<tr><td>Kunming     </td><td>0.986</td><td>No </td><td>No </td><td>Yes</td></tr>\n",
       "\t<tr><td>Kyoto       </td><td>0.418</td><td>Yes</td><td>No </td><td>No </td></tr>\n",
       "\t<tr><td>Landshut    </td><td>0.829</td><td>No </td><td>No </td><td>Yes</td></tr>\n",
       "\t<tr><td>Linkoping   </td><td>0.039</td><td>Yes</td><td>Yes</td><td>Yes</td></tr>\n",
       "\t<tr><td>Loja        </td><td>0.563</td><td>Yes</td><td>No </td><td>No </td></tr>\n",
       "\t<tr><td>Medellin    </td><td>0.477</td><td>Yes</td><td>No </td><td>No </td></tr>\n",
       "\t<tr><td>Melbourne   </td><td>0.207</td><td>Yes</td><td>No </td><td>No </td></tr>\n",
       "\t<tr><td>Memphis     </td><td>0.046</td><td>Yes</td><td>Yes</td><td>Yes</td></tr>\n",
       "\t<tr><td>Mexico_City </td><td>0.775</td><td>No </td><td>No </td><td>Yes</td></tr>\n",
       "\t<tr><td>Munich      </td><td>0.987</td><td>Yes</td><td>No </td><td>No </td></tr>\n",
       "\t<tr><td>Paris       </td><td>0.824</td><td>No </td><td>No </td><td>Yes</td></tr>\n",
       "\t<tr><td>Quito       </td><td>0.904</td><td>No </td><td>No </td><td>Yes</td></tr>\n",
       "\t<tr><td>Tehran      </td><td>0.010</td><td>Yes</td><td>Yes</td><td>Yes</td></tr>\n",
       "\t<tr><td>Thessaloniki</td><td>0.053</td><td>Yes</td><td>No </td><td>No </td></tr>\n",
       "\t<tr><td>Toronto     </td><td>0.044</td><td>Yes</td><td>Yes</td><td>Yes</td></tr>\n",
       "</tbody>\n",
       "</table>\n"
      ],
      "text/latex": [
       "A data.frame: 26 × 5\n",
       "\\begin{tabular}{lllll}\n",
       " city & pval & sig & sig\\_perm & match\\_expect\\\\\n",
       " <chr> & <dbl> & <chr> & <chr> & <chr>\\\\\n",
       "\\hline\n",
       "\t Albuquerque  & 0.647 & Yes & No  & No \\\\\n",
       "\t Antwerp      & 0.031 & Yes & Yes & Yes\\\\\n",
       "\t Armidale     & 0.160 & Yes & No  & No \\\\\n",
       "\t Athens       & 0.078 & Yes & No  & No \\\\\n",
       "\t Bogota       & 0.632 & Yes & No  & No \\\\\n",
       "\t Buenos\\_Aires & 0.752 & No  & No  & Yes\\\\\n",
       "\t Calgary      & 0.466 & Yes & No  & No \\\\\n",
       "\t Canberra     & 0.810 & No  & No  & Yes\\\\\n",
       "\t Cape\\_Town    & 0.800 & No  & No  & Yes\\\\\n",
       "\t Christchurch & 0.038 & Yes & Yes & Yes\\\\\n",
       "\t Hiroshima    & 0.772 & No  & No  & Yes\\\\\n",
       "\t Kunming      & 0.986 & No  & No  & Yes\\\\\n",
       "\t Kyoto        & 0.418 & Yes & No  & No \\\\\n",
       "\t Landshut     & 0.829 & No  & No  & Yes\\\\\n",
       "\t Linkoping    & 0.039 & Yes & Yes & Yes\\\\\n",
       "\t Loja         & 0.563 & Yes & No  & No \\\\\n",
       "\t Medellin     & 0.477 & Yes & No  & No \\\\\n",
       "\t Melbourne    & 0.207 & Yes & No  & No \\\\\n",
       "\t Memphis      & 0.046 & Yes & Yes & Yes\\\\\n",
       "\t Mexico\\_City  & 0.775 & No  & No  & Yes\\\\\n",
       "\t Munich       & 0.987 & Yes & No  & No \\\\\n",
       "\t Paris        & 0.824 & No  & No  & Yes\\\\\n",
       "\t Quito        & 0.904 & No  & No  & Yes\\\\\n",
       "\t Tehran       & 0.010 & Yes & Yes & Yes\\\\\n",
       "\t Thessaloniki & 0.053 & Yes & No  & No \\\\\n",
       "\t Toronto      & 0.044 & Yes & Yes & Yes\\\\\n",
       "\\end{tabular}\n"
      ],
      "text/markdown": [
       "\n",
       "A data.frame: 26 × 5\n",
       "\n",
       "| city &lt;chr&gt; | pval &lt;dbl&gt; | sig &lt;chr&gt; | sig_perm &lt;chr&gt; | match_expect &lt;chr&gt; |\n",
       "|---|---|---|---|---|\n",
       "| Albuquerque  | 0.647 | Yes | No  | No  |\n",
       "| Antwerp      | 0.031 | Yes | Yes | Yes |\n",
       "| Armidale     | 0.160 | Yes | No  | No  |\n",
       "| Athens       | 0.078 | Yes | No  | No  |\n",
       "| Bogota       | 0.632 | Yes | No  | No  |\n",
       "| Buenos_Aires | 0.752 | No  | No  | Yes |\n",
       "| Calgary      | 0.466 | Yes | No  | No  |\n",
       "| Canberra     | 0.810 | No  | No  | Yes |\n",
       "| Cape_Town    | 0.800 | No  | No  | Yes |\n",
       "| Christchurch | 0.038 | Yes | Yes | Yes |\n",
       "| Hiroshima    | 0.772 | No  | No  | Yes |\n",
       "| Kunming      | 0.986 | No  | No  | Yes |\n",
       "| Kyoto        | 0.418 | Yes | No  | No  |\n",
       "| Landshut     | 0.829 | No  | No  | Yes |\n",
       "| Linkoping    | 0.039 | Yes | Yes | Yes |\n",
       "| Loja         | 0.563 | Yes | No  | No  |\n",
       "| Medellin     | 0.477 | Yes | No  | No  |\n",
       "| Melbourne    | 0.207 | Yes | No  | No  |\n",
       "| Memphis      | 0.046 | Yes | Yes | Yes |\n",
       "| Mexico_City  | 0.775 | No  | No  | Yes |\n",
       "| Munich       | 0.987 | Yes | No  | No  |\n",
       "| Paris        | 0.824 | No  | No  | Yes |\n",
       "| Quito        | 0.904 | No  | No  | Yes |\n",
       "| Tehran       | 0.010 | Yes | Yes | Yes |\n",
       "| Thessaloniki | 0.053 | Yes | No  | No  |\n",
       "| Toronto      | 0.044 | Yes | Yes | Yes |\n",
       "\n"
      ],
      "text/plain": [
       "   city         pval  sig sig_perm match_expect\n",
       "1  Albuquerque  0.647 Yes No       No          \n",
       "2  Antwerp      0.031 Yes Yes      Yes         \n",
       "3  Armidale     0.160 Yes No       No          \n",
       "4  Athens       0.078 Yes No       No          \n",
       "5  Bogota       0.632 Yes No       No          \n",
       "6  Buenos_Aires 0.752 No  No       Yes         \n",
       "7  Calgary      0.466 Yes No       No          \n",
       "8  Canberra     0.810 No  No       Yes         \n",
       "9  Cape_Town    0.800 No  No       Yes         \n",
       "10 Christchurch 0.038 Yes Yes      Yes         \n",
       "11 Hiroshima    0.772 No  No       Yes         \n",
       "12 Kunming      0.986 No  No       Yes         \n",
       "13 Kyoto        0.418 Yes No       No          \n",
       "14 Landshut     0.829 No  No       Yes         \n",
       "15 Linkoping    0.039 Yes Yes      Yes         \n",
       "16 Loja         0.563 Yes No       No          \n",
       "17 Medellin     0.477 Yes No       No          \n",
       "18 Melbourne    0.207 Yes No       No          \n",
       "19 Memphis      0.046 Yes Yes      Yes         \n",
       "20 Mexico_City  0.775 No  No       Yes         \n",
       "21 Munich       0.987 Yes No       No          \n",
       "22 Paris        0.824 No  No       Yes         \n",
       "23 Quito        0.904 No  No       Yes         \n",
       "24 Tehran       0.010 Yes Yes      Yes         \n",
       "25 Thessaloniki 0.053 Yes No       No          \n",
       "26 Toronto      0.044 Yes Yes      Yes         "
      ]
     },
     "metadata": {},
     "output_type": "display_data"
    }
   ],
   "source": [
    "perm_pval_df"
   ]
  },
  {
   "cell_type": "code",
   "execution_count": 38,
   "id": "e905486c",
   "metadata": {},
   "outputs": [
    {
     "name": "stderr",
     "output_type": "stream",
     "text": [
      "Warning message in chisq.test(table(perm_pval_df$sig, perm_pval_df$sig_perm)):\n",
      "“Chi-squared approximation may be incorrect”"
     ]
    },
    {
     "data": {
      "text/plain": [
       "\n",
       "\tPearson's Chi-squared test with Yates' continuity correction\n",
       "\n",
       "data:  table(perm_pval_df$sig, perm_pval_df$sig_perm)\n",
       "X-squared = 2.3805, df = 1, p-value = 0.1229\n"
      ]
     },
     "metadata": {},
     "output_type": "display_data"
    }
   ],
   "source": [
    "chisq.test(table(perm_pval_df$sig, perm_pval_df$sig_perm))"
   ]
  },
  {
   "cell_type": "code",
   "execution_count": 175,
   "id": "e7db91e2",
   "metadata": {},
   "outputs": [],
   "source": [
    "?chisq.test"
   ]
  }
 ],
 "metadata": {
  "kernelspec": {
   "display_name": "R",
   "language": "R",
   "name": "ir"
  },
  "language_info": {
   "codemirror_mode": "r",
   "file_extension": ".r",
   "mimetype": "text/x-r-source",
   "name": "R",
   "pygments_lexer": "r",
   "version": "3.6.3"
  }
 },
 "nbformat": 4,
 "nbformat_minor": 5
}
