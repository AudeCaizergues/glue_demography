{
 "cells": [
  {
   "cell_type": "markdown",
   "id": "c0fe6db2",
   "metadata": {},
   "source": [
    "# R script to analyse inbreeding in the GLUE dataset "
   ]
  },
  {
   "cell_type": "markdown",
   "id": "1aa95cbe",
   "metadata": {},
   "source": [
    "## Setup"
   ]
  },
  {
   "cell_type": "markdown",
   "id": "4e1508a7",
   "metadata": {},
   "source": [
    "### Libraries required"
   ]
  },
  {
   "cell_type": "code",
   "execution_count": 1,
   "id": "da8c19e8",
   "metadata": {},
   "outputs": [],
   "source": [
    "library(matrixStats)\n"
   ]
  },
  {
   "cell_type": "markdown",
   "id": "5840701d",
   "metadata": {},
   "source": [
    "## Mean values of inbreeding coef per pairs of habitat in each city"
   ]
  },
  {
   "cell_type": "code",
   "execution_count": 4,
   "id": "4a9e2164",
   "metadata": {},
   "outputs": [
    {
     "data": {
      "text/html": [
       "<table class=\"dataframe\">\n",
       "<caption>A data.frame: 6 × 8</caption>\n",
       "<thead>\n",
       "\t<tr><th></th><th scope=col>X1</th><th scope=col>X2</th><th scope=col>X3</th><th scope=col>X4</th><th scope=col>X5</th><th scope=col>X6</th><th scope=col>X7</th><th scope=col>X8</th></tr>\n",
       "\t<tr><th></th><th scope=col>&lt;chr&gt;</th><th scope=col>&lt;chr&gt;</th><th scope=col>&lt;chr&gt;</th><th scope=col>&lt;chr&gt;</th><th scope=col>&lt;chr&gt;</th><th scope=col>&lt;chr&gt;</th><th scope=col>&lt;chr&gt;</th><th scope=col>&lt;chr&gt;</th></tr>\n",
       "</thead>\n",
       "<tbody>\n",
       "\t<tr><th scope=row>1</th><td>Albuquerque</td><td>rr</td><td>0.00462092218350755 </td><td>0.0244060510416697</td><td>0.000951843786295006</td><td>0.00558424820110243</td><td>-0.303582337979094</td><td>0.330162351991355</td></tr>\n",
       "\t<tr><th scope=row>2</th><td>Albuquerque</td><td>ru</td><td>0.000383486394557823</td><td>0.0244060510416697</td><td>0.000141582482993197</td><td>0.00100161839524636</td><td>-0.308470256802721</td><td>0.30473140991679 </td></tr>\n",
       "\t<tr><th scope=row>3</th><td>Albuquerque</td><td>uu</td><td>0.00429529384436702 </td><td>0.0149602881517866</td><td>0.00109451219512195 </td><td>0.00474350606536169</td><td>-0.288119148664344</td><td>0.251878786161756</td></tr>\n",
       "\t<tr><th scope=row>4</th><td>Antwerp    </td><td>rr</td><td>0.00399674920634921 </td><td>0.0140781979464248</td><td>0.00143817222222222 </td><td>0.0061976893704563 </td><td>-0.691521836507937</td><td>0.687678760288032</td></tr>\n",
       "\t<tr><th scope=row>5</th><td>Antwerp    </td><td>ru</td><td>0.00114503861788618 </td><td>0.0140781979464248</td><td>0.000330377371273713</td><td>0.00198704503114913</td><td>-0.456071760840108</td><td>0.479949726050966</td></tr>\n",
       "\t<tr><th scope=row>6</th><td>Antwerp    </td><td>uu</td><td>0.00270985731707317 </td><td>0.0177682119744673</td><td>0.000525480487804878</td><td>0.00439372839928926</td><td>-0.262508463414634</td><td>0.329181301724695</td></tr>\n",
       "</tbody>\n",
       "</table>\n"
      ],
      "text/latex": [
       "A data.frame: 6 × 8\n",
       "\\begin{tabular}{r|llllllll}\n",
       "  & X1 & X2 & X3 & X4 & X5 & X6 & X7 & X8\\\\\n",
       "  & <chr> & <chr> & <chr> & <chr> & <chr> & <chr> & <chr> & <chr>\\\\\n",
       "\\hline\n",
       "\t1 & Albuquerque & rr & 0.00462092218350755  & 0.0244060510416697 & 0.000951843786295006 & 0.00558424820110243 & -0.303582337979094 & 0.330162351991355\\\\\n",
       "\t2 & Albuquerque & ru & 0.000383486394557823 & 0.0244060510416697 & 0.000141582482993197 & 0.00100161839524636 & -0.308470256802721 & 0.30473140991679 \\\\\n",
       "\t3 & Albuquerque & uu & 0.00429529384436702  & 0.0149602881517866 & 0.00109451219512195  & 0.00474350606536169 & -0.288119148664344 & 0.251878786161756\\\\\n",
       "\t4 & Antwerp     & rr & 0.00399674920634921  & 0.0140781979464248 & 0.00143817222222222  & 0.0061976893704563  & -0.691521836507937 & 0.687678760288032\\\\\n",
       "\t5 & Antwerp     & ru & 0.00114503861788618  & 0.0140781979464248 & 0.000330377371273713 & 0.00198704503114913 & -0.456071760840108 & 0.479949726050966\\\\\n",
       "\t6 & Antwerp     & uu & 0.00270985731707317  & 0.0177682119744673 & 0.000525480487804878 & 0.00439372839928926 & -0.262508463414634 & 0.329181301724695\\\\\n",
       "\\end{tabular}\n"
      ],
      "text/markdown": [
       "\n",
       "A data.frame: 6 × 8\n",
       "\n",
       "| <!--/--> | X1 &lt;chr&gt; | X2 &lt;chr&gt; | X3 &lt;chr&gt; | X4 &lt;chr&gt; | X5 &lt;chr&gt; | X6 &lt;chr&gt; | X7 &lt;chr&gt; | X8 &lt;chr&gt; |\n",
       "|---|---|---|---|---|---|---|---|---|\n",
       "| 1 | Albuquerque | rr | 0.00462092218350755  | 0.0244060510416697 | 0.000951843786295006 | 0.00558424820110243 | -0.303582337979094 | 0.330162351991355 |\n",
       "| 2 | Albuquerque | ru | 0.000383486394557823 | 0.0244060510416697 | 0.000141582482993197 | 0.00100161839524636 | -0.308470256802721 | 0.30473140991679  |\n",
       "| 3 | Albuquerque | uu | 0.00429529384436702  | 0.0149602881517866 | 0.00109451219512195  | 0.00474350606536169 | -0.288119148664344 | 0.251878786161756 |\n",
       "| 4 | Antwerp     | rr | 0.00399674920634921  | 0.0140781979464248 | 0.00143817222222222  | 0.0061976893704563  | -0.691521836507937 | 0.687678760288032 |\n",
       "| 5 | Antwerp     | ru | 0.00114503861788618  | 0.0140781979464248 | 0.000330377371273713 | 0.00198704503114913 | -0.456071760840108 | 0.479949726050966 |\n",
       "| 6 | Antwerp     | uu | 0.00270985731707317  | 0.0177682119744673 | 0.000525480487804878 | 0.00439372839928926 | -0.262508463414634 | 0.329181301724695 |\n",
       "\n"
      ],
      "text/plain": [
       "  X1          X2 X3                   X4                 X5                  \n",
       "1 Albuquerque rr 0.00462092218350755  0.0244060510416697 0.000951843786295006\n",
       "2 Albuquerque ru 0.000383486394557823 0.0244060510416697 0.000141582482993197\n",
       "3 Albuquerque uu 0.00429529384436702  0.0149602881517866 0.00109451219512195 \n",
       "4 Antwerp     rr 0.00399674920634921  0.0140781979464248 0.00143817222222222 \n",
       "5 Antwerp     ru 0.00114503861788618  0.0140781979464248 0.000330377371273713\n",
       "6 Antwerp     uu 0.00270985731707317  0.0177682119744673 0.000525480487804878\n",
       "  X6                  X7                 X8               \n",
       "1 0.00558424820110243 -0.303582337979094 0.330162351991355\n",
       "2 0.00100161839524636 -0.308470256802721 0.30473140991679 \n",
       "3 0.00474350606536169 -0.288119148664344 0.251878786161756\n",
       "4 0.0061976893704563  -0.691521836507937 0.687678760288032\n",
       "5 0.00198704503114913 -0.456071760840108 0.479949726050966\n",
       "6 0.00439372839928926 -0.262508463414634 0.329181301724695"
      ]
     },
     "metadata": {},
     "output_type": "display_data"
    }
   ],
   "source": [
    "list<-c(\"Albuquerque\", \"Antwerp\", \"Armidale\",\"Athens\",\"Buenos_Aires\",\n",
    "        \"Calgary\",\"Cape_Town\",\"Christchurch\",\"Kunming\",\"Landshut\",\"Linkoping\",\"Loja\",\"Memphis\",\n",
    "        \"Mexico_City\",\"Munich\",\"Palmerston_North\",\"Punta_Arenas\",\"Quito\",\"Sapporo\",\"Tehran\",\n",
    "        \"Thessaloniki\",\"Toronto\",\"Vancouver\",\"Warsaw\")\n",
    "\n",
    "samples<-read.csv(\"/scratch/projects/trifolium/glue/demography/glue_demography/genomic-analyses/resources/glue_noLowCities_sampleSheet_noRelated.txt\", header=TRUE, sep=\"\\t\")\n",
    "detail_small<-samples[,(5:6)]\n",
    "columns<- c(\"city\",\"habitat_combo\",\"rab\",\"rab_sd\",\"inbred_relatedness\",\"inbred_relatedness_sd\",\"king\", \"king_sd\") \n",
    "table_inbreeding<- data.frame(matrix(nrow = 0, ncol = length(columns))) \n",
    "\n",
    "\n",
    "for (city in list){\n",
    "  data <- read.table(paste0(\"/scratch/projects/trifolium/glue/demography/glue_demography/results/population_structure/ngsrelate/\",city,\"/\",city,\"_4fold_maf0.05_NGSrelate.out\"),header=TRUE)\n",
    "  data$ida<-gsub(\"_4fold.bam\",\"\",as.character(data$ida))\n",
    "  data$idb<-gsub(\"_4fold.bam\",\"\",as.character(data$idb))\n",
    "  #name <-paste0(city,'_order_detail')\n",
    "  tmp <-merge(data, detail_small,  by.x=\"ida\", by.y=\"sample\", all.x=TRUE, all.y=FALSE, sort=FALSE) \n",
    "  tmp2 <-merge(tmp, detail_small,  by.x=\"idb\", by.y=\"sample\", all.x=TRUE, all.y=FALSE, sort=FALSE) \n",
    "  \n",
    "  r_r<-subset(tmp2,site.x==\"r\" & site.y==\"r\" & rab<=0.5)\n",
    "  r_u<-subset(tmp2,(site.x==\"u\" & site.y==\"r\")|(site.x==\"r\" & site.y==\"u\") & rab<=0.5)\n",
    "  u_u<-subset(tmp2,site.x==\"u\" & site.y==\"u\" & rab<=0.5)\n",
    "  rr_rab<-mean(r_r$rab)\n",
    "  rr_rab_sd<-sd(r_r$rab)\n",
    "  ru_rab<-mean(r_u$rab)\n",
    "  ru_rab_sd<-sd(r_u$rab)\n",
    "  uu_rab<-mean(u_u$rab)\n",
    "  uu_rab_sd<-sd(u_u$rab)\n",
    "  \n",
    "  rr_inbred_relatedness<-mean(rbind(r_r$inbred_relatedness_1_2,r_r$inbred_relatedness_2_1))\n",
    "  rr_inbred_relatedness_sd<-sd(rbind(r_r$inbred_relatedness_1_2,r_r$inbred_relatedness_2_1))\n",
    "  ru_inbred_relatedness<-mean(rbind(r_u$inbred_relatedness_1_2,r_u$inbred_relatedness_2_1))\n",
    "  ru_inbred_relatedness_sd<-sd(rbind(r_u$inbred_relatedness_1_2,r_u$inbred_relatedness_2_1))\n",
    "  uu_inbred_relatedness<-mean(rbind(u_u$inbred_relatedness_1_2,u_u$inbred_relatedness_2_1))\n",
    "  uu_inbred_relatedness_sd<-sd(rbind(u_u$inbred_relatedness_1_2,u_u$inbred_relatedness_2_1))\n",
    "  rr_KING<-mean(r_r$KING)\n",
    "  rr_KING_sd<-sd(r_r$KING)\n",
    "  ru_KING<-mean(r_u$KING)\n",
    "  ru_KING_sd<-sd(r_u$KING)\n",
    "  uu_KING<-mean(u_u$KING)\n",
    "  uu_KING_sd<-sd(u_u$KING)\n",
    "  table_inbreeding[nrow(table_inbreeding) + 1,] = c(city,\"rr\",rr_rab,rr_rab_sd,rr_inbred_relatedness,rr_inbred_relatedness_sd,rr_KING,rr_KING_sd)\n",
    "  table_inbreeding[nrow(table_inbreeding) + 1,] = c(city,\"ru\",ru_rab,rr_rab_sd,ru_inbred_relatedness,ru_inbred_relatedness_sd,ru_KING,ru_KING_sd)\n",
    "  table_inbreeding[nrow(table_inbreeding) + 1,] = c(city,\"uu\",uu_rab,uu_rab_sd,uu_inbred_relatedness,uu_inbred_relatedness_sd,uu_KING,uu_KING_sd)\n",
    "  \n",
    "  }\n",
    "\n",
    "head(table_inbreeding)\n"
   ]
  },
  {
   "cell_type": "code",
   "execution_count": null,
   "id": "b82bb5ef",
   "metadata": {},
   "outputs": [],
   "source": []
  }
 ],
 "metadata": {
  "kernelspec": {
   "display_name": "R",
   "language": "R",
   "name": "ir"
  },
  "language_info": {
   "codemirror_mode": "r",
   "file_extension": ".r",
   "mimetype": "text/x-r-source",
   "name": "R",
   "pygments_lexer": "r",
   "version": "4.1.3"
  }
 },
 "nbformat": 4,
 "nbformat_minor": 5
}
