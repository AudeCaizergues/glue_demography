{
 "cells": [
  {
   "cell_type": "markdown",
   "id": "4d45c6fe",
   "metadata": {},
   "source": [
    "# Differentiation of HCN and underlying loci relative to neutral expectation"
   ]
  },
  {
   "cell_type": "markdown",
   "id": "404de515",
   "metadata": {},
   "source": [
    "## Setup"
   ]
  },
  {
   "cell_type": "code",
   "execution_count": 3,
   "id": "a88ad400",
   "metadata": {
    "scrolled": true
   },
   "outputs": [
    {
     "name": "stderr",
     "output_type": "stream",
     "text": [
      "── \u001b[1mAttaching packages\u001b[22m ──────────────────────────────────────────────────────────────────────────────────────────── tidyverse 1.3.0 ──\n",
      "\u001b[32m✔\u001b[39m \u001b[34mggplot2\u001b[39m 3.3.3     \u001b[32m✔\u001b[39m \u001b[34mpurrr  \u001b[39m 0.3.4\n",
      "\u001b[32m✔\u001b[39m \u001b[34mtibble \u001b[39m 3.1.2     \u001b[32m✔\u001b[39m \u001b[34mdplyr  \u001b[39m 1.0.6\n",
      "\u001b[32m✔\u001b[39m \u001b[34mtidyr  \u001b[39m 1.1.3     \u001b[32m✔\u001b[39m \u001b[34mstringr\u001b[39m 1.4.0\n",
      "\u001b[32m✔\u001b[39m \u001b[34mreadr  \u001b[39m 1.4.0     \u001b[32m✔\u001b[39m \u001b[34mforcats\u001b[39m 0.5.1\n",
      "── \u001b[1mConflicts\u001b[22m ─────────────────────────────────────────────────────────────────────────────────────────────── tidyverse_conflicts() ──\n",
      "\u001b[31m✖\u001b[39m \u001b[34mdplyr\u001b[39m::\u001b[32mbetween()\u001b[39m   masks \u001b[34mdata.table\u001b[39m::between()\n",
      "\u001b[31m✖\u001b[39m \u001b[34mdplyr\u001b[39m::\u001b[32mfilter()\u001b[39m    masks \u001b[34mstats\u001b[39m::filter()\n",
      "\u001b[31m✖\u001b[39m \u001b[34mdplyr\u001b[39m::\u001b[32mfirst()\u001b[39m     masks \u001b[34mdata.table\u001b[39m::first()\n",
      "\u001b[31m✖\u001b[39m \u001b[34mdplyr\u001b[39m::\u001b[32mlag()\u001b[39m       masks \u001b[34mstats\u001b[39m::lag()\n",
      "\u001b[31m✖\u001b[39m \u001b[34mdplyr\u001b[39m::\u001b[32mlast()\u001b[39m      masks \u001b[34mdata.table\u001b[39m::last()\n",
      "\u001b[31m✖\u001b[39m \u001b[34mpurrr\u001b[39m::\u001b[32mtranspose()\u001b[39m masks \u001b[34mdata.table\u001b[39m::transpose()\n",
      "Loading required package: R.oo\n",
      "Loading required package: R.methodsS3\n",
      "R.methodsS3 v1.8.1 (2020-08-26 16:20:06 UTC) successfully loaded. See ?R.methodsS3 for help.\n",
      "R.oo v1.24.0 (2020-08-26 16:11:58 UTC) successfully loaded. See ?R.oo for help.\n",
      "\n",
      "Attaching package: ‘R.oo’\n",
      "\n",
      "The following object is masked from ‘package:R.methodsS3’:\n",
      "\n",
      "    throw\n",
      "\n",
      "The following objects are masked from ‘package:methods’:\n",
      "\n",
      "    getClasses, getMethods\n",
      "\n",
      "The following objects are masked from ‘package:base’:\n",
      "\n",
      "    attach, detach, load, save\n",
      "\n",
      "R.utils v2.8.0 (2019-02-14 21:42:21 UTC) successfully loaded. See ?R.utils for help.\n",
      "\n",
      "Attaching package: ‘R.utils’\n",
      "\n",
      "The following object is masked from ‘package:tidyr’:\n",
      "\n",
      "    extract\n",
      "\n",
      "The following object is masked from ‘package:utils’:\n",
      "\n",
      "    timestamp\n",
      "\n",
      "The following objects are masked from ‘package:base’:\n",
      "\n",
      "    cat, commandArgs, getOption, inherits, isOpen, nullfile, parse,\n",
      "    warnings\n",
      "\n"
     ]
    }
   ],
   "source": [
    "# Load packages\n",
    "library(data.table)\n",
    "library(tidyverse)\n",
    "library(R.utils)"
   ]
  },
  {
   "cell_type": "code",
   "execution_count": 10,
   "id": "4c6e14b4",
   "metadata": {},
   "outputs": [],
   "source": [
    "# custom theme for plots\n",
    "ng1 <- theme(aspect.ratio=0.7,panel.background = element_blank(),\n",
    "        panel.grid.major = element_blank(),\n",
    "        panel.grid.minor = element_blank(),\n",
    "        panel.border=element_blank(),\n",
    "        axis.line.x = element_line(color=\"black\",size=1),\n",
    "        axis.line.y = element_line(color=\"black\",size=1),\n",
    "        axis.ticks=element_line(size = 1, color=\"black\"),\n",
    "        axis.ticks.length=unit(0.25, 'cm'),\n",
    "        axis.text=element_text(color=\"black\",size=15),\n",
    "        axis.title=element_text(color=\"black\",size=1),\n",
    "        axis.title.y=element_text(vjust=2,size=17),\n",
    "        axis.title.x=element_text(vjust=0.1,size=17),\n",
    "        axis.text.x=element_text(size=15),\n",
    "        axis.text.y=element_text(size=15),\n",
    "        strip.text.x = element_text(size = 10, colour = \"black\",face = \"bold\"),\n",
    "        strip.background = element_rect(colour=\"black\"),\n",
    "        legend.position = \"top\", legend.direction=\"vertical\", \n",
    "        legend.text=element_text(size=17), legend.key = element_rect(fill = \"white\"),\n",
    "        legend.title = element_text(size=17),legend.key.size = unit(1.0, \"cm\"))"
   ]
  },
  {
   "cell_type": "code",
   "execution_count": 11,
   "id": "8f110c9a",
   "metadata": {},
   "outputs": [
    {
     "name": "stderr",
     "output_type": "stream",
     "text": [
      "Warning message in .f(.x[[i]], ...):\n",
      "“'../analyses/tables/hcn_diff' already exists”Warning message in .f(.x[[i]], ...):\n",
      "“'../analyses/tables/hcn_diff/4fold_afs' already exists”Warning message in .f(.x[[i]], ...):\n",
      "“'../analyses/tables/Ac_Li_diff' already exists”Warning message in .f(.x[[i]], ...):\n",
      "“'../analyses/figures/main_text' already exists”Warning message in .f(.x[[i]], ...):\n",
      "“'../analyses/figures/supplemental' already exists”"
     ]
    }
   ],
   "source": [
    "paths <- c('../analyses/tables/hcn_diff',\n",
    "           '../analyses/tables/hcn_diff/4fold_afs',\n",
    "           '../analyses/tables/Ac_Li_diff/',\n",
    "           '../analyses/figures/main_text/',\n",
    "           '../analyses/figures/supplemental/')\n",
    "purrr::walk(paths, dir.create)"
   ]
  },
  {
   "cell_type": "markdown",
   "id": "410ca2f7",
   "metadata": {},
   "source": [
    "### Load summary datasets"
   ]
  },
  {
   "cell_type": "code",
   "execution_count": 27,
   "id": "d51db33f",
   "metadata": {},
   "outputs": [],
   "source": [
    "# Load urban and rural 4fold allele frequencies for all cities as single dataframe\n",
    "df_afs <- suppressMessages(list.files('../analyses/tables/hcn_diff/4fold_afs/', recursive = TRUE, full.names = TRUE) %>% \n",
    "                          map_dfr(., read_delim, delim = '\\t'))\n",
    "# Load dataset with Fst values for 4fold sites along Ac and Li chromosomes for each city\n",
    "Ac_Li_chrom_4fold_fst_df <- suppressMessages(read_delim('../analyses/tables/Ac_Li_diff/Ac_Li_chrom_4fold_fst.txt.bz2', \n",
    "                                                        delim = '\\t'))"
   ]
  },
  {
   "cell_type": "markdown",
   "id": "4e8411af",
   "metadata": {},
   "source": [
    "### Functions used for analyses"
   ]
  },
  {
   "cell_type": "code",
   "execution_count": 28,
   "id": "4885701e",
   "metadata": {},
   "outputs": [],
   "source": [
    "# Estimate HCN frequency from allele frequencies at two loci\n",
    "estimate_hcn <- function(pA, pB){\n",
    "    qA <- 1 - pA\n",
    "    qB <- 1 - pB\n",
    "    hcn <- (2*pA*qA + pA^2) * (2*pB*qB + pB^2)\n",
    "    return(hcn)\n",
    "}\n",
    "\n",
    "# Estimate Fst from urban and rural allele frequencies\n",
    "estimate_fst <- function(p_u, p_r){\n",
    "    \n",
    "    q_u <- 1 - p_u\n",
    "    q_r <- 1 - p_r\n",
    "    \n",
    "    HT <- ((p_u + p_r) / 2)^2 + (( q_u + q_r) / 2)^2\n",
    "    HS <- (p_u^2 + p_r^2 + q_u^2 + q_r^2) / 2\n",
    "    \n",
    "    fst <- (HS - HT) / (1 - HT)\n",
    "    \n",
    "    return(fst)\n",
    "}\n",
    "\n",
    "# Find positions with allele frequency estimates in both habitats\n",
    "intersect_positions <- function(df){\n",
    "    \n",
    "    df_out <- df %>%\n",
    "        filter(pos %in% (df %>% \n",
    "                         group_split(site) %>% \n",
    "                         map(~pull(., pos)) %>% \n",
    "                         reduce(intersect)))\n",
    "    return(df_out)\n",
    "}\n",
    "\n",
    "# Simulate null distribution by randomly sample 4fold sites \"nreps\" times\n",
    "simulate_null <- function(df, nreps = 1000){\n",
    "    \n",
    "    city <- df %>% pull(city) %>% unique()\n",
    "    stats_out <- c()\n",
    "    \n",
    "    for(i in 1:nreps){\n",
    "        # Randomly sample 2 sites\n",
    "        random_sites <- sample_n(df, size = 2)\n",
    "\n",
    "        # Get mock \"Ac\" and \"Li\" allele frequencies in each habitat\n",
    "        Ac_r <- random_sites[1, 'knownEM_r'] %>% pull()\n",
    "        Li_r <- random_sites[2, 'knownEM_r'] %>% pull()\n",
    "        Ac_u <- random_sites[1, 'knownEM_u'] %>% pull()\n",
    "        Li_u <- random_sites[2, 'knownEM_u'] %>% pull()\n",
    "\n",
    "        # Estimate mock HCN frequency in each habitat\n",
    "        r_hcn <- estimate_hcn(Ac_r, Li_r)\n",
    "        u_hcn <- estimate_hcn(Ac_u, Li_u)\n",
    "\n",
    "        # Estimate differentiation stats as measure of differentiation in mock HCN\n",
    "        fst <- estimate_fst(u_hcn, r_hcn)\n",
    "\n",
    "        stats_out[i] <- fst\n",
    "    }\n",
    "    \n",
    "    out <- tibble(city = city, rep = 1:nreps, fst = stats_out)\n",
    "    return(out)\n",
    "}\n",
    "\n",
    " # Function to estimate P-values by comparing observed value against null distribution\n",
    "permutation_pval <- function(df){\n",
    "    city <- df %>% pull(city) %>% unique()\n",
    "    obs_val <- df %>% filter(is.na(rep)) %>% pull(fst)\n",
    "    perm_val <- df %>% filter(!(is.na(rep))) %>% pull(fst)\n",
    "    pval <- sum(abs(perm_val) >= abs(obs_val)) / length(perm_val)\n",
    "    df_out <- data.frame(city = city, pval = pval)\n",
    "    return(df_out)\n",
    "}\n",
    "\n",
    "# Function to load genotype likelihoods\n",
    "load_gls <- function(inpath){\n",
    "    \n",
    "    to_remove <- suppressMessages(\n",
    "        read_table('../../../results/program_resources/highErrorRate_toRemove.txt', \n",
    "                   col_names = FALSE)) %>% \n",
    "        pull()\n",
    "    df <- suppressMessages(read_delim(inpath, delim = '\\t')) %>% \n",
    "        dplyr::select(sample, ends_with('norm')) %>% \n",
    "        filter(!(sample %in% to_remove)) %>% \n",
    "        left_join(sample_sheet, by = 'sample')\n",
    "    \n",
    "    return(df)\n",
    "}\n",
    "\n",
    "# Estimate Hudson's Fst at a locus\n",
    "hudson_fst <- function(p_u, p_r, n_u, n_r){\n",
    "    \n",
    "    # Numerator\n",
    "    a <- (p_u - p_r)^2\n",
    "    b <- (p_u * (1 - p_u)) / (n_u - 1)\n",
    "    c <- (p_r * (1 - p_r)) / (n_r - 1)\n",
    "    num <- a - b - c\n",
    "    \n",
    "    # Denominator\n",
    "    d <- p_u * (1 - p_r)\n",
    "    e <- p_r * (1 - p_u)\n",
    "    denom <- d + e\n",
    "    \n",
    "    fst <- num / denom\n",
    "   \n",
    "    return(fst)\n",
    "}\n",
    "\n",
    "# Estimate allele frequency from genotype likelihoods\n",
    "estimate_p <- function(df, by_site = TRUE){\n",
    "    \n",
    "    if(by_site == TRUE){\n",
    "        df_out <- df %>% \n",
    "            group_by(city, site) %>% \n",
    "            summarise(num_aa = sum(l_aa_norm),\n",
    "                      num_Aa = sum(l_Aa_norm),\n",
    "                      num_AA = sum(l_AA_norm),\n",
    "                      n = 2*n(),\n",
    "                      p = (num_aa + (0.5 * num_Aa)) / sum(num_aa, num_Aa, num_AA)) %>% \n",
    "            dplyr::select(-starts_with('num_')) %>% \n",
    "            pivot_wider(names_from = site, values_from = c('n', 'p')) %>% \n",
    "            mutate(fst = hudson_fst(p_u, p_r, n_u, n_r)) %>% \n",
    "            left_join(., betaLog, by = 'city')\n",
    "    }else{\n",
    "        df_out <- df %>% \n",
    "            group_by(city) %>% \n",
    "            summarise(num_aa = sum(l_aa_norm),\n",
    "                      num_Aa = sum(l_Aa_norm),\n",
    "                      num_AA = sum(l_AA_norm),\n",
    "                      p = (num_aa + (0.5 * num_Aa)) / sum(num_aa, num_Aa, num_AA)) %>% \n",
    "            dplyr::select(-starts_with('num_'))\n",
    "    }\n",
    "    \n",
    "    return(df_out)\n",
    "}\n",
    "\n",
    "# Get threshold quantile value from distribution\n",
    "get_quantile <- function(df, probs = c(0.975)){\n",
    "    \n",
    "    city <- df %>% pull(city) %>% unique()\n",
    "    locus <- df %>% pull(locus) %>% unique()\n",
    "    fst <- df %>% filter(!(is.na(fst))) %>% pull(fst)\n",
    "    \n",
    "    quant <- quantile(fst, probs = probs)\n",
    "    df_out <- data.frame(city = city, locus = locus, quant = quant)\n",
    "    return(df_out)\n",
    "}"
   ]
  },
  {
   "cell_type": "markdown",
   "id": "6220a84f",
   "metadata": {},
   "source": [
    "## HCN differentiation analysis\n",
    "\n",
    "For each city, test whether urban-rural divergence in HCN is greater than expected based on null distribution of randomly selected 4fold degenerate sites with a similar genetic architecture as HCN. Treating the HCN phenotype as if it were a single locus, the basic approach for this test is as follows:\n",
    "\n",
    "1. Estimate urban and rural HCN frequencies from binomial regressions performed separately on each city. Urban HCN is the predicted value when standardized distance = 0, while rural HCN is the predicted value when standardized distance = 1\n",
    "2. From these urban and rural HCN frequencies, calculate observed urban-rural differentiation in HCN using $F_{ST}$ formulas defined below\n",
    "3. Generate a null distribution of $F_{ST}$ using genome-wide 4fold degenerate sites. Using 4fold site allele frequencies estimated separately in urban and rural habitats for each city, perform the following procedure:   \n",
    "    **A.** Consider only sites with frequencies estimated for the same minor alleles in urban and rural habitats.  \n",
    "    **B.** Randomly sample two 4fold sites and assign one site to be \"_Ac_\" and the other to be \"_Li_\" <br>\n",
    "    **C.** Estimate \"HCN\" in each habitat separately using these \"_Ac_\" and \"_Li_\" frequencies. If $p_A$ is the frequency of the functional _Ac_ allele and $p_B$ the frequency of the functional \"_Li_\" allele, HCN can be estimated as $(2p_Aq_A + p_A^2) * (2p_Bq_B + p_B^2)$  \n",
    "    **D.** Using the urban and rural \"HCN\" frequencies, estimate urban-rural differentiation in \"HCN\"  \n",
    "    **E.** Repeat (C) to (E) 1000 times to generate null distribution of $F_{ST}$ using genome-wide 4fold sites  \n",
    "    **F.** Calculate a P-value as the proportion of simulated $F_{ST}$  estimates greater or equal to the observed $F_{ST}$ value\n",
    "    \n",
    "### Details of Fst estimation\n",
    "\n",
    "$F_{ST}$ formulae were pulled from Jakobsson _et. al._ 2013\n",
    "\n",
    "We estimated $F_{ST}$ as:\n",
    "\n",
    "$$F_{ST} = \\frac{H_S - H_T}{1 - H_T}$$\n",
    "\n",
    "where $H_T$ is homozygosity of the total population and $H_S$ is the mean homozygosity across subpopulations (Nei, 1973; Jakobsson _et. al._ 2013). Assume one polymorphic locus with two alleles (HCN+ and HCN- in our case) and $K$ subpopulations (2 in our case -- urban and rural). For $I$ distinct alleles, the frequency of allele $i$ in population $k$ is $p_{ki}$, and the mean frequency of allele $i$ across populations is $p_i = \\frac{1}{K}\\sum_{k=1}^{K}p_{ki}$. $H_T$ and $H_S$ can be calculates as follows:\n",
    "\n",
    "$$H_T = \\sum_{i=1}^{I}(\\frac{1}{K}\\sum_{k=1}^{K}p_{ki})^2$$\n",
    "\n",
    "$$H_S = \\frac{1}{K}\\sum_{k=1}^{K}\\sum_{i=1}^{I}p_{ki}^2$$"
   ]
  },
  {
   "cell_type": "code",
   "execution_count": 29,
   "id": "c5f7732c",
   "metadata": {
    "scrolled": true
   },
   "outputs": [
    {
     "data": {
      "text/html": [
       "<table class=\"dataframe\">\n",
       "<caption>A tibble: 6 × 9</caption>\n",
       "<thead>\n",
       "\t<tr><th scope=col>city</th><th scope=col>pos</th><th scope=col>major</th><th scope=col>knownEM_r</th><th scope=col>knownEM_u</th><th scope=col>nInd_r</th><th scope=col>nInd_u</th><th scope=col>minor_r</th><th scope=col>minor_u</th></tr>\n",
       "\t<tr><th scope=col>&lt;chr&gt;</th><th scope=col>&lt;chr&gt;</th><th scope=col>&lt;chr&gt;</th><th scope=col>&lt;dbl&gt;</th><th scope=col>&lt;dbl&gt;</th><th scope=col>&lt;dbl&gt;</th><th scope=col>&lt;dbl&gt;</th><th scope=col>&lt;chr&gt;</th><th scope=col>&lt;chr&gt;</th></tr>\n",
       "</thead>\n",
       "<tbody>\n",
       "\t<tr><td>Albuquerque</td><td>CM019101.1_17063</td><td>A</td><td>0.522677</td><td>0.633789</td><td>13</td><td>10</td><td>C</td><td>C</td></tr>\n",
       "\t<tr><td>Albuquerque</td><td>CM019101.1_17462</td><td>T</td><td>0.144811</td><td>0.157838</td><td>13</td><td>13</td><td>A</td><td>A</td></tr>\n",
       "\t<tr><td>Albuquerque</td><td>CM019101.1_17519</td><td>T</td><td>0.047703</td><td>0.115691</td><td>16</td><td>14</td><td>C</td><td>C</td></tr>\n",
       "\t<tr><td>Albuquerque</td><td>CM019101.1_19364</td><td>C</td><td>0.043940</td><td>0.067046</td><td>16</td><td>12</td><td>T</td><td>T</td></tr>\n",
       "\t<tr><td>Albuquerque</td><td>CM019101.1_19430</td><td>T</td><td>0.000003</td><td>0.222139</td><td>15</td><td>14</td><td>A</td><td>A</td></tr>\n",
       "\t<tr><td>Albuquerque</td><td>CM019101.1_19481</td><td>C</td><td>0.741929</td><td>0.661749</td><td>13</td><td>13</td><td>A</td><td>A</td></tr>\n",
       "</tbody>\n",
       "</table>\n"
      ],
      "text/latex": [
       "A tibble: 6 × 9\n",
       "\\begin{tabular}{lllllllll}\n",
       " city & pos & major & knownEM\\_r & knownEM\\_u & nInd\\_r & nInd\\_u & minor\\_r & minor\\_u\\\\\n",
       " <chr> & <chr> & <chr> & <dbl> & <dbl> & <dbl> & <dbl> & <chr> & <chr>\\\\\n",
       "\\hline\n",
       "\t Albuquerque & CM019101.1\\_17063 & A & 0.522677 & 0.633789 & 13 & 10 & C & C\\\\\n",
       "\t Albuquerque & CM019101.1\\_17462 & T & 0.144811 & 0.157838 & 13 & 13 & A & A\\\\\n",
       "\t Albuquerque & CM019101.1\\_17519 & T & 0.047703 & 0.115691 & 16 & 14 & C & C\\\\\n",
       "\t Albuquerque & CM019101.1\\_19364 & C & 0.043940 & 0.067046 & 16 & 12 & T & T\\\\\n",
       "\t Albuquerque & CM019101.1\\_19430 & T & 0.000003 & 0.222139 & 15 & 14 & A & A\\\\\n",
       "\t Albuquerque & CM019101.1\\_19481 & C & 0.741929 & 0.661749 & 13 & 13 & A & A\\\\\n",
       "\\end{tabular}\n"
      ],
      "text/markdown": [
       "\n",
       "A tibble: 6 × 9\n",
       "\n",
       "| city &lt;chr&gt; | pos &lt;chr&gt; | major &lt;chr&gt; | knownEM_r &lt;dbl&gt; | knownEM_u &lt;dbl&gt; | nInd_r &lt;dbl&gt; | nInd_u &lt;dbl&gt; | minor_r &lt;chr&gt; | minor_u &lt;chr&gt; |\n",
       "|---|---|---|---|---|---|---|---|---|\n",
       "| Albuquerque | CM019101.1_17063 | A | 0.522677 | 0.633789 | 13 | 10 | C | C |\n",
       "| Albuquerque | CM019101.1_17462 | T | 0.144811 | 0.157838 | 13 | 13 | A | A |\n",
       "| Albuquerque | CM019101.1_17519 | T | 0.047703 | 0.115691 | 16 | 14 | C | C |\n",
       "| Albuquerque | CM019101.1_19364 | C | 0.043940 | 0.067046 | 16 | 12 | T | T |\n",
       "| Albuquerque | CM019101.1_19430 | T | 0.000003 | 0.222139 | 15 | 14 | A | A |\n",
       "| Albuquerque | CM019101.1_19481 | C | 0.741929 | 0.661749 | 13 | 13 | A | A |\n",
       "\n"
      ],
      "text/plain": [
       "  city        pos              major knownEM_r knownEM_u nInd_r nInd_u minor_r\n",
       "1 Albuquerque CM019101.1_17063 A     0.522677  0.633789  13     10     C      \n",
       "2 Albuquerque CM019101.1_17462 T     0.144811  0.157838  13     13     A      \n",
       "3 Albuquerque CM019101.1_17519 T     0.047703  0.115691  16     14     C      \n",
       "4 Albuquerque CM019101.1_19364 C     0.043940  0.067046  16     12     T      \n",
       "5 Albuquerque CM019101.1_19430 T     0.000003  0.222139  15     14     A      \n",
       "6 Albuquerque CM019101.1_19481 C     0.741929  0.661749  13     13     A      \n",
       "  minor_u\n",
       "1 C      \n",
       "2 A      \n",
       "3 C      \n",
       "4 T      \n",
       "5 A      \n",
       "6 A      "
      ]
     },
     "metadata": {},
     "output_type": "display_data"
    }
   ],
   "source": [
    "# Get sites common to urban and rural habitats, seaprately for each city\n",
    "# Pivot data for easier random site selection\n",
    "# Use only sites with same major and minor alleles\n",
    "df_afs_inter <- df_afs %>%\n",
    "    group_split(city) %>%\n",
    "    map_dfr(., intersect_positions) %>%\n",
    "    pivot_wider(names_from = site, values_from = c(knownEM, nInd, minor)) %>%\n",
    "    filter(minor_u == minor_r) %>% \n",
    "    filter(!(knownEM_r == 1 & knownEM_u == 1))\n",
    "head(df_afs_inter)"
   ]
  },
  {
   "cell_type": "code",
   "execution_count": 30,
   "id": "c905b175",
   "metadata": {},
   "outputs": [
    {
     "data": {
      "text/html": [
       "<table class=\"dataframe\">\n",
       "<caption>A tibble: 26 × 2</caption>\n",
       "<thead>\n",
       "\t<tr><th scope=col>city</th><th scope=col>nSites</th></tr>\n",
       "\t<tr><th scope=col>&lt;chr&gt;</th><th scope=col>&lt;int&gt;</th></tr>\n",
       "</thead>\n",
       "<tbody>\n",
       "\t<tr><td>Albuquerque </td><td>447692</td></tr>\n",
       "\t<tr><td>Antwerp     </td><td>426045</td></tr>\n",
       "\t<tr><td>Armidale    </td><td>406396</td></tr>\n",
       "\t<tr><td>Athens      </td><td>441230</td></tr>\n",
       "\t<tr><td>Bogota      </td><td>109518</td></tr>\n",
       "\t<tr><td>Buenos_Aires</td><td>377665</td></tr>\n",
       "\t<tr><td>Calgary     </td><td>533868</td></tr>\n",
       "\t<tr><td>Canberra    </td><td> 56746</td></tr>\n",
       "\t<tr><td>Cape_Town   </td><td>422608</td></tr>\n",
       "\t<tr><td>Christchurch</td><td>465798</td></tr>\n",
       "\t<tr><td>Hiroshima   </td><td>  4857</td></tr>\n",
       "\t<tr><td>Kunming     </td><td>443236</td></tr>\n",
       "\t<tr><td>Kyoto       </td><td>  1371</td></tr>\n",
       "\t<tr><td>Landshut    </td><td>506064</td></tr>\n",
       "\t<tr><td>Linkoping   </td><td>347422</td></tr>\n",
       "\t<tr><td>Loja        </td><td>353777</td></tr>\n",
       "\t<tr><td>Medellin    </td><td> 40729</td></tr>\n",
       "\t<tr><td>Melbourne   </td><td> 27082</td></tr>\n",
       "\t<tr><td>Memphis     </td><td>308160</td></tr>\n",
       "\t<tr><td>Mexico_City </td><td>369823</td></tr>\n",
       "\t<tr><td>Munich      </td><td>495768</td></tr>\n",
       "\t<tr><td>Paris       </td><td>126591</td></tr>\n",
       "\t<tr><td>Quito       </td><td> 92884</td></tr>\n",
       "\t<tr><td>Tehran      </td><td>496760</td></tr>\n",
       "\t<tr><td>Thessaloniki</td><td>537082</td></tr>\n",
       "\t<tr><td>Toronto     </td><td>737348</td></tr>\n",
       "</tbody>\n",
       "</table>\n"
      ],
      "text/latex": [
       "A tibble: 26 × 2\n",
       "\\begin{tabular}{ll}\n",
       " city & nSites\\\\\n",
       " <chr> & <int>\\\\\n",
       "\\hline\n",
       "\t Albuquerque  & 447692\\\\\n",
       "\t Antwerp      & 426045\\\\\n",
       "\t Armidale     & 406396\\\\\n",
       "\t Athens       & 441230\\\\\n",
       "\t Bogota       & 109518\\\\\n",
       "\t Buenos\\_Aires & 377665\\\\\n",
       "\t Calgary      & 533868\\\\\n",
       "\t Canberra     &  56746\\\\\n",
       "\t Cape\\_Town    & 422608\\\\\n",
       "\t Christchurch & 465798\\\\\n",
       "\t Hiroshima    &   4857\\\\\n",
       "\t Kunming      & 443236\\\\\n",
       "\t Kyoto        &   1371\\\\\n",
       "\t Landshut     & 506064\\\\\n",
       "\t Linkoping    & 347422\\\\\n",
       "\t Loja         & 353777\\\\\n",
       "\t Medellin     &  40729\\\\\n",
       "\t Melbourne    &  27082\\\\\n",
       "\t Memphis      & 308160\\\\\n",
       "\t Mexico\\_City  & 369823\\\\\n",
       "\t Munich       & 495768\\\\\n",
       "\t Paris        & 126591\\\\\n",
       "\t Quito        &  92884\\\\\n",
       "\t Tehran       & 496760\\\\\n",
       "\t Thessaloniki & 537082\\\\\n",
       "\t Toronto      & 737348\\\\\n",
       "\\end{tabular}\n"
      ],
      "text/markdown": [
       "\n",
       "A tibble: 26 × 2\n",
       "\n",
       "| city &lt;chr&gt; | nSites &lt;int&gt; |\n",
       "|---|---|\n",
       "| Albuquerque  | 447692 |\n",
       "| Antwerp      | 426045 |\n",
       "| Armidale     | 406396 |\n",
       "| Athens       | 441230 |\n",
       "| Bogota       | 109518 |\n",
       "| Buenos_Aires | 377665 |\n",
       "| Calgary      | 533868 |\n",
       "| Canberra     |  56746 |\n",
       "| Cape_Town    | 422608 |\n",
       "| Christchurch | 465798 |\n",
       "| Hiroshima    |   4857 |\n",
       "| Kunming      | 443236 |\n",
       "| Kyoto        |   1371 |\n",
       "| Landshut     | 506064 |\n",
       "| Linkoping    | 347422 |\n",
       "| Loja         | 353777 |\n",
       "| Medellin     |  40729 |\n",
       "| Melbourne    |  27082 |\n",
       "| Memphis      | 308160 |\n",
       "| Mexico_City  | 369823 |\n",
       "| Munich       | 495768 |\n",
       "| Paris        | 126591 |\n",
       "| Quito        |  92884 |\n",
       "| Tehran       | 496760 |\n",
       "| Thessaloniki | 537082 |\n",
       "| Toronto      | 737348 |\n",
       "\n"
      ],
      "text/plain": [
       "   city         nSites\n",
       "1  Albuquerque  447692\n",
       "2  Antwerp      426045\n",
       "3  Armidale     406396\n",
       "4  Athens       441230\n",
       "5  Bogota       109518\n",
       "6  Buenos_Aires 377665\n",
       "7  Calgary      533868\n",
       "8  Canberra      56746\n",
       "9  Cape_Town    422608\n",
       "10 Christchurch 465798\n",
       "11 Hiroshima      4857\n",
       "12 Kunming      443236\n",
       "13 Kyoto          1371\n",
       "14 Landshut     506064\n",
       "15 Linkoping    347422\n",
       "16 Loja         353777\n",
       "17 Medellin      40729\n",
       "18 Melbourne     27082\n",
       "19 Memphis      308160\n",
       "20 Mexico_City  369823\n",
       "21 Munich       495768\n",
       "22 Paris        126591\n",
       "23 Quito         92884\n",
       "24 Tehran       496760\n",
       "25 Thessaloniki 537082\n",
       "26 Toronto      737348"
      ]
     },
     "metadata": {},
     "output_type": "display_data"
    }
   ],
   "source": [
    "# Number of sites considered for each city\n",
    "df_afs_inter %>% \n",
    "    group_by(city) %>% \n",
    "    summarise(nSites = n())"
   ]
  },
  {
   "cell_type": "code",
   "execution_count": 31,
   "id": "da012256",
   "metadata": {},
   "outputs": [
    {
     "data": {
      "text/html": [
       "<table class=\"dataframe\">\n",
       "<caption>A tibble: 6 × 5</caption>\n",
       "<thead>\n",
       "\t<tr><th scope=col>city</th><th scope=col>sig</th><th scope=col>hcn_u</th><th scope=col>hcn_r</th><th scope=col>fst</th></tr>\n",
       "\t<tr><th scope=col>&lt;chr&gt;</th><th scope=col>&lt;chr&gt;</th><th scope=col>&lt;dbl&gt;</th><th scope=col>&lt;dbl&gt;</th><th scope=col>&lt;dbl&gt;</th></tr>\n",
       "</thead>\n",
       "<tbody>\n",
       "\t<tr><td>Albuquerque </td><td>Yes</td><td>0.30470333</td><td>0.1592258</td><td>0.030</td></tr>\n",
       "\t<tr><td>Antwerp     </td><td>Yes</td><td>0.09673856</td><td>0.4790123</td><td>0.178</td></tr>\n",
       "\t<tr><td>Armidale    </td><td>Yes</td><td>0.55354390</td><td>0.8457958</td><td>0.102</td></tr>\n",
       "\t<tr><td>Athens      </td><td>Yes</td><td>0.35755317</td><td>0.7269097</td><td>0.137</td></tr>\n",
       "\t<tr><td>Bogota      </td><td>Yes</td><td>0.29629576</td><td>0.4935004</td><td>0.041</td></tr>\n",
       "\t<tr><td>Buenos_Aires</td><td>No </td><td>0.75565431</td><td>0.7584133</td><td>0.000</td></tr>\n",
       "</tbody>\n",
       "</table>\n"
      ],
      "text/latex": [
       "A tibble: 6 × 5\n",
       "\\begin{tabular}{lllll}\n",
       " city & sig & hcn\\_u & hcn\\_r & fst\\\\\n",
       " <chr> & <chr> & <dbl> & <dbl> & <dbl>\\\\\n",
       "\\hline\n",
       "\t Albuquerque  & Yes & 0.30470333 & 0.1592258 & 0.030\\\\\n",
       "\t Antwerp      & Yes & 0.09673856 & 0.4790123 & 0.178\\\\\n",
       "\t Armidale     & Yes & 0.55354390 & 0.8457958 & 0.102\\\\\n",
       "\t Athens       & Yes & 0.35755317 & 0.7269097 & 0.137\\\\\n",
       "\t Bogota       & Yes & 0.29629576 & 0.4935004 & 0.041\\\\\n",
       "\t Buenos\\_Aires & No  & 0.75565431 & 0.7584133 & 0.000\\\\\n",
       "\\end{tabular}\n"
      ],
      "text/markdown": [
       "\n",
       "A tibble: 6 × 5\n",
       "\n",
       "| city &lt;chr&gt; | sig &lt;chr&gt; | hcn_u &lt;dbl&gt; | hcn_r &lt;dbl&gt; | fst &lt;dbl&gt; |\n",
       "|---|---|---|---|---|\n",
       "| Albuquerque  | Yes | 0.30470333 | 0.1592258 | 0.030 |\n",
       "| Antwerp      | Yes | 0.09673856 | 0.4790123 | 0.178 |\n",
       "| Armidale     | Yes | 0.55354390 | 0.8457958 | 0.102 |\n",
       "| Athens       | Yes | 0.35755317 | 0.7269097 | 0.137 |\n",
       "| Bogota       | Yes | 0.29629576 | 0.4935004 | 0.041 |\n",
       "| Buenos_Aires | No  | 0.75565431 | 0.7584133 | 0.000 |\n",
       "\n"
      ],
      "text/plain": [
       "  city         sig hcn_u      hcn_r     fst  \n",
       "1 Albuquerque  Yes 0.30470333 0.1592258 0.030\n",
       "2 Antwerp      Yes 0.09673856 0.4790123 0.178\n",
       "3 Armidale     Yes 0.55354390 0.8457958 0.102\n",
       "4 Athens       Yes 0.35755317 0.7269097 0.137\n",
       "5 Bogota       Yes 0.29629576 0.4935004 0.041\n",
       "6 Buenos_Aires No  0.75565431 0.7584133 0.000"
      ]
     },
     "metadata": {},
     "output_type": "display_data"
    }
   ],
   "source": [
    "# Load in sample sheet\n",
    "# Load binomial regression model summaries and predict urban and rural HCN\n",
    "sample_sheet <- suppressMessages(read_delim('../resources/glue_pc_sampleSheet.txt', delim = '\\t'))\n",
    "betaLog <- suppressMessages(read_csv('../../phenotypic-analyses/analysis/tables/allCities_logisticReg_coefs.csv'))\n",
    "obs_hcnFst <- betaLog %>% \n",
    "    filter(city %in% sample_sheet$city) %>% \n",
    "    mutate(hcn_u = exp(yint_Dist + betaLog_Dist*0) / (1 + (exp(yint_Dist + betaLog_Dist*0))),\n",
    "           hcn_r = exp(yint_Dist + betaLog_Dist*1) / (1 + (exp(yint_Dist + betaLog_Dist*1)))) %>% \n",
    "    mutate(sig = ifelse(pvalLog_Dist < 0.05, 'Yes', 'No')) %>% \n",
    "    mutate(fst = round(estimate_fst(hcn_u, hcn_r), 3)) %>% \n",
    "    dplyr::select(city, sig, hcn_u, hcn_r, fst)\n",
    "head(obs_hcnFst)"
   ]
  },
  {
   "cell_type": "code",
   "execution_count": 32,
   "id": "dbdbaace",
   "metadata": {},
   "outputs": [],
   "source": [
    "# Get null distributions of fst separately for each city\n",
    "set.seed(1)\n",
    "nulls <- df_afs_inter %>% \n",
    "    group_split(city) %>% \n",
    "    map_dfr(~simulate_null(., nreps = 1000))"
   ]
  },
  {
   "cell_type": "code",
   "execution_count": 33,
   "id": "65658da9",
   "metadata": {},
   "outputs": [
    {
     "data": {
      "image/png": "[encoded data removed]",
      "text/plain": [
       "plot without title"
      ]
     },
     "metadata": {},
     "output_type": "display_data"
    }
   ],
   "source": [
    "# Example permutation test\n",
    "nulls %>% filter(city == 'Toronto') %>% \n",
    "    ggplot(aes(x = fst)) +\n",
    "    geom_histogram(bins = 100, color = 'black', fill = 'white') +\n",
    "    geom_vline(xintercept = obs_hcnFst %>% filter(city == 'Toronto') %>% pull(fst), color = 'red') +\n",
    "    theme_classic()"
   ]
  },
  {
   "cell_type": "code",
   "execution_count": 34,
   "id": "c8ac20ea",
   "metadata": {
    "scrolled": false
   },
   "outputs": [],
   "source": [
    "# Combine observed and permutes Fst into single dataframe for permutation test\n",
    "combine_stats_sf <- obs_hcnFst %>% \n",
    "    dplyr::select(city, fst) %>% \n",
    "    bind_rows(nulls)"
   ]
  },
  {
   "cell_type": "code",
   "execution_count": 35,
   "id": "bceaed4f",
   "metadata": {},
   "outputs": [
    {
     "name": "stderr",
     "output_type": "stream",
     "text": [
      "Joining, by = \"city\"\n"
     ]
    }
   ],
   "source": [
    "# Perform permutation test, separately for each city\n",
    "perm_pval_df <- combine_stats_sf %>% \n",
    "    group_split(city) %>% \n",
    "    purrr::map_dfr(., permutation_pval) %>% \n",
    "    left_join(obs_hcnFst %>% dplyr::select(city, sig)) %>% \n",
    "    mutate(sig_perm = ifelse(pval < 0.05, 'Yes', 'No')) %>% \n",
    "    mutate(match_expect = ifelse(sig == sig_perm, 'Yes', 'No'))"
   ]
  },
  {
   "cell_type": "code",
   "execution_count": 36,
   "id": "6d826042",
   "metadata": {},
   "outputs": [
    {
     "data": {
      "text/html": [
       "<table class=\"dataframe\">\n",
       "<caption>A data.frame: 26 × 5</caption>\n",
       "<thead>\n",
       "\t<tr><th scope=col>city</th><th scope=col>pval</th><th scope=col>sig</th><th scope=col>sig_perm</th><th scope=col>match_expect</th></tr>\n",
       "\t<tr><th scope=col>&lt;chr&gt;</th><th scope=col>&lt;dbl&gt;</th><th scope=col>&lt;chr&gt;</th><th scope=col>&lt;chr&gt;</th><th scope=col>&lt;chr&gt;</th></tr>\n",
       "</thead>\n",
       "<tbody>\n",
       "\t<tr><td>Albuquerque </td><td>0.177</td><td>Yes</td><td>No </td><td>No </td></tr>\n",
       "\t<tr><td>Antwerp     </td><td>0.011</td><td>Yes</td><td>Yes</td><td>Yes</td></tr>\n",
       "\t<tr><td>Armidale    </td><td>0.029</td><td>Yes</td><td>Yes</td><td>Yes</td></tr>\n",
       "\t<tr><td>Athens      </td><td>0.014</td><td>Yes</td><td>Yes</td><td>Yes</td></tr>\n",
       "\t<tr><td>Bogota      </td><td>0.222</td><td>Yes</td><td>No </td><td>No </td></tr>\n",
       "\t<tr><td>Buenos_Aires</td><td>1.000</td><td>No </td><td>No </td><td>Yes</td></tr>\n",
       "\t<tr><td>Calgary     </td><td>0.100</td><td>Yes</td><td>No </td><td>No </td></tr>\n",
       "\t<tr><td>Canberra    </td><td>1.000</td><td>No </td><td>No </td><td>Yes</td></tr>\n",
       "\t<tr><td>Cape_Town   </td><td>0.270</td><td>No </td><td>No </td><td>Yes</td></tr>\n",
       "\t<tr><td>Christchurch</td><td>0.004</td><td>Yes</td><td>Yes</td><td>Yes</td></tr>\n",
       "\t<tr><td>Hiroshima   </td><td>1.000</td><td>No </td><td>No </td><td>Yes</td></tr>\n",
       "\t<tr><td>Kunming     </td><td>0.415</td><td>No </td><td>No </td><td>Yes</td></tr>\n",
       "\t<tr><td>Kyoto       </td><td>0.106</td><td>Yes</td><td>No </td><td>No </td></tr>\n",
       "\t<tr><td>Landshut    </td><td>0.533</td><td>No </td><td>No </td><td>Yes</td></tr>\n",
       "\t<tr><td>Linkoping   </td><td>0.006</td><td>Yes</td><td>Yes</td><td>Yes</td></tr>\n",
       "\t<tr><td>Loja        </td><td>0.185</td><td>Yes</td><td>No </td><td>No </td></tr>\n",
       "\t<tr><td>Medellin    </td><td>0.148</td><td>Yes</td><td>No </td><td>No </td></tr>\n",
       "\t<tr><td>Melbourne   </td><td>0.065</td><td>Yes</td><td>No </td><td>No </td></tr>\n",
       "\t<tr><td>Memphis     </td><td>0.010</td><td>Yes</td><td>Yes</td><td>Yes</td></tr>\n",
       "\t<tr><td>Mexico_City </td><td>0.841</td><td>No </td><td>No </td><td>Yes</td></tr>\n",
       "\t<tr><td>Munich      </td><td>0.331</td><td>Yes</td><td>No </td><td>No </td></tr>\n",
       "\t<tr><td>Paris       </td><td>0.721</td><td>No </td><td>No </td><td>Yes</td></tr>\n",
       "\t<tr><td>Quito       </td><td>0.602</td><td>No </td><td>No </td><td>Yes</td></tr>\n",
       "\t<tr><td>Tehran      </td><td>0.003</td><td>Yes</td><td>Yes</td><td>Yes</td></tr>\n",
       "\t<tr><td>Thessaloniki</td><td>0.007</td><td>Yes</td><td>Yes</td><td>Yes</td></tr>\n",
       "\t<tr><td>Toronto     </td><td>0.005</td><td>Yes</td><td>Yes</td><td>Yes</td></tr>\n",
       "</tbody>\n",
       "</table>\n"
      ],
      "text/latex": [
       "A data.frame: 26 × 5\n",
       "\\begin{tabular}{lllll}\n",
       " city & pval & sig & sig\\_perm & match\\_expect\\\\\n",
       " <chr> & <dbl> & <chr> & <chr> & <chr>\\\\\n",
       "\\hline\n",
       "\t Albuquerque  & 0.177 & Yes & No  & No \\\\\n",
       "\t Antwerp      & 0.011 & Yes & Yes & Yes\\\\\n",
       "\t Armidale     & 0.029 & Yes & Yes & Yes\\\\\n",
       "\t Athens       & 0.014 & Yes & Yes & Yes\\\\\n",
       "\t Bogota       & 0.222 & Yes & No  & No \\\\\n",
       "\t Buenos\\_Aires & 1.000 & No  & No  & Yes\\\\\n",
       "\t Calgary      & 0.100 & Yes & No  & No \\\\\n",
       "\t Canberra     & 1.000 & No  & No  & Yes\\\\\n",
       "\t Cape\\_Town    & 0.270 & No  & No  & Yes\\\\\n",
       "\t Christchurch & 0.004 & Yes & Yes & Yes\\\\\n",
       "\t Hiroshima    & 1.000 & No  & No  & Yes\\\\\n",
       "\t Kunming      & 0.415 & No  & No  & Yes\\\\\n",
       "\t Kyoto        & 0.106 & Yes & No  & No \\\\\n",
       "\t Landshut     & 0.533 & No  & No  & Yes\\\\\n",
       "\t Linkoping    & 0.006 & Yes & Yes & Yes\\\\\n",
       "\t Loja         & 0.185 & Yes & No  & No \\\\\n",
       "\t Medellin     & 0.148 & Yes & No  & No \\\\\n",
       "\t Melbourne    & 0.065 & Yes & No  & No \\\\\n",
       "\t Memphis      & 0.010 & Yes & Yes & Yes\\\\\n",
       "\t Mexico\\_City  & 0.841 & No  & No  & Yes\\\\\n",
       "\t Munich       & 0.331 & Yes & No  & No \\\\\n",
       "\t Paris        & 0.721 & No  & No  & Yes\\\\\n",
       "\t Quito        & 0.602 & No  & No  & Yes\\\\\n",
       "\t Tehran       & 0.003 & Yes & Yes & Yes\\\\\n",
       "\t Thessaloniki & 0.007 & Yes & Yes & Yes\\\\\n",
       "\t Toronto      & 0.005 & Yes & Yes & Yes\\\\\n",
       "\\end{tabular}\n"
      ],
      "text/markdown": [
       "\n",
       "A data.frame: 26 × 5\n",
       "\n",
       "| city &lt;chr&gt; | pval &lt;dbl&gt; | sig &lt;chr&gt; | sig_perm &lt;chr&gt; | match_expect &lt;chr&gt; |\n",
       "|---|---|---|---|---|\n",
       "| Albuquerque  | 0.177 | Yes | No  | No  |\n",
       "| Antwerp      | 0.011 | Yes | Yes | Yes |\n",
       "| Armidale     | 0.029 | Yes | Yes | Yes |\n",
       "| Athens       | 0.014 | Yes | Yes | Yes |\n",
       "| Bogota       | 0.222 | Yes | No  | No  |\n",
       "| Buenos_Aires | 1.000 | No  | No  | Yes |\n",
       "| Calgary      | 0.100 | Yes | No  | No  |\n",
       "| Canberra     | 1.000 | No  | No  | Yes |\n",
       "| Cape_Town    | 0.270 | No  | No  | Yes |\n",
       "| Christchurch | 0.004 | Yes | Yes | Yes |\n",
       "| Hiroshima    | 1.000 | No  | No  | Yes |\n",
       "| Kunming      | 0.415 | No  | No  | Yes |\n",
       "| Kyoto        | 0.106 | Yes | No  | No  |\n",
       "| Landshut     | 0.533 | No  | No  | Yes |\n",
       "| Linkoping    | 0.006 | Yes | Yes | Yes |\n",
       "| Loja         | 0.185 | Yes | No  | No  |\n",
       "| Medellin     | 0.148 | Yes | No  | No  |\n",
       "| Melbourne    | 0.065 | Yes | No  | No  |\n",
       "| Memphis      | 0.010 | Yes | Yes | Yes |\n",
       "| Mexico_City  | 0.841 | No  | No  | Yes |\n",
       "| Munich       | 0.331 | Yes | No  | No  |\n",
       "| Paris        | 0.721 | No  | No  | Yes |\n",
       "| Quito        | 0.602 | No  | No  | Yes |\n",
       "| Tehran       | 0.003 | Yes | Yes | Yes |\n",
       "| Thessaloniki | 0.007 | Yes | Yes | Yes |\n",
       "| Toronto      | 0.005 | Yes | Yes | Yes |\n",
       "\n"
      ],
      "text/plain": [
       "   city         pval  sig sig_perm match_expect\n",
       "1  Albuquerque  0.177 Yes No       No          \n",
       "2  Antwerp      0.011 Yes Yes      Yes         \n",
       "3  Armidale     0.029 Yes Yes      Yes         \n",
       "4  Athens       0.014 Yes Yes      Yes         \n",
       "5  Bogota       0.222 Yes No       No          \n",
       "6  Buenos_Aires 1.000 No  No       Yes         \n",
       "7  Calgary      0.100 Yes No       No          \n",
       "8  Canberra     1.000 No  No       Yes         \n",
       "9  Cape_Town    0.270 No  No       Yes         \n",
       "10 Christchurch 0.004 Yes Yes      Yes         \n",
       "11 Hiroshima    1.000 No  No       Yes         \n",
       "12 Kunming      0.415 No  No       Yes         \n",
       "13 Kyoto        0.106 Yes No       No          \n",
       "14 Landshut     0.533 No  No       Yes         \n",
       "15 Linkoping    0.006 Yes Yes      Yes         \n",
       "16 Loja         0.185 Yes No       No          \n",
       "17 Medellin     0.148 Yes No       No          \n",
       "18 Melbourne    0.065 Yes No       No          \n",
       "19 Memphis      0.010 Yes Yes      Yes         \n",
       "20 Mexico_City  0.841 No  No       Yes         \n",
       "21 Munich       0.331 Yes No       No          \n",
       "22 Paris        0.721 No  No       Yes         \n",
       "23 Quito        0.602 No  No       Yes         \n",
       "24 Tehran       0.003 Yes Yes      Yes         \n",
       "25 Thessaloniki 0.007 Yes Yes      Yes         \n",
       "26 Toronto      0.005 Yes Yes      Yes         "
      ]
     },
     "metadata": {},
     "output_type": "display_data"
    }
   ],
   "source": [
    "perm_pval_df"
   ]
  },
  {
   "cell_type": "code",
   "execution_count": 37,
   "id": "e905486c",
   "metadata": {
    "scrolled": false
   },
   "outputs": [
    {
     "name": "stdout",
     "output_type": "stream",
     "text": [
      "     \n",
      "      No Yes\n",
      "  No   9   0\n",
      "  Yes  8   9\n"
     ]
    },
    {
     "name": "stderr",
     "output_type": "stream",
     "text": [
      "Warning message in chisq.test(chisq_table, correct = FALSE):\n",
      "“Chi-squared approximation may be incorrect”"
     ]
    },
    {
     "data": {
      "text/plain": [
       "\n",
       "\tPearson's Chi-squared test\n",
       "\n",
       "data:  chisq_table\n",
       "X-squared = 7.2872, df = 1, p-value = 0.006945\n"
      ]
     },
     "metadata": {},
     "output_type": "display_data"
    }
   ],
   "source": [
    "# Chi-square test\n",
    "chisq_table <- table(perm_pval_df$sig, perm_pval_df$sig_perm)\n",
    "print(chisq_table)\n",
    "chisq.test(chisq_table, correct = FALSE)"
   ]
  },
  {
   "cell_type": "code",
   "execution_count": 38,
   "id": "f3a5ac6d",
   "metadata": {},
   "outputs": [
    {
     "data": {
      "image/png": "[encoded data removed]",
      "text/plain": [
       "plot without title"
      ]
     },
     "metadata": {},
     "output_type": "display_data"
    }
   ],
   "source": [
    "chisq_table_df <- chisq_table %>% \n",
    "    as.data.frame() %>% \n",
    "    rename('Cline' = 'Var1',\n",
    "           'Sig_Perm' = 'Var2') \n",
    "\n",
    "HCNdiff_neutralDiff_plot <- chisq_table_df %>% \n",
    "    left_join(., chisq_table_df %>% group_by(Cline) %>% summarise(n = sum(Freq)), by = 'Cline') %>% \n",
    "    group_by(Cline) %>% \n",
    "    filter(Sig_Perm == 'Yes') %>% \n",
    "    mutate(perc = round((Freq / n) * 100), 2) %>% \n",
    "    ggplot(aes(x = Cline, y = perc, fill = Cline)) +\n",
    "        geom_bar(stat = 'identity', color = 'black', show.legend = FALSE) +\n",
    "        xlab('Cline') + ylab('% cities HCN_diff > Neutral_diff') +\n",
    "        scale_fill_manual(values = c('#7D7D7D', '#8E2C48')) +\n",
    "        coord_cartesian(ylim = c(0, 100)) + \n",
    "        scale_y_continuous(breaks = seq(from = 0, to = 100, by = 20), expand = c(0, 0)) + \n",
    "        ng1\n",
    "HCNdiff_neutralDiff_plot"
   ]
  },
  {
   "cell_type": "code",
   "execution_count": 39,
   "id": "d023a304",
   "metadata": {},
   "outputs": [],
   "source": [
    "outpath <- '../analyses/figures/main_text/figure3F_percent_cities_HCNdiff_neutralDiff.pdf'\n",
    "ggsave(filename = outpath, plot = HCNdiff_neutralDiff_plot, device = 'pdf', width = 9, height = 8, units = 'in',\n",
    "      useDingbats = FALSE, dpi = 600)"
   ]
  },
  {
   "cell_type": "markdown",
   "id": "50661468",
   "metadata": {},
   "source": [
    "## Ac and Li loci differentiation analysis\n",
    "\n",
    "For each city, we examine whether the two loci underlying HCN production (_Ac_ and _Li_) were more differentiated than expected given baackground levels of differentiation at 4fold sites along the same chromosomes. We used _ANGSD_ to estimate Hudson's $F_{ST}$ at all 4fold SNPs along the same chromosomes as _Ac_ and _Li_, and compared observed $F_{ST}$ at _Ac_ and _Li_ to these distributions. We considered loci significant outliers if their $F_{ST}$ values were in the top 2.5% of the $F_{ST}$ distribution for 4fold sites along the same chromosome. _Ac_ and _Li_ frequencies were calculated from genotype likelihoods estimated from raw read counts overlapping the genes. "
   ]
  },
  {
   "cell_type": "code",
   "execution_count": 40,
   "id": "02b85e48",
   "metadata": {},
   "outputs": [
    {
     "data": {
      "text/html": [
       "2055"
      ],
      "text/latex": [
       "2055"
      ],
      "text/markdown": [
       "2055"
      ],
      "text/plain": [
       "[1] 2055"
      ]
     },
     "metadata": {},
     "output_type": "display_data"
    }
   ],
   "source": [
    "# Load in genotype likelihoods for all samples at both loci\n",
    "ac_gls <- load_gls('../../../results/hcn_genotyping/ac_GLs.txt')\n",
    "li_gls <- load_gls('../../../results/hcn_genotyping/li_GLs.txt')\n",
    "nrow(ac_gls)"
   ]
  },
  {
   "cell_type": "code",
   "execution_count": 41,
   "id": "3156ace7",
   "metadata": {},
   "outputs": [
    {
     "name": "stderr",
     "output_type": "stream",
     "text": [
      "`summarise()` has grouped output by 'city'. You can override using the `.groups` argument.\n",
      "`summarise()` has grouped output by 'city'. You can override using the `.groups` argument.\n"
     ]
    }
   ],
   "source": [
    "# Estimate urban and rural allele frequencies from genotype likelihoods\n",
    "ac_freq <- estimate_p(ac_gls, by_site = TRUE) %>% mutate(locus = 'ac')\n",
    "li_freq <- estimate_p(li_gls, by_site = TRUE) %>% mutate(locus = 'li')"
   ]
  },
  {
   "cell_type": "code",
   "execution_count": 42,
   "id": "3ef491d9",
   "metadata": {},
   "outputs": [
    {
     "data": {
      "text/html": [
       "<table class=\"dataframe\">\n",
       "<caption>A grouped_df: 6 × 18</caption>\n",
       "<thead>\n",
       "\t<tr><th scope=col>city</th><th scope=col>n_r</th><th scope=col>n_u</th><th scope=col>p_r</th><th scope=col>p_u</th><th scope=col>fst</th><th scope=col>yint_Dist</th><th scope=col>betaLog_Dist</th><th scope=col>pvalLog_Dist</th><th scope=col>yint_GMIS</th><th scope=col>betaLog_GMIS</th><th scope=col>pvalLog_GMIS</th><th scope=col>yint_hii</th><th scope=col>betaLog_hii</th><th scope=col>pvalLog_hii</th><th scope=col>continent</th><th scope=col>betaLog_fromGlobalModel</th><th scope=col>locus</th></tr>\n",
       "\t<tr><th scope=col>&lt;chr&gt;</th><th scope=col>&lt;dbl&gt;</th><th scope=col>&lt;dbl&gt;</th><th scope=col>&lt;dbl&gt;</th><th scope=col>&lt;dbl&gt;</th><th scope=col>&lt;dbl&gt;</th><th scope=col>&lt;dbl&gt;</th><th scope=col>&lt;dbl&gt;</th><th scope=col>&lt;dbl&gt;</th><th scope=col>&lt;dbl&gt;</th><th scope=col>&lt;dbl&gt;</th><th scope=col>&lt;dbl&gt;</th><th scope=col>&lt;dbl&gt;</th><th scope=col>&lt;dbl&gt;</th><th scope=col>&lt;dbl&gt;</th><th scope=col>&lt;chr&gt;</th><th scope=col>&lt;dbl&gt;</th><th scope=col>&lt;chr&gt;</th></tr>\n",
       "</thead>\n",
       "<tbody>\n",
       "\t<tr><td>Albuquerque</td><td>94</td><td>92</td><td>0.2541680</td><td>0.3260111</td><td> 0.001709459</td><td>-0.825</td><td>-0.839</td><td>0.004</td><td>-1.236</td><td> 0.021</td><td>0.955</td><td>-1.604</td><td> 0.781</td><td>0.000</td><td>North America</td><td>-0.425</td><td>ac</td></tr>\n",
       "\t<tr><td>Albuquerque</td><td>94</td><td>92</td><td>0.7392460</td><td>0.5092263</td><td> 0.097036908</td><td>-0.825</td><td>-0.839</td><td>0.004</td><td>-1.236</td><td> 0.021</td><td>0.955</td><td>-1.604</td><td> 0.781</td><td>0.000</td><td>North America</td><td>-0.425</td><td>li</td></tr>\n",
       "\t<tr><td>Antwerp    </td><td>96</td><td>96</td><td>0.2898515</td><td>0.3042396</td><td>-0.010025509</td><td>-2.234</td><td> 2.150</td><td>0.000</td><td>-0.613</td><td>-2.196</td><td>0.000</td><td>-0.308</td><td>-1.674</td><td>0.000</td><td>Europe       </td><td> 2.142</td><td>ac</td></tr>\n",
       "\t<tr><td>Antwerp    </td><td>96</td><td>96</td><td>0.7989247</td><td>0.8375313</td><td>-0.005475581</td><td>-2.234</td><td> 2.150</td><td>0.000</td><td>-0.613</td><td>-2.196</td><td>0.000</td><td>-0.308</td><td>-1.674</td><td>0.000</td><td>Europe       </td><td> 2.142</td><td>li</td></tr>\n",
       "\t<tr><td>Armidale   </td><td>94</td><td>90</td><td>0.2267613</td><td>0.2712620</td><td>-0.005669832</td><td> 0.215</td><td> 1.487</td><td>0.000</td><td> 1.216</td><td>-2.224</td><td>0.000</td><td> 0.892</td><td>-0.162</td><td>0.425</td><td>Oceania      </td><td> 0.320</td><td>ac</td></tr>\n",
       "\t<tr><td>Armidale   </td><td>94</td><td>90</td><td>0.4340181</td><td>0.5752685</td><td> 0.028562562</td><td> 0.215</td><td> 1.487</td><td>0.000</td><td> 1.216</td><td>-2.224</td><td>0.000</td><td> 0.892</td><td>-0.162</td><td>0.425</td><td>Oceania      </td><td> 0.320</td><td>li</td></tr>\n",
       "</tbody>\n",
       "</table>\n"
      ],
      "text/latex": [
       "A grouped\\_df: 6 × 18\n",
       "\\begin{tabular}{llllllllllllllllll}\n",
       " city & n\\_r & n\\_u & p\\_r & p\\_u & fst & yint\\_Dist & betaLog\\_Dist & pvalLog\\_Dist & yint\\_GMIS & betaLog\\_GMIS & pvalLog\\_GMIS & yint\\_hii & betaLog\\_hii & pvalLog\\_hii & continent & betaLog\\_fromGlobalModel & locus\\\\\n",
       " <chr> & <dbl> & <dbl> & <dbl> & <dbl> & <dbl> & <dbl> & <dbl> & <dbl> & <dbl> & <dbl> & <dbl> & <dbl> & <dbl> & <dbl> & <chr> & <dbl> & <chr>\\\\\n",
       "\\hline\n",
       "\t Albuquerque & 94 & 92 & 0.2541680 & 0.3260111 &  0.001709459 & -0.825 & -0.839 & 0.004 & -1.236 &  0.021 & 0.955 & -1.604 &  0.781 & 0.000 & North America & -0.425 & ac\\\\\n",
       "\t Albuquerque & 94 & 92 & 0.7392460 & 0.5092263 &  0.097036908 & -0.825 & -0.839 & 0.004 & -1.236 &  0.021 & 0.955 & -1.604 &  0.781 & 0.000 & North America & -0.425 & li\\\\\n",
       "\t Antwerp     & 96 & 96 & 0.2898515 & 0.3042396 & -0.010025509 & -2.234 &  2.150 & 0.000 & -0.613 & -2.196 & 0.000 & -0.308 & -1.674 & 0.000 & Europe        &  2.142 & ac\\\\\n",
       "\t Antwerp     & 96 & 96 & 0.7989247 & 0.8375313 & -0.005475581 & -2.234 &  2.150 & 0.000 & -0.613 & -2.196 & 0.000 & -0.308 & -1.674 & 0.000 & Europe        &  2.142 & li\\\\\n",
       "\t Armidale    & 94 & 90 & 0.2267613 & 0.2712620 & -0.005669832 &  0.215 &  1.487 & 0.000 &  1.216 & -2.224 & 0.000 &  0.892 & -0.162 & 0.425 & Oceania       &  0.320 & ac\\\\\n",
       "\t Armidale    & 94 & 90 & 0.4340181 & 0.5752685 &  0.028562562 &  0.215 &  1.487 & 0.000 &  1.216 & -2.224 & 0.000 &  0.892 & -0.162 & 0.425 & Oceania       &  0.320 & li\\\\\n",
       "\\end{tabular}\n"
      ],
      "text/markdown": [
       "\n",
       "A grouped_df: 6 × 18\n",
       "\n",
       "| city &lt;chr&gt; | n_r &lt;dbl&gt; | n_u &lt;dbl&gt; | p_r &lt;dbl&gt; | p_u &lt;dbl&gt; | fst &lt;dbl&gt; | yint_Dist &lt;dbl&gt; | betaLog_Dist &lt;dbl&gt; | pvalLog_Dist &lt;dbl&gt; | yint_GMIS &lt;dbl&gt; | betaLog_GMIS &lt;dbl&gt; | pvalLog_GMIS &lt;dbl&gt; | yint_hii &lt;dbl&gt; | betaLog_hii &lt;dbl&gt; | pvalLog_hii &lt;dbl&gt; | continent &lt;chr&gt; | betaLog_fromGlobalModel &lt;dbl&gt; | locus &lt;chr&gt; |\n",
       "|---|---|---|---|---|---|---|---|---|---|---|---|---|---|---|---|---|---|\n",
       "| Albuquerque | 94 | 92 | 0.2541680 | 0.3260111 |  0.001709459 | -0.825 | -0.839 | 0.004 | -1.236 |  0.021 | 0.955 | -1.604 |  0.781 | 0.000 | North America | -0.425 | ac |\n",
       "| Albuquerque | 94 | 92 | 0.7392460 | 0.5092263 |  0.097036908 | -0.825 | -0.839 | 0.004 | -1.236 |  0.021 | 0.955 | -1.604 |  0.781 | 0.000 | North America | -0.425 | li |\n",
       "| Antwerp     | 96 | 96 | 0.2898515 | 0.3042396 | -0.010025509 | -2.234 |  2.150 | 0.000 | -0.613 | -2.196 | 0.000 | -0.308 | -1.674 | 0.000 | Europe        |  2.142 | ac |\n",
       "| Antwerp     | 96 | 96 | 0.7989247 | 0.8375313 | -0.005475581 | -2.234 |  2.150 | 0.000 | -0.613 | -2.196 | 0.000 | -0.308 | -1.674 | 0.000 | Europe        |  2.142 | li |\n",
       "| Armidale    | 94 | 90 | 0.2267613 | 0.2712620 | -0.005669832 |  0.215 |  1.487 | 0.000 |  1.216 | -2.224 | 0.000 |  0.892 | -0.162 | 0.425 | Oceania       |  0.320 | ac |\n",
       "| Armidale    | 94 | 90 | 0.4340181 | 0.5752685 |  0.028562562 |  0.215 |  1.487 | 0.000 |  1.216 | -2.224 | 0.000 |  0.892 | -0.162 | 0.425 | Oceania       |  0.320 | li |\n",
       "\n"
      ],
      "text/plain": [
       "  city        n_r n_u p_r       p_u       fst          yint_Dist betaLog_Dist\n",
       "1 Albuquerque 94  92  0.2541680 0.3260111  0.001709459 -0.825    -0.839      \n",
       "2 Albuquerque 94  92  0.7392460 0.5092263  0.097036908 -0.825    -0.839      \n",
       "3 Antwerp     96  96  0.2898515 0.3042396 -0.010025509 -2.234     2.150      \n",
       "4 Antwerp     96  96  0.7989247 0.8375313 -0.005475581 -2.234     2.150      \n",
       "5 Armidale    94  90  0.2267613 0.2712620 -0.005669832  0.215     1.487      \n",
       "6 Armidale    94  90  0.4340181 0.5752685  0.028562562  0.215     1.487      \n",
       "  pvalLog_Dist yint_GMIS betaLog_GMIS pvalLog_GMIS yint_hii betaLog_hii\n",
       "1 0.004        -1.236     0.021       0.955        -1.604    0.781     \n",
       "2 0.004        -1.236     0.021       0.955        -1.604    0.781     \n",
       "3 0.000        -0.613    -2.196       0.000        -0.308   -1.674     \n",
       "4 0.000        -0.613    -2.196       0.000        -0.308   -1.674     \n",
       "5 0.000         1.216    -2.224       0.000         0.892   -0.162     \n",
       "6 0.000         1.216    -2.224       0.000         0.892   -0.162     \n",
       "  pvalLog_hii continent     betaLog_fromGlobalModel locus\n",
       "1 0.000       North America -0.425                  ac   \n",
       "2 0.000       North America -0.425                  li   \n",
       "3 0.000       Europe         2.142                  ac   \n",
       "4 0.000       Europe         2.142                  li   \n",
       "5 0.425       Oceania        0.320                  ac   \n",
       "6 0.425       Oceania        0.320                  li   "
      ]
     },
     "metadata": {},
     "output_type": "display_data"
    }
   ],
   "source": [
    "# Combine Ac and Li allele frequencies\n",
    "all_freqs <- bind_rows(ac_freq, li_freq) %>% \n",
    "    arrange(city)\n",
    "head(all_freqs)"
   ]
  },
  {
   "cell_type": "code",
   "execution_count": 43,
   "id": "4cfcf657",
   "metadata": {},
   "outputs": [],
   "source": [
    "# Get threshold value for top 2.5% of distributions for each city and locus\n",
    "neutral_fst_quantile_df <- Ac_Li_chrom_4fold_fst_df %>% \n",
    "    group_split(city, locus) %>% \n",
    "    map_dfr(., get_quantile)"
   ]
  },
  {
   "cell_type": "code",
   "execution_count": 44,
   "id": "fe03ae6b",
   "metadata": {},
   "outputs": [],
   "source": [
    "# Outlier test. Separate for each locus and city. \n",
    "all_stats_df <- left_join(all_freqs, neutral_fst_quantile_df, by = c('city', 'locus')) %>% \n",
    "    mutate(fst = ifelse(fst < 0, 0, fst),\n",
    "           is_outlier = ifelse(fst > quant, 1, 0)) %>% \n",
    "    dplyr::select(-starts_with('n_'), -starts_with('p_'), -continent) %>% \n",
    "    mutate(sig = ifelse(pvalLog_Dist < 0.05, 'Yes', 'No'))"
   ]
  },
  {
   "cell_type": "code",
   "execution_count": 45,
   "id": "796a3d0a",
   "metadata": {},
   "outputs": [],
   "source": [
    "# Add column for whether or no at least one locus is an outlier\n",
    "all_stats_df_wide <- all_stats_df %>% \n",
    "    pivot_wider(names_from = 'locus', values_from = c('is_outlier', 'quant', 'fst')) %>% \n",
    "    mutate(one_outlier = ifelse(is_outlier_ac == 1 | is_outlier_li == 1, 'Yes', 'No')) %>% \n",
    "    group_by(sig, one_outlier)"
   ]
  },
  {
   "cell_type": "code",
   "execution_count": 46,
   "id": "a809fd92",
   "metadata": {
    "scrolled": true
   },
   "outputs": [
    {
     "name": "stderr",
     "output_type": "stream",
     "text": [
      "Warning message in chisq.test(chisq_table, correct = FALSE):\n",
      "“Chi-squared approximation may be incorrect”"
     ]
    },
    {
     "data": {
      "text/plain": [
       "\n",
       "\tPearson's Chi-squared test\n",
       "\n",
       "data:  chisq_table\n",
       "X-squared = 3.3462, df = 1, p-value = 0.06736\n"
      ]
     },
     "metadata": {},
     "output_type": "display_data"
    }
   ],
   "source": [
    "# Chi squared test\n",
    "chisq_table <- table(all_stats_df_wide$sig, all_stats_df_wide$one_outlier)\n",
    "chisq.test(chisq_table, correct = FALSE)"
   ]
  },
  {
   "cell_type": "code",
   "execution_count": 47,
   "id": "5869473e",
   "metadata": {},
   "outputs": [
    {
     "data": {
      "text/plain": [
       "     \n",
       "      No Yes\n",
       "  No   6   3\n",
       "  Yes  5  12"
      ]
     },
     "metadata": {},
     "output_type": "display_data"
    }
   ],
   "source": [
    "chisq_table"
   ]
  },
  {
   "cell_type": "code",
   "execution_count": 48,
   "id": "947f372c",
   "metadata": {},
   "outputs": [
    {
     "data": {
      "image/png": "[encoded data removed]",
      "text/plain": [
       "plot without title"
      ]
     },
     "metadata": {},
     "output_type": "display_data"
    }
   ],
   "source": [
    "chisq_table_df_AcLi <- chisq_table %>% \n",
    "    as.data.frame() %>% \n",
    "    rename('Cline' = 'Var1',\n",
    "           'Sig_Perm' = 'Var2') \n",
    "\n",
    "AcLiDiff_neutralDiff_plot <- chisq_table_df_AcLi %>% \n",
    "    left_join(., chisq_table_df %>% group_by(Cline) %>% summarise(n = sum(Freq)), by = 'Cline') %>% \n",
    "    group_by(Cline) %>% \n",
    "    filter(Sig_Perm == 'Yes') %>% \n",
    "    mutate(perc = round((Freq / n) * 100), 2) %>% \n",
    "    ggplot(aes(x = Cline, y = perc, fill = Cline)) +\n",
    "        geom_bar(stat = 'identity', color = 'black', show.legend = FALSE) +\n",
    "        xlab('Cline') + ylab('% cities [Ac|Li]_diff > Neutral_diff') +\n",
    "        scale_fill_manual(values = c('#7D7D7D', '#8E2C48')) +\n",
    "        coord_cartesian(ylim = c(0, 100)) + \n",
    "        scale_y_continuous(breaks = seq(from = 0, to = 100, by = 20), expand = c(0, 0)) + \n",
    "        ng1\n",
    "AcLiDiff_neutralDiff_plot"
   ]
  },
  {
   "cell_type": "code",
   "execution_count": 49,
   "id": "bd42c278",
   "metadata": {},
   "outputs": [],
   "source": [
    "outpath <- '../analyses/figures/main_text/figure3E_percent_cities_AcLiDiff_neutralDiff.pdf'\n",
    "ggsave(filename = outpath, plot = AcLiDiff_neutralDiff_plot, device = 'pdf', width = 9, height = 8, units = 'in',\n",
    "      useDingbats = FALSE, dpi = 600)"
   ]
  },
  {
   "cell_type": "markdown",
   "id": "a5e3ccad",
   "metadata": {},
   "source": [
    "# Generate summary datasets\n",
    "\n",
    "**Note: This section only needs to be run to generate the summary datasets from the raw data output by the Snakemake pipeline. If the Snakemake pipeline hasn't been run, then the manuscript's results can be reproduced by running the analyses above using the summary datasets, which are available on [GitHub](../analyses/tables) and archived on Zenodo**"
   ]
  },
  {
   "cell_type": "markdown",
   "id": "df403ea5",
   "metadata": {},
   "source": [
    "## Functions used to generate summary datasets"
   ]
  },
  {
   "cell_type": "code",
   "execution_count": 25,
   "id": "5725cea9",
   "metadata": {},
   "outputs": [],
   "source": [
    "# Load urban and rural 4fold allele frequencies for city in \"path\"\n",
    "load_maf <- function(path){\n",
    "    \n",
    "    city <- basename(dirname(path))\n",
    "    base = basename(path)\n",
    "    site <- str_extract(base, pattern = '(?<=_)[r|u]')\n",
    "\n",
    "    df <- suppressMessages(read_delim(path, delim = '\\t')) %>%\n",
    "        filter(nInd >= 10) %>%\n",
    "        mutate(city = city, \n",
    "               site = site,\n",
    "               pos = paste(chromo, position, sep = '_')) %>%\n",
    "    dplyr::select(city, site, pos, everything(), -ref, -chromo, -position) %>%\n",
    "    return(df)\n",
    "}\n",
    "\n",
    "# Function to write bzipped text file with 4fold allele frequencies for each city\n",
    "write_maf_df <- function(df){\n",
    "    \n",
    "    city <- df %>% pull(city) %>% unique()\n",
    "    outpath <- sprintf('../analyses/tables/hcn_diff/4fold_afs/%s_urban-rural_4fold-afs.txt', city)\n",
    "    write_delim(df, outpath, delim = '\\t')\n",
    "    bzip2(outpath, ext = 'bz2', FUN = bzfile, overwrite = TRUE)\n",
    "}\n",
    "\n",
    "load_obs_fst <- function(path){\n",
    "    \n",
    "    # Get Fst type and city from filenames\n",
    "    city <- dirname(dirname(path))\n",
    "    locus <- str_split(dirname(path), pattern = '/', simplify = TRUE)[2]\n",
    "    \n",
    "    full_path <- paste0(inpath, path)\n",
    "    colnames <- c('chrom', 'pos', 'num', 'denom')\n",
    "    df <- suppressMessages(fread(full_path, sep = '\\t', header = FALSE, col.names = colnames)) %>%\n",
    "    \n",
    "    # Cap numerators at 0 if negative\n",
    "    # https://github.com/ANGSD/angsd/issues/309 # Does not affect overall pattern \n",
    "    mutate(num = ifelse(num < 0, 0, num),\n",
    "           fst = num / denom) %>%\n",
    "    mutate(city = city,\n",
    "           locus = locus)\n",
    "    \n",
    "    return(df)\n",
    "}"
   ]
  },
  {
   "cell_type": "markdown",
   "id": "b43e521d",
   "metadata": {},
   "source": [
    "## Write dataframes"
   ]
  },
  {
   "cell_type": "markdown",
   "id": "b11101c7",
   "metadata": {},
   "source": [
    "### HCN differentiation analysis"
   ]
  },
  {
   "cell_type": "code",
   "execution_count": 26,
   "id": "a1be906c",
   "metadata": {
    "scrolled": true
   },
   "outputs": [],
   "source": [
    "# Load all 4fold allele frequencies as single dataframe and then write AFs to disk by city\n",
    "inpath <- '../../../results/angsd/afs/by_city/'\n",
    "list.files(inpath, full.names = TRUE, recursive = TRUE, pattern = '.*_[u|r]_4fold.mafs.gz') %>%\n",
    "    map_dfr(., load_maf) %>% \n",
    "    group_split(city) %>% \n",
    "    walk(., write_maf_df)"
   ]
  },
  {
   "cell_type": "markdown",
   "id": "57db483f",
   "metadata": {},
   "source": [
    "### Ac and Li differentiation test"
   ]
  },
  {
   "cell_type": "code",
   "execution_count": 6,
   "id": "0676d3dc",
   "metadata": {},
   "outputs": [],
   "source": [
    "inpath <- '../../../results/angsd/summary_stats/fst/fst1/'\n",
    "Ac_Li_chrom_4fold_fst_df <- list.files(inpath, pattern = '.*_(ac|li)_4fold_r_u_fst1_readable.fst', recursive = TRUE)  %>% \n",
    "    map_dfr(., load_obs_fst)"
   ]
  },
  {
   "cell_type": "code",
   "execution_count": 9,
   "id": "e01ac594",
   "metadata": {},
   "outputs": [],
   "source": [
    "outpath <- '../analyses/tables/Ac_Li_diff/Ac_Li_chrom_4fold_fst.txt'\n",
    "write_delim(Ac_Li_chrom_4fold_fst_df, outpath, delim = '\\t')\n",
    "bzip2(outpath, ext = 'bz2', FUN = bzfile, overwrite = TRUE)"
   ]
  },
  {
   "cell_type": "code",
   "execution_count": null,
   "id": "e62da701",
   "metadata": {},
   "outputs": [],
   "source": []
  }
 ],
 "metadata": {
  "kernelspec": {
   "display_name": "R",
   "language": "R",
   "name": "ir"
  },
  "language_info": {
   "codemirror_mode": "r",
   "file_extension": ".r",
   "mimetype": "text/x-r-source",
   "name": "R",
   "pygments_lexer": "r",
   "version": "3.6.3"
  }
 },
 "nbformat": 4,
 "nbformat_minor": 5
}
